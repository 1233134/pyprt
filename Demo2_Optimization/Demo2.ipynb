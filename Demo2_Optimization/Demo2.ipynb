{
 "cells": [
  {
   "cell_type": "markdown",
   "metadata": {},
   "source": [
    "<img src=\"image.jpg\">"
   ]
  },
  {
   "cell_type": "markdown",
   "metadata": {},
   "source": [
    " # PyPRT - Building Modeling Optimization"
   ]
  },
  {
   "cell_type": "markdown",
   "metadata": {},
   "source": [
    "This notebook is used to show how the Python bindings for PRT can be employed in optimizing the rule attributes of a generated model to achive predefined performance goals."
   ]
  },
  {
   "cell_type": "markdown",
   "metadata": {},
   "source": [
    "### Import PyPRT module and define paths-related functions"
   ]
  },
  {
   "cell_type": "code",
   "execution_count": 1,
   "metadata": {},
   "outputs": [],
   "source": [
    "import sys, os\n",
    "\n",
    "sys.path.append(os.path.join(os.getcwd(), \"..\", \"src\"))\n",
    "from utility import visualize_PRT_results, combine_reports, summarize_matrix, summarize_report\n",
    "\n",
    "SDK_PATH = os.path.join(os.getcwd(), \"..\", \"install\", \"bin\")\n",
    "sys.path.append(SDK_PATH)\n",
    "\n",
    "import pyprt"
   ]
  },
  {
   "cell_type": "code",
   "execution_count": 2,
   "metadata": {},
   "outputs": [],
   "source": [
    "import numpy as np\n",
    "import pandas as pd\n",
    "from scipy.optimize import minimize\n",
    "from scipy import optimize"
   ]
  },
  {
   "cell_type": "code",
   "execution_count": 3,
   "metadata": {},
   "outputs": [],
   "source": [
    "CS_FOLDER = os.getcwd()\n",
    "def asset_file(filename):\n",
    "    return os.path.join(CS_FOLDER, filename)"
   ]
  },
  {
   "cell_type": "code",
   "execution_count": 4,
   "metadata": {},
   "outputs": [
    {
     "name": "stdout",
     "output_type": "stream",
     "text": [
      "\n",
      "Initializing PRT.\n"
     ]
    }
   ],
   "source": [
    "print(\"\\nInitializing PRT.\")\n",
    "pyprt.initialize_prt(SDK_PATH)\n",
    "\n",
    "if not pyprt.is_prt_initialized():\n",
    "    raise Exception(\"PRT is not initialized\")"
   ]
  },
  {
   "cell_type": "markdown",
   "metadata": {},
   "source": [
    "## Optimization Problem Definition"
   ]
  },
  {
   "cell_type": "markdown",
   "metadata": {},
   "source": [
    "In this notebook, we are using a CGA rule that allows us to generate modern and sustainable buildings. The architecture of these buildings is focused on the green aspect of the building. Therefore, in addition to be modern and esthetical, the generated building answers also to the actual requirements of the city which are to encourage the integration of greenery on the buildings."
   ]
  },
  {
   "cell_type": "markdown",
   "metadata": {},
   "source": [
    "<img src=\"green_building.png\">"
   ]
  },
  {
   "cell_type": "markdown",
   "metadata": {},
   "source": [
    "### The variables"
   ]
  },
  {
   "cell_type": "markdown",
   "metadata": {},
   "source": [
    "Among the values reported by the CGA rule, we want to optimize the __height of the generated building__. In this example, we would like the building height to be as close as possible to __10 meters__.\n",
    "The next step is to define the inputs that will vary and on which we will optimize. These inputs must be CGA rule attributes. Here we will take the building height and the k factor as optimization inputs."
   ]
  },
  {
   "cell_type": "code",
   "execution_count": 23,
   "metadata": {},
   "outputs": [],
   "source": [
    "goal_str = \"Building Height\" # correspond to a CGA reported value\n",
    "\n",
    "input_attr = [\"buildingHeight:float\",\"k:float\"]\n",
    "x0 = [13, 0.1] # input attributes initial value"
   ]
  },
  {
   "cell_type": "code",
   "execution_count": 43,
   "metadata": {},
   "outputs": [],
   "source": [
    "shape_geo = asset_file(\"greenbuildingfootprint_0.obj\") # parcel/geometry on which the model will be generated\n",
    "mod = pyprt.ModelGenerator(shape_geo)"
   ]
  },
  {
   "cell_type": "code",
   "execution_count": 44,
   "metadata": {},
   "outputs": [],
   "source": [
    "rpk = asset_file(\"simple_rule2.rpk\")\n",
    "rule_file_attr = \"ruleFile:string=bin/simple_rule2.cgb\"\n",
    "start_rule_attr = \"startRule:string=Default$Footprint\""
   ]
  },
  {
   "cell_type": "code",
   "execution_count": 45,
   "metadata": {},
   "outputs": [],
   "source": [
    "def fct(x): # function to minimize\n",
    "    input_val0 = input_attr[0]+\"=\"+str(x[0])\n",
    "    input_val1 = input_attr[1]+\"=\"+str(x[1])\n",
    "    \n",
    "    generated_mod = mod.generate_model(rpk, [rule_file_attr, start_rule_attr, input_val0, input_val1])\n",
    "    \n",
    "    if len(generated_mod) == 1:\n",
    "        rep = summarize_report(combine_reports(generated_mod[0]))\n",
    "        #return rep[goal_str] # output to optimize : y\n",
    "        return ((-10+rep[goal_str])*(-10+rep[goal_str]))\n",
    "\n",
    "    else:\n",
    "        print(\"Error in optimization process.\")  "
   ]
  },
  {
   "cell_type": "markdown",
   "metadata": {},
   "source": [
    "## Optimization Problem Resolution"
   ]
  },
  {
   "cell_type": "code",
   "execution_count": 46,
   "metadata": {},
   "outputs": [],
   "source": [
    "bounds = [(0,25),(0,0.6)] # sequence of (min,max)"
   ]
  },
  {
   "cell_type": "code",
   "execution_count": 47,
   "metadata": {},
   "outputs": [
    {
     "data": {
      "text/plain": [
       "     fun: 0.0\n",
       " message: 'Optimization terminated successfully.'\n",
       "    nfev: 1053\n",
       "     nit: 34\n",
       " success: True\n",
       "       x: array([9.99999978, 0.47106757])"
      ]
     },
     "execution_count": 47,
     "metadata": {},
     "output_type": "execute_result"
    }
   ],
   "source": [
    "res = optimize.differential_evolution(fct, bounds)\n",
    "res"
   ]
  },
  {
   "cell_type": "markdown",
   "metadata": {},
   "source": [
    "### Conclusion"
   ]
  },
  {
   "cell_type": "markdown",
   "metadata": {},
   "source": [
    "The set of attributes that minimizes the output is: __building height of 10 meters__ and __factor k of 0.39__."
   ]
  },
  {
   "cell_type": "markdown",
   "metadata": {},
   "source": [
    "##### Optimization with envelope.rpk --> too slow..."
   ]
  },
  {
   "cell_type": "code",
   "execution_count": 56,
   "metadata": {},
   "outputs": [],
   "source": [
    "goal_str_green = \"green area\" # correspond to a CGA reported value\n",
    "\n",
    "input_attr_green = [\"lot_coverage_parameter:float\"]\n",
    "x0_green = [10]"
   ]
  },
  {
   "cell_type": "code",
   "execution_count": 57,
   "metadata": {},
   "outputs": [],
   "source": [
    "rpk_green = asset_file(\"envelope1806.rpk\")\n",
    "rule_file_attr_green = \"ruleFile:string=rules/typology/envelope.cgb\"\n",
    "start_rule_attr_green = \"startRule:string=Default$Lot\""
   ]
  },
  {
   "cell_type": "code",
   "execution_count": 63,
   "metadata": {},
   "outputs": [],
   "source": [
    "def fct_green(x):\n",
    "    input_val0 = input_attr_green[0]+\"=\"+str(x[0])\n",
    "    generated_mod = mod.generate_model(rpk_green, [rule_file_attr_green, start_rule_attr_green, input_val0])\n",
    "    \n",
    "    if len(generated_mod) == 1:\n",
    "        rep = summarize_report(combine_reports(generated_mod[0]))\n",
    "        return -rep[goal_str_green]\n",
    "    else:\n",
    "        print(\"Error in optimization process.\")"
   ]
  },
  {
   "cell_type": "code",
   "execution_count": 64,
   "metadata": {},
   "outputs": [],
   "source": [
    "bounds_green = [(0,100)]"
   ]
  },
  {
   "cell_type": "markdown",
   "metadata": {},
   "source": [
    "Test"
   ]
  },
  {
   "cell_type": "code",
   "execution_count": 65,
   "metadata": {},
   "outputs": [
    {
     "data": {
      "text/plain": [
       "-1239.515014410019"
      ]
     },
     "execution_count": 65,
     "metadata": {},
     "output_type": "execute_result"
    }
   ],
   "source": [
    "fct_green(x0_green)"
   ]
  },
  {
   "cell_type": "markdown",
   "metadata": {},
   "source": [
    "res_green = optimize.differential_evolution(fct_green, bounds_green)\n",
    "res_green"
   ]
  },
  {
   "cell_type": "code",
   "execution_count": null,
   "metadata": {},
   "outputs": [],
   "source": []
  },
  {
   "cell_type": "code",
   "execution_count": 68,
   "metadata": {},
   "outputs": [
    {
     "name": "stdout",
     "output_type": "stream",
     "text": [
      "\n",
      "Shutdown PRT.\n"
     ]
    }
   ],
   "source": [
    "print(\"\\nShutdown PRT.\")\n",
    "pyprt.shutdown_prt()"
   ]
  },
  {
   "cell_type": "code",
   "execution_count": null,
   "metadata": {},
   "outputs": [],
   "source": []
  }
 ],
 "metadata": {
  "file_extension": ".py",
  "kernelspec": {
   "display_name": "Python 3",
   "language": "python",
   "name": "python3"
  },
  "language_info": {
   "codemirror_mode": {
    "name": "ipython",
    "version": 3
   },
   "file_extension": ".py",
   "mimetype": "text/x-python",
   "name": "python",
   "nbconvert_exporter": "python",
   "pygments_lexer": "ipython3",
   "version": "3.6.7"
  },
  "mimetype": "text/x-python",
  "name": "python",
  "npconvert_exporter": "python",
  "pygments_lexer": "ipython3",
  "version": 3
 },
 "nbformat": 4,
 "nbformat_minor": 2
}
