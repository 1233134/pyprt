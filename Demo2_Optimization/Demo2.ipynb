{
 "cells": [
  {
   "cell_type": "markdown",
   "metadata": {},
   "source": [
    "<img src=\"image.jpg\">"
   ]
  },
  {
   "cell_type": "markdown",
   "metadata": {},
   "source": [
    " # PyPRT - Building Modeling Optimization"
   ]
  },
  {
   "cell_type": "markdown",
   "metadata": {},
   "source": [
    "This notebook is used to show how the Python bindings for PRT can be employed in optimizing the rule attributes of a generated model to achive predefined performance goals."
   ]
  },
  {
   "cell_type": "markdown",
   "metadata": {},
   "source": [
    "TODO:\n",
    "    - change \"total report for optimisation\" to \"building greenery (trees and ground greenery)\" or something like that in Ioanna's rule\n",
    "    - find a way to put a limit to the minimum thickness of the building walls\n",
    "    - put different weight (<10) for the number of trees: total report for optimization = green area + 10* nber of trees in order to have a better results for the step 1 optimization\n",
    "    \n",
    "    - research for other python library that has optimiaztion algorithms with possibility to define input attributes step size"
   ]
  },
  {
   "cell_type": "markdown",
   "metadata": {},
   "source": [
    "#### Imports and paths-related functions"
   ]
  },
  {
   "cell_type": "code",
   "execution_count": 32,
   "metadata": {},
   "outputs": [],
   "source": [
    "import sys, os\n",
    "\n",
    "sys.path.append(os.path.join(os.getcwd(), \"..\", \"src\"))\n",
    "from utility import visualize_PRT_results, combine_reports\n",
    "\n",
    "SDK_PATH = os.path.join(os.getcwd(), \"..\", \"install\", \"bin\")\n",
    "sys.path.append(SDK_PATH)\n",
    "\n",
    "import pyprt\n",
    "\n",
    "from scipy import optimize\n",
    "import numpy as np\n",
    "\n",
    "CS_FOLDER = os.getcwd()\n",
    "def asset_file(filename):\n",
    "    return os.path.join(CS_FOLDER, filename)\n",
    "\n",
    "from IPython.display import IFrame\n",
    "from arcgis import GIS"
   ]
  },
  {
   "cell_type": "code",
   "execution_count": 33,
   "metadata": {},
   "outputs": [
    {
     "name": "stdout",
     "output_type": "stream",
     "text": [
      "Enter password: ········\n"
     ]
    }
   ],
   "source": [
    "my_gis = GIS(username=\"CLechot_zurich\")"
   ]
  },
  {
   "cell_type": "code",
   "execution_count": 34,
   "metadata": {
    "scrolled": true
   },
   "outputs": [
    {
     "name": "stdout",
     "output_type": "stream",
     "text": [
      "\n",
      "Initializing PRT.\n"
     ]
    }
   ],
   "source": [
    "print(\"\\nInitializing PRT.\")\n",
    "pyprt.initialize_prt(SDK_PATH)\n",
    "\n",
    "if not pyprt.is_prt_initialized():\n",
    "    raise Exception(\"PRT is not initialized\")"
   ]
  },
  {
   "cell_type": "markdown",
   "metadata": {},
   "source": [
    "## Optimization Problem Definition"
   ]
  },
  {
   "cell_type": "markdown",
   "metadata": {},
   "source": [
    "In this notebook, we are using a CGA rule that allows us to generate modern and sustainable buildings. The architecture of these buildings is focused on the green aspect of the building. Therefore, in addition to be modern and esthetical, the generated building answers also to the actual requirements of the city which are to encourage the integration of greenery on the buildings."
   ]
  },
  {
   "cell_type": "markdown",
   "metadata": {},
   "source": [
    "<img src=\"green_building_parameters.png\" width=\"1000\" height=\"100\">"
   ]
  },
  {
   "cell_type": "code",
   "execution_count": 35,
   "metadata": {},
   "outputs": [],
   "source": [
    "rpk_green = asset_file(\"envelope2409.rpk\") #envelope1806.rpk\n",
    "attrs_green = {'ruleFile' : \"rules/typology/envelope2409.cgb\", 'startRule' : \"Default$Lot\", 'report_but_not_display_green' : True}\n",
    "\n",
    "shape_geo = asset_file(\"parcelN.obj\")"
   ]
  },
  {
   "cell_type": "markdown",
   "metadata": {},
   "source": [
    "### Optimization with envelope.rpk"
   ]
  },
  {
   "cell_type": "markdown",
   "metadata": {},
   "source": [
    "Step 1 : optimize the green area based on the lot coverage parameter"
   ]
  },
  {
   "cell_type": "markdown",
   "metadata": {},
   "source": [
    "### The variables"
   ]
  },
  {
   "cell_type": "code",
   "execution_count": 36,
   "metadata": {},
   "outputs": [],
   "source": [
    "goal_str_green = \"Greenery Area\" + \"_sum\"\n",
    "\n",
    "input_attr_green = [\"lot_coverage_parameter\"]\n",
    "x0_green = [float(50)]"
   ]
  },
  {
   "cell_type": "code",
   "execution_count": 37,
   "metadata": {},
   "outputs": [
    {
     "name": "stdout",
     "output_type": "stream",
     "text": [
      "[PRT] [2019-09-30 15:39:55] [debug] trying to read initial shape geometry from file:/C:%5CUsers%5Ccami9495%5CDocuments%5Cesri-cityengine-sdk-master%5Cexamples%5Cpy4prt%5CDemo2_Optimization%5CparcelN.obj\n",
      "\n",
      "[PRT] [2019-09-30 15:39:55] [info] using rule package C:\\Users\\cami9495\\Documents\\esri-cityengine-sdk-master\\examples\\py4prt\\Demo2_Optimization\\envelope2409.rpk\n",
      "\n",
      "[PRT] [2019-09-30 15:39:55] [debug] resolve map = <ResolveMap>\n",
      "\t<attribute key=\"/green_optimization_3/assets/unified_landscape/plan4.obj\" value=\"rpk:file:/C:%5CUsers%5Ccami9495%5CDocuments%5Cesri-cityengine-sdk-master%5Cexamples%5Cpy4prt%5CDemo2_Optimization%5Cenvelope2409.rpk!/assets/unified_landscape/plan4.obj\" type=\"str\"/>\n",
      "\t<attribute key=\"/green_optimization_3/rules/typology/ground_floor_plan.cga\" value=\"rpk:file:/C:%5CUsers%5Ccami9495%5CDocuments%5Cesri-cityengine-sdk-master%5Cexamples%5Cpy4prt%5CDemo2_Optimization%5Cenvelope2409.rpk!/rules/typology/ground_floor_plan.cga\" type=\"str\"/>\n",
      "\t<attribute key=\"/ESRI.lib/rules/Plants/Plant_Loader.cga\" value=\"rpk:file:/C:%5CUsers%5Ccami9495%5CDocuments%5Cesri-cityengine-sdk-master%5Cexamples%5Cpy4prt%5CDemo2_Optimization%5Cenvelope2409.rpk!/.ws/ESRI.lib/rules/Plants/Plant_Loader.cga\" type=\"str\"/>\n",
      "\t<attribute key=\"/green_optimization_3/assets/glass_door.obj\" value=\"rpk:file:/C:%5CUsers%5Ccami9495%5CDocuments%5Cesri-cityengine-sdk-master%5Cexamples%5Cpy4prt%5CDemo2_Optimization%5Cenvelope2409.rpk!/assets/glass_door.obj\" type=\"str\"/>\n",
      "\t<attribute key=\"/green_optimization_3/assets/wall_plaster.jpg\" value=\"rpk:file:/C:%5CUsers%5Ccami9495%5CDocuments%5Cesri-cityengine-sdk-master%5Cexamples%5Cpy4prt%5CDemo2_Optimization%5Cenvelope2409.rpk!/assets/wall_plaster.jpg\" type=\"str\"/>\n",
      "\t<attribute key=\"assets/lawn2.jpg\" value=\"rpk:file:/C:%5CUsers%5Ccami9495%5CDocuments%5Cesri-cityengine-sdk-master%5Cexamples%5Cpy4prt%5CDemo2_Optimization%5Cenvelope2409.rpk!/assets/lawn2.jpg\" type=\"str\"/>\n",
      "\t<attribute key=\"assets/unified_landscape/plan4.obj\" value=\"rpk:file:/C:%5CUsers%5Ccami9495%5CDocuments%5Cesri-cityengine-sdk-master%5Cexamples%5Cpy4prt%5CDemo2_Optimization%5Cenvelope2409.rpk!/assets/unified_landscape/plan4.obj\" type=\"str\"/>\n",
      "\t<attribute key=\"assets/wood.jpg\" value=\"rpk:file:/C:%5CUsers%5Ccami9495%5CDocuments%5Cesri-cityengine-sdk-master%5Cexamples%5Cpy4prt%5CDemo2_Optimization%5Cenvelope2409.rpk!/assets/wood.jpg\" type=\"str\"/>\n",
      "\t<attribute key=\"/green_optimization_3/assets/vertical_greenery/8.PNG\" value=\"rpk:file:/C:%5CUsers%5Ccami9495%5CDocuments%5Cesri-cityengine-sdk-master%5Cexamples%5Cpy4prt%5CDemo2_Optimization%5Cenvelope2409.rpk!/assets/vertical_greenery/8.PNG\" type=\"str\"/>\n",
      "\t<attribute key=\"/green_optimization_3/assets/unified_landscape/plan2.mtl\" value=\"rpk:file:/C:%5CUsers%5Ccami9495%5CDocuments%5Cesri-cityengine-sdk-master%5Cexamples%5Cpy4prt%5CDemo2_Optimization%5Cenvelope2409.rpk!/assets/unified_landscape/plan2.mtl\" type=\"str\"/>\n",
      "\t<attribute key=\"/green_optimization_3/assets/unified_landscape/plan3.obj\" value=\"rpk:file:/C:%5CUsers%5Ccami9495%5CDocuments%5Cesri-cityengine-sdk-master%5Cexamples%5Cpy4prt%5CDemo2_Optimization%5Cenvelope2409.rpk!/assets/unified_landscape/plan3.obj\" type=\"str\"/>\n",
      "\t<attribute key=\"assets/brick_wall.jpg\" value=\"rpk:file:/C:%5CUsers%5Ccami9495%5CDocuments%5Cesri-cityengine-sdk-master%5Cexamples%5Cpy4prt%5CDemo2_Optimization%5Cenvelope2409.rpk!/assets/brick_wall.jpg\" type=\"str\"/>\n",
      "\t<attribute key=\"/green_optimization_3/assets/vertical_greenery/9.PNG\" value=\"rpk:file:/C:%5CUsers%5Ccami9495%5CDocuments%5Cesri-cityengine-sdk-master%5Cexamples%5Cpy4prt%5CDemo2_Optimization%5Cenvelope2409.rpk!/assets/vertical_greenery/9.PNG\" type=\"str\"/>\n",
      "\t<attribute key=\"assets/vertical_greenery/4.PNG\" value=\"rpk:file:/C:%5CUsers%5Ccami9495%5CDocuments%5Cesri-cityengine-sdk-master%5Cexamples%5Cpy4prt%5CDemo2_Optimization%5Cenvelope2409.rpk!/assets/vertical_greenery/4.PNG\" type=\"str\"/>\n",
      "\t<attribute key=\"/green_optimization_3/assets/paving_b.jpg\" value=\"rpk:file:/C:%5CUsers%5Ccami9495%5CDocuments%5Cesri-cityengine-sdk-master%5Cexamples%5Cpy4prt%5CDemo2_Optimization%5Cenvelope2409.rpk!/assets/paving_b.jpg\" type=\"str\"/>\n",
      "\t<attribute key=\"/green_optimization_3/assets/vertical_greenery/4.PNG\" value=\"rpk:file:/C:%5CUsers%5Ccami9495%5CDocuments%5Cesri-cityengine-sdk-master%5Cexamples%5Cpy4prt%5CDemo2_Optimization%5Cenvelope2409.rpk!/assets/vertical_greenery/4.PNG\" type=\"str\"/>\n",
      "\t<attribute key=\"rules/typology/envelope2409.cgb\" value=\"rpk:file:/C:%5CUsers%5Ccami9495%5CDocuments%5Cesri-cityengine-sdk-master%5Cexamples%5Cpy4prt%5CDemo2_Optimization%5Cenvelope2409.rpk!/rules/typology/envelope2409.cgb\" type=\"str\"/>\n",
      "\t<attribute key=\"assets/unified_landscape/plan2.mtl\" value=\"rpk:file:/C:%5CUsers%5Ccami9495%5CDocuments%5Cesri-cityengine-sdk-master%5Cexamples%5Cpy4prt%5CDemo2_Optimization%5Cenvelope2409.rpk!/assets/unified_landscape/plan2.mtl\" type=\"str\"/>\n",
      "\t<attribute key=\"assets/unified_landscape/plan1.obj\" value=\"rpk:file:/C:%5CUsers%5Ccami9495%5CDocuments%5Cesri-cityengine-sdk-master%5Cexamples%5Cpy4prt%5CDemo2_Optimization%5Cenvelope2409.rpk!/assets/unified_landscape/plan1.obj\" type=\"str\"/>\n",
      "\t<attribute key=\"/green_optimization_3/assets/Bench/_1.jpg\" value=\"rpk:file:/C:%5CUsers%5Ccami9495%5CDocuments%5Cesri-cityengine-sdk-master%5Cexamples%5Cpy4prt%5CDemo2_Optimization%5Cenvelope2409.rpk!/assets/Bench/_1.jpg\" type=\"str\"/>\n",
      "\t<attribute key=\"rules/typology/ground_floor_plan.cga\" value=\"rpk:file:/C:%5CUsers%5Ccami9495%5CDocuments%5Cesri-cityengine-sdk-master%5Cexamples%5Cpy4prt%5CDemo2_Optimization%5Cenvelope2409.rpk!/rules/typology/ground_floor_plan.cga\" type=\"str\"/>\n",
      "\t<attribute key=\"/green_optimization_3/assets/vertical_greenery/1.PNG\" value=\"rpk:file:/C:%5CUsers%5Ccami9495%5CDocuments%5Cesri-cityengine-sdk-master%5Cexamples%5Cpy4prt%5CDemo2_Optimization%5Cenvelope2409.rpk!/assets/vertical_greenery/1.PNG\" type=\"str\"/>\n",
      "\t<attribute key=\"assets/concrete.jpg\" value=\"rpk:file:/C:%5CUsers%5Ccami9495%5CDocuments%5Cesri-cityengine-sdk-master%5Cexamples%5Cpy4prt%5CDemo2_Optimization%5Cenvelope2409.rpk!/assets/concrete.jpg\" type=\"str\"/>\n",
      "\t<attribute key=\"/green_optimization_3/assets/vertical_greenery/6.PNG\" value=\"rpk:file:/C:%5CUsers%5Ccami9495%5CDocuments%5Cesri-cityengine-sdk-master%5Cexamples%5Cpy4prt%5CDemo2_Optimization%5Cenvelope2409.rpk!/assets/vertical_greenery/6.PNG\" type=\"str\"/>\n",
      "\t<attribute key=\"assets/paving_b.jpg\" value=\"rpk:file:/C:%5CUsers%5Ccami9495%5CDocuments%5Cesri-cityengine-sdk-master%5Cexamples%5Cpy4prt%5CDemo2_Optimization%5Cenvelope2409.rpk!/assets/paving_b.jpg\" type=\"str\"/>\n",
      "\t<attribute key=\"/green_optimization_3/assets/vertical_greenery/7.PNG\" value=\"rpk:file:/C:%5CUsers%5Ccami9495%5CDocuments%5Cesri-cityengine-sdk-master%5Cexamples%5Cpy4prt%5CDemo2_Optimization%5Cenvelope2409.rpk!/assets/vertical_greenery/7.PNG\" type=\"str\"/>\n",
      "\t<attribute key=\"assets/vertical_greenery/8.PNG\" value=\"rpk:file:/C:%5CUsers%5Ccami9495%5CDocuments%5Cesri-cityengine-sdk-master%5Cexamples%5Cpy4prt%5CDemo2_Optimization%5Cenvelope2409.rpk!/assets/vertical_greenery/8.PNG\" type=\"str\"/>\n",
      "\t<attribute key=\"assets/vertical_greenery/9.PNG\" value=\"rpk:file:/C:%5CUsers%5Ccami9495%5CDocuments%5Cesri-cityengine-sdk-master%5Cexamples%5Cpy4prt%5CDemo2_Optimization%5Cenvelope2409.rpk!/assets/vertical_greenery/9.PNG\" type=\"str\"/>\n",
      "\t<attribute key=\"/green_optimization_3/assets/vertical_greenery/2.PNG\" value=\"rpk:file:/C:%5CUsers%5Ccami9495%5CDocuments%5Cesri-cityengine-sdk-master%5Cexamples%5Cpy4prt%5CDemo2_Optimization%5Cenvelope2409.rpk!/assets/vertical_greenery/2.PNG\" type=\"str\"/>\n",
      "\t<attribute key=\"assets/glass_door.obj\" value=\"rpk:file:/C:%5CUsers%5Ccami9495%5CDocuments%5Cesri-cityengine-sdk-master%5Cexamples%5Cpy4prt%5CDemo2_Optimization%5Cenvelope2409.rpk!/assets/glass_door.obj\" type=\"str\"/>\n",
      "\t<attribute key=\"assets/Bench/_1.jpg\" value=\"rpk:file:/C:%5CUsers%5Ccami9495%5CDocuments%5Cesri-cityengine-sdk-master%5Cexamples%5Cpy4prt%5CDemo2_Optimization%5Cenvelope2409.rpk!/assets/Bench/_1.jpg\" type=\"str\"/>\n",
      "\t<attribute key=\"/green_optimization_3/assets/unified_landscape/plan1.obj\" value=\"rpk:file:/C:%5CUsers%5Ccami9495%5CDocuments%5Cesri-cityengine-sdk-master%5Cexamples%5Cpy4prt%5CDemo2_Optimization%5Cenvelope2409.rpk!/assets/unified_landscape/plan1.obj\" type=\"str\"/>\n",
      "\t<attribute key=\"assets/vertical_greenery/2.PNG\" value=\"rpk:file:/C:%5CUsers%5Ccami9495%5CDocuments%5Cesri-cityengine-sdk-master%5Cexamples%5Cpy4prt%5CDemo2_Optimization%5Cenvelope2409.rpk!/assets/vertical_greenery/2.PNG\" type=\"str\"/>\n",
      "\t<attribute key=\"/green_optimization_3/assets/concrete.jpg\" value=\"rpk:file:/C:%5CUsers%5Ccami9495%5CDocuments%5Cesri-cityengine-sdk-master%5Cexamples%5Cpy4prt%5CDemo2_Optimization%5Cenvelope2409.rpk!/assets/concrete.jpg\" type=\"str\"/>\n",
      "\t<attribute key=\"/green_optimization_3/assets/vertical_greenery/10.PNG\" value=\"rpk:file:/C:%5CUsers%5Ccami9495%5CDocuments%5Cesri-cityengine-sdk-master%5Cexamples%5Cpy4prt%5CDemo2_Optimization%5Cenvelope2409.rpk!/assets/vertical_greenery/10.PNG\" type=\"str\"/>\n",
      "\t<attribute key=\"/green_optimization_3/rules/typology/facade.cga\" value=\"rpk:file:/C:%5CUsers%5Ccami9495%5CDocuments%5Cesri-cityengine-sdk-master%5Cexamples%5Cpy4prt%5CDemo2_Optimization%5Cenvelope2409.rpk!/rules/typology/facade.cga\" type=\"str\"/>\n",
      "\t<attribute key=\"assets/wall_plaster.jpg\" value=\"rpk:file:/C:%5CUsers%5Ccami9495%5CDocuments%5Cesri-cityengine-sdk-master%5Cexamples%5Cpy4prt%5CDemo2_Optimization%5Cenvelope2409.rpk!/assets/wall_plaster.jpg\" type=\"str\"/>\n",
      "\t<attribute key=\"/green_optimization_3/rules/typology/landscape.cga\" value=\"rpk:file:/C:%5CUsers%5Ccami9495%5CDocuments%5Cesri-cityengine-sdk-master%5Cexamples%5Cpy4prt%5CDemo2_Optimization%5Cenvelope2409.rpk!/rules/typology/landscape.cga\" type=\"str\"/>\n",
      "\t<attribute key=\"assets/bench.obj\" value=\"rpk:file:/C:%5CUsers%5Ccami9495%5CDocuments%5Cesri-cityengine-sdk-master%5Cexamples%5Cpy4prt%5CDemo2_Optimization%5Cenvelope2409.rpk!/assets/bench.obj\" type=\"str\"/>\n",
      "\t<attribute key=\"rules/typology/envelope2409.cga\" value=\"rpk:file:/C:%5CUsers%5Ccami9495%5CDocuments%5Cesri-cityengine-sdk-master%5Cexamples%5Cpy4prt%5CDemo2_Optimization%5Cenvelope2409.rpk!/rules/typology/envelope2409.cga\" type=\"str\"/>\n",
      "\t<attribute key=\"assets/unified_landscape/plan3.mtl\" value=\"rpk:file:/C:%5CUsers%5Ccami9495%5CDocuments%5Cesri-cityengine-sdk-master%5Cexamples%5Cpy4prt%5CDemo2_Optimization%5Cenvelope2409.rpk!/assets/unified_landscape/plan3.mtl\" type=\"str\"/>\n",
      "\t<attribute key=\"/green_optimization_3/assets/unified_landscape/plan2.obj\" value=\"rpk:file:/C:%5CUsers%5Ccami9495%5CDocuments%5Cesri-cityengine-sdk-master%5Cexamples%5Cpy4prt%5CDemo2_Optimization%5Cenvelope2409.rpk!/assets/unified_landscape/plan2.obj\" type=\"str\"/>\n",
      "\t<attribute key=\"/green_optimization_3/rules/typology/volume.cga\" value=\"rpk:file:/C:%5CUsers%5Ccami9495%5CDocuments%5Cesri-cityengine-sdk-master%5Cexamples%5Cpy4prt%5CDemo2_Optimization%5Cenvelope2409.rpk!/rules/typology/volume.cga\" type=\"str\"/>\n",
      "\t<attribute key=\"/green_optimization_3/assets/lawn2.jpg\" value=\"rpk:file:/C:%5CUsers%5Ccami9495%5CDocuments%5Cesri-cityengine-sdk-master%5Cexamples%5Cpy4prt%5CDemo2_Optimization%5Cenvelope2409.rpk!/assets/lawn2.jpg\" type=\"str\"/>\n",
      "\t<attribute key=\"/ESRI.lib/rules/Plants/Plant_Distributor.cga\" value=\"rpk:file:/C:%5CUsers%5Ccami9495%5CDocuments%5Cesri-cityengine-sdk-master%5Cexamples%5Cpy4prt%5CDemo2_Optimization%5Cenvelope2409.rpk!/.ws/ESRI.lib/rules/Plants/Plant_Distributor.cga\" type=\"str\"/>\n",
      "\t<attribute key=\"/green_optimization_3/assets/vertical_greenery/3.PNG\" value=\"rpk:file:/C:%5CUsers%5Ccami9495%5CDocuments%5Cesri-cityengine-sdk-master%5Cexamples%5Cpy4prt%5CDemo2_Optimization%5Cenvelope2409.rpk!/assets/vertical_greenery/3.PNG\" type=\"str\"/>\n",
      "\t<attribute key=\"rules/typology/landscape.cga\" value=\"rpk:file:/C:%5CUsers%5Ccami9495%5CDocuments%5Cesri-cityengine-sdk-master%5Cexamples%5Cpy4prt%5CDemo2_Optimization%5Cenvelope2409.rpk!/rules/typology/landscape.cga\" type=\"str\"/>\n",
      "\t<attribute key=\"assets/unified_landscape/plan3.obj\" value=\"rpk:file:/C:%5CUsers%5Ccami9495%5CDocuments%5Cesri-cityengine-sdk-master%5Cexamples%5Cpy4prt%5CDemo2_Optimization%5Cenvelope2409.rpk!/assets/unified_landscape/plan3.obj\" type=\"str\"/>\n",
      "\t<attribute key=\"assets/vertical_greenery/5.PNG\" value=\"rpk:file:/C:%5CUsers%5Ccami9495%5CDocuments%5Cesri-cityengine-sdk-master%5Cexamples%5Cpy4prt%5CDemo2_Optimization%5Cenvelope2409.rpk!/assets/vertical_greenery/5.PNG\" type=\"str\"/>\n",
      "\t<attribute key=\"/green_optimization_3/assets/unified_landscape/plan4.mtl\" value=\"rpk:file:/C:%5CUsers%5Ccami9495%5CDocuments%5Cesri-cityengine-sdk-master%5Cexamples%5Cpy4prt%5CDemo2_Optimization%5Cenvelope2409.rpk!/assets/unified_landscape/plan4.mtl\" type=\"str\"/>\n",
      "\t<attribute key=\"/green_optimization_3/assets/Bench/ooMaterial2.jpg\" value=\"rpk:file:/C:%5CUsers%5Ccami9495%5CDocuments%5Cesri-cityengine-sdk-master%5Cexamples%5Cpy4prt%5CDemo2_Optimization%5Cenvelope2409.rpk!/assets/Bench/ooMaterial2.jpg\" type=\"str\"/>\n",
      "\t<attribute key=\"/green_optimization_3/assets/unified_landscape/plan3.mtl\" value=\"rpk:file:/C:%5CUsers%5Ccami9495%5CDocuments%5Cesri-cityengine-sdk-master%5Cexamples%5Cpy4prt%5CDemo2_Optimization%5Cenvelope2409.rpk!/assets/unified_landscape/plan3.mtl\" type=\"str\"/>\n",
      "\t<attribute key=\"assets/vertical_greenery/3.PNG\" value=\"rpk:file:/C:%5CUsers%5Ccami9495%5CDocuments%5Cesri-cityengine-sdk-master%5Cexamples%5Cpy4prt%5CDemo2_Optimization%5Cenvelope2409.rpk!/assets/vertical_greenery/3.PNG\" type=\"str\"/>\n",
      "\t<attribute key=\"assets/vertical_greenery/7.PNG\" value=\"rpk:file:/C:%5CUsers%5Ccami9495%5CDocuments%5Cesri-cityengine-sdk-master%5Cexamples%5Cpy4prt%5CDemo2_Optimization%5Cenvelope2409.rpk!/assets/vertical_greenery/7.PNG\" type=\"str\"/>\n",
      "\t<attribute key=\"assets/unified_landscape/plan2.obj\" value=\"rpk:file:/C:%5CUsers%5Ccami9495%5CDocuments%5Cesri-cityengine-sdk-master%5Cexamples%5Cpy4prt%5CDemo2_Optimization%5Cenvelope2409.rpk!/assets/unified_landscape/plan2.obj\" type=\"str\"/>\n",
      "\t<attribute key=\"assets/Bench.mtl\" value=\"rpk:file:/C:%5CUsers%5Ccami9495%5CDocuments%5Cesri-cityengine-sdk-master%5Cexamples%5Cpy4prt%5CDemo2_Optimization%5Cenvelope2409.rpk!/assets/Bench.mtl\" type=\"str\"/>\n",
      "\t<attribute key=\"rules/typology/volume.cga\" value=\"rpk:file:/C:%5CUsers%5Ccami9495%5CDocuments%5Cesri-cityengine-sdk-master%5Cexamples%5Cpy4prt%5CDemo2_Optimization%5Cenvelope2409.rpk!/rules/typology/volume.cga\" type=\"str\"/>\n",
      "\t<attribute key=\"/green_optimization_3/assets/Bench.mtl\" value=\"rpk:file:/C:%5CUsers%5Ccami9495%5CDocuments%5Cesri-cityengine-sdk-master%5Cexamples%5Cpy4prt%5CDemo2_Optimization%5Cenvelope2409.rpk!/assets/Bench.mtl\" type=\"str\"/>\n",
      "\t<attribute key=\"/green_optimization_3/assets/vertical_greenery/5.PNG\" value=\"rpk:file:/C:%5CUsers%5Ccami9495%5CDocuments%5Cesri-cityengine-sdk-master%5Cexamples%5Cpy4prt%5CDemo2_Optimization%5Cenvelope2409.rpk!/assets/vertical_greenery/5.PNG\" type=\"str\"/>\n",
      "\t<attribute key=\"/green_optimization_3/assets/bench.obj\" value=\"rpk:file:/C:%5CUsers%5Ccami9495%5CDocuments%5Cesri-cityengine-sdk-master%5Cexamples%5Cpy4prt%5CDemo2_Optimization%5Cenvelope2409.rpk!/assets/bench.obj\" type=\"str\"/>\n",
      "\t<attribute key=\"/green_optimization_3/assets/wood.jpg\" value=\"rpk:file:/C:%5CUsers%5Ccami9495%5CDocuments%5Cesri-cityengine-sdk-master%5Cexamples%5Cpy4prt%5CDemo2_Optimization%5Cenvelope2409.rpk!/assets/wood.jpg\" type=\"str\"/>\n",
      "\t<attribute key=\"assets/vertical_greenery/6.PNG\" value=\"rpk:file:/C:%5CUsers%5Ccami9495%5CDocuments%5Cesri-cityengine-sdk-master%5Cexamples%5Cpy4prt%5CDemo2_Optimization%5Cenvelope2409.rpk!/assets/vertical_greenery/6.PNG\" type=\"str\"/>\n",
      "\t<attribute key=\"assets/Bench/ooMaterial2.jpg\" value=\"rpk:file:/C:%5CUsers%5Ccami9495%5CDocuments%5Cesri-cityengine-sdk-master%5Cexamples%5Cpy4prt%5CDemo2_Optimization%5Cenvelope2409.rpk!/assets/Bench/ooMaterial2.jpg\" type=\"str\"/>\n",
      "\t<attribute key=\"/green_optimization_3/assets/brick_wall.jpg\" value=\"rpk:file:/C:%5CUsers%5Ccami9495%5CDocuments%5Cesri-cityengine-sdk-master%5Cexamples%5Cpy4prt%5CDemo2_Optimization%5Cenvelope2409.rpk!/assets/brick_wall.jpg\" type=\"str\"/>\n",
      "\t<attribute key=\"rules/typology/facade.cga\" value=\"rpk:file:/C:%5CUsers%5Ccami9495%5CDocuments%5Cesri-cityengine-sdk-master%5Cexamples%5Cpy4prt%5CDemo2_Optimization%5Cenvelope2409.rpk!/rules/typology/facade.cga\" type=\"str\"/>\n",
      "\t<attribute key=\"assets/vertical_greenery/10.PNG\" value=\"rpk:file:/C:%5CUsers%5Ccami9495%5CDocuments%5Cesri-cityengine-sdk-master%5Cexamples%5Cpy4prt%5CDemo2_Optimization%5Cenvelope2409.rpk!/assets/vertical_greenery/10.PNG\" type=\"str\"/>\n",
      "\t<attribute key=\"/green_optimization_3/rules/typology/envelope2409.cga\" value=\"rpk:file:/C:%5CUsers%5Ccami9495%5CDocuments%5Cesri-cityengine-sdk-master%5Cexamples%5Cpy4prt%5CDemo2_Optimization%5Cenvelope2409.rpk!/rules/typology/envelope2409.cga\" type=\"str\"/>\n",
      "\t<attribute key=\"assets/vertical_greenery/1.PNG\" value=\"rpk:file:/C:%5CUsers%5Ccami9495%5CDocuments%5Cesri-cityengine-sdk-master%5Cexamples%5Cpy4prt%5CDemo2_Optimization%5Cenvelope2409.rpk!/assets/vertical_greenery/1.PNG\" type=\"str\"/>\n",
      "\t<attribute key=\"assets/unified_landscape/plan4.mtl\" value=\"rpk:file:/C:%5CUsers%5Ccami9495%5CDocuments%5Cesri-cityengine-sdk-master%5Cexamples%5Cpy4prt%5CDemo2_Optimization%5Cenvelope2409.rpk!/assets/unified_landscape/plan4.mtl\" type=\"str\"/>\n",
      "</ResolveMap>\n",
      "\n"
     ]
    }
   ],
   "source": [
    "m = pyprt.ModelGenerator(shape_geo)\n",
    "model = m.generate_model(attrs_green, rpk_green, \"com.esri.prt.examples.PyEncoder\", {'emitGeometry' : False})"
   ]
  },
  {
   "cell_type": "code",
   "execution_count": 7,
   "metadata": {},
   "outputs": [],
   "source": [
    "def fct_green(x):\n",
    "\n",
    "    attrs_green[input_attr_green[0]] = x[0]\n",
    "    generated_mod_green = m.generate_model(attrs_green)\n",
    "    \n",
    "    if generated_mod_green:\n",
    "        rep_green = combine_reports(generated_mod_green[0])\n",
    "        return -rep_green[goal_str_green]\n",
    "    else:\n",
    "        print(\"Error in optimization process.\")"
   ]
  },
  {
   "cell_type": "code",
   "execution_count": 8,
   "metadata": {},
   "outputs": [],
   "source": [
    "bounds_green = [(0,100)]"
   ]
  },
  {
   "cell_type": "code",
   "execution_count": 9,
   "metadata": {},
   "outputs": [
    {
     "data": {
      "text/plain": [
       "2168.6307416254404"
      ]
     },
     "execution_count": 9,
     "metadata": {},
     "output_type": "execute_result"
    }
   ],
   "source": [
    "-fct_green(x0_green)"
   ]
  },
  {
   "cell_type": "code",
   "execution_count": 10,
   "metadata": {},
   "outputs": [
    {
     "name": "stdout",
     "output_type": "stream",
     "text": [
      "The optimization lasted: 28.710047960281372\n"
     ]
    },
    {
     "data": {
      "text/plain": [
       "     fun: -2196.7870170993974\n",
       " message: 'Optimization terminated successfully.'\n",
       "    nfev: 32\n",
       "     nit: 1\n",
       " success: True\n",
       "       x: array([82.26263821])"
      ]
     },
     "execution_count": 10,
     "metadata": {},
     "output_type": "execute_result"
    }
   ],
   "source": [
    "import time\n",
    "start = time.time()\n",
    "\n",
    "res_green = optimize.differential_evolution(fct_green, bounds_green, seed = 666) # dual_annealing\n",
    "\n",
    "duration = time.time() - start\n",
    "print(\"The optimization lasted: \" + str(duration))\n",
    "res_green"
   ]
  },
  {
   "cell_type": "markdown",
   "metadata": {},
   "source": [
    "### Results Visualization"
   ]
  },
  {
   "cell_type": "code",
   "execution_count": 12,
   "metadata": {
    "collapsed": true
   },
   "outputs": [
    {
     "name": "stdout",
     "output_type": "stream",
     "text": [
      "[PRT] [2019-09-30 14:19:22] [info] using rule package C:\\Users\\cami9495\\Documents\\esri-cityengine-sdk-master\\examples\\py4prt\\Demo2_Optimization\\envelope2409.rpk\n",
      "\n",
      "[PRT] [2019-09-30 14:19:22] [debug] resolve map = <ResolveMap>\n",
      "\t<attribute key=\"/ESRI.lib/rules/Plants/Plant_Distributor.cga\" value=\"rpk:file:/C:%5CUsers%5Ccami9495%5CDocuments%5Cesri-cityengine-sdk-master%5Cexamples%5Cpy4prt%5CDemo2_Optimization%5Cenvelope2409.rpk!/.ws/ESRI.lib/rules/Plants/Plant_Distributor.cga\" type=\"str\"/>\n",
      "\t<attribute key=\"assets/vertical_greenery/6.PNG\" value=\"rpk:file:/C:%5CUsers%5Ccami9495%5CDocuments%5Cesri-cityengine-sdk-master%5Cexamples%5Cpy4prt%5CDemo2_Optimization%5Cenvelope2409.rpk!/assets/vertical_greenery/6.PNG\" type=\"str\"/>\n",
      "\t<attribute key=\"rules/typology/landscape.cga\" value=\"rpk:file:/C:%5CUsers%5Ccami9495%5CDocuments%5Cesri-cityengine-sdk-master%5Cexamples%5Cpy4prt%5CDemo2_Optimization%5Cenvelope2409.rpk!/rules/typology/landscape.cga\" type=\"str\"/>\n",
      "\t<attribute key=\"assets/vertical_greenery/4.PNG\" value=\"rpk:file:/C:%5CUsers%5Ccami9495%5CDocuments%5Cesri-cityengine-sdk-master%5Cexamples%5Cpy4prt%5CDemo2_Optimization%5Cenvelope2409.rpk!/assets/vertical_greenery/4.PNG\" type=\"str\"/>\n",
      "\t<attribute key=\"assets/vertical_greenery/5.PNG\" value=\"rpk:file:/C:%5CUsers%5Ccami9495%5CDocuments%5Cesri-cityengine-sdk-master%5Cexamples%5Cpy4prt%5CDemo2_Optimization%5Cenvelope2409.rpk!/assets/vertical_greenery/5.PNG\" type=\"str\"/>\n",
      "\t<attribute key=\"/green_optimization_3/assets/vertical_greenery/4.PNG\" value=\"rpk:file:/C:%5CUsers%5Ccami9495%5CDocuments%5Cesri-cityengine-sdk-master%5Cexamples%5Cpy4prt%5CDemo2_Optimization%5Cenvelope2409.rpk!/assets/vertical_greenery/4.PNG\" type=\"str\"/>\n",
      "\t<attribute key=\"assets/vertical_greenery/1.PNG\" value=\"rpk:file:/C:%5CUsers%5Ccami9495%5CDocuments%5Cesri-cityengine-sdk-master%5Cexamples%5Cpy4prt%5CDemo2_Optimization%5Cenvelope2409.rpk!/assets/vertical_greenery/1.PNG\" type=\"str\"/>\n",
      "\t<attribute key=\"/green_optimization_3/rules/typology/volume.cga\" value=\"rpk:file:/C:%5CUsers%5Ccami9495%5CDocuments%5Cesri-cityengine-sdk-master%5Cexamples%5Cpy4prt%5CDemo2_Optimization%5Cenvelope2409.rpk!/rules/typology/volume.cga\" type=\"str\"/>\n",
      "\t<attribute key=\"assets/vertical_greenery/8.PNG\" value=\"rpk:file:/C:%5CUsers%5Ccami9495%5CDocuments%5Cesri-cityengine-sdk-master%5Cexamples%5Cpy4prt%5CDemo2_Optimization%5Cenvelope2409.rpk!/assets/vertical_greenery/8.PNG\" type=\"str\"/>\n",
      "\t<attribute key=\"/green_optimization_3/assets/vertical_greenery/9.PNG\" value=\"rpk:file:/C:%5CUsers%5Ccami9495%5CDocuments%5Cesri-cityengine-sdk-master%5Cexamples%5Cpy4prt%5CDemo2_Optimization%5Cenvelope2409.rpk!/assets/vertical_greenery/9.PNG\" type=\"str\"/>\n",
      "\t<attribute key=\"/green_optimization_3/assets/wood.jpg\" value=\"rpk:file:/C:%5CUsers%5Ccami9495%5CDocuments%5Cesri-cityengine-sdk-master%5Cexamples%5Cpy4prt%5CDemo2_Optimization%5Cenvelope2409.rpk!/assets/wood.jpg\" type=\"str\"/>\n",
      "\t<attribute key=\"/ESRI.lib/rules/Plants/Plant_Loader.cga\" value=\"rpk:file:/C:%5CUsers%5Ccami9495%5CDocuments%5Cesri-cityengine-sdk-master%5Cexamples%5Cpy4prt%5CDemo2_Optimization%5Cenvelope2409.rpk!/.ws/ESRI.lib/rules/Plants/Plant_Loader.cga\" type=\"str\"/>\n",
      "\t<attribute key=\"rules/typology/facade.cga\" value=\"rpk:file:/C:%5CUsers%5Ccami9495%5CDocuments%5Cesri-cityengine-sdk-master%5Cexamples%5Cpy4prt%5CDemo2_Optimization%5Cenvelope2409.rpk!/rules/typology/facade.cga\" type=\"str\"/>\n",
      "\t<attribute key=\"assets/Bench/_1.jpg\" value=\"rpk:file:/C:%5CUsers%5Ccami9495%5CDocuments%5Cesri-cityengine-sdk-master%5Cexamples%5Cpy4prt%5CDemo2_Optimization%5Cenvelope2409.rpk!/assets/Bench/_1.jpg\" type=\"str\"/>\n",
      "\t<attribute key=\"/green_optimization_3/assets/vertical_greenery/5.PNG\" value=\"rpk:file:/C:%5CUsers%5Ccami9495%5CDocuments%5Cesri-cityengine-sdk-master%5Cexamples%5Cpy4prt%5CDemo2_Optimization%5Cenvelope2409.rpk!/assets/vertical_greenery/5.PNG\" type=\"str\"/>\n",
      "\t<attribute key=\"/green_optimization_3/assets/vertical_greenery/10.PNG\" value=\"rpk:file:/C:%5CUsers%5Ccami9495%5CDocuments%5Cesri-cityengine-sdk-master%5Cexamples%5Cpy4prt%5CDemo2_Optimization%5Cenvelope2409.rpk!/assets/vertical_greenery/10.PNG\" type=\"str\"/>\n",
      "\t<attribute key=\"/green_optimization_3/assets/Bench/_1.jpg\" value=\"rpk:file:/C:%5CUsers%5Ccami9495%5CDocuments%5Cesri-cityengine-sdk-master%5Cexamples%5Cpy4prt%5CDemo2_Optimization%5Cenvelope2409.rpk!/assets/Bench/_1.jpg\" type=\"str\"/>\n",
      "\t<attribute key=\"/green_optimization_3/assets/vertical_greenery/1.PNG\" value=\"rpk:file:/C:%5CUsers%5Ccami9495%5CDocuments%5Cesri-cityengine-sdk-master%5Cexamples%5Cpy4prt%5CDemo2_Optimization%5Cenvelope2409.rpk!/assets/vertical_greenery/1.PNG\" type=\"str\"/>\n",
      "\t<attribute key=\"/green_optimization_3/rules/typology/ground_floor_plan.cga\" value=\"rpk:file:/C:%5CUsers%5Ccami9495%5CDocuments%5Cesri-cityengine-sdk-master%5Cexamples%5Cpy4prt%5CDemo2_Optimization%5Cenvelope2409.rpk!/rules/typology/ground_floor_plan.cga\" type=\"str\"/>\n",
      "\t<attribute key=\"assets/concrete.jpg\" value=\"rpk:file:/C:%5CUsers%5Ccami9495%5CDocuments%5Cesri-cityengine-sdk-master%5Cexamples%5Cpy4prt%5CDemo2_Optimization%5Cenvelope2409.rpk!/assets/concrete.jpg\" type=\"str\"/>\n",
      "\t<attribute key=\"/green_optimization_3/rules/typology/landscape.cga\" value=\"rpk:file:/C:%5CUsers%5Ccami9495%5CDocuments%5Cesri-cityengine-sdk-master%5Cexamples%5Cpy4prt%5CDemo2_Optimization%5Cenvelope2409.rpk!/rules/typology/landscape.cga\" type=\"str\"/>\n",
      "\t<attribute key=\"assets/Bench.mtl\" value=\"rpk:file:/C:%5CUsers%5Ccami9495%5CDocuments%5Cesri-cityengine-sdk-master%5Cexamples%5Cpy4prt%5CDemo2_Optimization%5Cenvelope2409.rpk!/assets/Bench.mtl\" type=\"str\"/>\n",
      "\t<attribute key=\"/green_optimization_3/assets/Bench.mtl\" value=\"rpk:file:/C:%5CUsers%5Ccami9495%5CDocuments%5Cesri-cityengine-sdk-master%5Cexamples%5Cpy4prt%5CDemo2_Optimization%5Cenvelope2409.rpk!/assets/Bench.mtl\" type=\"str\"/>\n",
      "\t<attribute key=\"/green_optimization_3/assets/Bench/ooMaterial2.jpg\" value=\"rpk:file:/C:%5CUsers%5Ccami9495%5CDocuments%5Cesri-cityengine-sdk-master%5Cexamples%5Cpy4prt%5CDemo2_Optimization%5Cenvelope2409.rpk!/assets/Bench/ooMaterial2.jpg\" type=\"str\"/>\n",
      "\t<attribute key=\"/green_optimization_3/assets/unified_landscape/plan3.mtl\" value=\"rpk:file:/C:%5CUsers%5Ccami9495%5CDocuments%5Cesri-cityengine-sdk-master%5Cexamples%5Cpy4prt%5CDemo2_Optimization%5Cenvelope2409.rpk!/assets/unified_landscape/plan3.mtl\" type=\"str\"/>\n",
      "\t<attribute key=\"/green_optimization_3/assets/concrete.jpg\" value=\"rpk:file:/C:%5CUsers%5Ccami9495%5CDocuments%5Cesri-cityengine-sdk-master%5Cexamples%5Cpy4prt%5CDemo2_Optimization%5Cenvelope2409.rpk!/assets/concrete.jpg\" type=\"str\"/>\n",
      "\t<attribute key=\"assets/brick_wall.jpg\" value=\"rpk:file:/C:%5CUsers%5Ccami9495%5CDocuments%5Cesri-cityengine-sdk-master%5Cexamples%5Cpy4prt%5CDemo2_Optimization%5Cenvelope2409.rpk!/assets/brick_wall.jpg\" type=\"str\"/>\n",
      "\t<attribute key=\"/green_optimization_3/assets/unified_landscape/plan4.obj\" value=\"rpk:file:/C:%5CUsers%5Ccami9495%5CDocuments%5Cesri-cityengine-sdk-master%5Cexamples%5Cpy4prt%5CDemo2_Optimization%5Cenvelope2409.rpk!/assets/unified_landscape/plan4.obj\" type=\"str\"/>\n",
      "\t<attribute key=\"/green_optimization_3/assets/glass_door.obj\" value=\"rpk:file:/C:%5CUsers%5Ccami9495%5CDocuments%5Cesri-cityengine-sdk-master%5Cexamples%5Cpy4prt%5CDemo2_Optimization%5Cenvelope2409.rpk!/assets/glass_door.obj\" type=\"str\"/>\n",
      "\t<attribute key=\"/green_optimization_3/assets/vertical_greenery/2.PNG\" value=\"rpk:file:/C:%5CUsers%5Ccami9495%5CDocuments%5Cesri-cityengine-sdk-master%5Cexamples%5Cpy4prt%5CDemo2_Optimization%5Cenvelope2409.rpk!/assets/vertical_greenery/2.PNG\" type=\"str\"/>\n",
      "\t<attribute key=\"/green_optimization_3/rules/typology/envelope2409.cga\" value=\"rpk:file:/C:%5CUsers%5Ccami9495%5CDocuments%5Cesri-cityengine-sdk-master%5Cexamples%5Cpy4prt%5CDemo2_Optimization%5Cenvelope2409.rpk!/rules/typology/envelope2409.cga\" type=\"str\"/>\n",
      "\t<attribute key=\"/green_optimization_3/assets/unified_landscape/plan4.mtl\" value=\"rpk:file:/C:%5CUsers%5Ccami9495%5CDocuments%5Cesri-cityengine-sdk-master%5Cexamples%5Cpy4prt%5CDemo2_Optimization%5Cenvelope2409.rpk!/assets/unified_landscape/plan4.mtl\" type=\"str\"/>\n",
      "\t<attribute key=\"assets/unified_landscape/plan2.mtl\" value=\"rpk:file:/C:%5CUsers%5Ccami9495%5CDocuments%5Cesri-cityengine-sdk-master%5Cexamples%5Cpy4prt%5CDemo2_Optimization%5Cenvelope2409.rpk!/assets/unified_landscape/plan2.mtl\" type=\"str\"/>\n",
      "\t<attribute key=\"/green_optimization_3/assets/vertical_greenery/6.PNG\" value=\"rpk:file:/C:%5CUsers%5Ccami9495%5CDocuments%5Cesri-cityengine-sdk-master%5Cexamples%5Cpy4prt%5CDemo2_Optimization%5Cenvelope2409.rpk!/assets/vertical_greenery/6.PNG\" type=\"str\"/>\n",
      "\t<attribute key=\"assets/unified_landscape/plan3.mtl\" value=\"rpk:file:/C:%5CUsers%5Ccami9495%5CDocuments%5Cesri-cityengine-sdk-master%5Cexamples%5Cpy4prt%5CDemo2_Optimization%5Cenvelope2409.rpk!/assets/unified_landscape/plan3.mtl\" type=\"str\"/>\n",
      "\t<attribute key=\"/green_optimization_3/assets/vertical_greenery/7.PNG\" value=\"rpk:file:/C:%5CUsers%5Ccami9495%5CDocuments%5Cesri-cityengine-sdk-master%5Cexamples%5Cpy4prt%5CDemo2_Optimization%5Cenvelope2409.rpk!/assets/vertical_greenery/7.PNG\" type=\"str\"/>\n",
      "\t<attribute key=\"assets/vertical_greenery/9.PNG\" value=\"rpk:file:/C:%5CUsers%5Ccami9495%5CDocuments%5Cesri-cityengine-sdk-master%5Cexamples%5Cpy4prt%5CDemo2_Optimization%5Cenvelope2409.rpk!/assets/vertical_greenery/9.PNG\" type=\"str\"/>\n",
      "\t<attribute key=\"/green_optimization_3/assets/brick_wall.jpg\" value=\"rpk:file:/C:%5CUsers%5Ccami9495%5CDocuments%5Cesri-cityengine-sdk-master%5Cexamples%5Cpy4prt%5CDemo2_Optimization%5Cenvelope2409.rpk!/assets/brick_wall.jpg\" type=\"str\"/>\n",
      "\t<attribute key=\"/green_optimization_3/assets/vertical_greenery/3.PNG\" value=\"rpk:file:/C:%5CUsers%5Ccami9495%5CDocuments%5Cesri-cityengine-sdk-master%5Cexamples%5Cpy4prt%5CDemo2_Optimization%5Cenvelope2409.rpk!/assets/vertical_greenery/3.PNG\" type=\"str\"/>\n",
      "\t<attribute key=\"/green_optimization_3/assets/wall_plaster.jpg\" value=\"rpk:file:/C:%5CUsers%5Ccami9495%5CDocuments%5Cesri-cityengine-sdk-master%5Cexamples%5Cpy4prt%5CDemo2_Optimization%5Cenvelope2409.rpk!/assets/wall_plaster.jpg\" type=\"str\"/>\n",
      "\t<attribute key=\"assets/glass_door.obj\" value=\"rpk:file:/C:%5CUsers%5Ccami9495%5CDocuments%5Cesri-cityengine-sdk-master%5Cexamples%5Cpy4prt%5CDemo2_Optimization%5Cenvelope2409.rpk!/assets/glass_door.obj\" type=\"str\"/>\n",
      "\t<attribute key=\"/green_optimization_3/assets/unified_landscape/plan1.obj\" value=\"rpk:file:/C:%5CUsers%5Ccami9495%5CDocuments%5Cesri-cityengine-sdk-master%5Cexamples%5Cpy4prt%5CDemo2_Optimization%5Cenvelope2409.rpk!/assets/unified_landscape/plan1.obj\" type=\"str\"/>\n",
      "\t<attribute key=\"/green_optimization_3/assets/unified_landscape/plan3.obj\" value=\"rpk:file:/C:%5CUsers%5Ccami9495%5CDocuments%5Cesri-cityengine-sdk-master%5Cexamples%5Cpy4prt%5CDemo2_Optimization%5Cenvelope2409.rpk!/assets/unified_landscape/plan3.obj\" type=\"str\"/>\n",
      "\t<attribute key=\"/green_optimization_3/assets/bench.obj\" value=\"rpk:file:/C:%5CUsers%5Ccami9495%5CDocuments%5Cesri-cityengine-sdk-master%5Cexamples%5Cpy4prt%5CDemo2_Optimization%5Cenvelope2409.rpk!/assets/bench.obj\" type=\"str\"/>\n",
      "\t<attribute key=\"rules/typology/ground_floor_plan.cga\" value=\"rpk:file:/C:%5CUsers%5Ccami9495%5CDocuments%5Cesri-cityengine-sdk-master%5Cexamples%5Cpy4prt%5CDemo2_Optimization%5Cenvelope2409.rpk!/rules/typology/ground_floor_plan.cga\" type=\"str\"/>\n",
      "\t<attribute key=\"assets/Bench/ooMaterial2.jpg\" value=\"rpk:file:/C:%5CUsers%5Ccami9495%5CDocuments%5Cesri-cityengine-sdk-master%5Cexamples%5Cpy4prt%5CDemo2_Optimization%5Cenvelope2409.rpk!/assets/Bench/ooMaterial2.jpg\" type=\"str\"/>\n",
      "\t<attribute key=\"assets/vertical_greenery/7.PNG\" value=\"rpk:file:/C:%5CUsers%5Ccami9495%5CDocuments%5Cesri-cityengine-sdk-master%5Cexamples%5Cpy4prt%5CDemo2_Optimization%5Cenvelope2409.rpk!/assets/vertical_greenery/7.PNG\" type=\"str\"/>\n",
      "\t<attribute key=\"assets/unified_landscape/plan3.obj\" value=\"rpk:file:/C:%5CUsers%5Ccami9495%5CDocuments%5Cesri-cityengine-sdk-master%5Cexamples%5Cpy4prt%5CDemo2_Optimization%5Cenvelope2409.rpk!/assets/unified_landscape/plan3.obj\" type=\"str\"/>\n",
      "\t<attribute key=\"/green_optimization_3/assets/paving_b.jpg\" value=\"rpk:file:/C:%5CUsers%5Ccami9495%5CDocuments%5Cesri-cityengine-sdk-master%5Cexamples%5Cpy4prt%5CDemo2_Optimization%5Cenvelope2409.rpk!/assets/paving_b.jpg\" type=\"str\"/>\n",
      "\t<attribute key=\"assets/lawn2.jpg\" value=\"rpk:file:/C:%5CUsers%5Ccami9495%5CDocuments%5Cesri-cityengine-sdk-master%5Cexamples%5Cpy4prt%5CDemo2_Optimization%5Cenvelope2409.rpk!/assets/lawn2.jpg\" type=\"str\"/>\n",
      "\t<attribute key=\"rules/typology/envelope2409.cgb\" value=\"rpk:file:/C:%5CUsers%5Ccami9495%5CDocuments%5Cesri-cityengine-sdk-master%5Cexamples%5Cpy4prt%5CDemo2_Optimization%5Cenvelope2409.rpk!/rules/typology/envelope2409.cgb\" type=\"str\"/>\n",
      "\t<attribute key=\"assets/unified_landscape/plan4.mtl\" value=\"rpk:file:/C:%5CUsers%5Ccami9495%5CDocuments%5Cesri-cityengine-sdk-master%5Cexamples%5Cpy4prt%5CDemo2_Optimization%5Cenvelope2409.rpk!/assets/unified_landscape/plan4.mtl\" type=\"str\"/>\n",
      "\t<attribute key=\"assets/wood.jpg\" value=\"rpk:file:/C:%5CUsers%5Ccami9495%5CDocuments%5Cesri-cityengine-sdk-master%5Cexamples%5Cpy4prt%5CDemo2_Optimization%5Cenvelope2409.rpk!/assets/wood.jpg\" type=\"str\"/>\n",
      "\t<attribute key=\"/green_optimization_3/assets/unified_landscape/plan2.obj\" value=\"rpk:file:/C:%5CUsers%5Ccami9495%5CDocuments%5Cesri-cityengine-sdk-master%5Cexamples%5Cpy4prt%5CDemo2_Optimization%5Cenvelope2409.rpk!/assets/unified_landscape/plan2.obj\" type=\"str\"/>\n",
      "\t<attribute key=\"assets/paving_b.jpg\" value=\"rpk:file:/C:%5CUsers%5Ccami9495%5CDocuments%5Cesri-cityengine-sdk-master%5Cexamples%5Cpy4prt%5CDemo2_Optimization%5Cenvelope2409.rpk!/assets/paving_b.jpg\" type=\"str\"/>\n",
      "\t<attribute key=\"/green_optimization_3/assets/lawn2.jpg\" value=\"rpk:file:/C:%5CUsers%5Ccami9495%5CDocuments%5Cesri-cityengine-sdk-master%5Cexamples%5Cpy4prt%5CDemo2_Optimization%5Cenvelope2409.rpk!/assets/lawn2.jpg\" type=\"str\"/>\n",
      "\t<attribute key=\"assets/unified_landscape/plan2.obj\" value=\"rpk:file:/C:%5CUsers%5Ccami9495%5CDocuments%5Cesri-cityengine-sdk-master%5Cexamples%5Cpy4prt%5CDemo2_Optimization%5Cenvelope2409.rpk!/assets/unified_landscape/plan2.obj\" type=\"str\"/>\n",
      "\t<attribute key=\"assets/bench.obj\" value=\"rpk:file:/C:%5CUsers%5Ccami9495%5CDocuments%5Cesri-cityengine-sdk-master%5Cexamples%5Cpy4prt%5CDemo2_Optimization%5Cenvelope2409.rpk!/assets/bench.obj\" type=\"str\"/>\n",
      "\t<attribute key=\"assets/unified_landscape/plan4.obj\" value=\"rpk:file:/C:%5CUsers%5Ccami9495%5CDocuments%5Cesri-cityengine-sdk-master%5Cexamples%5Cpy4prt%5CDemo2_Optimization%5Cenvelope2409.rpk!/assets/unified_landscape/plan4.obj\" type=\"str\"/>\n",
      "\t<attribute key=\"rules/typology/envelope2409.cga\" value=\"rpk:file:/C:%5CUsers%5Ccami9495%5CDocuments%5Cesri-cityengine-sdk-master%5Cexamples%5Cpy4prt%5CDemo2_Optimization%5Cenvelope2409.rpk!/rules/typology/envelope2409.cga\" type=\"str\"/>\n",
      "\t<attribute key=\"assets/vertical_greenery/2.PNG\" value=\"rpk:file:/C:%5CUsers%5Ccami9495%5CDocuments%5Cesri-cityengine-sdk-master%5Cexamples%5Cpy4prt%5CDemo2_Optimization%5Cenvelope2409.rpk!/assets/vertical_greenery/2.PNG\" type=\"str\"/>\n",
      "\t<attribute key=\"/green_optimization_3/assets/vertical_greenery/8.PNG\" value=\"rpk:file:/C:%5CUsers%5Ccami9495%5CDocuments%5Cesri-cityengine-sdk-master%5Cexamples%5Cpy4prt%5CDemo2_Optimization%5Cenvelope2409.rpk!/assets/vertical_greenery/8.PNG\" type=\"str\"/>\n",
      "\t<attribute key=\"/green_optimization_3/assets/unified_landscape/plan2.mtl\" value=\"rpk:file:/C:%5CUsers%5Ccami9495%5CDocuments%5Cesri-cityengine-sdk-master%5Cexamples%5Cpy4prt%5CDemo2_Optimization%5Cenvelope2409.rpk!/assets/unified_landscape/plan2.mtl\" type=\"str\"/>\n",
      "\t<attribute key=\"/green_optimization_3/rules/typology/facade.cga\" value=\"rpk:file:/C:%5CUsers%5Ccami9495%5CDocuments%5Cesri-cityengine-sdk-master%5Cexamples%5Cpy4prt%5CDemo2_Optimization%5Cenvelope2409.rpk!/rules/typology/facade.cga\" type=\"str\"/>\n",
      "\t<attribute key=\"assets/wall_plaster.jpg\" value=\"rpk:file:/C:%5CUsers%5Ccami9495%5CDocuments%5Cesri-cityengine-sdk-master%5Cexamples%5Cpy4prt%5CDemo2_Optimization%5Cenvelope2409.rpk!/assets/wall_plaster.jpg\" type=\"str\"/>\n",
      "\t<attribute key=\"assets/vertical_greenery/10.PNG\" value=\"rpk:file:/C:%5CUsers%5Ccami9495%5CDocuments%5Cesri-cityengine-sdk-master%5Cexamples%5Cpy4prt%5CDemo2_Optimization%5Cenvelope2409.rpk!/assets/vertical_greenery/10.PNG\" type=\"str\"/>\n",
      "\t<attribute key=\"rules/typology/volume.cga\" value=\"rpk:file:/C:%5CUsers%5Ccami9495%5CDocuments%5Cesri-cityengine-sdk-master%5Cexamples%5Cpy4prt%5CDemo2_Optimization%5Cenvelope2409.rpk!/rules/typology/volume.cga\" type=\"str\"/>\n",
      "\t<attribute key=\"assets/unified_landscape/plan1.obj\" value=\"rpk:file:/C:%5CUsers%5Ccami9495%5CDocuments%5Cesri-cityengine-sdk-master%5Cexamples%5Cpy4prt%5CDemo2_Optimization%5Cenvelope2409.rpk!/assets/unified_landscape/plan1.obj\" type=\"str\"/>\n",
      "\t<attribute key=\"assets/vertical_greenery/3.PNG\" value=\"rpk:file:/C:%5CUsers%5Ccami9495%5CDocuments%5Cesri-cityengine-sdk-master%5Cexamples%5Cpy4prt%5CDemo2_Optimization%5Cenvelope2409.rpk!/assets/vertical_greenery/3.PNG\" type=\"str\"/>\n",
      "</ResolveMap>\n",
      "\n",
      "[PRT] [2019-09-30 14:19:24] [debug] width 32, height 32, rasterCount 3\n",
      "[PRT] [2019-09-30 14:19:24] [debug] width 32, height 32, rasterCount 3\n",
      "[PRT] [2019-09-30 14:19:24] [debug] width 32, height 32, rasterCount 3\n",
      "[PRT] [2019-09-30 14:19:24] [debug] width 64, height 32, rasterCount 3\n",
      "[PRT] [2019-09-30 14:19:24] [debug] width 64, height 32, rasterCount 3\n",
      "[PRT] [2019-09-30 14:19:24] [debug] width 64, height 32, rasterCount 3\n"
     ]
    },
    {
     "name": "stdout",
     "output_type": "stream",
     "text": [
      "[PRT] [2019-09-30 14:19:24] [debug] width 489, height 489, rasterCount 3\n",
      "[PRT] [2019-09-30 14:19:24] [debug] width 489, height 489, rasterCount 3\n",
      "[PRT] [2019-09-30 14:19:24] [debug] width 850, height 850, rasterCount 3\n",
      "[PRT] [2019-09-30 14:19:24] [debug] width 489, height 489, rasterCount 3\n",
      "[PRT] [2019-09-30 14:19:24] [debug] width 850, height 850, rasterCount 3\n",
      "[PRT] [2019-09-30 14:19:24] [debug] width 489, height 489, rasterCount 3\n",
      "[PRT] [2019-09-30 14:19:24] [debug] width 850, height 850, rasterCount 3\n",
      "[PRT] [2019-09-30 14:19:25] [debug] width 850, height 850, rasterCount 3\n",
      "[PRT] [2019-09-30 14:19:25] [debug] width 489, height 489, rasterCount 3\n",
      "[PRT] [2019-09-30 14:19:25] [debug] width 850, height 850, rasterCount 3\n",
      "[PRT] [2019-09-30 14:19:25] [debug] width 489, height 489, rasterCount 3\n",
      "[PRT] [2019-09-30 14:19:25] [debug] width 850, height 850, rasterCount 3\n",
      "[PRT] [2019-09-30 14:19:25] [debug] width 850, height 850, rasterCount 3\n",
      "[PRT] [2019-09-30 14:19:25] [debug] width 489, height 489, rasterCount 3\n",
      "[PRT] [2019-09-30 14:19:25] [debug] width 850, height 850, rasterCount 3\n",
      "[PRT] [2019-09-30 14:19:25] [debug] width 489, height 489, rasterCount 3\n",
      "[PRT] [2019-09-30 14:19:25] [debug] width 850, height 850, rasterCount 3\n",
      "[PRT] [2019-09-30 14:19:27] [debug] width 1024, height 1024, rasterCount 3\n",
      "[PRT] [2019-09-30 14:19:27] [debug] width 1024, height 1024, rasterCount 3\n",
      "[PRT] [2019-09-30 14:19:27] [debug] width 1024, height 1024, rasterCount 3\n",
      "[PRT] [2019-09-30 14:19:28] [debug] width 489, height 662, rasterCount 4\n",
      "[PRT] [2019-09-30 14:19:28] [debug] width 490, height 662, rasterCount 4\n",
      "[PRT] [2019-09-30 14:19:28] [debug] width 490, height 689, rasterCount 4\n",
      "[PRT] [2019-09-30 14:19:28] [debug] width 327, height 490, rasterCount 4\n",
      "[PRT] [2019-09-30 14:19:28] [debug] width 490, height 737, rasterCount 4\n",
      "[PRT] [2019-09-30 14:19:28] [debug] width 302, height 490, rasterCount 4\n",
      "[PRT] [2019-09-30 14:19:28] [debug] width 289, height 490, rasterCount 4\n",
      "[PRT] [2019-09-30 14:19:28] [debug] width 326, height 490, rasterCount 4\n",
      "[PRT] [2019-09-30 14:19:28] [debug] width 489, height 662, rasterCount 3\n",
      "[PRT] [2019-09-30 14:19:28] [debug] width 465, height 657, rasterCount 3\n",
      "[PRT] [2019-09-30 14:19:28] [debug] width 490, height 662, rasterCount 3\n",
      "[PRT] [2019-09-30 14:19:28] [debug] width 490, height 689, rasterCount 3\n",
      "[PRT] [2019-09-30 14:19:28] [debug] width 436, height 697, rasterCount 3\n",
      "[PRT] [2019-09-30 14:19:28] [debug] width 327, height 490, rasterCount 3\n",
      "[PRT] [2019-09-30 14:19:28] [debug] width 490, height 737, rasterCount 3\n",
      "[PRT] [2019-09-30 14:19:28] [debug] width 302, height 490, rasterCount 3\n",
      "[PRT] [2019-09-30 14:19:28] [debug] width 289, height 490, rasterCount 3\n",
      "[PRT] [2019-09-30 14:19:28] [debug] width 326, height 490, rasterCount 3\n",
      "[PRT] [2019-09-30 14:19:28] [debug] width 489, height 662, rasterCount 3\n",
      "[PRT] [2019-09-30 14:19:28] [debug] width 465, height 657, rasterCount 3\n",
      "[PRT] [2019-09-30 14:19:28] [debug] width 490, height 662, rasterCount 3\n",
      "[PRT] [2019-09-30 14:19:28] [debug] width 490, height 689, rasterCount 3\n",
      "[PRT] [2019-09-30 14:19:28] [debug] width 436, height 697, rasterCount 3\n",
      "[PRT] [2019-09-30 14:19:28] [debug] width 327, height 490, rasterCount 3\n",
      "[PRT] [2019-09-30 14:19:28] [debug] width 490, height 737, rasterCount 3\n",
      "[PRT] [2019-09-30 14:19:28] [debug] width 302, height 490, rasterCount 3\n",
      "[PRT] [2019-09-30 14:19:28] [debug] width 289, height 490, rasterCount 3\n",
      "[PRT] [2019-09-30 14:19:28] [debug] width 326, height 490, rasterCount 3\n",
      "[PRT] [2019-09-30 14:19:28] [debug] width 489, height 662, rasterCount 3\n",
      "[PRT] [2019-09-30 14:19:28] [debug] width 465, height 657, rasterCount 3\n",
      "[PRT] [2019-09-30 14:19:28] [debug] width 490, height 662, rasterCount 3\n",
      "[PRT] [2019-09-30 14:19:28] [debug] width 490, height 689, rasterCount 3\n",
      "[PRT] [2019-09-30 14:19:28] [debug] width 436, height 697, rasterCount 3\n",
      "[PRT] [2019-09-30 14:19:28] [debug] width 327, height 490, rasterCount 3\n",
      "[PRT] [2019-09-30 14:19:28] [debug] width 490, height 737, rasterCount 3\n",
      "[PRT] [2019-09-30 14:19:28] [debug] width 302, height 490, rasterCount 3\n",
      "[PRT] [2019-09-30 14:19:28] [debug] width 289, height 490, rasterCount 3\n",
      "[PRT] [2019-09-30 14:19:28] [debug] width 326, height 490, rasterCount 3\n",
      "[PRT] [2019-09-30 14:19:31] [debug] width 1024, height 1024, rasterCount 3\n",
      "[PRT] [2019-09-30 14:19:31] [debug] width 1024, height 1024, rasterCount 3\n",
      "[PRT] [2019-09-30 14:19:32] [debug] width 1024, height 1024, rasterCount 3\n"
     ]
    }
   ],
   "source": [
    "export_file_name = \"Demo_SLPKModel1\"\n",
    "enc_optionsSLPK = {'sceneType' : \"Local\",'baseName' : export_file_name,'sceneWkid' : \"3857\",'layerTextureEncoding' : [\"2\"],'layerEnabled' : [True],'layerUID' : [\"1\"],'layerName' : [\"1\"],'layerTextureQuality' : [1.0],'layerTextureCompression' : [9],'layerTextureScaling' : [1.0],'layerTextureMaxDimension' : [2048],'layerFeatureGranularity' : [\"0\"],'layerBackfaceCulling' : [False]}\n",
    "\n",
    "attrs_green[input_attr_green[0]] = res_green.x[0]\n",
    "green_model = m.generate_model(attrs_green, rpk_green, \"com.esri.prt.codecs.I3SEncoder\", enc_optionsSLPK)"
   ]
  },
  {
   "cell_type": "code",
   "execution_count": 13,
   "metadata": {},
   "outputs": [],
   "source": [
    "item = my_gis.content.add({'type':'Scene Package'}, data=asset_file(\"..\\output\\%s.slpk\" % export_file_name), folder='packages')\n",
    "if item is None:\n",
    "    # first delete the existing one if any and add\n",
    "    my_gis.content.delete_items([item])\n",
    "    item = my_gis.content.add({'type':'Scene Package'}, asset_file(\"..\\output\\%s.slpk\" % export_file_name), folder='packages')\n",
    "published_item = item.publish()"
   ]
  },
  {
   "cell_type": "code",
   "execution_count": 14,
   "metadata": {},
   "outputs": [
    {
     "data": {
      "text/html": [
       "\n",
       "        <iframe\n",
       "            width=\"900\"\n",
       "            height=\"600\"\n",
       "            src=\"http://zurich.maps.arcgis.com/home/webscene/viewer.html?layers=9255ec10cb8140409beba6a690f23e33\"\n",
       "            frameborder=\"0\"\n",
       "            allowfullscreen\n",
       "        ></iframe>\n",
       "        "
      ],
      "text/plain": [
       "<IPython.lib.display.IFrame at 0x24f4defd908>"
      ]
     },
     "execution_count": 14,
     "metadata": {},
     "output_type": "execute_result"
    }
   ],
   "source": [
    "source = 'http://zurich.maps.arcgis.com/home/webscene/viewer.html?layers=' + published_item.id\n",
    "IFrame(src=source, width=900, height=600)"
   ]
  },
  {
   "cell_type": "markdown",
   "metadata": {},
   "source": [
    "-------------------------------------------------------------------------------------------------------------------------------\n",
    "\n",
    "-------------------------------------------------------------------------------------------------------------------------------"
   ]
  },
  {
   "cell_type": "markdown",
   "metadata": {},
   "source": [
    "Step 2 : optimize the total green area reported including the balconies trees. This will be optimized taking into account several parameters:\n",
    "- the lot coverage\n",
    "- the height of the first tier"
   ]
  },
  {
   "cell_type": "markdown",
   "metadata": {},
   "source": [
    "### The variables"
   ]
  },
  {
   "cell_type": "code",
   "execution_count": 15,
   "metadata": {},
   "outputs": [],
   "source": [
    "goal_str_green = \"Greenery Area\" + \"_sum\"\n",
    "\n",
    "input_attr_green = [\"lot_coverage_parameter\", \"height_first_tier\"]\n",
    "x0_green = [float(80), float(9)]"
   ]
  },
  {
   "cell_type": "code",
   "execution_count": 16,
   "metadata": {},
   "outputs": [
    {
     "name": "stdout",
     "output_type": "stream",
     "text": [
      "[PRT] [2019-09-30 14:21:13] [info] using rule package C:\\Users\\cami9495\\Documents\\esri-cityengine-sdk-master\\examples\\py4prt\\Demo2_Optimization\\envelope2409.rpk\n",
      "\n",
      "[PRT] [2019-09-30 14:21:13] [debug] resolve map = <ResolveMap>\n",
      "\t<attribute key=\"/ESRI.lib/rules/Plants/Plant_Distributor.cga\" value=\"rpk:file:/C:%5CUsers%5Ccami9495%5CDocuments%5Cesri-cityengine-sdk-master%5Cexamples%5Cpy4prt%5CDemo2_Optimization%5Cenvelope2409.rpk!/.ws/ESRI.lib/rules/Plants/Plant_Distributor.cga\" type=\"str\"/>\n",
      "\t<attribute key=\"assets/vertical_greenery/6.PNG\" value=\"rpk:file:/C:%5CUsers%5Ccami9495%5CDocuments%5Cesri-cityengine-sdk-master%5Cexamples%5Cpy4prt%5CDemo2_Optimization%5Cenvelope2409.rpk!/assets/vertical_greenery/6.PNG\" type=\"str\"/>\n",
      "\t<attribute key=\"rules/typology/landscape.cga\" value=\"rpk:file:/C:%5CUsers%5Ccami9495%5CDocuments%5Cesri-cityengine-sdk-master%5Cexamples%5Cpy4prt%5CDemo2_Optimization%5Cenvelope2409.rpk!/rules/typology/landscape.cga\" type=\"str\"/>\n",
      "\t<attribute key=\"assets/vertical_greenery/4.PNG\" value=\"rpk:file:/C:%5CUsers%5Ccami9495%5CDocuments%5Cesri-cityengine-sdk-master%5Cexamples%5Cpy4prt%5CDemo2_Optimization%5Cenvelope2409.rpk!/assets/vertical_greenery/4.PNG\" type=\"str\"/>\n",
      "\t<attribute key=\"assets/vertical_greenery/5.PNG\" value=\"rpk:file:/C:%5CUsers%5Ccami9495%5CDocuments%5Cesri-cityengine-sdk-master%5Cexamples%5Cpy4prt%5CDemo2_Optimization%5Cenvelope2409.rpk!/assets/vertical_greenery/5.PNG\" type=\"str\"/>\n",
      "\t<attribute key=\"/green_optimization_3/assets/vertical_greenery/4.PNG\" value=\"rpk:file:/C:%5CUsers%5Ccami9495%5CDocuments%5Cesri-cityengine-sdk-master%5Cexamples%5Cpy4prt%5CDemo2_Optimization%5Cenvelope2409.rpk!/assets/vertical_greenery/4.PNG\" type=\"str\"/>\n",
      "\t<attribute key=\"assets/vertical_greenery/1.PNG\" value=\"rpk:file:/C:%5CUsers%5Ccami9495%5CDocuments%5Cesri-cityengine-sdk-master%5Cexamples%5Cpy4prt%5CDemo2_Optimization%5Cenvelope2409.rpk!/assets/vertical_greenery/1.PNG\" type=\"str\"/>\n",
      "\t<attribute key=\"/green_optimization_3/rules/typology/volume.cga\" value=\"rpk:file:/C:%5CUsers%5Ccami9495%5CDocuments%5Cesri-cityengine-sdk-master%5Cexamples%5Cpy4prt%5CDemo2_Optimization%5Cenvelope2409.rpk!/rules/typology/volume.cga\" type=\"str\"/>\n",
      "\t<attribute key=\"assets/vertical_greenery/8.PNG\" value=\"rpk:file:/C:%5CUsers%5Ccami9495%5CDocuments%5Cesri-cityengine-sdk-master%5Cexamples%5Cpy4prt%5CDemo2_Optimization%5Cenvelope2409.rpk!/assets/vertical_greenery/8.PNG\" type=\"str\"/>\n",
      "\t<attribute key=\"/green_optimization_3/assets/vertical_greenery/9.PNG\" value=\"rpk:file:/C:%5CUsers%5Ccami9495%5CDocuments%5Cesri-cityengine-sdk-master%5Cexamples%5Cpy4prt%5CDemo2_Optimization%5Cenvelope2409.rpk!/assets/vertical_greenery/9.PNG\" type=\"str\"/>\n",
      "\t<attribute key=\"/green_optimization_3/assets/wood.jpg\" value=\"rpk:file:/C:%5CUsers%5Ccami9495%5CDocuments%5Cesri-cityengine-sdk-master%5Cexamples%5Cpy4prt%5CDemo2_Optimization%5Cenvelope2409.rpk!/assets/wood.jpg\" type=\"str\"/>\n",
      "\t<attribute key=\"/ESRI.lib/rules/Plants/Plant_Loader.cga\" value=\"rpk:file:/C:%5CUsers%5Ccami9495%5CDocuments%5Cesri-cityengine-sdk-master%5Cexamples%5Cpy4prt%5CDemo2_Optimization%5Cenvelope2409.rpk!/.ws/ESRI.lib/rules/Plants/Plant_Loader.cga\" type=\"str\"/>\n",
      "\t<attribute key=\"rules/typology/facade.cga\" value=\"rpk:file:/C:%5CUsers%5Ccami9495%5CDocuments%5Cesri-cityengine-sdk-master%5Cexamples%5Cpy4prt%5CDemo2_Optimization%5Cenvelope2409.rpk!/rules/typology/facade.cga\" type=\"str\"/>\n",
      "\t<attribute key=\"assets/Bench/_1.jpg\" value=\"rpk:file:/C:%5CUsers%5Ccami9495%5CDocuments%5Cesri-cityengine-sdk-master%5Cexamples%5Cpy4prt%5CDemo2_Optimization%5Cenvelope2409.rpk!/assets/Bench/_1.jpg\" type=\"str\"/>\n",
      "\t<attribute key=\"/green_optimization_3/assets/vertical_greenery/5.PNG\" value=\"rpk:file:/C:%5CUsers%5Ccami9495%5CDocuments%5Cesri-cityengine-sdk-master%5Cexamples%5Cpy4prt%5CDemo2_Optimization%5Cenvelope2409.rpk!/assets/vertical_greenery/5.PNG\" type=\"str\"/>\n",
      "\t<attribute key=\"/green_optimization_3/assets/vertical_greenery/10.PNG\" value=\"rpk:file:/C:%5CUsers%5Ccami9495%5CDocuments%5Cesri-cityengine-sdk-master%5Cexamples%5Cpy4prt%5CDemo2_Optimization%5Cenvelope2409.rpk!/assets/vertical_greenery/10.PNG\" type=\"str\"/>\n",
      "\t<attribute key=\"/green_optimization_3/assets/Bench/_1.jpg\" value=\"rpk:file:/C:%5CUsers%5Ccami9495%5CDocuments%5Cesri-cityengine-sdk-master%5Cexamples%5Cpy4prt%5CDemo2_Optimization%5Cenvelope2409.rpk!/assets/Bench/_1.jpg\" type=\"str\"/>\n",
      "\t<attribute key=\"/green_optimization_3/assets/vertical_greenery/1.PNG\" value=\"rpk:file:/C:%5CUsers%5Ccami9495%5CDocuments%5Cesri-cityengine-sdk-master%5Cexamples%5Cpy4prt%5CDemo2_Optimization%5Cenvelope2409.rpk!/assets/vertical_greenery/1.PNG\" type=\"str\"/>\n",
      "\t<attribute key=\"/green_optimization_3/rules/typology/ground_floor_plan.cga\" value=\"rpk:file:/C:%5CUsers%5Ccami9495%5CDocuments%5Cesri-cityengine-sdk-master%5Cexamples%5Cpy4prt%5CDemo2_Optimization%5Cenvelope2409.rpk!/rules/typology/ground_floor_plan.cga\" type=\"str\"/>\n",
      "\t<attribute key=\"assets/concrete.jpg\" value=\"rpk:file:/C:%5CUsers%5Ccami9495%5CDocuments%5Cesri-cityengine-sdk-master%5Cexamples%5Cpy4prt%5CDemo2_Optimization%5Cenvelope2409.rpk!/assets/concrete.jpg\" type=\"str\"/>\n",
      "\t<attribute key=\"/green_optimization_3/rules/typology/landscape.cga\" value=\"rpk:file:/C:%5CUsers%5Ccami9495%5CDocuments%5Cesri-cityengine-sdk-master%5Cexamples%5Cpy4prt%5CDemo2_Optimization%5Cenvelope2409.rpk!/rules/typology/landscape.cga\" type=\"str\"/>\n",
      "\t<attribute key=\"assets/Bench.mtl\" value=\"rpk:file:/C:%5CUsers%5Ccami9495%5CDocuments%5Cesri-cityengine-sdk-master%5Cexamples%5Cpy4prt%5CDemo2_Optimization%5Cenvelope2409.rpk!/assets/Bench.mtl\" type=\"str\"/>\n",
      "\t<attribute key=\"/green_optimization_3/assets/Bench.mtl\" value=\"rpk:file:/C:%5CUsers%5Ccami9495%5CDocuments%5Cesri-cityengine-sdk-master%5Cexamples%5Cpy4prt%5CDemo2_Optimization%5Cenvelope2409.rpk!/assets/Bench.mtl\" type=\"str\"/>\n",
      "\t<attribute key=\"/green_optimization_3/assets/Bench/ooMaterial2.jpg\" value=\"rpk:file:/C:%5CUsers%5Ccami9495%5CDocuments%5Cesri-cityengine-sdk-master%5Cexamples%5Cpy4prt%5CDemo2_Optimization%5Cenvelope2409.rpk!/assets/Bench/ooMaterial2.jpg\" type=\"str\"/>\n",
      "\t<attribute key=\"/green_optimization_3/assets/unified_landscape/plan3.mtl\" value=\"rpk:file:/C:%5CUsers%5Ccami9495%5CDocuments%5Cesri-cityengine-sdk-master%5Cexamples%5Cpy4prt%5CDemo2_Optimization%5Cenvelope2409.rpk!/assets/unified_landscape/plan3.mtl\" type=\"str\"/>\n",
      "\t<attribute key=\"/green_optimization_3/assets/concrete.jpg\" value=\"rpk:file:/C:%5CUsers%5Ccami9495%5CDocuments%5Cesri-cityengine-sdk-master%5Cexamples%5Cpy4prt%5CDemo2_Optimization%5Cenvelope2409.rpk!/assets/concrete.jpg\" type=\"str\"/>\n",
      "\t<attribute key=\"assets/brick_wall.jpg\" value=\"rpk:file:/C:%5CUsers%5Ccami9495%5CDocuments%5Cesri-cityengine-sdk-master%5Cexamples%5Cpy4prt%5CDemo2_Optimization%5Cenvelope2409.rpk!/assets/brick_wall.jpg\" type=\"str\"/>\n",
      "\t<attribute key=\"/green_optimization_3/assets/unified_landscape/plan4.obj\" value=\"rpk:file:/C:%5CUsers%5Ccami9495%5CDocuments%5Cesri-cityengine-sdk-master%5Cexamples%5Cpy4prt%5CDemo2_Optimization%5Cenvelope2409.rpk!/assets/unified_landscape/plan4.obj\" type=\"str\"/>\n",
      "\t<attribute key=\"/green_optimization_3/assets/glass_door.obj\" value=\"rpk:file:/C:%5CUsers%5Ccami9495%5CDocuments%5Cesri-cityengine-sdk-master%5Cexamples%5Cpy4prt%5CDemo2_Optimization%5Cenvelope2409.rpk!/assets/glass_door.obj\" type=\"str\"/>\n",
      "\t<attribute key=\"/green_optimization_3/assets/vertical_greenery/2.PNG\" value=\"rpk:file:/C:%5CUsers%5Ccami9495%5CDocuments%5Cesri-cityengine-sdk-master%5Cexamples%5Cpy4prt%5CDemo2_Optimization%5Cenvelope2409.rpk!/assets/vertical_greenery/2.PNG\" type=\"str\"/>\n",
      "\t<attribute key=\"/green_optimization_3/rules/typology/envelope2409.cga\" value=\"rpk:file:/C:%5CUsers%5Ccami9495%5CDocuments%5Cesri-cityengine-sdk-master%5Cexamples%5Cpy4prt%5CDemo2_Optimization%5Cenvelope2409.rpk!/rules/typology/envelope2409.cga\" type=\"str\"/>\n",
      "\t<attribute key=\"/green_optimization_3/assets/unified_landscape/plan4.mtl\" value=\"rpk:file:/C:%5CUsers%5Ccami9495%5CDocuments%5Cesri-cityengine-sdk-master%5Cexamples%5Cpy4prt%5CDemo2_Optimization%5Cenvelope2409.rpk!/assets/unified_landscape/plan4.mtl\" type=\"str\"/>\n",
      "\t<attribute key=\"assets/unified_landscape/plan2.mtl\" value=\"rpk:file:/C:%5CUsers%5Ccami9495%5CDocuments%5Cesri-cityengine-sdk-master%5Cexamples%5Cpy4prt%5CDemo2_Optimization%5Cenvelope2409.rpk!/assets/unified_landscape/plan2.mtl\" type=\"str\"/>\n",
      "\t<attribute key=\"/green_optimization_3/assets/vertical_greenery/6.PNG\" value=\"rpk:file:/C:%5CUsers%5Ccami9495%5CDocuments%5Cesri-cityengine-sdk-master%5Cexamples%5Cpy4prt%5CDemo2_Optimization%5Cenvelope2409.rpk!/assets/vertical_greenery/6.PNG\" type=\"str\"/>\n",
      "\t<attribute key=\"assets/unified_landscape/plan3.mtl\" value=\"rpk:file:/C:%5CUsers%5Ccami9495%5CDocuments%5Cesri-cityengine-sdk-master%5Cexamples%5Cpy4prt%5CDemo2_Optimization%5Cenvelope2409.rpk!/assets/unified_landscape/plan3.mtl\" type=\"str\"/>\n",
      "\t<attribute key=\"/green_optimization_3/assets/vertical_greenery/7.PNG\" value=\"rpk:file:/C:%5CUsers%5Ccami9495%5CDocuments%5Cesri-cityengine-sdk-master%5Cexamples%5Cpy4prt%5CDemo2_Optimization%5Cenvelope2409.rpk!/assets/vertical_greenery/7.PNG\" type=\"str\"/>\n",
      "\t<attribute key=\"assets/vertical_greenery/9.PNG\" value=\"rpk:file:/C:%5CUsers%5Ccami9495%5CDocuments%5Cesri-cityengine-sdk-master%5Cexamples%5Cpy4prt%5CDemo2_Optimization%5Cenvelope2409.rpk!/assets/vertical_greenery/9.PNG\" type=\"str\"/>\n",
      "\t<attribute key=\"/green_optimization_3/assets/brick_wall.jpg\" value=\"rpk:file:/C:%5CUsers%5Ccami9495%5CDocuments%5Cesri-cityengine-sdk-master%5Cexamples%5Cpy4prt%5CDemo2_Optimization%5Cenvelope2409.rpk!/assets/brick_wall.jpg\" type=\"str\"/>\n",
      "\t<attribute key=\"/green_optimization_3/assets/vertical_greenery/3.PNG\" value=\"rpk:file:/C:%5CUsers%5Ccami9495%5CDocuments%5Cesri-cityengine-sdk-master%5Cexamples%5Cpy4prt%5CDemo2_Optimization%5Cenvelope2409.rpk!/assets/vertical_greenery/3.PNG\" type=\"str\"/>\n",
      "\t<attribute key=\"/green_optimization_3/assets/wall_plaster.jpg\" value=\"rpk:file:/C:%5CUsers%5Ccami9495%5CDocuments%5Cesri-cityengine-sdk-master%5Cexamples%5Cpy4prt%5CDemo2_Optimization%5Cenvelope2409.rpk!/assets/wall_plaster.jpg\" type=\"str\"/>\n",
      "\t<attribute key=\"assets/glass_door.obj\" value=\"rpk:file:/C:%5CUsers%5Ccami9495%5CDocuments%5Cesri-cityengine-sdk-master%5Cexamples%5Cpy4prt%5CDemo2_Optimization%5Cenvelope2409.rpk!/assets/glass_door.obj\" type=\"str\"/>\n",
      "\t<attribute key=\"/green_optimization_3/assets/unified_landscape/plan1.obj\" value=\"rpk:file:/C:%5CUsers%5Ccami9495%5CDocuments%5Cesri-cityengine-sdk-master%5Cexamples%5Cpy4prt%5CDemo2_Optimization%5Cenvelope2409.rpk!/assets/unified_landscape/plan1.obj\" type=\"str\"/>\n",
      "\t<attribute key=\"/green_optimization_3/assets/unified_landscape/plan3.obj\" value=\"rpk:file:/C:%5CUsers%5Ccami9495%5CDocuments%5Cesri-cityengine-sdk-master%5Cexamples%5Cpy4prt%5CDemo2_Optimization%5Cenvelope2409.rpk!/assets/unified_landscape/plan3.obj\" type=\"str\"/>\n",
      "\t<attribute key=\"/green_optimization_3/assets/bench.obj\" value=\"rpk:file:/C:%5CUsers%5Ccami9495%5CDocuments%5Cesri-cityengine-sdk-master%5Cexamples%5Cpy4prt%5CDemo2_Optimization%5Cenvelope2409.rpk!/assets/bench.obj\" type=\"str\"/>\n",
      "\t<attribute key=\"rules/typology/ground_floor_plan.cga\" value=\"rpk:file:/C:%5CUsers%5Ccami9495%5CDocuments%5Cesri-cityengine-sdk-master%5Cexamples%5Cpy4prt%5CDemo2_Optimization%5Cenvelope2409.rpk!/rules/typology/ground_floor_plan.cga\" type=\"str\"/>\n",
      "\t<attribute key=\"assets/Bench/ooMaterial2.jpg\" value=\"rpk:file:/C:%5CUsers%5Ccami9495%5CDocuments%5Cesri-cityengine-sdk-master%5Cexamples%5Cpy4prt%5CDemo2_Optimization%5Cenvelope2409.rpk!/assets/Bench/ooMaterial2.jpg\" type=\"str\"/>\n",
      "\t<attribute key=\"assets/vertical_greenery/7.PNG\" value=\"rpk:file:/C:%5CUsers%5Ccami9495%5CDocuments%5Cesri-cityengine-sdk-master%5Cexamples%5Cpy4prt%5CDemo2_Optimization%5Cenvelope2409.rpk!/assets/vertical_greenery/7.PNG\" type=\"str\"/>\n",
      "\t<attribute key=\"assets/unified_landscape/plan3.obj\" value=\"rpk:file:/C:%5CUsers%5Ccami9495%5CDocuments%5Cesri-cityengine-sdk-master%5Cexamples%5Cpy4prt%5CDemo2_Optimization%5Cenvelope2409.rpk!/assets/unified_landscape/plan3.obj\" type=\"str\"/>\n",
      "\t<attribute key=\"/green_optimization_3/assets/paving_b.jpg\" value=\"rpk:file:/C:%5CUsers%5Ccami9495%5CDocuments%5Cesri-cityengine-sdk-master%5Cexamples%5Cpy4prt%5CDemo2_Optimization%5Cenvelope2409.rpk!/assets/paving_b.jpg\" type=\"str\"/>\n",
      "\t<attribute key=\"assets/lawn2.jpg\" value=\"rpk:file:/C:%5CUsers%5Ccami9495%5CDocuments%5Cesri-cityengine-sdk-master%5Cexamples%5Cpy4prt%5CDemo2_Optimization%5Cenvelope2409.rpk!/assets/lawn2.jpg\" type=\"str\"/>\n",
      "\t<attribute key=\"rules/typology/envelope2409.cgb\" value=\"rpk:file:/C:%5CUsers%5Ccami9495%5CDocuments%5Cesri-cityengine-sdk-master%5Cexamples%5Cpy4prt%5CDemo2_Optimization%5Cenvelope2409.rpk!/rules/typology/envelope2409.cgb\" type=\"str\"/>\n",
      "\t<attribute key=\"assets/unified_landscape/plan4.mtl\" value=\"rpk:file:/C:%5CUsers%5Ccami9495%5CDocuments%5Cesri-cityengine-sdk-master%5Cexamples%5Cpy4prt%5CDemo2_Optimization%5Cenvelope2409.rpk!/assets/unified_landscape/plan4.mtl\" type=\"str\"/>\n",
      "\t<attribute key=\"assets/wood.jpg\" value=\"rpk:file:/C:%5CUsers%5Ccami9495%5CDocuments%5Cesri-cityengine-sdk-master%5Cexamples%5Cpy4prt%5CDemo2_Optimization%5Cenvelope2409.rpk!/assets/wood.jpg\" type=\"str\"/>\n",
      "\t<attribute key=\"/green_optimization_3/assets/unified_landscape/plan2.obj\" value=\"rpk:file:/C:%5CUsers%5Ccami9495%5CDocuments%5Cesri-cityengine-sdk-master%5Cexamples%5Cpy4prt%5CDemo2_Optimization%5Cenvelope2409.rpk!/assets/unified_landscape/plan2.obj\" type=\"str\"/>\n",
      "\t<attribute key=\"assets/paving_b.jpg\" value=\"rpk:file:/C:%5CUsers%5Ccami9495%5CDocuments%5Cesri-cityengine-sdk-master%5Cexamples%5Cpy4prt%5CDemo2_Optimization%5Cenvelope2409.rpk!/assets/paving_b.jpg\" type=\"str\"/>\n",
      "\t<attribute key=\"/green_optimization_3/assets/lawn2.jpg\" value=\"rpk:file:/C:%5CUsers%5Ccami9495%5CDocuments%5Cesri-cityengine-sdk-master%5Cexamples%5Cpy4prt%5CDemo2_Optimization%5Cenvelope2409.rpk!/assets/lawn2.jpg\" type=\"str\"/>\n",
      "\t<attribute key=\"assets/unified_landscape/plan2.obj\" value=\"rpk:file:/C:%5CUsers%5Ccami9495%5CDocuments%5Cesri-cityengine-sdk-master%5Cexamples%5Cpy4prt%5CDemo2_Optimization%5Cenvelope2409.rpk!/assets/unified_landscape/plan2.obj\" type=\"str\"/>\n",
      "\t<attribute key=\"assets/bench.obj\" value=\"rpk:file:/C:%5CUsers%5Ccami9495%5CDocuments%5Cesri-cityengine-sdk-master%5Cexamples%5Cpy4prt%5CDemo2_Optimization%5Cenvelope2409.rpk!/assets/bench.obj\" type=\"str\"/>\n",
      "\t<attribute key=\"assets/unified_landscape/plan4.obj\" value=\"rpk:file:/C:%5CUsers%5Ccami9495%5CDocuments%5Cesri-cityengine-sdk-master%5Cexamples%5Cpy4prt%5CDemo2_Optimization%5Cenvelope2409.rpk!/assets/unified_landscape/plan4.obj\" type=\"str\"/>\n",
      "\t<attribute key=\"rules/typology/envelope2409.cga\" value=\"rpk:file:/C:%5CUsers%5Ccami9495%5CDocuments%5Cesri-cityengine-sdk-master%5Cexamples%5Cpy4prt%5CDemo2_Optimization%5Cenvelope2409.rpk!/rules/typology/envelope2409.cga\" type=\"str\"/>\n",
      "\t<attribute key=\"assets/vertical_greenery/2.PNG\" value=\"rpk:file:/C:%5CUsers%5Ccami9495%5CDocuments%5Cesri-cityengine-sdk-master%5Cexamples%5Cpy4prt%5CDemo2_Optimization%5Cenvelope2409.rpk!/assets/vertical_greenery/2.PNG\" type=\"str\"/>\n",
      "\t<attribute key=\"/green_optimization_3/assets/vertical_greenery/8.PNG\" value=\"rpk:file:/C:%5CUsers%5Ccami9495%5CDocuments%5Cesri-cityengine-sdk-master%5Cexamples%5Cpy4prt%5CDemo2_Optimization%5Cenvelope2409.rpk!/assets/vertical_greenery/8.PNG\" type=\"str\"/>\n",
      "\t<attribute key=\"/green_optimization_3/assets/unified_landscape/plan2.mtl\" value=\"rpk:file:/C:%5CUsers%5Ccami9495%5CDocuments%5Cesri-cityengine-sdk-master%5Cexamples%5Cpy4prt%5CDemo2_Optimization%5Cenvelope2409.rpk!/assets/unified_landscape/plan2.mtl\" type=\"str\"/>\n",
      "\t<attribute key=\"/green_optimization_3/rules/typology/facade.cga\" value=\"rpk:file:/C:%5CUsers%5Ccami9495%5CDocuments%5Cesri-cityengine-sdk-master%5Cexamples%5Cpy4prt%5CDemo2_Optimization%5Cenvelope2409.rpk!/rules/typology/facade.cga\" type=\"str\"/>\n",
      "\t<attribute key=\"assets/wall_plaster.jpg\" value=\"rpk:file:/C:%5CUsers%5Ccami9495%5CDocuments%5Cesri-cityengine-sdk-master%5Cexamples%5Cpy4prt%5CDemo2_Optimization%5Cenvelope2409.rpk!/assets/wall_plaster.jpg\" type=\"str\"/>\n",
      "\t<attribute key=\"assets/vertical_greenery/10.PNG\" value=\"rpk:file:/C:%5CUsers%5Ccami9495%5CDocuments%5Cesri-cityengine-sdk-master%5Cexamples%5Cpy4prt%5CDemo2_Optimization%5Cenvelope2409.rpk!/assets/vertical_greenery/10.PNG\" type=\"str\"/>\n",
      "\t<attribute key=\"rules/typology/volume.cga\" value=\"rpk:file:/C:%5CUsers%5Ccami9495%5CDocuments%5Cesri-cityengine-sdk-master%5Cexamples%5Cpy4prt%5CDemo2_Optimization%5Cenvelope2409.rpk!/rules/typology/volume.cga\" type=\"str\"/>\n",
      "\t<attribute key=\"assets/unified_landscape/plan1.obj\" value=\"rpk:file:/C:%5CUsers%5Ccami9495%5CDocuments%5Cesri-cityengine-sdk-master%5Cexamples%5Cpy4prt%5CDemo2_Optimization%5Cenvelope2409.rpk!/assets/unified_landscape/plan1.obj\" type=\"str\"/>\n",
      "\t<attribute key=\"assets/vertical_greenery/3.PNG\" value=\"rpk:file:/C:%5CUsers%5Ccami9495%5CDocuments%5Cesri-cityengine-sdk-master%5Cexamples%5Cpy4prt%5CDemo2_Optimization%5Cenvelope2409.rpk!/assets/vertical_greenery/3.PNG\" type=\"str\"/>\n",
      "</ResolveMap>\n",
      "\n"
     ]
    }
   ],
   "source": [
    "attrs_green = {'ruleFile' : \"rules/typology/envelope2409.cgb\", 'startRule' : \"Default$Lot\", 'report_but_not_display_green' : True}\n",
    "\n",
    "model2 = m.generate_model(attrs_green, rpk_green, \"com.esri.prt.examples.PyEncoder\", {'emitGeometry' : False})"
   ]
  },
  {
   "cell_type": "code",
   "execution_count": 17,
   "metadata": {},
   "outputs": [
    {
     "name": "stdout",
     "output_type": "stream",
     "text": [
      "\n",
      "Number of generated geometries (= nber of initial shapes):\n",
      "1\n",
      "\n",
      "Initial Shape Index: 0\n",
      "\n",
      "Report of the generated model:\n",
      "{'Greenery Area_avg': 3.699304017412569, 'Greenery Area_max': 408.2737197150759, 'Greenery Area_min': 0.4895963195850646, 'Greenery Area_n': 574.0, 'Greenery Area_sum': 2123.4005059948145, 'Number of trees_avg': 1.0, 'Number of trees_max': 1.0, 'Number of trees_min': 1.0, 'Number of trees_n': 114.0, 'Number of trees_sum': 114.0, 'green area_avg': 3.3769576217278554, 'green area_max': 408.2737197150759, 'green area_min': 0.4895963195850646, 'green area_n': 460.0, 'green area_sum': 1553.4005059948136}\n",
      "\n"
     ]
    }
   ],
   "source": [
    "visualize_PRT_results(model2)"
   ]
  },
  {
   "cell_type": "code",
   "execution_count": 18,
   "metadata": {},
   "outputs": [],
   "source": [
    "def fct_green(x):\n",
    "\n",
    "    attrs_green[input_attr_green[0]] = x[0]\n",
    "    attrs_green[input_attr_green[1]] = x[1]\n",
    "    generated_mod_green = m.generate_model(attrs_green)\n",
    "    \n",
    "    if generated_mod_green:\n",
    "        rep_green = combine_reports(generated_mod_green[0])\n",
    "        return -rep_green[goal_str_green]\n",
    "    else:\n",
    "        print(\"Error in optimization process.\")"
   ]
  },
  {
   "cell_type": "code",
   "execution_count": 19,
   "metadata": {},
   "outputs": [],
   "source": [
    "bounds_green = [(0,100),(8,13)]"
   ]
  },
  {
   "cell_type": "code",
   "execution_count": 20,
   "metadata": {},
   "outputs": [
    {
     "data": {
      "text/plain": [
       "2112.7263646109823"
      ]
     },
     "execution_count": 20,
     "metadata": {},
     "output_type": "execute_result"
    }
   ],
   "source": [
    "-fct_green(x0_green)"
   ]
  },
  {
   "cell_type": "code",
   "execution_count": 21,
   "metadata": {},
   "outputs": [
    {
     "name": "stdout",
     "output_type": "stream",
     "text": [
      "The optimization lasted: 160.53169918060303\n"
     ]
    },
    {
     "data": {
      "text/plain": [
       "     fun: -2221.57314995954\n",
       " message: 'Optimization terminated successfully.'\n",
       "    nfev: 183\n",
       "     nit: 5\n",
       " success: True\n",
       "       x: array([99.08078256, 12.79276757])"
      ]
     },
     "execution_count": 21,
     "metadata": {},
     "output_type": "execute_result"
    }
   ],
   "source": [
    "start = time.time()\n",
    "\n",
    "res_green = optimize.differential_evolution(fct_green, bounds_green, seed = 666) #dual_annealing\n",
    "\n",
    "duration = time.time() - start\n",
    "print(\"The optimization lasted: \" + str(duration))\n",
    "res_green"
   ]
  },
  {
   "cell_type": "code",
   "execution_count": 22,
   "metadata": {
    "scrolled": true
   },
   "outputs": [
    {
     "name": "stdout",
     "output_type": "stream",
     "text": [
      "\n",
      "Number of generated geometries (= nber of initial shapes):\n",
      "1\n",
      "\n",
      "Initial Shape Index: 0\n",
      "\n",
      "Report of the generated model:\n",
      "{'Greenery Area_avg': 3.006188294938484, 'Greenery Area_max': 196.2969930996951, 'Greenery Area_min': 0.4895976423336479, 'Greenery Area_n': 739.0, 'Greenery Area_sum': 2221.57314995954, 'Number of trees_avg': 1.0, 'Number of trees_max': 1.0, 'Number of trees_min': 1.0, 'Number of trees_n': 138.0, 'Number of trees_sum': 138.0, 'green area_avg': 2.54837462555664, 'green area_max': 196.2969930996951, 'green area_min': 0.4895976423336479, 'green area_n': 601.0, 'green area_sum': 1531.5731499595408}\n",
      "\n"
     ]
    }
   ],
   "source": [
    "attrs_green[input_attr_green[0]] = res_green.x[0]\n",
    "attrs_green[input_attr_green[1]] = res_green.x[1]\n",
    "green_model2 = m.generate_model(attrs_green)\n",
    "\n",
    "if green_model2:\n",
    "    visualize_PRT_results(green_model2)"
   ]
  },
  {
   "cell_type": "markdown",
   "metadata": {},
   "source": [
    "### Results Visualization"
   ]
  },
  {
   "cell_type": "code",
   "execution_count": 23,
   "metadata": {},
   "outputs": [
    {
     "name": "stdout",
     "output_type": "stream",
     "text": [
      "[PRT] [2019-09-30 14:24:23] [info] using rule package C:\\Users\\cami9495\\Documents\\esri-cityengine-sdk-master\\examples\\py4prt\\Demo2_Optimization\\envelope2409.rpk\n",
      "\n",
      "[PRT] [2019-09-30 14:24:23] [debug] resolve map = <ResolveMap>\n",
      "\t<attribute key=\"/ESRI.lib/rules/Plants/Plant_Distributor.cga\" value=\"rpk:file:/C:%5CUsers%5Ccami9495%5CDocuments%5Cesri-cityengine-sdk-master%5Cexamples%5Cpy4prt%5CDemo2_Optimization%5Cenvelope2409.rpk!/.ws/ESRI.lib/rules/Plants/Plant_Distributor.cga\" type=\"str\"/>\n",
      "\t<attribute key=\"assets/vertical_greenery/6.PNG\" value=\"rpk:file:/C:%5CUsers%5Ccami9495%5CDocuments%5Cesri-cityengine-sdk-master%5Cexamples%5Cpy4prt%5CDemo2_Optimization%5Cenvelope2409.rpk!/assets/vertical_greenery/6.PNG\" type=\"str\"/>\n",
      "\t<attribute key=\"rules/typology/landscape.cga\" value=\"rpk:file:/C:%5CUsers%5Ccami9495%5CDocuments%5Cesri-cityengine-sdk-master%5Cexamples%5Cpy4prt%5CDemo2_Optimization%5Cenvelope2409.rpk!/rules/typology/landscape.cga\" type=\"str\"/>\n",
      "\t<attribute key=\"assets/vertical_greenery/4.PNG\" value=\"rpk:file:/C:%5CUsers%5Ccami9495%5CDocuments%5Cesri-cityengine-sdk-master%5Cexamples%5Cpy4prt%5CDemo2_Optimization%5Cenvelope2409.rpk!/assets/vertical_greenery/4.PNG\" type=\"str\"/>\n",
      "\t<attribute key=\"assets/vertical_greenery/5.PNG\" value=\"rpk:file:/C:%5CUsers%5Ccami9495%5CDocuments%5Cesri-cityengine-sdk-master%5Cexamples%5Cpy4prt%5CDemo2_Optimization%5Cenvelope2409.rpk!/assets/vertical_greenery/5.PNG\" type=\"str\"/>\n",
      "\t<attribute key=\"/green_optimization_3/assets/vertical_greenery/4.PNG\" value=\"rpk:file:/C:%5CUsers%5Ccami9495%5CDocuments%5Cesri-cityengine-sdk-master%5Cexamples%5Cpy4prt%5CDemo2_Optimization%5Cenvelope2409.rpk!/assets/vertical_greenery/4.PNG\" type=\"str\"/>\n",
      "\t<attribute key=\"assets/vertical_greenery/1.PNG\" value=\"rpk:file:/C:%5CUsers%5Ccami9495%5CDocuments%5Cesri-cityengine-sdk-master%5Cexamples%5Cpy4prt%5CDemo2_Optimization%5Cenvelope2409.rpk!/assets/vertical_greenery/1.PNG\" type=\"str\"/>\n",
      "\t<attribute key=\"/green_optimization_3/rules/typology/volume.cga\" value=\"rpk:file:/C:%5CUsers%5Ccami9495%5CDocuments%5Cesri-cityengine-sdk-master%5Cexamples%5Cpy4prt%5CDemo2_Optimization%5Cenvelope2409.rpk!/rules/typology/volume.cga\" type=\"str\"/>\n",
      "\t<attribute key=\"assets/vertical_greenery/8.PNG\" value=\"rpk:file:/C:%5CUsers%5Ccami9495%5CDocuments%5Cesri-cityengine-sdk-master%5Cexamples%5Cpy4prt%5CDemo2_Optimization%5Cenvelope2409.rpk!/assets/vertical_greenery/8.PNG\" type=\"str\"/>\n",
      "\t<attribute key=\"/green_optimization_3/assets/vertical_greenery/9.PNG\" value=\"rpk:file:/C:%5CUsers%5Ccami9495%5CDocuments%5Cesri-cityengine-sdk-master%5Cexamples%5Cpy4prt%5CDemo2_Optimization%5Cenvelope2409.rpk!/assets/vertical_greenery/9.PNG\" type=\"str\"/>\n",
      "\t<attribute key=\"/green_optimization_3/assets/wood.jpg\" value=\"rpk:file:/C:%5CUsers%5Ccami9495%5CDocuments%5Cesri-cityengine-sdk-master%5Cexamples%5Cpy4prt%5CDemo2_Optimization%5Cenvelope2409.rpk!/assets/wood.jpg\" type=\"str\"/>\n",
      "\t<attribute key=\"/ESRI.lib/rules/Plants/Plant_Loader.cga\" value=\"rpk:file:/C:%5CUsers%5Ccami9495%5CDocuments%5Cesri-cityengine-sdk-master%5Cexamples%5Cpy4prt%5CDemo2_Optimization%5Cenvelope2409.rpk!/.ws/ESRI.lib/rules/Plants/Plant_Loader.cga\" type=\"str\"/>\n",
      "\t<attribute key=\"rules/typology/facade.cga\" value=\"rpk:file:/C:%5CUsers%5Ccami9495%5CDocuments%5Cesri-cityengine-sdk-master%5Cexamples%5Cpy4prt%5CDemo2_Optimization%5Cenvelope2409.rpk!/rules/typology/facade.cga\" type=\"str\"/>\n",
      "\t<attribute key=\"assets/Bench/_1.jpg\" value=\"rpk:file:/C:%5CUsers%5Ccami9495%5CDocuments%5Cesri-cityengine-sdk-master%5Cexamples%5Cpy4prt%5CDemo2_Optimization%5Cenvelope2409.rpk!/assets/Bench/_1.jpg\" type=\"str\"/>\n",
      "\t<attribute key=\"/green_optimization_3/assets/vertical_greenery/5.PNG\" value=\"rpk:file:/C:%5CUsers%5Ccami9495%5CDocuments%5Cesri-cityengine-sdk-master%5Cexamples%5Cpy4prt%5CDemo2_Optimization%5Cenvelope2409.rpk!/assets/vertical_greenery/5.PNG\" type=\"str\"/>\n",
      "\t<attribute key=\"/green_optimization_3/assets/vertical_greenery/10.PNG\" value=\"rpk:file:/C:%5CUsers%5Ccami9495%5CDocuments%5Cesri-cityengine-sdk-master%5Cexamples%5Cpy4prt%5CDemo2_Optimization%5Cenvelope2409.rpk!/assets/vertical_greenery/10.PNG\" type=\"str\"/>\n",
      "\t<attribute key=\"/green_optimization_3/assets/Bench/_1.jpg\" value=\"rpk:file:/C:%5CUsers%5Ccami9495%5CDocuments%5Cesri-cityengine-sdk-master%5Cexamples%5Cpy4prt%5CDemo2_Optimization%5Cenvelope2409.rpk!/assets/Bench/_1.jpg\" type=\"str\"/>\n",
      "\t<attribute key=\"/green_optimization_3/assets/vertical_greenery/1.PNG\" value=\"rpk:file:/C:%5CUsers%5Ccami9495%5CDocuments%5Cesri-cityengine-sdk-master%5Cexamples%5Cpy4prt%5CDemo2_Optimization%5Cenvelope2409.rpk!/assets/vertical_greenery/1.PNG\" type=\"str\"/>\n",
      "\t<attribute key=\"/green_optimization_3/rules/typology/ground_floor_plan.cga\" value=\"rpk:file:/C:%5CUsers%5Ccami9495%5CDocuments%5Cesri-cityengine-sdk-master%5Cexamples%5Cpy4prt%5CDemo2_Optimization%5Cenvelope2409.rpk!/rules/typology/ground_floor_plan.cga\" type=\"str\"/>\n",
      "\t<attribute key=\"assets/concrete.jpg\" value=\"rpk:file:/C:%5CUsers%5Ccami9495%5CDocuments%5Cesri-cityengine-sdk-master%5Cexamples%5Cpy4prt%5CDemo2_Optimization%5Cenvelope2409.rpk!/assets/concrete.jpg\" type=\"str\"/>\n",
      "\t<attribute key=\"/green_optimization_3/rules/typology/landscape.cga\" value=\"rpk:file:/C:%5CUsers%5Ccami9495%5CDocuments%5Cesri-cityengine-sdk-master%5Cexamples%5Cpy4prt%5CDemo2_Optimization%5Cenvelope2409.rpk!/rules/typology/landscape.cga\" type=\"str\"/>\n",
      "\t<attribute key=\"assets/Bench.mtl\" value=\"rpk:file:/C:%5CUsers%5Ccami9495%5CDocuments%5Cesri-cityengine-sdk-master%5Cexamples%5Cpy4prt%5CDemo2_Optimization%5Cenvelope2409.rpk!/assets/Bench.mtl\" type=\"str\"/>\n",
      "\t<attribute key=\"/green_optimization_3/assets/Bench.mtl\" value=\"rpk:file:/C:%5CUsers%5Ccami9495%5CDocuments%5Cesri-cityengine-sdk-master%5Cexamples%5Cpy4prt%5CDemo2_Optimization%5Cenvelope2409.rpk!/assets/Bench.mtl\" type=\"str\"/>\n",
      "\t<attribute key=\"/green_optimization_3/assets/Bench/ooMaterial2.jpg\" value=\"rpk:file:/C:%5CUsers%5Ccami9495%5CDocuments%5Cesri-cityengine-sdk-master%5Cexamples%5Cpy4prt%5CDemo2_Optimization%5Cenvelope2409.rpk!/assets/Bench/ooMaterial2.jpg\" type=\"str\"/>\n",
      "\t<attribute key=\"/green_optimization_3/assets/unified_landscape/plan3.mtl\" value=\"rpk:file:/C:%5CUsers%5Ccami9495%5CDocuments%5Cesri-cityengine-sdk-master%5Cexamples%5Cpy4prt%5CDemo2_Optimization%5Cenvelope2409.rpk!/assets/unified_landscape/plan3.mtl\" type=\"str\"/>\n",
      "\t<attribute key=\"/green_optimization_3/assets/concrete.jpg\" value=\"rpk:file:/C:%5CUsers%5Ccami9495%5CDocuments%5Cesri-cityengine-sdk-master%5Cexamples%5Cpy4prt%5CDemo2_Optimization%5Cenvelope2409.rpk!/assets/concrete.jpg\" type=\"str\"/>\n",
      "\t<attribute key=\"assets/brick_wall.jpg\" value=\"rpk:file:/C:%5CUsers%5Ccami9495%5CDocuments%5Cesri-cityengine-sdk-master%5Cexamples%5Cpy4prt%5CDemo2_Optimization%5Cenvelope2409.rpk!/assets/brick_wall.jpg\" type=\"str\"/>\n",
      "\t<attribute key=\"/green_optimization_3/assets/unified_landscape/plan4.obj\" value=\"rpk:file:/C:%5CUsers%5Ccami9495%5CDocuments%5Cesri-cityengine-sdk-master%5Cexamples%5Cpy4prt%5CDemo2_Optimization%5Cenvelope2409.rpk!/assets/unified_landscape/plan4.obj\" type=\"str\"/>\n",
      "\t<attribute key=\"/green_optimization_3/assets/glass_door.obj\" value=\"rpk:file:/C:%5CUsers%5Ccami9495%5CDocuments%5Cesri-cityengine-sdk-master%5Cexamples%5Cpy4prt%5CDemo2_Optimization%5Cenvelope2409.rpk!/assets/glass_door.obj\" type=\"str\"/>\n",
      "\t<attribute key=\"/green_optimization_3/assets/vertical_greenery/2.PNG\" value=\"rpk:file:/C:%5CUsers%5Ccami9495%5CDocuments%5Cesri-cityengine-sdk-master%5Cexamples%5Cpy4prt%5CDemo2_Optimization%5Cenvelope2409.rpk!/assets/vertical_greenery/2.PNG\" type=\"str\"/>\n",
      "\t<attribute key=\"/green_optimization_3/rules/typology/envelope2409.cga\" value=\"rpk:file:/C:%5CUsers%5Ccami9495%5CDocuments%5Cesri-cityengine-sdk-master%5Cexamples%5Cpy4prt%5CDemo2_Optimization%5Cenvelope2409.rpk!/rules/typology/envelope2409.cga\" type=\"str\"/>\n",
      "\t<attribute key=\"/green_optimization_3/assets/unified_landscape/plan4.mtl\" value=\"rpk:file:/C:%5CUsers%5Ccami9495%5CDocuments%5Cesri-cityengine-sdk-master%5Cexamples%5Cpy4prt%5CDemo2_Optimization%5Cenvelope2409.rpk!/assets/unified_landscape/plan4.mtl\" type=\"str\"/>\n",
      "\t<attribute key=\"assets/unified_landscape/plan2.mtl\" value=\"rpk:file:/C:%5CUsers%5Ccami9495%5CDocuments%5Cesri-cityengine-sdk-master%5Cexamples%5Cpy4prt%5CDemo2_Optimization%5Cenvelope2409.rpk!/assets/unified_landscape/plan2.mtl\" type=\"str\"/>\n",
      "\t<attribute key=\"/green_optimization_3/assets/vertical_greenery/6.PNG\" value=\"rpk:file:/C:%5CUsers%5Ccami9495%5CDocuments%5Cesri-cityengine-sdk-master%5Cexamples%5Cpy4prt%5CDemo2_Optimization%5Cenvelope2409.rpk!/assets/vertical_greenery/6.PNG\" type=\"str\"/>\n",
      "\t<attribute key=\"assets/unified_landscape/plan3.mtl\" value=\"rpk:file:/C:%5CUsers%5Ccami9495%5CDocuments%5Cesri-cityengine-sdk-master%5Cexamples%5Cpy4prt%5CDemo2_Optimization%5Cenvelope2409.rpk!/assets/unified_landscape/plan3.mtl\" type=\"str\"/>\n",
      "\t<attribute key=\"/green_optimization_3/assets/vertical_greenery/7.PNG\" value=\"rpk:file:/C:%5CUsers%5Ccami9495%5CDocuments%5Cesri-cityengine-sdk-master%5Cexamples%5Cpy4prt%5CDemo2_Optimization%5Cenvelope2409.rpk!/assets/vertical_greenery/7.PNG\" type=\"str\"/>\n",
      "\t<attribute key=\"assets/vertical_greenery/9.PNG\" value=\"rpk:file:/C:%5CUsers%5Ccami9495%5CDocuments%5Cesri-cityengine-sdk-master%5Cexamples%5Cpy4prt%5CDemo2_Optimization%5Cenvelope2409.rpk!/assets/vertical_greenery/9.PNG\" type=\"str\"/>\n",
      "\t<attribute key=\"/green_optimization_3/assets/brick_wall.jpg\" value=\"rpk:file:/C:%5CUsers%5Ccami9495%5CDocuments%5Cesri-cityengine-sdk-master%5Cexamples%5Cpy4prt%5CDemo2_Optimization%5Cenvelope2409.rpk!/assets/brick_wall.jpg\" type=\"str\"/>\n",
      "\t<attribute key=\"/green_optimization_3/assets/vertical_greenery/3.PNG\" value=\"rpk:file:/C:%5CUsers%5Ccami9495%5CDocuments%5Cesri-cityengine-sdk-master%5Cexamples%5Cpy4prt%5CDemo2_Optimization%5Cenvelope2409.rpk!/assets/vertical_greenery/3.PNG\" type=\"str\"/>\n",
      "\t<attribute key=\"/green_optimization_3/assets/wall_plaster.jpg\" value=\"rpk:file:/C:%5CUsers%5Ccami9495%5CDocuments%5Cesri-cityengine-sdk-master%5Cexamples%5Cpy4prt%5CDemo2_Optimization%5Cenvelope2409.rpk!/assets/wall_plaster.jpg\" type=\"str\"/>\n",
      "\t<attribute key=\"assets/glass_door.obj\" value=\"rpk:file:/C:%5CUsers%5Ccami9495%5CDocuments%5Cesri-cityengine-sdk-master%5Cexamples%5Cpy4prt%5CDemo2_Optimization%5Cenvelope2409.rpk!/assets/glass_door.obj\" type=\"str\"/>\n",
      "\t<attribute key=\"/green_optimization_3/assets/unified_landscape/plan1.obj\" value=\"rpk:file:/C:%5CUsers%5Ccami9495%5CDocuments%5Cesri-cityengine-sdk-master%5Cexamples%5Cpy4prt%5CDemo2_Optimization%5Cenvelope2409.rpk!/assets/unified_landscape/plan1.obj\" type=\"str\"/>\n",
      "\t<attribute key=\"/green_optimization_3/assets/unified_landscape/plan3.obj\" value=\"rpk:file:/C:%5CUsers%5Ccami9495%5CDocuments%5Cesri-cityengine-sdk-master%5Cexamples%5Cpy4prt%5CDemo2_Optimization%5Cenvelope2409.rpk!/assets/unified_landscape/plan3.obj\" type=\"str\"/>\n",
      "\t<attribute key=\"/green_optimization_3/assets/bench.obj\" value=\"rpk:file:/C:%5CUsers%5Ccami9495%5CDocuments%5Cesri-cityengine-sdk-master%5Cexamples%5Cpy4prt%5CDemo2_Optimization%5Cenvelope2409.rpk!/assets/bench.obj\" type=\"str\"/>\n",
      "\t<attribute key=\"rules/typology/ground_floor_plan.cga\" value=\"rpk:file:/C:%5CUsers%5Ccami9495%5CDocuments%5Cesri-cityengine-sdk-master%5Cexamples%5Cpy4prt%5CDemo2_Optimization%5Cenvelope2409.rpk!/rules/typology/ground_floor_plan.cga\" type=\"str\"/>\n",
      "\t<attribute key=\"assets/Bench/ooMaterial2.jpg\" value=\"rpk:file:/C:%5CUsers%5Ccami9495%5CDocuments%5Cesri-cityengine-sdk-master%5Cexamples%5Cpy4prt%5CDemo2_Optimization%5Cenvelope2409.rpk!/assets/Bench/ooMaterial2.jpg\" type=\"str\"/>\n",
      "\t<attribute key=\"assets/vertical_greenery/7.PNG\" value=\"rpk:file:/C:%5CUsers%5Ccami9495%5CDocuments%5Cesri-cityengine-sdk-master%5Cexamples%5Cpy4prt%5CDemo2_Optimization%5Cenvelope2409.rpk!/assets/vertical_greenery/7.PNG\" type=\"str\"/>\n",
      "\t<attribute key=\"assets/unified_landscape/plan3.obj\" value=\"rpk:file:/C:%5CUsers%5Ccami9495%5CDocuments%5Cesri-cityengine-sdk-master%5Cexamples%5Cpy4prt%5CDemo2_Optimization%5Cenvelope2409.rpk!/assets/unified_landscape/plan3.obj\" type=\"str\"/>\n",
      "\t<attribute key=\"/green_optimization_3/assets/paving_b.jpg\" value=\"rpk:file:/C:%5CUsers%5Ccami9495%5CDocuments%5Cesri-cityengine-sdk-master%5Cexamples%5Cpy4prt%5CDemo2_Optimization%5Cenvelope2409.rpk!/assets/paving_b.jpg\" type=\"str\"/>\n",
      "\t<attribute key=\"assets/lawn2.jpg\" value=\"rpk:file:/C:%5CUsers%5Ccami9495%5CDocuments%5Cesri-cityengine-sdk-master%5Cexamples%5Cpy4prt%5CDemo2_Optimization%5Cenvelope2409.rpk!/assets/lawn2.jpg\" type=\"str\"/>\n",
      "\t<attribute key=\"rules/typology/envelope2409.cgb\" value=\"rpk:file:/C:%5CUsers%5Ccami9495%5CDocuments%5Cesri-cityengine-sdk-master%5Cexamples%5Cpy4prt%5CDemo2_Optimization%5Cenvelope2409.rpk!/rules/typology/envelope2409.cgb\" type=\"str\"/>\n",
      "\t<attribute key=\"assets/unified_landscape/plan4.mtl\" value=\"rpk:file:/C:%5CUsers%5Ccami9495%5CDocuments%5Cesri-cityengine-sdk-master%5Cexamples%5Cpy4prt%5CDemo2_Optimization%5Cenvelope2409.rpk!/assets/unified_landscape/plan4.mtl\" type=\"str\"/>\n",
      "\t<attribute key=\"assets/wood.jpg\" value=\"rpk:file:/C:%5CUsers%5Ccami9495%5CDocuments%5Cesri-cityengine-sdk-master%5Cexamples%5Cpy4prt%5CDemo2_Optimization%5Cenvelope2409.rpk!/assets/wood.jpg\" type=\"str\"/>\n",
      "\t<attribute key=\"/green_optimization_3/assets/unified_landscape/plan2.obj\" value=\"rpk:file:/C:%5CUsers%5Ccami9495%5CDocuments%5Cesri-cityengine-sdk-master%5Cexamples%5Cpy4prt%5CDemo2_Optimization%5Cenvelope2409.rpk!/assets/unified_landscape/plan2.obj\" type=\"str\"/>\n",
      "\t<attribute key=\"assets/paving_b.jpg\" value=\"rpk:file:/C:%5CUsers%5Ccami9495%5CDocuments%5Cesri-cityengine-sdk-master%5Cexamples%5Cpy4prt%5CDemo2_Optimization%5Cenvelope2409.rpk!/assets/paving_b.jpg\" type=\"str\"/>\n",
      "\t<attribute key=\"/green_optimization_3/assets/lawn2.jpg\" value=\"rpk:file:/C:%5CUsers%5Ccami9495%5CDocuments%5Cesri-cityengine-sdk-master%5Cexamples%5Cpy4prt%5CDemo2_Optimization%5Cenvelope2409.rpk!/assets/lawn2.jpg\" type=\"str\"/>\n",
      "\t<attribute key=\"assets/unified_landscape/plan2.obj\" value=\"rpk:file:/C:%5CUsers%5Ccami9495%5CDocuments%5Cesri-cityengine-sdk-master%5Cexamples%5Cpy4prt%5CDemo2_Optimization%5Cenvelope2409.rpk!/assets/unified_landscape/plan2.obj\" type=\"str\"/>\n",
      "\t<attribute key=\"assets/bench.obj\" value=\"rpk:file:/C:%5CUsers%5Ccami9495%5CDocuments%5Cesri-cityengine-sdk-master%5Cexamples%5Cpy4prt%5CDemo2_Optimization%5Cenvelope2409.rpk!/assets/bench.obj\" type=\"str\"/>\n",
      "\t<attribute key=\"assets/unified_landscape/plan4.obj\" value=\"rpk:file:/C:%5CUsers%5Ccami9495%5CDocuments%5Cesri-cityengine-sdk-master%5Cexamples%5Cpy4prt%5CDemo2_Optimization%5Cenvelope2409.rpk!/assets/unified_landscape/plan4.obj\" type=\"str\"/>\n",
      "\t<attribute key=\"rules/typology/envelope2409.cga\" value=\"rpk:file:/C:%5CUsers%5Ccami9495%5CDocuments%5Cesri-cityengine-sdk-master%5Cexamples%5Cpy4prt%5CDemo2_Optimization%5Cenvelope2409.rpk!/rules/typology/envelope2409.cga\" type=\"str\"/>\n",
      "\t<attribute key=\"assets/vertical_greenery/2.PNG\" value=\"rpk:file:/C:%5CUsers%5Ccami9495%5CDocuments%5Cesri-cityengine-sdk-master%5Cexamples%5Cpy4prt%5CDemo2_Optimization%5Cenvelope2409.rpk!/assets/vertical_greenery/2.PNG\" type=\"str\"/>\n",
      "\t<attribute key=\"/green_optimization_3/assets/vertical_greenery/8.PNG\" value=\"rpk:file:/C:%5CUsers%5Ccami9495%5CDocuments%5Cesri-cityengine-sdk-master%5Cexamples%5Cpy4prt%5CDemo2_Optimization%5Cenvelope2409.rpk!/assets/vertical_greenery/8.PNG\" type=\"str\"/>\n",
      "\t<attribute key=\"/green_optimization_3/assets/unified_landscape/plan2.mtl\" value=\"rpk:file:/C:%5CUsers%5Ccami9495%5CDocuments%5Cesri-cityengine-sdk-master%5Cexamples%5Cpy4prt%5CDemo2_Optimization%5Cenvelope2409.rpk!/assets/unified_landscape/plan2.mtl\" type=\"str\"/>\n",
      "\t<attribute key=\"/green_optimization_3/rules/typology/facade.cga\" value=\"rpk:file:/C:%5CUsers%5Ccami9495%5CDocuments%5Cesri-cityengine-sdk-master%5Cexamples%5Cpy4prt%5CDemo2_Optimization%5Cenvelope2409.rpk!/rules/typology/facade.cga\" type=\"str\"/>\n",
      "\t<attribute key=\"assets/wall_plaster.jpg\" value=\"rpk:file:/C:%5CUsers%5Ccami9495%5CDocuments%5Cesri-cityengine-sdk-master%5Cexamples%5Cpy4prt%5CDemo2_Optimization%5Cenvelope2409.rpk!/assets/wall_plaster.jpg\" type=\"str\"/>\n",
      "\t<attribute key=\"assets/vertical_greenery/10.PNG\" value=\"rpk:file:/C:%5CUsers%5Ccami9495%5CDocuments%5Cesri-cityengine-sdk-master%5Cexamples%5Cpy4prt%5CDemo2_Optimization%5Cenvelope2409.rpk!/assets/vertical_greenery/10.PNG\" type=\"str\"/>\n",
      "\t<attribute key=\"rules/typology/volume.cga\" value=\"rpk:file:/C:%5CUsers%5Ccami9495%5CDocuments%5Cesri-cityengine-sdk-master%5Cexamples%5Cpy4prt%5CDemo2_Optimization%5Cenvelope2409.rpk!/rules/typology/volume.cga\" type=\"str\"/>\n",
      "\t<attribute key=\"assets/unified_landscape/plan1.obj\" value=\"rpk:file:/C:%5CUsers%5Ccami9495%5CDocuments%5Cesri-cityengine-sdk-master%5Cexamples%5Cpy4prt%5CDemo2_Optimization%5Cenvelope2409.rpk!/assets/unified_landscape/plan1.obj\" type=\"str\"/>\n",
      "\t<attribute key=\"assets/vertical_greenery/3.PNG\" value=\"rpk:file:/C:%5CUsers%5Ccami9495%5CDocuments%5Cesri-cityengine-sdk-master%5Cexamples%5Cpy4prt%5CDemo2_Optimization%5Cenvelope2409.rpk!/assets/vertical_greenery/3.PNG\" type=\"str\"/>\n",
      "</ResolveMap>\n",
      "\n",
      "[PRT] [2019-09-30 14:24:26] [debug] width 32, height 32, rasterCount 3\n",
      "[PRT] [2019-09-30 14:24:26] [debug] width 32, height 32, rasterCount 3\n",
      "[PRT] [2019-09-30 14:24:26] [debug] width 32, height 32, rasterCount 3\n",
      "[PRT] [2019-09-30 14:24:26] [debug] width 64, height 32, rasterCount 3\n",
      "[PRT] [2019-09-30 14:24:26] [debug] width 64, height 32, rasterCount 3\n",
      "[PRT] [2019-09-30 14:24:26] [debug] width 64, height 32, rasterCount 3\n",
      "[PRT] [2019-09-30 14:24:26] [debug] width 489, height 489, rasterCount 3\n"
     ]
    },
    {
     "name": "stdout",
     "output_type": "stream",
     "text": [
      "[PRT] [2019-09-30 14:24:26] [debug] width 489, height 489, rasterCount 3\n",
      "[PRT] [2019-09-30 14:24:26] [debug] width 850, height 850, rasterCount 3\n",
      "[PRT] [2019-09-30 14:24:26] [debug] width 489, height 489, rasterCount 3\n",
      "[PRT] [2019-09-30 14:24:26] [debug] width 850, height 850, rasterCount 3\n",
      "[PRT] [2019-09-30 14:24:26] [debug] width 489, height 489, rasterCount 3\n",
      "[PRT] [2019-09-30 14:24:26] [debug] width 850, height 850, rasterCount 3\n",
      "[PRT] [2019-09-30 14:24:26] [debug] width 850, height 850, rasterCount 3\n",
      "[PRT] [2019-09-30 14:24:26] [debug] width 489, height 489, rasterCount 3\n",
      "[PRT] [2019-09-30 14:24:26] [debug] width 850, height 850, rasterCount 3\n",
      "[PRT] [2019-09-30 14:24:26] [debug] width 489, height 489, rasterCount 3\n",
      "[PRT] [2019-09-30 14:24:26] [debug] width 850, height 850, rasterCount 3\n",
      "[PRT] [2019-09-30 14:24:27] [debug] width 850, height 850, rasterCount 3\n",
      "[PRT] [2019-09-30 14:24:27] [debug] width 489, height 489, rasterCount 3\n",
      "[PRT] [2019-09-30 14:24:27] [debug] width 850, height 850, rasterCount 3\n",
      "[PRT] [2019-09-30 14:24:27] [debug] width 489, height 489, rasterCount 3\n",
      "[PRT] [2019-09-30 14:24:27] [debug] width 850, height 850, rasterCount 3\n",
      "[PRT] [2019-09-30 14:24:29] [debug] width 1024, height 1024, rasterCount 3\n",
      "[PRT] [2019-09-30 14:24:29] [debug] width 1024, height 1024, rasterCount 3\n",
      "[PRT] [2019-09-30 14:24:29] [debug] width 1024, height 1024, rasterCount 3\n",
      "[PRT] [2019-09-30 14:24:30] [debug] width 361, height 490, rasterCount 4\n",
      "[PRT] [2019-09-30 14:24:30] [debug] width 490, height 662, rasterCount 4\n",
      "[PRT] [2019-09-30 14:24:30] [debug] width 490, height 689, rasterCount 4\n",
      "[PRT] [2019-09-30 14:24:30] [debug] width 327, height 490, rasterCount 4\n",
      "[PRT] [2019-09-30 14:24:30] [debug] width 490, height 737, rasterCount 4\n",
      "[PRT] [2019-09-30 14:24:30] [debug] width 302, height 490, rasterCount 4\n",
      "[PRT] [2019-09-30 14:24:30] [debug] width 289, height 490, rasterCount 4\n",
      "[PRT] [2019-09-30 14:24:30] [debug] width 489, height 733, rasterCount 4\n",
      "[PRT] [2019-09-30 14:24:30] [debug] width 361, height 490, rasterCount 3\n",
      "[PRT] [2019-09-30 14:24:30] [debug] width 465, height 657, rasterCount 3\n",
      "[PRT] [2019-09-30 14:24:30] [debug] width 490, height 662, rasterCount 3\n",
      "[PRT] [2019-09-30 14:24:30] [debug] width 490, height 689, rasterCount 3\n",
      "[PRT] [2019-09-30 14:24:30] [debug] width 436, height 697, rasterCount 3\n",
      "[PRT] [2019-09-30 14:24:30] [debug] width 327, height 490, rasterCount 3\n",
      "[PRT] [2019-09-30 14:24:30] [debug] width 490, height 737, rasterCount 3\n",
      "[PRT] [2019-09-30 14:24:30] [debug] width 302, height 490, rasterCount 3\n",
      "[PRT] [2019-09-30 14:24:30] [debug] width 289, height 490, rasterCount 3\n",
      "[PRT] [2019-09-30 14:24:30] [debug] width 489, height 733, rasterCount 3\n",
      "[PRT] [2019-09-30 14:24:30] [debug] width 361, height 490, rasterCount 3\n",
      "[PRT] [2019-09-30 14:24:30] [debug] width 465, height 657, rasterCount 3\n",
      "[PRT] [2019-09-30 14:24:30] [debug] width 490, height 662, rasterCount 3\n",
      "[PRT] [2019-09-30 14:24:30] [debug] width 490, height 689, rasterCount 3\n",
      "[PRT] [2019-09-30 14:24:30] [debug] width 436, height 697, rasterCount 3\n",
      "[PRT] [2019-09-30 14:24:30] [debug] width 327, height 490, rasterCount 3\n",
      "[PRT] [2019-09-30 14:24:30] [debug] width 490, height 737, rasterCount 3\n",
      "[PRT] [2019-09-30 14:24:30] [debug] width 302, height 490, rasterCount 3\n",
      "[PRT] [2019-09-30 14:24:30] [debug] width 289, height 490, rasterCount 3\n",
      "[PRT] [2019-09-30 14:24:30] [debug] width 489, height 733, rasterCount 3\n",
      "[PRT] [2019-09-30 14:24:30] [debug] width 361, height 490, rasterCount 3\n",
      "[PRT] [2019-09-30 14:24:30] [debug] width 465, height 657, rasterCount 3\n",
      "[PRT] [2019-09-30 14:24:30] [debug] width 490, height 662, rasterCount 3\n",
      "[PRT] [2019-09-30 14:24:30] [debug] width 490, height 689, rasterCount 3\n",
      "[PRT] [2019-09-30 14:24:30] [debug] width 436, height 697, rasterCount 3\n",
      "[PRT] [2019-09-30 14:24:30] [debug] width 327, height 490, rasterCount 3\n",
      "[PRT] [2019-09-30 14:24:30] [debug] width 490, height 737, rasterCount 3\n",
      "[PRT] [2019-09-30 14:24:30] [debug] width 302, height 490, rasterCount 3\n",
      "[PRT] [2019-09-30 14:24:30] [debug] width 289, height 490, rasterCount 3\n",
      "[PRT] [2019-09-30 14:24:30] [debug] width 489, height 733, rasterCount 3\n",
      "[PRT] [2019-09-30 14:24:33] [debug] width 1024, height 1024, rasterCount 3\n",
      "[PRT] [2019-09-30 14:24:33] [debug] width 1024, height 1024, rasterCount 3\n",
      "[PRT] [2019-09-30 14:24:34] [debug] width 1024, height 1024, rasterCount 3\n"
     ]
    }
   ],
   "source": [
    "export_file_name = \"Demo_SLPKModel2\"\n",
    "enc_optionsSLPK = {'sceneType' : \"Local\",'baseName' : export_file_name,'sceneWkid' : \"3857\",'layerTextureEncoding' : [\"2\"],'layerEnabled' : [True],'layerUID' : [\"1\"],'layerName' : [\"1\"],'layerTextureQuality' : [1.0],'layerTextureCompression' : [9],'layerTextureScaling' : [1.0],'layerTextureMaxDimension' : [2048],'layerFeatureGranularity' : [\"0\"],'layerBackfaceCulling' : [False]}\n",
    "\n",
    "#attrs_green[input_attr_green[0]] = res_green.x[0]\n",
    "#attrs_green[input_attr_green[1]] = res_green.x[1]\n",
    "green_model = m.generate_model(attrs_green, rpk_green, \"com.esri.prt.codecs.I3SEncoder\", enc_optionsSLPK)"
   ]
  },
  {
   "cell_type": "code",
   "execution_count": 24,
   "metadata": {},
   "outputs": [],
   "source": [
    "item = my_gis.content.add({'type':'Scene Package'}, data=asset_file(\"..\\output\\%s.slpk\" % export_file_name), folder='packages')\n",
    "if item is None:\n",
    "    # first delete the existing one if any and add\n",
    "    my_gis.content.delete_items([item])\n",
    "    item = my_gis.content.add({'type':'Scene Package'}, asset_file(\"..\\output\\%s.slpk\" % export_file_name), folder='packages')\n",
    "published_item = item.publish()"
   ]
  },
  {
   "cell_type": "code",
   "execution_count": 25,
   "metadata": {},
   "outputs": [
    {
     "data": {
      "text/html": [
       "\n",
       "        <iframe\n",
       "            width=\"900\"\n",
       "            height=\"600\"\n",
       "            src=\"http://zurich.maps.arcgis.com/home/webscene/viewer.html?layers=a19ac68a710b42edbe04e2d64bbc7cd0\"\n",
       "            frameborder=\"0\"\n",
       "            allowfullscreen\n",
       "        ></iframe>\n",
       "        "
      ],
      "text/plain": [
       "<IPython.lib.display.IFrame at 0x24f4df5d940>"
      ]
     },
     "execution_count": 25,
     "metadata": {},
     "output_type": "execute_result"
    }
   ],
   "source": [
    "source2 = 'http://zurich.maps.arcgis.com/home/webscene/viewer.html?layers=' + published_item.id\n",
    "IFrame(src=source2, width=900, height=600)"
   ]
  },
  {
   "cell_type": "markdown",
   "metadata": {},
   "source": [
    "-------------------------------------------------------------------------------------------------------------------------------\n",
    "\n",
    "-------------------------------------------------------------------------------------------------------------------------------"
   ]
  },
  {
   "cell_type": "markdown",
   "metadata": {},
   "source": [
    "Step 3 : optimize the total green area reported including the balconies trees. This will be optimized taking into account several parameters:\n",
    "- the shape of the building (1 = orthogonal, 2 = L shape, 3 = U shape, 4 = O shapes)\n",
    "- the lot coverage\n",
    "- the height of the first tier"
   ]
  },
  {
   "cell_type": "markdown",
   "metadata": {},
   "source": [
    "### The variables"
   ]
  },
  {
   "cell_type": "code",
   "execution_count": 38,
   "metadata": {},
   "outputs": [],
   "source": [
    "goal_str_green = \"Greenery Area\" + \"_sum\"\n",
    "\n",
    "input_attr_green = [\"lot_coverage_parameter\", \"height_first_tier\", \"shape_of_building\"]\n",
    "x0_green = [float(50), float(9), float(int(2))]"
   ]
  },
  {
   "cell_type": "code",
   "execution_count": 39,
   "metadata": {},
   "outputs": [
    {
     "name": "stdout",
     "output_type": "stream",
     "text": [
      "[PRT] [2019-09-30 15:40:05] [info] using rule package C:\\Users\\cami9495\\Documents\\esri-cityengine-sdk-master\\examples\\py4prt\\Demo2_Optimization\\envelope2409.rpk\n",
      "\n",
      "[PRT] [2019-09-30 15:40:05] [debug] resolve map = <ResolveMap>\n",
      "\t<attribute key=\"/green_optimization_3/assets/unified_landscape/plan4.obj\" value=\"rpk:file:/C:%5CUsers%5Ccami9495%5CDocuments%5Cesri-cityengine-sdk-master%5Cexamples%5Cpy4prt%5CDemo2_Optimization%5Cenvelope2409.rpk!/assets/unified_landscape/plan4.obj\" type=\"str\"/>\n",
      "\t<attribute key=\"/green_optimization_3/rules/typology/ground_floor_plan.cga\" value=\"rpk:file:/C:%5CUsers%5Ccami9495%5CDocuments%5Cesri-cityengine-sdk-master%5Cexamples%5Cpy4prt%5CDemo2_Optimization%5Cenvelope2409.rpk!/rules/typology/ground_floor_plan.cga\" type=\"str\"/>\n",
      "\t<attribute key=\"/ESRI.lib/rules/Plants/Plant_Loader.cga\" value=\"rpk:file:/C:%5CUsers%5Ccami9495%5CDocuments%5Cesri-cityengine-sdk-master%5Cexamples%5Cpy4prt%5CDemo2_Optimization%5Cenvelope2409.rpk!/.ws/ESRI.lib/rules/Plants/Plant_Loader.cga\" type=\"str\"/>\n",
      "\t<attribute key=\"/green_optimization_3/assets/glass_door.obj\" value=\"rpk:file:/C:%5CUsers%5Ccami9495%5CDocuments%5Cesri-cityengine-sdk-master%5Cexamples%5Cpy4prt%5CDemo2_Optimization%5Cenvelope2409.rpk!/assets/glass_door.obj\" type=\"str\"/>\n",
      "\t<attribute key=\"/green_optimization_3/assets/wall_plaster.jpg\" value=\"rpk:file:/C:%5CUsers%5Ccami9495%5CDocuments%5Cesri-cityengine-sdk-master%5Cexamples%5Cpy4prt%5CDemo2_Optimization%5Cenvelope2409.rpk!/assets/wall_plaster.jpg\" type=\"str\"/>\n",
      "\t<attribute key=\"assets/lawn2.jpg\" value=\"rpk:file:/C:%5CUsers%5Ccami9495%5CDocuments%5Cesri-cityengine-sdk-master%5Cexamples%5Cpy4prt%5CDemo2_Optimization%5Cenvelope2409.rpk!/assets/lawn2.jpg\" type=\"str\"/>\n",
      "\t<attribute key=\"assets/unified_landscape/plan4.obj\" value=\"rpk:file:/C:%5CUsers%5Ccami9495%5CDocuments%5Cesri-cityengine-sdk-master%5Cexamples%5Cpy4prt%5CDemo2_Optimization%5Cenvelope2409.rpk!/assets/unified_landscape/plan4.obj\" type=\"str\"/>\n",
      "\t<attribute key=\"assets/wood.jpg\" value=\"rpk:file:/C:%5CUsers%5Ccami9495%5CDocuments%5Cesri-cityengine-sdk-master%5Cexamples%5Cpy4prt%5CDemo2_Optimization%5Cenvelope2409.rpk!/assets/wood.jpg\" type=\"str\"/>\n",
      "\t<attribute key=\"/green_optimization_3/assets/vertical_greenery/8.PNG\" value=\"rpk:file:/C:%5CUsers%5Ccami9495%5CDocuments%5Cesri-cityengine-sdk-master%5Cexamples%5Cpy4prt%5CDemo2_Optimization%5Cenvelope2409.rpk!/assets/vertical_greenery/8.PNG\" type=\"str\"/>\n",
      "\t<attribute key=\"/green_optimization_3/assets/unified_landscape/plan2.mtl\" value=\"rpk:file:/C:%5CUsers%5Ccami9495%5CDocuments%5Cesri-cityengine-sdk-master%5Cexamples%5Cpy4prt%5CDemo2_Optimization%5Cenvelope2409.rpk!/assets/unified_landscape/plan2.mtl\" type=\"str\"/>\n",
      "\t<attribute key=\"/green_optimization_3/assets/unified_landscape/plan3.obj\" value=\"rpk:file:/C:%5CUsers%5Ccami9495%5CDocuments%5Cesri-cityengine-sdk-master%5Cexamples%5Cpy4prt%5CDemo2_Optimization%5Cenvelope2409.rpk!/assets/unified_landscape/plan3.obj\" type=\"str\"/>\n",
      "\t<attribute key=\"assets/brick_wall.jpg\" value=\"rpk:file:/C:%5CUsers%5Ccami9495%5CDocuments%5Cesri-cityengine-sdk-master%5Cexamples%5Cpy4prt%5CDemo2_Optimization%5Cenvelope2409.rpk!/assets/brick_wall.jpg\" type=\"str\"/>\n",
      "\t<attribute key=\"/green_optimization_3/assets/vertical_greenery/9.PNG\" value=\"rpk:file:/C:%5CUsers%5Ccami9495%5CDocuments%5Cesri-cityengine-sdk-master%5Cexamples%5Cpy4prt%5CDemo2_Optimization%5Cenvelope2409.rpk!/assets/vertical_greenery/9.PNG\" type=\"str\"/>\n",
      "\t<attribute key=\"assets/vertical_greenery/4.PNG\" value=\"rpk:file:/C:%5CUsers%5Ccami9495%5CDocuments%5Cesri-cityengine-sdk-master%5Cexamples%5Cpy4prt%5CDemo2_Optimization%5Cenvelope2409.rpk!/assets/vertical_greenery/4.PNG\" type=\"str\"/>\n",
      "\t<attribute key=\"/green_optimization_3/assets/paving_b.jpg\" value=\"rpk:file:/C:%5CUsers%5Ccami9495%5CDocuments%5Cesri-cityengine-sdk-master%5Cexamples%5Cpy4prt%5CDemo2_Optimization%5Cenvelope2409.rpk!/assets/paving_b.jpg\" type=\"str\"/>\n",
      "\t<attribute key=\"/green_optimization_3/assets/vertical_greenery/4.PNG\" value=\"rpk:file:/C:%5CUsers%5Ccami9495%5CDocuments%5Cesri-cityengine-sdk-master%5Cexamples%5Cpy4prt%5CDemo2_Optimization%5Cenvelope2409.rpk!/assets/vertical_greenery/4.PNG\" type=\"str\"/>\n",
      "\t<attribute key=\"rules/typology/envelope2409.cgb\" value=\"rpk:file:/C:%5CUsers%5Ccami9495%5CDocuments%5Cesri-cityengine-sdk-master%5Cexamples%5Cpy4prt%5CDemo2_Optimization%5Cenvelope2409.rpk!/rules/typology/envelope2409.cgb\" type=\"str\"/>\n",
      "\t<attribute key=\"assets/unified_landscape/plan2.mtl\" value=\"rpk:file:/C:%5CUsers%5Ccami9495%5CDocuments%5Cesri-cityengine-sdk-master%5Cexamples%5Cpy4prt%5CDemo2_Optimization%5Cenvelope2409.rpk!/assets/unified_landscape/plan2.mtl\" type=\"str\"/>\n",
      "\t<attribute key=\"assets/unified_landscape/plan1.obj\" value=\"rpk:file:/C:%5CUsers%5Ccami9495%5CDocuments%5Cesri-cityengine-sdk-master%5Cexamples%5Cpy4prt%5CDemo2_Optimization%5Cenvelope2409.rpk!/assets/unified_landscape/plan1.obj\" type=\"str\"/>\n",
      "\t<attribute key=\"/green_optimization_3/assets/Bench/_1.jpg\" value=\"rpk:file:/C:%5CUsers%5Ccami9495%5CDocuments%5Cesri-cityengine-sdk-master%5Cexamples%5Cpy4prt%5CDemo2_Optimization%5Cenvelope2409.rpk!/assets/Bench/_1.jpg\" type=\"str\"/>\n",
      "\t<attribute key=\"rules/typology/ground_floor_plan.cga\" value=\"rpk:file:/C:%5CUsers%5Ccami9495%5CDocuments%5Cesri-cityengine-sdk-master%5Cexamples%5Cpy4prt%5CDemo2_Optimization%5Cenvelope2409.rpk!/rules/typology/ground_floor_plan.cga\" type=\"str\"/>\n",
      "\t<attribute key=\"/green_optimization_3/assets/vertical_greenery/1.PNG\" value=\"rpk:file:/C:%5CUsers%5Ccami9495%5CDocuments%5Cesri-cityengine-sdk-master%5Cexamples%5Cpy4prt%5CDemo2_Optimization%5Cenvelope2409.rpk!/assets/vertical_greenery/1.PNG\" type=\"str\"/>\n",
      "\t<attribute key=\"assets/concrete.jpg\" value=\"rpk:file:/C:%5CUsers%5Ccami9495%5CDocuments%5Cesri-cityengine-sdk-master%5Cexamples%5Cpy4prt%5CDemo2_Optimization%5Cenvelope2409.rpk!/assets/concrete.jpg\" type=\"str\"/>\n",
      "\t<attribute key=\"/green_optimization_3/assets/vertical_greenery/6.PNG\" value=\"rpk:file:/C:%5CUsers%5Ccami9495%5CDocuments%5Cesri-cityengine-sdk-master%5Cexamples%5Cpy4prt%5CDemo2_Optimization%5Cenvelope2409.rpk!/assets/vertical_greenery/6.PNG\" type=\"str\"/>\n",
      "\t<attribute key=\"assets/paving_b.jpg\" value=\"rpk:file:/C:%5CUsers%5Ccami9495%5CDocuments%5Cesri-cityengine-sdk-master%5Cexamples%5Cpy4prt%5CDemo2_Optimization%5Cenvelope2409.rpk!/assets/paving_b.jpg\" type=\"str\"/>\n",
      "\t<attribute key=\"/green_optimization_3/assets/vertical_greenery/7.PNG\" value=\"rpk:file:/C:%5CUsers%5Ccami9495%5CDocuments%5Cesri-cityengine-sdk-master%5Cexamples%5Cpy4prt%5CDemo2_Optimization%5Cenvelope2409.rpk!/assets/vertical_greenery/7.PNG\" type=\"str\"/>\n",
      "\t<attribute key=\"assets/vertical_greenery/8.PNG\" value=\"rpk:file:/C:%5CUsers%5Ccami9495%5CDocuments%5Cesri-cityengine-sdk-master%5Cexamples%5Cpy4prt%5CDemo2_Optimization%5Cenvelope2409.rpk!/assets/vertical_greenery/8.PNG\" type=\"str\"/>\n",
      "\t<attribute key=\"assets/vertical_greenery/9.PNG\" value=\"rpk:file:/C:%5CUsers%5Ccami9495%5CDocuments%5Cesri-cityengine-sdk-master%5Cexamples%5Cpy4prt%5CDemo2_Optimization%5Cenvelope2409.rpk!/assets/vertical_greenery/9.PNG\" type=\"str\"/>\n",
      "\t<attribute key=\"/green_optimization_3/assets/vertical_greenery/2.PNG\" value=\"rpk:file:/C:%5CUsers%5Ccami9495%5CDocuments%5Cesri-cityengine-sdk-master%5Cexamples%5Cpy4prt%5CDemo2_Optimization%5Cenvelope2409.rpk!/assets/vertical_greenery/2.PNG\" type=\"str\"/>\n",
      "\t<attribute key=\"assets/glass_door.obj\" value=\"rpk:file:/C:%5CUsers%5Ccami9495%5CDocuments%5Cesri-cityengine-sdk-master%5Cexamples%5Cpy4prt%5CDemo2_Optimization%5Cenvelope2409.rpk!/assets/glass_door.obj\" type=\"str\"/>\n",
      "\t<attribute key=\"assets/Bench/_1.jpg\" value=\"rpk:file:/C:%5CUsers%5Ccami9495%5CDocuments%5Cesri-cityengine-sdk-master%5Cexamples%5Cpy4prt%5CDemo2_Optimization%5Cenvelope2409.rpk!/assets/Bench/_1.jpg\" type=\"str\"/>\n",
      "\t<attribute key=\"/green_optimization_3/assets/unified_landscape/plan1.obj\" value=\"rpk:file:/C:%5CUsers%5Ccami9495%5CDocuments%5Cesri-cityengine-sdk-master%5Cexamples%5Cpy4prt%5CDemo2_Optimization%5Cenvelope2409.rpk!/assets/unified_landscape/plan1.obj\" type=\"str\"/>\n",
      "\t<attribute key=\"assets/vertical_greenery/2.PNG\" value=\"rpk:file:/C:%5CUsers%5Ccami9495%5CDocuments%5Cesri-cityengine-sdk-master%5Cexamples%5Cpy4prt%5CDemo2_Optimization%5Cenvelope2409.rpk!/assets/vertical_greenery/2.PNG\" type=\"str\"/>\n",
      "\t<attribute key=\"/green_optimization_3/assets/concrete.jpg\" value=\"rpk:file:/C:%5CUsers%5Ccami9495%5CDocuments%5Cesri-cityengine-sdk-master%5Cexamples%5Cpy4prt%5CDemo2_Optimization%5Cenvelope2409.rpk!/assets/concrete.jpg\" type=\"str\"/>\n",
      "\t<attribute key=\"/green_optimization_3/assets/vertical_greenery/10.PNG\" value=\"rpk:file:/C:%5CUsers%5Ccami9495%5CDocuments%5Cesri-cityengine-sdk-master%5Cexamples%5Cpy4prt%5CDemo2_Optimization%5Cenvelope2409.rpk!/assets/vertical_greenery/10.PNG\" type=\"str\"/>\n",
      "\t<attribute key=\"/green_optimization_3/rules/typology/facade.cga\" value=\"rpk:file:/C:%5CUsers%5Ccami9495%5CDocuments%5Cesri-cityengine-sdk-master%5Cexamples%5Cpy4prt%5CDemo2_Optimization%5Cenvelope2409.rpk!/rules/typology/facade.cga\" type=\"str\"/>\n",
      "\t<attribute key=\"assets/wall_plaster.jpg\" value=\"rpk:file:/C:%5CUsers%5Ccami9495%5CDocuments%5Cesri-cityengine-sdk-master%5Cexamples%5Cpy4prt%5CDemo2_Optimization%5Cenvelope2409.rpk!/assets/wall_plaster.jpg\" type=\"str\"/>\n",
      "\t<attribute key=\"/green_optimization_3/rules/typology/landscape.cga\" value=\"rpk:file:/C:%5CUsers%5Ccami9495%5CDocuments%5Cesri-cityengine-sdk-master%5Cexamples%5Cpy4prt%5CDemo2_Optimization%5Cenvelope2409.rpk!/rules/typology/landscape.cga\" type=\"str\"/>\n",
      "\t<attribute key=\"assets/bench.obj\" value=\"rpk:file:/C:%5CUsers%5Ccami9495%5CDocuments%5Cesri-cityengine-sdk-master%5Cexamples%5Cpy4prt%5CDemo2_Optimization%5Cenvelope2409.rpk!/assets/bench.obj\" type=\"str\"/>\n",
      "\t<attribute key=\"rules/typology/envelope2409.cga\" value=\"rpk:file:/C:%5CUsers%5Ccami9495%5CDocuments%5Cesri-cityengine-sdk-master%5Cexamples%5Cpy4prt%5CDemo2_Optimization%5Cenvelope2409.rpk!/rules/typology/envelope2409.cga\" type=\"str\"/>\n",
      "\t<attribute key=\"assets/unified_landscape/plan3.mtl\" value=\"rpk:file:/C:%5CUsers%5Ccami9495%5CDocuments%5Cesri-cityengine-sdk-master%5Cexamples%5Cpy4prt%5CDemo2_Optimization%5Cenvelope2409.rpk!/assets/unified_landscape/plan3.mtl\" type=\"str\"/>\n",
      "\t<attribute key=\"/green_optimization_3/assets/unified_landscape/plan2.obj\" value=\"rpk:file:/C:%5CUsers%5Ccami9495%5CDocuments%5Cesri-cityengine-sdk-master%5Cexamples%5Cpy4prt%5CDemo2_Optimization%5Cenvelope2409.rpk!/assets/unified_landscape/plan2.obj\" type=\"str\"/>\n",
      "\t<attribute key=\"/green_optimization_3/rules/typology/volume.cga\" value=\"rpk:file:/C:%5CUsers%5Ccami9495%5CDocuments%5Cesri-cityengine-sdk-master%5Cexamples%5Cpy4prt%5CDemo2_Optimization%5Cenvelope2409.rpk!/rules/typology/volume.cga\" type=\"str\"/>\n",
      "\t<attribute key=\"/green_optimization_3/assets/lawn2.jpg\" value=\"rpk:file:/C:%5CUsers%5Ccami9495%5CDocuments%5Cesri-cityengine-sdk-master%5Cexamples%5Cpy4prt%5CDemo2_Optimization%5Cenvelope2409.rpk!/assets/lawn2.jpg\" type=\"str\"/>\n",
      "\t<attribute key=\"/ESRI.lib/rules/Plants/Plant_Distributor.cga\" value=\"rpk:file:/C:%5CUsers%5Ccami9495%5CDocuments%5Cesri-cityengine-sdk-master%5Cexamples%5Cpy4prt%5CDemo2_Optimization%5Cenvelope2409.rpk!/.ws/ESRI.lib/rules/Plants/Plant_Distributor.cga\" type=\"str\"/>\n",
      "\t<attribute key=\"/green_optimization_3/assets/vertical_greenery/3.PNG\" value=\"rpk:file:/C:%5CUsers%5Ccami9495%5CDocuments%5Cesri-cityengine-sdk-master%5Cexamples%5Cpy4prt%5CDemo2_Optimization%5Cenvelope2409.rpk!/assets/vertical_greenery/3.PNG\" type=\"str\"/>\n",
      "\t<attribute key=\"rules/typology/landscape.cga\" value=\"rpk:file:/C:%5CUsers%5Ccami9495%5CDocuments%5Cesri-cityengine-sdk-master%5Cexamples%5Cpy4prt%5CDemo2_Optimization%5Cenvelope2409.rpk!/rules/typology/landscape.cga\" type=\"str\"/>\n",
      "\t<attribute key=\"assets/unified_landscape/plan3.obj\" value=\"rpk:file:/C:%5CUsers%5Ccami9495%5CDocuments%5Cesri-cityengine-sdk-master%5Cexamples%5Cpy4prt%5CDemo2_Optimization%5Cenvelope2409.rpk!/assets/unified_landscape/plan3.obj\" type=\"str\"/>\n",
      "\t<attribute key=\"assets/vertical_greenery/5.PNG\" value=\"rpk:file:/C:%5CUsers%5Ccami9495%5CDocuments%5Cesri-cityengine-sdk-master%5Cexamples%5Cpy4prt%5CDemo2_Optimization%5Cenvelope2409.rpk!/assets/vertical_greenery/5.PNG\" type=\"str\"/>\n",
      "\t<attribute key=\"/green_optimization_3/assets/unified_landscape/plan4.mtl\" value=\"rpk:file:/C:%5CUsers%5Ccami9495%5CDocuments%5Cesri-cityengine-sdk-master%5Cexamples%5Cpy4prt%5CDemo2_Optimization%5Cenvelope2409.rpk!/assets/unified_landscape/plan4.mtl\" type=\"str\"/>\n",
      "\t<attribute key=\"/green_optimization_3/assets/Bench/ooMaterial2.jpg\" value=\"rpk:file:/C:%5CUsers%5Ccami9495%5CDocuments%5Cesri-cityengine-sdk-master%5Cexamples%5Cpy4prt%5CDemo2_Optimization%5Cenvelope2409.rpk!/assets/Bench/ooMaterial2.jpg\" type=\"str\"/>\n",
      "\t<attribute key=\"/green_optimization_3/assets/unified_landscape/plan3.mtl\" value=\"rpk:file:/C:%5CUsers%5Ccami9495%5CDocuments%5Cesri-cityengine-sdk-master%5Cexamples%5Cpy4prt%5CDemo2_Optimization%5Cenvelope2409.rpk!/assets/unified_landscape/plan3.mtl\" type=\"str\"/>\n",
      "\t<attribute key=\"assets/vertical_greenery/3.PNG\" value=\"rpk:file:/C:%5CUsers%5Ccami9495%5CDocuments%5Cesri-cityengine-sdk-master%5Cexamples%5Cpy4prt%5CDemo2_Optimization%5Cenvelope2409.rpk!/assets/vertical_greenery/3.PNG\" type=\"str\"/>\n",
      "\t<attribute key=\"assets/vertical_greenery/7.PNG\" value=\"rpk:file:/C:%5CUsers%5Ccami9495%5CDocuments%5Cesri-cityengine-sdk-master%5Cexamples%5Cpy4prt%5CDemo2_Optimization%5Cenvelope2409.rpk!/assets/vertical_greenery/7.PNG\" type=\"str\"/>\n",
      "\t<attribute key=\"assets/unified_landscape/plan2.obj\" value=\"rpk:file:/C:%5CUsers%5Ccami9495%5CDocuments%5Cesri-cityengine-sdk-master%5Cexamples%5Cpy4prt%5CDemo2_Optimization%5Cenvelope2409.rpk!/assets/unified_landscape/plan2.obj\" type=\"str\"/>\n",
      "\t<attribute key=\"assets/Bench.mtl\" value=\"rpk:file:/C:%5CUsers%5Ccami9495%5CDocuments%5Cesri-cityengine-sdk-master%5Cexamples%5Cpy4prt%5CDemo2_Optimization%5Cenvelope2409.rpk!/assets/Bench.mtl\" type=\"str\"/>\n",
      "\t<attribute key=\"rules/typology/volume.cga\" value=\"rpk:file:/C:%5CUsers%5Ccami9495%5CDocuments%5Cesri-cityengine-sdk-master%5Cexamples%5Cpy4prt%5CDemo2_Optimization%5Cenvelope2409.rpk!/rules/typology/volume.cga\" type=\"str\"/>\n",
      "\t<attribute key=\"/green_optimization_3/assets/Bench.mtl\" value=\"rpk:file:/C:%5CUsers%5Ccami9495%5CDocuments%5Cesri-cityengine-sdk-master%5Cexamples%5Cpy4prt%5CDemo2_Optimization%5Cenvelope2409.rpk!/assets/Bench.mtl\" type=\"str\"/>\n",
      "\t<attribute key=\"/green_optimization_3/assets/vertical_greenery/5.PNG\" value=\"rpk:file:/C:%5CUsers%5Ccami9495%5CDocuments%5Cesri-cityengine-sdk-master%5Cexamples%5Cpy4prt%5CDemo2_Optimization%5Cenvelope2409.rpk!/assets/vertical_greenery/5.PNG\" type=\"str\"/>\n",
      "\t<attribute key=\"/green_optimization_3/assets/bench.obj\" value=\"rpk:file:/C:%5CUsers%5Ccami9495%5CDocuments%5Cesri-cityengine-sdk-master%5Cexamples%5Cpy4prt%5CDemo2_Optimization%5Cenvelope2409.rpk!/assets/bench.obj\" type=\"str\"/>\n",
      "\t<attribute key=\"/green_optimization_3/assets/wood.jpg\" value=\"rpk:file:/C:%5CUsers%5Ccami9495%5CDocuments%5Cesri-cityengine-sdk-master%5Cexamples%5Cpy4prt%5CDemo2_Optimization%5Cenvelope2409.rpk!/assets/wood.jpg\" type=\"str\"/>\n",
      "\t<attribute key=\"assets/vertical_greenery/6.PNG\" value=\"rpk:file:/C:%5CUsers%5Ccami9495%5CDocuments%5Cesri-cityengine-sdk-master%5Cexamples%5Cpy4prt%5CDemo2_Optimization%5Cenvelope2409.rpk!/assets/vertical_greenery/6.PNG\" type=\"str\"/>\n",
      "\t<attribute key=\"assets/Bench/ooMaterial2.jpg\" value=\"rpk:file:/C:%5CUsers%5Ccami9495%5CDocuments%5Cesri-cityengine-sdk-master%5Cexamples%5Cpy4prt%5CDemo2_Optimization%5Cenvelope2409.rpk!/assets/Bench/ooMaterial2.jpg\" type=\"str\"/>\n",
      "\t<attribute key=\"/green_optimization_3/assets/brick_wall.jpg\" value=\"rpk:file:/C:%5CUsers%5Ccami9495%5CDocuments%5Cesri-cityengine-sdk-master%5Cexamples%5Cpy4prt%5CDemo2_Optimization%5Cenvelope2409.rpk!/assets/brick_wall.jpg\" type=\"str\"/>\n",
      "\t<attribute key=\"rules/typology/facade.cga\" value=\"rpk:file:/C:%5CUsers%5Ccami9495%5CDocuments%5Cesri-cityengine-sdk-master%5Cexamples%5Cpy4prt%5CDemo2_Optimization%5Cenvelope2409.rpk!/rules/typology/facade.cga\" type=\"str\"/>\n",
      "\t<attribute key=\"assets/vertical_greenery/10.PNG\" value=\"rpk:file:/C:%5CUsers%5Ccami9495%5CDocuments%5Cesri-cityengine-sdk-master%5Cexamples%5Cpy4prt%5CDemo2_Optimization%5Cenvelope2409.rpk!/assets/vertical_greenery/10.PNG\" type=\"str\"/>\n",
      "\t<attribute key=\"/green_optimization_3/rules/typology/envelope2409.cga\" value=\"rpk:file:/C:%5CUsers%5Ccami9495%5CDocuments%5Cesri-cityengine-sdk-master%5Cexamples%5Cpy4prt%5CDemo2_Optimization%5Cenvelope2409.rpk!/rules/typology/envelope2409.cga\" type=\"str\"/>\n",
      "\t<attribute key=\"assets/vertical_greenery/1.PNG\" value=\"rpk:file:/C:%5CUsers%5Ccami9495%5CDocuments%5Cesri-cityengine-sdk-master%5Cexamples%5Cpy4prt%5CDemo2_Optimization%5Cenvelope2409.rpk!/assets/vertical_greenery/1.PNG\" type=\"str\"/>\n",
      "\t<attribute key=\"assets/unified_landscape/plan4.mtl\" value=\"rpk:file:/C:%5CUsers%5Ccami9495%5CDocuments%5Cesri-cityengine-sdk-master%5Cexamples%5Cpy4prt%5CDemo2_Optimization%5Cenvelope2409.rpk!/assets/unified_landscape/plan4.mtl\" type=\"str\"/>\n",
      "</ResolveMap>\n",
      "\n"
     ]
    }
   ],
   "source": [
    "attrs_green = {'ruleFile' : \"rules/typology/envelope2409.cgb\", 'startRule' : \"Default$Lot\", 'report_but_not_display_green' : True}\n",
    "\n",
    "model3 = m.generate_model(attrs_green, rpk_green, \"com.esri.prt.examples.PyEncoder\", {'emitGeometry' : False})"
   ]
  },
  {
   "cell_type": "code",
   "execution_count": 40,
   "metadata": {},
   "outputs": [],
   "source": [
    "def fct_green(x):\n",
    "\n",
    "    attrs_green[input_attr_green[0]] = x[0]\n",
    "    attrs_green[input_attr_green[1]] = x[1]\n",
    "    attrs_green[input_attr_green[2]] = float(round(x[2]))\n",
    "    generated_mod_green = m.generate_model(attrs_green)\n",
    "    \n",
    "    if generated_mod_green:\n",
    "        rep_green = combine_reports(generated_mod_green[0])\n",
    "        return -rep_green[goal_str_green]\n",
    "    else:\n",
    "        print(\"Error in optimization process.\")"
   ]
  },
  {
   "cell_type": "code",
   "execution_count": 41,
   "metadata": {},
   "outputs": [],
   "source": [
    "bounds_green = [(0,100),(8,13),(1,4)]"
   ]
  },
  {
   "cell_type": "code",
   "execution_count": 42,
   "metadata": {},
   "outputs": [
    {
     "data": {
      "text/plain": [
       "2566.649574933355"
      ]
     },
     "execution_count": 42,
     "metadata": {},
     "output_type": "execute_result"
    }
   ],
   "source": [
    "-fct_green(x0_green)"
   ]
  },
  {
   "cell_type": "code",
   "execution_count": 43,
   "metadata": {},
   "outputs": [
    {
     "name": "stdout",
     "output_type": "stream",
     "text": [
      "[PRT] [2019-09-30 15:51:51] [warning] Rule 'Default$volume$Slab_texture()V' InitialShape '<?>': illegal component geometry, no shape created.\n",
      "[PRT] [2019-09-30 15:51:51] [warning] Rule 'Default$volume$Slab_texture()V' InitialShape '<?>': illegal component geometry, no shape created.\n",
      "[PRT] [2019-09-30 15:56:05] [warning] Rule 'Default$volume$Slab_texture()V' InitialShape '<?>': illegal component geometry, no shape created.\n",
      "[PRT] [2019-09-30 15:56:05] [warning] Rule 'Default$volume$Slab_texture()V' InitialShape '<?>': illegal component geometry, no shape created.\n",
      "The optimization lasted: 1173.8636429309845\n"
     ]
    },
    {
     "data": {
      "text/plain": [
       "     fun: -4230.006530381527\n",
       " message: 'Optimization terminated successfully.'\n",
       "    nfev: 1309\n",
       "     nit: 28\n",
       " success: True\n",
       "       x: array([33.13302682, 12.80920399,  3.51896445])"
      ]
     },
     "execution_count": 43,
     "metadata": {},
     "output_type": "execute_result"
    }
   ],
   "source": [
    "start = time.time()\n",
    "\n",
    "res_green = optimize.differential_evolution(fct_green, bounds_green, seed = 666) #dual_annealing\n",
    "\n",
    "duration = time.time() - start\n",
    "print(\"The optimization lasted: \" + str(duration))\n",
    "res_green"
   ]
  },
  {
   "cell_type": "code",
   "execution_count": 44,
   "metadata": {
    "scrolled": true
   },
   "outputs": [
    {
     "name": "stdout",
     "output_type": "stream",
     "text": [
      "\n",
      "Number of generated geometries (= nber of initial shapes):\n",
      "1\n",
      "\n",
      "Initial Shape Index: 0\n",
      "\n",
      "Report of the generated model:\n",
      "{'Greenery Area_avg': 3.112587586741374, 'Greenery Area_max': 456.3668332213981, 'Greenery Area_min': 0.4895963195850646, 'Greenery Area_n': 1359.0, 'Greenery Area_sum': 4230.006530381527, 'Number of trees_avg': 1.0, 'Number of trees_max': 1.0, 'Number of trees_min': 1.0, 'Number of trees_n': 264.0, 'Number of trees_sum': 264.0, 'green area_avg': 2.6575402103940897, 'green area_max': 456.3668332213981, 'green area_min': 0.4895963195850646, 'green area_n': 1095.0, 'green area_sum': 2910.006530381528}\n",
      "\n"
     ]
    }
   ],
   "source": [
    "attrs_green[input_attr_green[0]] = res_green.x[0]\n",
    "attrs_green[input_attr_green[1]] = res_green.x[1]\n",
    "attrs_green[input_attr_green[2]] = float(round(res_green.x[2]))\n",
    "green_model3 = m.generate_model(attrs_green)\n",
    "\n",
    "if green_model3:\n",
    "    visualize_PRT_results(green_model3)"
   ]
  },
  {
   "cell_type": "markdown",
   "metadata": {},
   "source": [
    "### Results Visualization"
   ]
  },
  {
   "cell_type": "code",
   "execution_count": 45,
   "metadata": {},
   "outputs": [
    {
     "name": "stdout",
     "output_type": "stream",
     "text": [
      "[PRT] [2019-09-30 16:01:02] [info] using rule package C:\\Users\\cami9495\\Documents\\esri-cityengine-sdk-master\\examples\\py4prt\\Demo2_Optimization\\envelope2409.rpk\n",
      "\n",
      "[PRT] [2019-09-30 16:01:02] [debug] resolve map = <ResolveMap>\n",
      "\t<attribute key=\"/green_optimization_3/assets/unified_landscape/plan4.obj\" value=\"rpk:file:/C:%5CUsers%5Ccami9495%5CDocuments%5Cesri-cityengine-sdk-master%5Cexamples%5Cpy4prt%5CDemo2_Optimization%5Cenvelope2409.rpk!/assets/unified_landscape/plan4.obj\" type=\"str\"/>\n",
      "\t<attribute key=\"/green_optimization_3/rules/typology/ground_floor_plan.cga\" value=\"rpk:file:/C:%5CUsers%5Ccami9495%5CDocuments%5Cesri-cityengine-sdk-master%5Cexamples%5Cpy4prt%5CDemo2_Optimization%5Cenvelope2409.rpk!/rules/typology/ground_floor_plan.cga\" type=\"str\"/>\n",
      "\t<attribute key=\"/ESRI.lib/rules/Plants/Plant_Loader.cga\" value=\"rpk:file:/C:%5CUsers%5Ccami9495%5CDocuments%5Cesri-cityengine-sdk-master%5Cexamples%5Cpy4prt%5CDemo2_Optimization%5Cenvelope2409.rpk!/.ws/ESRI.lib/rules/Plants/Plant_Loader.cga\" type=\"str\"/>\n",
      "\t<attribute key=\"/green_optimization_3/assets/glass_door.obj\" value=\"rpk:file:/C:%5CUsers%5Ccami9495%5CDocuments%5Cesri-cityengine-sdk-master%5Cexamples%5Cpy4prt%5CDemo2_Optimization%5Cenvelope2409.rpk!/assets/glass_door.obj\" type=\"str\"/>\n",
      "\t<attribute key=\"/green_optimization_3/assets/wall_plaster.jpg\" value=\"rpk:file:/C:%5CUsers%5Ccami9495%5CDocuments%5Cesri-cityengine-sdk-master%5Cexamples%5Cpy4prt%5CDemo2_Optimization%5Cenvelope2409.rpk!/assets/wall_plaster.jpg\" type=\"str\"/>\n",
      "\t<attribute key=\"assets/lawn2.jpg\" value=\"rpk:file:/C:%5CUsers%5Ccami9495%5CDocuments%5Cesri-cityengine-sdk-master%5Cexamples%5Cpy4prt%5CDemo2_Optimization%5Cenvelope2409.rpk!/assets/lawn2.jpg\" type=\"str\"/>\n",
      "\t<attribute key=\"assets/unified_landscape/plan4.obj\" value=\"rpk:file:/C:%5CUsers%5Ccami9495%5CDocuments%5Cesri-cityengine-sdk-master%5Cexamples%5Cpy4prt%5CDemo2_Optimization%5Cenvelope2409.rpk!/assets/unified_landscape/plan4.obj\" type=\"str\"/>\n",
      "\t<attribute key=\"assets/wood.jpg\" value=\"rpk:file:/C:%5CUsers%5Ccami9495%5CDocuments%5Cesri-cityengine-sdk-master%5Cexamples%5Cpy4prt%5CDemo2_Optimization%5Cenvelope2409.rpk!/assets/wood.jpg\" type=\"str\"/>\n",
      "\t<attribute key=\"/green_optimization_3/assets/vertical_greenery/8.PNG\" value=\"rpk:file:/C:%5CUsers%5Ccami9495%5CDocuments%5Cesri-cityengine-sdk-master%5Cexamples%5Cpy4prt%5CDemo2_Optimization%5Cenvelope2409.rpk!/assets/vertical_greenery/8.PNG\" type=\"str\"/>\n",
      "\t<attribute key=\"/green_optimization_3/assets/unified_landscape/plan2.mtl\" value=\"rpk:file:/C:%5CUsers%5Ccami9495%5CDocuments%5Cesri-cityengine-sdk-master%5Cexamples%5Cpy4prt%5CDemo2_Optimization%5Cenvelope2409.rpk!/assets/unified_landscape/plan2.mtl\" type=\"str\"/>\n",
      "\t<attribute key=\"/green_optimization_3/assets/unified_landscape/plan3.obj\" value=\"rpk:file:/C:%5CUsers%5Ccami9495%5CDocuments%5Cesri-cityengine-sdk-master%5Cexamples%5Cpy4prt%5CDemo2_Optimization%5Cenvelope2409.rpk!/assets/unified_landscape/plan3.obj\" type=\"str\"/>\n",
      "\t<attribute key=\"assets/brick_wall.jpg\" value=\"rpk:file:/C:%5CUsers%5Ccami9495%5CDocuments%5Cesri-cityengine-sdk-master%5Cexamples%5Cpy4prt%5CDemo2_Optimization%5Cenvelope2409.rpk!/assets/brick_wall.jpg\" type=\"str\"/>\n",
      "\t<attribute key=\"/green_optimization_3/assets/vertical_greenery/9.PNG\" value=\"rpk:file:/C:%5CUsers%5Ccami9495%5CDocuments%5Cesri-cityengine-sdk-master%5Cexamples%5Cpy4prt%5CDemo2_Optimization%5Cenvelope2409.rpk!/assets/vertical_greenery/9.PNG\" type=\"str\"/>\n",
      "\t<attribute key=\"assets/vertical_greenery/4.PNG\" value=\"rpk:file:/C:%5CUsers%5Ccami9495%5CDocuments%5Cesri-cityengine-sdk-master%5Cexamples%5Cpy4prt%5CDemo2_Optimization%5Cenvelope2409.rpk!/assets/vertical_greenery/4.PNG\" type=\"str\"/>\n",
      "\t<attribute key=\"/green_optimization_3/assets/paving_b.jpg\" value=\"rpk:file:/C:%5CUsers%5Ccami9495%5CDocuments%5Cesri-cityengine-sdk-master%5Cexamples%5Cpy4prt%5CDemo2_Optimization%5Cenvelope2409.rpk!/assets/paving_b.jpg\" type=\"str\"/>\n",
      "\t<attribute key=\"/green_optimization_3/assets/vertical_greenery/4.PNG\" value=\"rpk:file:/C:%5CUsers%5Ccami9495%5CDocuments%5Cesri-cityengine-sdk-master%5Cexamples%5Cpy4prt%5CDemo2_Optimization%5Cenvelope2409.rpk!/assets/vertical_greenery/4.PNG\" type=\"str\"/>\n",
      "\t<attribute key=\"rules/typology/envelope2409.cgb\" value=\"rpk:file:/C:%5CUsers%5Ccami9495%5CDocuments%5Cesri-cityengine-sdk-master%5Cexamples%5Cpy4prt%5CDemo2_Optimization%5Cenvelope2409.rpk!/rules/typology/envelope2409.cgb\" type=\"str\"/>\n",
      "\t<attribute key=\"assets/unified_landscape/plan2.mtl\" value=\"rpk:file:/C:%5CUsers%5Ccami9495%5CDocuments%5Cesri-cityengine-sdk-master%5Cexamples%5Cpy4prt%5CDemo2_Optimization%5Cenvelope2409.rpk!/assets/unified_landscape/plan2.mtl\" type=\"str\"/>\n",
      "\t<attribute key=\"assets/unified_landscape/plan1.obj\" value=\"rpk:file:/C:%5CUsers%5Ccami9495%5CDocuments%5Cesri-cityengine-sdk-master%5Cexamples%5Cpy4prt%5CDemo2_Optimization%5Cenvelope2409.rpk!/assets/unified_landscape/plan1.obj\" type=\"str\"/>\n",
      "\t<attribute key=\"/green_optimization_3/assets/Bench/_1.jpg\" value=\"rpk:file:/C:%5CUsers%5Ccami9495%5CDocuments%5Cesri-cityengine-sdk-master%5Cexamples%5Cpy4prt%5CDemo2_Optimization%5Cenvelope2409.rpk!/assets/Bench/_1.jpg\" type=\"str\"/>\n",
      "\t<attribute key=\"rules/typology/ground_floor_plan.cga\" value=\"rpk:file:/C:%5CUsers%5Ccami9495%5CDocuments%5Cesri-cityengine-sdk-master%5Cexamples%5Cpy4prt%5CDemo2_Optimization%5Cenvelope2409.rpk!/rules/typology/ground_floor_plan.cga\" type=\"str\"/>\n",
      "\t<attribute key=\"/green_optimization_3/assets/vertical_greenery/1.PNG\" value=\"rpk:file:/C:%5CUsers%5Ccami9495%5CDocuments%5Cesri-cityengine-sdk-master%5Cexamples%5Cpy4prt%5CDemo2_Optimization%5Cenvelope2409.rpk!/assets/vertical_greenery/1.PNG\" type=\"str\"/>\n",
      "\t<attribute key=\"assets/concrete.jpg\" value=\"rpk:file:/C:%5CUsers%5Ccami9495%5CDocuments%5Cesri-cityengine-sdk-master%5Cexamples%5Cpy4prt%5CDemo2_Optimization%5Cenvelope2409.rpk!/assets/concrete.jpg\" type=\"str\"/>\n",
      "\t<attribute key=\"/green_optimization_3/assets/vertical_greenery/6.PNG\" value=\"rpk:file:/C:%5CUsers%5Ccami9495%5CDocuments%5Cesri-cityengine-sdk-master%5Cexamples%5Cpy4prt%5CDemo2_Optimization%5Cenvelope2409.rpk!/assets/vertical_greenery/6.PNG\" type=\"str\"/>\n",
      "\t<attribute key=\"assets/paving_b.jpg\" value=\"rpk:file:/C:%5CUsers%5Ccami9495%5CDocuments%5Cesri-cityengine-sdk-master%5Cexamples%5Cpy4prt%5CDemo2_Optimization%5Cenvelope2409.rpk!/assets/paving_b.jpg\" type=\"str\"/>\n",
      "\t<attribute key=\"/green_optimization_3/assets/vertical_greenery/7.PNG\" value=\"rpk:file:/C:%5CUsers%5Ccami9495%5CDocuments%5Cesri-cityengine-sdk-master%5Cexamples%5Cpy4prt%5CDemo2_Optimization%5Cenvelope2409.rpk!/assets/vertical_greenery/7.PNG\" type=\"str\"/>\n",
      "\t<attribute key=\"assets/vertical_greenery/8.PNG\" value=\"rpk:file:/C:%5CUsers%5Ccami9495%5CDocuments%5Cesri-cityengine-sdk-master%5Cexamples%5Cpy4prt%5CDemo2_Optimization%5Cenvelope2409.rpk!/assets/vertical_greenery/8.PNG\" type=\"str\"/>\n",
      "\t<attribute key=\"assets/vertical_greenery/9.PNG\" value=\"rpk:file:/C:%5CUsers%5Ccami9495%5CDocuments%5Cesri-cityengine-sdk-master%5Cexamples%5Cpy4prt%5CDemo2_Optimization%5Cenvelope2409.rpk!/assets/vertical_greenery/9.PNG\" type=\"str\"/>\n",
      "\t<attribute key=\"/green_optimization_3/assets/vertical_greenery/2.PNG\" value=\"rpk:file:/C:%5CUsers%5Ccami9495%5CDocuments%5Cesri-cityengine-sdk-master%5Cexamples%5Cpy4prt%5CDemo2_Optimization%5Cenvelope2409.rpk!/assets/vertical_greenery/2.PNG\" type=\"str\"/>\n",
      "\t<attribute key=\"assets/glass_door.obj\" value=\"rpk:file:/C:%5CUsers%5Ccami9495%5CDocuments%5Cesri-cityengine-sdk-master%5Cexamples%5Cpy4prt%5CDemo2_Optimization%5Cenvelope2409.rpk!/assets/glass_door.obj\" type=\"str\"/>\n",
      "\t<attribute key=\"assets/Bench/_1.jpg\" value=\"rpk:file:/C:%5CUsers%5Ccami9495%5CDocuments%5Cesri-cityengine-sdk-master%5Cexamples%5Cpy4prt%5CDemo2_Optimization%5Cenvelope2409.rpk!/assets/Bench/_1.jpg\" type=\"str\"/>\n",
      "\t<attribute key=\"/green_optimization_3/assets/unified_landscape/plan1.obj\" value=\"rpk:file:/C:%5CUsers%5Ccami9495%5CDocuments%5Cesri-cityengine-sdk-master%5Cexamples%5Cpy4prt%5CDemo2_Optimization%5Cenvelope2409.rpk!/assets/unified_landscape/plan1.obj\" type=\"str\"/>\n",
      "\t<attribute key=\"assets/vertical_greenery/2.PNG\" value=\"rpk:file:/C:%5CUsers%5Ccami9495%5CDocuments%5Cesri-cityengine-sdk-master%5Cexamples%5Cpy4prt%5CDemo2_Optimization%5Cenvelope2409.rpk!/assets/vertical_greenery/2.PNG\" type=\"str\"/>\n",
      "\t<attribute key=\"/green_optimization_3/assets/concrete.jpg\" value=\"rpk:file:/C:%5CUsers%5Ccami9495%5CDocuments%5Cesri-cityengine-sdk-master%5Cexamples%5Cpy4prt%5CDemo2_Optimization%5Cenvelope2409.rpk!/assets/concrete.jpg\" type=\"str\"/>\n",
      "\t<attribute key=\"/green_optimization_3/assets/vertical_greenery/10.PNG\" value=\"rpk:file:/C:%5CUsers%5Ccami9495%5CDocuments%5Cesri-cityengine-sdk-master%5Cexamples%5Cpy4prt%5CDemo2_Optimization%5Cenvelope2409.rpk!/assets/vertical_greenery/10.PNG\" type=\"str\"/>\n",
      "\t<attribute key=\"/green_optimization_3/rules/typology/facade.cga\" value=\"rpk:file:/C:%5CUsers%5Ccami9495%5CDocuments%5Cesri-cityengine-sdk-master%5Cexamples%5Cpy4prt%5CDemo2_Optimization%5Cenvelope2409.rpk!/rules/typology/facade.cga\" type=\"str\"/>\n",
      "\t<attribute key=\"assets/wall_plaster.jpg\" value=\"rpk:file:/C:%5CUsers%5Ccami9495%5CDocuments%5Cesri-cityengine-sdk-master%5Cexamples%5Cpy4prt%5CDemo2_Optimization%5Cenvelope2409.rpk!/assets/wall_plaster.jpg\" type=\"str\"/>\n",
      "\t<attribute key=\"/green_optimization_3/rules/typology/landscape.cga\" value=\"rpk:file:/C:%5CUsers%5Ccami9495%5CDocuments%5Cesri-cityengine-sdk-master%5Cexamples%5Cpy4prt%5CDemo2_Optimization%5Cenvelope2409.rpk!/rules/typology/landscape.cga\" type=\"str\"/>\n",
      "\t<attribute key=\"assets/bench.obj\" value=\"rpk:file:/C:%5CUsers%5Ccami9495%5CDocuments%5Cesri-cityengine-sdk-master%5Cexamples%5Cpy4prt%5CDemo2_Optimization%5Cenvelope2409.rpk!/assets/bench.obj\" type=\"str\"/>\n",
      "\t<attribute key=\"rules/typology/envelope2409.cga\" value=\"rpk:file:/C:%5CUsers%5Ccami9495%5CDocuments%5Cesri-cityengine-sdk-master%5Cexamples%5Cpy4prt%5CDemo2_Optimization%5Cenvelope2409.rpk!/rules/typology/envelope2409.cga\" type=\"str\"/>\n",
      "\t<attribute key=\"assets/unified_landscape/plan3.mtl\" value=\"rpk:file:/C:%5CUsers%5Ccami9495%5CDocuments%5Cesri-cityengine-sdk-master%5Cexamples%5Cpy4prt%5CDemo2_Optimization%5Cenvelope2409.rpk!/assets/unified_landscape/plan3.mtl\" type=\"str\"/>\n",
      "\t<attribute key=\"/green_optimization_3/assets/unified_landscape/plan2.obj\" value=\"rpk:file:/C:%5CUsers%5Ccami9495%5CDocuments%5Cesri-cityengine-sdk-master%5Cexamples%5Cpy4prt%5CDemo2_Optimization%5Cenvelope2409.rpk!/assets/unified_landscape/plan2.obj\" type=\"str\"/>\n",
      "\t<attribute key=\"/green_optimization_3/rules/typology/volume.cga\" value=\"rpk:file:/C:%5CUsers%5Ccami9495%5CDocuments%5Cesri-cityengine-sdk-master%5Cexamples%5Cpy4prt%5CDemo2_Optimization%5Cenvelope2409.rpk!/rules/typology/volume.cga\" type=\"str\"/>\n",
      "\t<attribute key=\"/green_optimization_3/assets/lawn2.jpg\" value=\"rpk:file:/C:%5CUsers%5Ccami9495%5CDocuments%5Cesri-cityengine-sdk-master%5Cexamples%5Cpy4prt%5CDemo2_Optimization%5Cenvelope2409.rpk!/assets/lawn2.jpg\" type=\"str\"/>\n",
      "\t<attribute key=\"/ESRI.lib/rules/Plants/Plant_Distributor.cga\" value=\"rpk:file:/C:%5CUsers%5Ccami9495%5CDocuments%5Cesri-cityengine-sdk-master%5Cexamples%5Cpy4prt%5CDemo2_Optimization%5Cenvelope2409.rpk!/.ws/ESRI.lib/rules/Plants/Plant_Distributor.cga\" type=\"str\"/>\n",
      "\t<attribute key=\"/green_optimization_3/assets/vertical_greenery/3.PNG\" value=\"rpk:file:/C:%5CUsers%5Ccami9495%5CDocuments%5Cesri-cityengine-sdk-master%5Cexamples%5Cpy4prt%5CDemo2_Optimization%5Cenvelope2409.rpk!/assets/vertical_greenery/3.PNG\" type=\"str\"/>\n",
      "\t<attribute key=\"rules/typology/landscape.cga\" value=\"rpk:file:/C:%5CUsers%5Ccami9495%5CDocuments%5Cesri-cityengine-sdk-master%5Cexamples%5Cpy4prt%5CDemo2_Optimization%5Cenvelope2409.rpk!/rules/typology/landscape.cga\" type=\"str\"/>\n",
      "\t<attribute key=\"assets/unified_landscape/plan3.obj\" value=\"rpk:file:/C:%5CUsers%5Ccami9495%5CDocuments%5Cesri-cityengine-sdk-master%5Cexamples%5Cpy4prt%5CDemo2_Optimization%5Cenvelope2409.rpk!/assets/unified_landscape/plan3.obj\" type=\"str\"/>\n",
      "\t<attribute key=\"assets/vertical_greenery/5.PNG\" value=\"rpk:file:/C:%5CUsers%5Ccami9495%5CDocuments%5Cesri-cityengine-sdk-master%5Cexamples%5Cpy4prt%5CDemo2_Optimization%5Cenvelope2409.rpk!/assets/vertical_greenery/5.PNG\" type=\"str\"/>\n",
      "\t<attribute key=\"/green_optimization_3/assets/unified_landscape/plan4.mtl\" value=\"rpk:file:/C:%5CUsers%5Ccami9495%5CDocuments%5Cesri-cityengine-sdk-master%5Cexamples%5Cpy4prt%5CDemo2_Optimization%5Cenvelope2409.rpk!/assets/unified_landscape/plan4.mtl\" type=\"str\"/>\n",
      "\t<attribute key=\"/green_optimization_3/assets/Bench/ooMaterial2.jpg\" value=\"rpk:file:/C:%5CUsers%5Ccami9495%5CDocuments%5Cesri-cityengine-sdk-master%5Cexamples%5Cpy4prt%5CDemo2_Optimization%5Cenvelope2409.rpk!/assets/Bench/ooMaterial2.jpg\" type=\"str\"/>\n",
      "\t<attribute key=\"/green_optimization_3/assets/unified_landscape/plan3.mtl\" value=\"rpk:file:/C:%5CUsers%5Ccami9495%5CDocuments%5Cesri-cityengine-sdk-master%5Cexamples%5Cpy4prt%5CDemo2_Optimization%5Cenvelope2409.rpk!/assets/unified_landscape/plan3.mtl\" type=\"str\"/>\n",
      "\t<attribute key=\"assets/vertical_greenery/3.PNG\" value=\"rpk:file:/C:%5CUsers%5Ccami9495%5CDocuments%5Cesri-cityengine-sdk-master%5Cexamples%5Cpy4prt%5CDemo2_Optimization%5Cenvelope2409.rpk!/assets/vertical_greenery/3.PNG\" type=\"str\"/>\n",
      "\t<attribute key=\"assets/vertical_greenery/7.PNG\" value=\"rpk:file:/C:%5CUsers%5Ccami9495%5CDocuments%5Cesri-cityengine-sdk-master%5Cexamples%5Cpy4prt%5CDemo2_Optimization%5Cenvelope2409.rpk!/assets/vertical_greenery/7.PNG\" type=\"str\"/>\n",
      "\t<attribute key=\"assets/unified_landscape/plan2.obj\" value=\"rpk:file:/C:%5CUsers%5Ccami9495%5CDocuments%5Cesri-cityengine-sdk-master%5Cexamples%5Cpy4prt%5CDemo2_Optimization%5Cenvelope2409.rpk!/assets/unified_landscape/plan2.obj\" type=\"str\"/>\n",
      "\t<attribute key=\"assets/Bench.mtl\" value=\"rpk:file:/C:%5CUsers%5Ccami9495%5CDocuments%5Cesri-cityengine-sdk-master%5Cexamples%5Cpy4prt%5CDemo2_Optimization%5Cenvelope2409.rpk!/assets/Bench.mtl\" type=\"str\"/>\n",
      "\t<attribute key=\"rules/typology/volume.cga\" value=\"rpk:file:/C:%5CUsers%5Ccami9495%5CDocuments%5Cesri-cityengine-sdk-master%5Cexamples%5Cpy4prt%5CDemo2_Optimization%5Cenvelope2409.rpk!/rules/typology/volume.cga\" type=\"str\"/>\n",
      "\t<attribute key=\"/green_optimization_3/assets/Bench.mtl\" value=\"rpk:file:/C:%5CUsers%5Ccami9495%5CDocuments%5Cesri-cityengine-sdk-master%5Cexamples%5Cpy4prt%5CDemo2_Optimization%5Cenvelope2409.rpk!/assets/Bench.mtl\" type=\"str\"/>\n",
      "\t<attribute key=\"/green_optimization_3/assets/vertical_greenery/5.PNG\" value=\"rpk:file:/C:%5CUsers%5Ccami9495%5CDocuments%5Cesri-cityengine-sdk-master%5Cexamples%5Cpy4prt%5CDemo2_Optimization%5Cenvelope2409.rpk!/assets/vertical_greenery/5.PNG\" type=\"str\"/>\n",
      "\t<attribute key=\"/green_optimization_3/assets/bench.obj\" value=\"rpk:file:/C:%5CUsers%5Ccami9495%5CDocuments%5Cesri-cityengine-sdk-master%5Cexamples%5Cpy4prt%5CDemo2_Optimization%5Cenvelope2409.rpk!/assets/bench.obj\" type=\"str\"/>\n",
      "\t<attribute key=\"/green_optimization_3/assets/wood.jpg\" value=\"rpk:file:/C:%5CUsers%5Ccami9495%5CDocuments%5Cesri-cityengine-sdk-master%5Cexamples%5Cpy4prt%5CDemo2_Optimization%5Cenvelope2409.rpk!/assets/wood.jpg\" type=\"str\"/>\n",
      "\t<attribute key=\"assets/vertical_greenery/6.PNG\" value=\"rpk:file:/C:%5CUsers%5Ccami9495%5CDocuments%5Cesri-cityengine-sdk-master%5Cexamples%5Cpy4prt%5CDemo2_Optimization%5Cenvelope2409.rpk!/assets/vertical_greenery/6.PNG\" type=\"str\"/>\n",
      "\t<attribute key=\"assets/Bench/ooMaterial2.jpg\" value=\"rpk:file:/C:%5CUsers%5Ccami9495%5CDocuments%5Cesri-cityengine-sdk-master%5Cexamples%5Cpy4prt%5CDemo2_Optimization%5Cenvelope2409.rpk!/assets/Bench/ooMaterial2.jpg\" type=\"str\"/>\n",
      "\t<attribute key=\"/green_optimization_3/assets/brick_wall.jpg\" value=\"rpk:file:/C:%5CUsers%5Ccami9495%5CDocuments%5Cesri-cityengine-sdk-master%5Cexamples%5Cpy4prt%5CDemo2_Optimization%5Cenvelope2409.rpk!/assets/brick_wall.jpg\" type=\"str\"/>\n",
      "\t<attribute key=\"rules/typology/facade.cga\" value=\"rpk:file:/C:%5CUsers%5Ccami9495%5CDocuments%5Cesri-cityengine-sdk-master%5Cexamples%5Cpy4prt%5CDemo2_Optimization%5Cenvelope2409.rpk!/rules/typology/facade.cga\" type=\"str\"/>\n",
      "\t<attribute key=\"assets/vertical_greenery/10.PNG\" value=\"rpk:file:/C:%5CUsers%5Ccami9495%5CDocuments%5Cesri-cityengine-sdk-master%5Cexamples%5Cpy4prt%5CDemo2_Optimization%5Cenvelope2409.rpk!/assets/vertical_greenery/10.PNG\" type=\"str\"/>\n",
      "\t<attribute key=\"/green_optimization_3/rules/typology/envelope2409.cga\" value=\"rpk:file:/C:%5CUsers%5Ccami9495%5CDocuments%5Cesri-cityengine-sdk-master%5Cexamples%5Cpy4prt%5CDemo2_Optimization%5Cenvelope2409.rpk!/rules/typology/envelope2409.cga\" type=\"str\"/>\n",
      "\t<attribute key=\"assets/vertical_greenery/1.PNG\" value=\"rpk:file:/C:%5CUsers%5Ccami9495%5CDocuments%5Cesri-cityengine-sdk-master%5Cexamples%5Cpy4prt%5CDemo2_Optimization%5Cenvelope2409.rpk!/assets/vertical_greenery/1.PNG\" type=\"str\"/>\n",
      "\t<attribute key=\"assets/unified_landscape/plan4.mtl\" value=\"rpk:file:/C:%5CUsers%5Ccami9495%5CDocuments%5Cesri-cityengine-sdk-master%5Cexamples%5Cpy4prt%5CDemo2_Optimization%5Cenvelope2409.rpk!/assets/unified_landscape/plan4.mtl\" type=\"str\"/>\n",
      "</ResolveMap>\n",
      "\n"
     ]
    },
    {
     "name": "stdout",
     "output_type": "stream",
     "text": [
      "[PRT] [2019-09-30 16:01:04] [debug] width 32, height 32, rasterCount 3\n",
      "[PRT] [2019-09-30 16:01:04] [debug] width 32, height 32, rasterCount 3\n",
      "[PRT] [2019-09-30 16:01:04] [debug] width 32, height 32, rasterCount 3\n",
      "[PRT] [2019-09-30 16:01:04] [debug] width 64, height 32, rasterCount 3\n",
      "[PRT] [2019-09-30 16:01:04] [debug] width 64, height 32, rasterCount 3\n",
      "[PRT] [2019-09-30 16:01:04] [debug] width 64, height 32, rasterCount 3\n",
      "[PRT] [2019-09-30 16:01:05] [debug] width 489, height 489, rasterCount 3\n",
      "[PRT] [2019-09-30 16:01:05] [debug] width 489, height 489, rasterCount 3\n",
      "[PRT] [2019-09-30 16:01:05] [debug] width 850, height 850, rasterCount 3\n",
      "[PRT] [2019-09-30 16:01:05] [debug] width 489, height 489, rasterCount 3\n",
      "[PRT] [2019-09-30 16:01:05] [debug] width 850, height 850, rasterCount 3\n",
      "[PRT] [2019-09-30 16:01:05] [debug] width 850, height 850, rasterCount 3\n",
      "[PRT] [2019-09-30 16:01:05] [debug] width 489, height 489, rasterCount 3\n",
      "[PRT] [2019-09-30 16:01:05] [debug] width 850, height 850, rasterCount 3\n",
      "[PRT] [2019-09-30 16:01:05] [debug] width 489, height 489, rasterCount 3\n",
      "[PRT] [2019-09-30 16:01:05] [debug] width 850, height 850, rasterCount 3\n",
      "[PRT] [2019-09-30 16:01:05] [debug] width 850, height 850, rasterCount 3\n",
      "[PRT] [2019-09-30 16:01:05] [debug] width 489, height 489, rasterCount 3\n",
      "[PRT] [2019-09-30 16:01:05] [debug] width 850, height 850, rasterCount 3\n",
      "[PRT] [2019-09-30 16:01:05] [debug] width 489, height 489, rasterCount 3\n",
      "[PRT] [2019-09-30 16:01:05] [debug] width 850, height 850, rasterCount 3\n",
      "[PRT] [2019-09-30 16:01:05] [debug] width 850, height 850, rasterCount 3\n",
      "[PRT] [2019-09-30 16:01:05] [debug] width 489, height 489, rasterCount 3\n",
      "[PRT] [2019-09-30 16:01:06] [debug] width 1024, height 1024, rasterCount 3\n",
      "[PRT] [2019-09-30 16:01:07] [debug] width 1024, height 1024, rasterCount 3\n",
      "[PRT] [2019-09-30 16:01:07] [debug] width 1024, height 1024, rasterCount 3\n",
      "[PRT] [2019-09-30 16:01:07] [debug] width 489, height 733, rasterCount 4\n",
      "[PRT] [2019-09-30 16:01:07] [debug] width 327, height 490, rasterCount 4\n",
      "[PRT] [2019-09-30 16:01:07] [debug] width 325, height 490, rasterCount 4\n",
      "[PRT] [2019-09-30 16:01:07] [debug] width 489, height 662, rasterCount 4\n",
      "[PRT] [2019-09-30 16:01:07] [debug] width 289, height 490, rasterCount 4\n",
      "[PRT] [2019-09-30 16:01:07] [debug] width 302, height 490, rasterCount 4\n",
      "[PRT] [2019-09-30 16:01:07] [debug] width 490, height 662, rasterCount 4\n",
      "[PRT] [2019-09-30 16:01:07] [debug] width 490, height 689, rasterCount 4\n",
      "[PRT] [2019-09-30 16:01:07] [debug] width 489, height 733, rasterCount 3\n",
      "[PRT] [2019-09-30 16:01:07] [debug] width 327, height 490, rasterCount 3\n",
      "[PRT] [2019-09-30 16:01:07] [debug] width 325, height 490, rasterCount 3\n",
      "[PRT] [2019-09-30 16:01:07] [debug] width 489, height 662, rasterCount 3\n",
      "[PRT] [2019-09-30 16:01:07] [debug] width 289, height 490, rasterCount 3\n",
      "[PRT] [2019-09-30 16:01:07] [debug] width 302, height 490, rasterCount 3\n",
      "[PRT] [2019-09-30 16:01:07] [debug] width 490, height 662, rasterCount 3\n",
      "[PRT] [2019-09-30 16:01:07] [debug] width 465, height 657, rasterCount 3\n",
      "[PRT] [2019-09-30 16:01:07] [debug] width 436, height 697, rasterCount 3\n",
      "[PRT] [2019-09-30 16:01:07] [debug] width 490, height 689, rasterCount 3\n",
      "[PRT] [2019-09-30 16:01:07] [debug] width 489, height 733, rasterCount 3\n",
      "[PRT] [2019-09-30 16:01:07] [debug] width 327, height 490, rasterCount 3\n",
      "[PRT] [2019-09-30 16:01:07] [debug] width 325, height 490, rasterCount 3\n",
      "[PRT] [2019-09-30 16:01:07] [debug] width 489, height 662, rasterCount 3\n",
      "[PRT] [2019-09-30 16:01:07] [debug] width 289, height 490, rasterCount 3\n",
      "[PRT] [2019-09-30 16:01:07] [debug] width 302, height 490, rasterCount 3\n",
      "[PRT] [2019-09-30 16:01:07] [debug] width 490, height 662, rasterCount 3\n",
      "[PRT] [2019-09-30 16:01:07] [debug] width 465, height 657, rasterCount 3\n",
      "[PRT] [2019-09-30 16:01:07] [debug] width 436, height 697, rasterCount 3\n",
      "[PRT] [2019-09-30 16:01:07] [debug] width 490, height 689, rasterCount 3\n",
      "[PRT] [2019-09-30 16:01:08] [debug] width 489, height 733, rasterCount 3\n",
      "[PRT] [2019-09-30 16:01:08] [debug] width 327, height 490, rasterCount 3\n",
      "[PRT] [2019-09-30 16:01:08] [debug] width 325, height 490, rasterCount 3\n",
      "[PRT] [2019-09-30 16:01:08] [debug] width 489, height 662, rasterCount 3\n",
      "[PRT] [2019-09-30 16:01:08] [debug] width 289, height 490, rasterCount 3\n",
      "[PRT] [2019-09-30 16:01:08] [debug] width 302, height 490, rasterCount 3\n",
      "[PRT] [2019-09-30 16:01:08] [debug] width 490, height 662, rasterCount 3\n",
      "[PRT] [2019-09-30 16:01:08] [debug] width 465, height 657, rasterCount 3\n",
      "[PRT] [2019-09-30 16:01:08] [debug] width 436, height 697, rasterCount 3\n",
      "[PRT] [2019-09-30 16:01:08] [debug] width 490, height 689, rasterCount 3\n",
      "[PRT] [2019-09-30 16:01:09] [debug] width 1024, height 1024, rasterCount 3\n",
      "[PRT] [2019-09-30 16:01:09] [debug] width 1024, height 1024, rasterCount 3\n",
      "[PRT] [2019-09-30 16:01:09] [debug] width 1024, height 1024, rasterCount 3\n"
     ]
    }
   ],
   "source": [
    "export_file_name = \"Demo_SLPKModel3\"\n",
    "enc_optionsSLPK = {'sceneType' : \"Local\",'baseName' : export_file_name,'sceneWkid' : \"3857\",'layerTextureEncoding' : [\"2\"],'layerEnabled' : [True],'layerUID' : [\"1\"],'layerName' : [\"1\"],'layerTextureQuality' : [1.0],'layerTextureCompression' : [9],'layerTextureScaling' : [1.0],'layerTextureMaxDimension' : [2048],'layerFeatureGranularity' : [\"0\"],'layerBackfaceCulling' : [False]}\n",
    "\n",
    "#attrs_green[input_attr_green[0]] = res_green.x[0]\n",
    "#attrs_green[input_attr_green[1]] = res_green.x[1]\n",
    "#attrs_green[input_attr_green[2]] = res_green.x[2]\n",
    "green_model = m.generate_model(attrs_green, rpk_green, \"com.esri.prt.codecs.I3SEncoder\", enc_optionsSLPK)"
   ]
  },
  {
   "cell_type": "code",
   "execution_count": 46,
   "metadata": {},
   "outputs": [],
   "source": [
    "item = my_gis.content.add({'type':'Scene Package'}, data=asset_file(\"..\\output\\%s.slpk\" % export_file_name), folder='packages')\n",
    "if item is None:\n",
    "    # first delete the existing one if any and add\n",
    "    my_gis.content.delete_items([item])\n",
    "    item = my_gis.content.add({'type':'Scene Package'}, asset_file(\"..\\output\\%s.slpk\" % export_file_name), folder='packages')\n",
    "published_item = item.publish()"
   ]
  },
  {
   "cell_type": "code",
   "execution_count": 47,
   "metadata": {},
   "outputs": [
    {
     "data": {
      "text/html": [
       "\n",
       "        <iframe\n",
       "            width=\"900\"\n",
       "            height=\"600\"\n",
       "            src=\"http://zurich.maps.arcgis.com/home/webscene/viewer.html?layers=8c81ed9d89df4f179edbbd48a49f9a83\"\n",
       "            frameborder=\"0\"\n",
       "            allowfullscreen\n",
       "        ></iframe>\n",
       "        "
      ],
      "text/plain": [
       "<IPython.lib.display.IFrame at 0x24f4f166ef0>"
      ]
     },
     "execution_count": 47,
     "metadata": {},
     "output_type": "execute_result"
    }
   ],
   "source": [
    "source3 = 'http://zurich.maps.arcgis.com/home/webscene/viewer.html?layers=' + published_item.id\n",
    "IFrame(src=source3, width=900, height=600)"
   ]
  },
  {
   "cell_type": "code",
   "execution_count": 48,
   "metadata": {
    "scrolled": true
   },
   "outputs": [
    {
     "name": "stdout",
     "output_type": "stream",
     "text": [
      "\n",
      "Shutdown PRT.\n"
     ]
    }
   ],
   "source": [
    "print(\"\\nShutdown PRT.\")\n",
    "pyprt.shutdown_prt()"
   ]
  },
  {
   "cell_type": "code",
   "execution_count": null,
   "metadata": {},
   "outputs": [],
   "source": []
  }
 ],
 "metadata": {
  "file_extension": ".py",
  "kernelspec": {
   "display_name": "Python 3",
   "language": "python",
   "name": "python3"
  },
  "language_info": {
   "codemirror_mode": {
    "name": "ipython",
    "version": 3
   },
   "file_extension": ".py",
   "mimetype": "text/x-python",
   "name": "python",
   "nbconvert_exporter": "python",
   "pygments_lexer": "ipython3",
   "version": "3.6.8"
  },
  "mimetype": "text/x-python",
  "name": "python",
  "npconvert_exporter": "python",
  "pygments_lexer": "ipython3",
  "version": 3
 },
 "nbformat": 4,
 "nbformat_minor": 2
}
