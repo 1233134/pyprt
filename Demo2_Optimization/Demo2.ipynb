{
 "cells": [
  {
   "cell_type": "markdown",
   "metadata": {},
   "source": [
    "<img src=\"image.jpg\">"
   ]
  },
  {
   "cell_type": "markdown",
   "metadata": {},
   "source": [
    " # PyPRT - Building Modeling Optimization"
   ]
  },
  {
   "cell_type": "markdown",
   "metadata": {},
   "source": [
    "This notebook is used to show how the Python bindings for PRT can be employed in optimizing the rule attributes of a generated model to achive predefined performance goals."
   ]
  },
  {
   "cell_type": "markdown",
   "metadata": {},
   "source": [
    "TODO:\n",
    "    - change \"total report for optimisation\" to \"building greenery (trees and ground greenery)\" or something like that in Ioanna's rule\n",
    "    - find a way to put a limit to the minimum thickness of the building walls\n",
    "    - put different weight (<10) for the number of trees: total report for optimization = green area + 10* nber of trees in order to have a better results for the step 1 optimization\n",
    "    \n",
    "    - research for other python library that has optimiaztion algorithms with possibility to define input attributes step size"
   ]
  },
  {
   "cell_type": "markdown",
   "metadata": {},
   "source": [
    "#### Imports and paths-related functions"
   ]
  },
  {
   "cell_type": "code",
   "execution_count": 1,
   "metadata": {},
   "outputs": [],
   "source": [
    "import sys, os\n",
    "\n",
    "sys.path.append(os.path.join(os.getcwd(), \"..\", \"src\"))\n",
    "from utility import visualize_PRT_results, combine_reports\n",
    "\n",
    "SDK_PATH = os.path.join(os.getcwd(), \"..\", \"install\", \"bin\")\n",
    "sys.path.append(SDK_PATH)\n",
    "\n",
    "import pyprt\n",
    "\n",
    "from scipy import optimize\n",
    "import numpy as np\n",
    "\n",
    "CS_FOLDER = os.getcwd()\n",
    "def asset_file(filename):\n",
    "    return os.path.join(CS_FOLDER, filename)\n",
    "\n",
    "from IPython.display import IFrame\n",
    "from arcgis import GIS"
   ]
  },
  {
   "cell_type": "code",
   "execution_count": 27,
   "metadata": {},
   "outputs": [
    {
     "name": "stdout",
     "output_type": "stream",
     "text": [
      "Enter password: ········\n"
     ]
    }
   ],
   "source": [
    "my_gis = GIS(username=\"CLechot_zurich\")"
   ]
  },
  {
   "cell_type": "code",
   "execution_count": 2,
   "metadata": {
    "scrolled": true
   },
   "outputs": [
    {
     "name": "stdout",
     "output_type": "stream",
     "text": [
      "\n",
      "Initializing PRT.\n",
      "[PRT] [2019-09-24 13:43:51] [info] Esri Procedural Runtime\n",
      "[PRT] [2019-09-24 13:43:51] [info] Version: 2.1.5704 | Build Date: Tue 09/03/2019 06:40 PM | Build Config: PRT_BC_REL PRT_CC_OPT PRT_TC_VC141 | OS: win32 | ARCH: x86_64\n",
      "[PRT] [2019-09-24 13:43:51] [debug] prtPlugins item 0: 'C:\\Users\\cami9495\\Documents\\esri-cityengine-sdk-master\\examples\\py4prt\\Demo2_Optimization\\..\\install\\lib'\n",
      "[PRT] [2019-09-24 13:43:51] [error] failed to load library: error while loading library 'C:\\Users\\cami9495\\Documents\\esri-cityengine-sdk-master\\examples\\py4prt\\Demo2_Optimization\\..\\install\\lib\\com.esri.prt.unreal.dll': The specified module could not be found.\r\n",
      "\n",
      "[PRT] [2019-09-24 13:43:51] [warning] failed to load library com.esri.prt.unreal.dll\n",
      "[PRT] [2019-09-24 13:43:51] [error] failed to load library: error while loading library 'C:\\Users\\cami9495\\Documents\\esri-cityengine-sdk-master\\examples\\py4prt\\Demo2_Optimization\\..\\install\\lib\\DatasmithSDK.dll': The specified module could not be found.\r\n",
      "\n",
      "[PRT] [2019-09-24 13:43:51] [warning] failed to load library DatasmithSDK.dll\n",
      "[PRT] [2019-09-24 13:43:51] [debug] library 'C:\\Users\\cami9495\\Documents\\esri-cityengine-sdk-master\\examples\\py4prt\\Demo2_Optimization\\..\\install\\lib\\FreeImage317.dll' is not a compatible extension (reason: 'error while loading function 'getVersionMajor': The specified procedure could not be found.\r\n",
      "')\n",
      "[PRT] [2019-09-24 13:43:51] [debug] library 'C:\\Users\\cami9495\\Documents\\esri-cityengine-sdk-master\\examples\\py4prt\\Demo2_Optimization\\..\\install\\lib\\LibRaw.dll' is not a compatible extension (reason: 'error while loading function 'getVersionMajor': The specified procedure could not be found.\r\n",
      "')\n",
      "[PRT] [2019-09-24 13:43:51] [debug] library 'C:\\Users\\cami9495\\Documents\\esri-cityengine-sdk-master\\examples\\py4prt\\Demo2_Optimization\\..\\install\\lib\\VueExport.dll' is not a compatible extension (reason: 'error while loading function 'getVersionMajor': The specified procedure could not be found.\r\n",
      "')\n",
      "[PRT] [2019-09-24 13:43:51] [info] Available Extensions:\n",
      "[PRT] [2019-09-24 13:43:51] [info]     com.esri.prt.adaptors.FileSystemAdaptor       (1.0) Resolves URIs on the file system.\n",
      "[PRT] [2019-09-24 13:43:51] [info]     com.esri.prt.adaptors.SevenZipResolveMapProvider (2.0) Resolves URIs inside 7ZIP archives.\n",
      "[PRT] [2019-09-24 13:43:51] [info]     com.esri.prt.adaptors.SevenZipStreamAdaptor   (2.0) Resolves URIs inside 7ZIP archives.\n",
      "[PRT] [2019-09-24 13:43:51] [info]     com.esri.prt.adaptors.ZipFileResolveMapProvider (1.0) Resolves URIs inside ZIP archives.\n",
      "[PRT] [2019-09-24 13:43:51] [info]     com.esri.prt.adaptors.ZipFileStreamAdaptor    (1.0) Resolves URIs inside ZIP archives.\n",
      "[PRT] [2019-09-24 13:43:51] [info]     com.esri.prt.codecs.ACE2Decoder               (1.0) Reads ACE2 images into textures\n",
      "[PRT] [2019-09-24 13:43:51] [info]     com.esri.prt.codecs.ASCDecoder                (1.0) Reads Arc/Info ASCII Grid images into textures\n",
      "[PRT] [2019-09-24 13:43:51] [info]     com.esri.prt.codecs.AlembicEncoder            (1.0) Encodes geometry into the alembic format.\n",
      "[PRT] [2019-09-24 13:43:51] [info]     com.esri.prt.codecs.BINDecoder                (1.0) Reads NOAA NGS Geoid Height Grids images into textures\n",
      "[PRT] [2019-09-24 13:43:51] [info]     com.esri.prt.codecs.BMPDecoder                (1.0) Reads MS Windows Device Independent Bitmap images into textures\n",
      "[PRT] [2019-09-24 13:43:51] [info]     com.esri.prt.codecs.BTDecoder                 (1.0) Reads VTP .bt (Binary Terrain) 1.3 Format images into textures\n",
      "[PRT] [2019-09-24 13:43:51] [info]     com.esri.prt.codecs.ColladaDecoder            (1.0) Decodes geometry in COLLADA DAE format.\n",
      "[PRT] [2019-09-24 13:43:51] [info]     com.esri.prt.codecs.ColladaEncoder            (1.0) Encodes geometry into the Khronos COLLADA format.\n",
      "[PRT] [2019-09-24 13:43:51] [info]     com.esri.prt.codecs.DATDecoder                (1.0) Reads ZMap Plus Grid images into textures\n",
      "[PRT] [2019-09-24 13:43:51] [info]     com.esri.prt.codecs.DDFDecoder                (1.0) Reads SDTS Raster images into textures\n",
      "[PRT] [2019-09-24 13:43:51] [info]     com.esri.prt.codecs.DEMDecoder                (1.0) Reads USGS Optional ASCII DEM (and CDED) images into textures\n",
      "[PRT] [2019-09-24 13:43:51] [info]     com.esri.prt.codecs.DxtEncoder                (1.0) Encodes images and textures into the DXT format.\n",
      "[PRT] [2019-09-24 13:43:51] [info]     com.esri.prt.codecs.E00Decoder                (1.0) Reads Arc/Info Export E00 GRID images into textures\n",
      "[PRT] [2019-09-24 13:43:51] [info]     com.esri.prt.codecs.FBXDecoder                (1.0) Decodes geometry in the Autodesk Filmbox (FBX) format.\n",
      "[PRT] [2019-09-24 13:43:51] [info]     com.esri.prt.codecs.FBXEncoder                (1.0) Encodes geometry into the Autodesk Filmbox (FBX) format.\n",
      "[PRT] [2019-09-24 13:43:51] [info]     com.esri.prt.codecs.GENDecoder                (1.0) Reads ARC Digitized Raster Graphics images into textures\n",
      "[PRT] [2019-09-24 13:43:51] [info]     com.esri.prt.codecs.GFFDecoder                (1.0) Reads Ground-based SAR Applications Testbed File Format (.gff) images into textures\n",
      "[PRT] [2019-09-24 13:43:51] [info]     com.esri.prt.codecs.GIFDecoder                (1.0) Reads Graphics Interchange Format (.gif) images into textures\n",
      "[PRT] [2019-09-24 13:43:51] [info]     com.esri.prt.codecs.GLTFDecoder               (1.0) Decodes geometry from the glTF format.\n",
      "[PRT] [2019-09-24 13:43:51] [info]     com.esri.prt.codecs.GLTFEncoder               (1.0) Encodes geometry into the Khronos Group glTF 2.0 format.\n",
      "[PRT] [2019-09-24 13:43:51] [info]     com.esri.prt.codecs.GLTFResolveMapProvider    (1.0) Resolves URIs for GLTF embedded data.\n",
      "[PRT] [2019-09-24 13:43:51] [info]     com.esri.prt.codecs.GRBDecoder                (1.0) Reads GRIdded Binary (.grb) images into textures\n",
      "[PRT] [2019-09-24 13:43:51] [info]     com.esri.prt.codecs.GRCDecoder                (1.0) Reads Northwood Classified Grid Format .grc/.tab images into textures\n",
      "[PRT] [2019-09-24 13:43:51] [info]     com.esri.prt.codecs.GRDDecoder                (1.0) Reads Golden Software ASCII Grid (.grd) images into textures\n",
      "[PRT] [2019-09-24 13:43:51] [info]     com.esri.prt.codecs.GSBDecoder                (1.0) Reads NTv2 Datum Grid Shift images into textures\n",
      "[PRT] [2019-09-24 13:43:51] [info]     com.esri.prt.codecs.GTXDecoder                (1.0) Reads NOAA Vertical Datum .GTX images into textures\n",
      "[PRT] [2019-09-24 13:43:51] [info]     com.esri.prt.codecs.HDRDecoder                (1.0) Reads Snow Data Assimilation System images into textures\n",
      "[PRT] [2019-09-24 13:43:51] [info]     com.esri.prt.codecs.HF2Decoder                (1.0) Reads HF2/HFZ heightfield raster images into textures\n",
      "[PRT] [2019-09-24 13:43:51] [info]     com.esri.prt.codecs.HGTDecoder                (1.0) Reads SRTMHGT File Format images into textures\n",
      "[PRT] [2019-09-24 13:43:51] [info]     com.esri.prt.codecs.I3SEncoder                (1.0) Creates Scene Layer Packages that can be shared on ArcGIS Online/Portal.\n",
      "[PRT] [2019-09-24 13:43:51] [info]     com.esri.prt.codecs.IMGDecoder                (1.0) Reads Erdas Imagine Images (.img) images into textures\n",
      "[PRT] [2019-09-24 13:43:51] [info]     com.esri.prt.codecs.JPGDecoder                (1.0) Reads JPEG JFIF images into textures\n",
      "[PRT] [2019-09-24 13:43:51] [info]     com.esri.prt.codecs.JPGEncoder                (1.0) Encodes images and textures into the JPEG format.\n",
      "[PRT] [2019-09-24 13:43:51] [info]     com.esri.prt.codecs.LCPDecoder                (1.0) Reads FARSITE v.4 Landscape File (.lcp) images into textures\n",
      "[PRT] [2019-09-24 13:43:51] [info]     com.esri.prt.codecs.LercEncoder               (1.0) Encodes images and textures into the LERC format.\n",
      "[PRT] [2019-09-24 13:43:51] [info]     com.esri.prt.codecs.MEMDecoder                (1.0) Reads Japanese DEM (.mem) images into textures\n",
      "[PRT] [2019-09-24 13:43:51] [info]     com.esri.prt.codecs.MPRDecoder                (1.0) Reads ILWIS Raster Map images into textures\n",
      "[PRT] [2019-09-24 13:43:51] [info]     com.esri.prt.codecs.MTLDecoder                (1.0) Reads materials in Wavefront MTL format.\n",
      "[PRT] [2019-09-24 13:43:51] [info]     com.esri.prt.codecs.MTLEncoder                (1.0) Converts materials into Wavefront MTL format.\n",
      "[PRT] [2019-09-24 13:43:51] [info]     com.esri.prt.codecs.N1Decoder                 (1.0) Reads Envisat Image Format images into textures\n",
      "[PRT] [2019-09-24 13:43:51] [info]     com.esri.prt.codecs.NTFDecoder                (1.0) Reads National Imagery Transmission Format images into textures\n",
      "[PRT] [2019-09-24 13:43:51] [info]     com.esri.prt.codecs.OBJDecoder                (1.0) Decodes geometry from the Wavefront OBJ format.\n",
      "[PRT] [2019-09-24 13:43:51] [info]     com.esri.prt.codecs.OBJEncoder                (1.0) Encodes geometry into the Wavefront OBJ format.\n",
      "[PRT] [2019-09-24 13:43:51] [info]     com.esri.prt.codecs.PIXDecoder                (1.0) Reads PCIDSK Database File images into textures\n",
      "[PRT] [2019-09-24 13:43:51] [info]     com.esri.prt.codecs.PNGDecoder                (1.0) Reads Portable Network Graphics images into textures\n",
      "[PRT] [2019-09-24 13:43:51] [info]     com.esri.prt.codecs.PNGEncoder                (1.0) Encodes images and textures into the PNG format.\n",
      "[PRT] [2019-09-24 13:43:51] [info]     com.esri.prt.codecs.PNMDecoder                (1.0) Reads Portable Pixmap Format (netpbm) images into textures\n",
      "[PRT] [2019-09-24 13:43:51] [info]     com.esri.prt.codecs.RAWEncoder                (1.0) Stores the uncompressed image as data blob.\n",
      "[PRT] [2019-09-24 13:43:51] [info]     com.esri.prt.codecs.RDADecoder                (1.0) Reads R Object Data Store images into textures\n",
      "[PRT] [2019-09-24 13:43:51] [info]     com.esri.prt.codecs.RSTDecoder                (1.0) Reads Idrisi Raster A.1 images into textures\n",
      "[PRT] [2019-09-24 13:43:51] [info]     com.esri.prt.codecs.RSWDecoder                (1.0) Reads Raster Matrix Format images into textures\n",
      "[PRT] [2019-09-24 13:43:51] [info]     com.esri.prt.codecs.RenderManEncoder          (1.0) Encodes geometry to Pixar RenderMan.\n",
      "[PRT] [2019-09-24 13:43:51] [info]     com.esri.prt.codecs.SDATDecoder               (1.0) Reads SAGA GIS Binary Grid (.sdat) images into textures\n",
      "[PRT] [2019-09-24 13:43:51] [info]     com.esri.prt.codecs.ShapeBufferDecoder        (1.0) Reads Esri shape buffer geometry (only extended MultiPatch buffer).\n",
      "[PRT] [2019-09-24 13:43:51] [info]     com.esri.prt.codecs.ShapeBufferEncoder        (1.0) Encodes geometry into the esri shape buffer format (revision 2012-02-17).\n",
      "[PRT] [2019-09-24 13:43:51] [info]     com.esri.prt.codecs.TIFDecoder                (1.0) Reads GeoTIFF images into textures\n",
      "[PRT] [2019-09-24 13:43:51] [info]     com.esri.prt.codecs.TIFFEncoder               (1.0) Encodes images and textures into the TIFF format.\n",
      "[PRT] [2019-09-24 13:43:51] [info]     com.esri.prt.codecs.VOBEncoder                (1.0) Encodes geometry into the E-On Software Vue VOB format.\n",
      "[PRT] [2019-09-24 13:43:51] [info]     com.esri.prt.codecs.VRTDecoder                (1.0) Reads Virtual Raster images into textures\n",
      "[PRT] [2019-09-24 13:43:51] [info]     com.esri.prt.codecs.WebSceneEncoder           (1.0) Exports a scene into the Esri WebScene format.\n",
      "[PRT] [2019-09-24 13:43:51] [info]     com.esri.prt.codecs.WebSceneObjectEncoder     (1.0) Encodes geometry into Esri WebScene Objects.\n",
      "[PRT] [2019-09-24 13:43:51] [info]     com.esri.prt.codecs.XPMDecoder                (1.0) Reads X11 PixMap Format images into textures\n",
      "[PRT] [2019-09-24 13:43:51] [info]     com.esri.prt.codecs.XYZDecoder                (1.0) Reads ASCII Gridded XYZ images into textures\n",
      "[PRT] [2019-09-24 13:43:51] [info]     com.esri.prt.core.AttributeEvalEncoder        (1.0) Sets the values of (evaluated) shape attributes.\n",
      "[PRT] [2019-09-24 13:43:51] [info]     com.esri.prt.core.CGAErrorEncoder             (1.0) Handles errors encountered during CGA execution.\n",
      "[PRT] [2019-09-24 13:43:51] [info]     com.esri.prt.core.CGAPrintEncoder             (1.0) Handles the output of the CGA print statement.\n",
      "[PRT] [2019-09-24 13:43:51] [info]     com.esri.prt.core.CGAReportEncoder            (1.0) Handles report output generated by CGA.\n",
      "[PRT] [2019-09-24 13:43:51] [info]     com.esri.prt.core.CGBDecoder                  (1.0) CGB Byte Stream Reader\n",
      "[PRT] [2019-09-24 13:43:51] [info]     com.esri.prt.core.MemoryAdaptor               (1.0) Reads data in memory into a stream for decoding.\n",
      "[PRT] [2019-09-24 13:43:51] [info]     com.esri.prt.core.OcclusionEncoder            (1.0) Encodes a shape tree into the OcclusionSet for inter-occlusion. \n",
      "[PRT] [2019-09-24 13:43:51] [info]     com.esri.prt.core.RawTextureDecoder           (1.0) Reads raw (uncompressed) images into textures.\n",
      "[PRT] [2019-09-24 13:43:51] [info]     com.esri.prt.core.TextDecoder                 (1.0) Decodes text (ASCII, UTF-8, UTF-16) to a UTF-16 string.\n",
      "[PRT] [2019-09-24 13:43:51] [info]     com.esri.prt.examples.PyEncoder               (1.0) Encodes geometry for Python.\n"
     ]
    }
   ],
   "source": [
    "print(\"\\nInitializing PRT.\")\n",
    "pyprt.initialize_prt(SDK_PATH)\n",
    "\n",
    "if not pyprt.is_prt_initialized():\n",
    "    raise Exception(\"PRT is not initialized\")"
   ]
  },
  {
   "cell_type": "markdown",
   "metadata": {},
   "source": [
    "## Optimization Problem Definition"
   ]
  },
  {
   "cell_type": "markdown",
   "metadata": {},
   "source": [
    "In this notebook, we are using a CGA rule that allows us to generate modern and sustainable buildings. The architecture of these buildings is focused on the green aspect of the building. Therefore, in addition to be modern and esthetical, the generated building answers also to the actual requirements of the city which are to encourage the integration of greenery on the buildings."
   ]
  },
  {
   "cell_type": "markdown",
   "metadata": {},
   "source": [
    "<img src=\"green_building_parameters.png\" width=\"1000\" height=\"100\">"
   ]
  },
  {
   "cell_type": "code",
   "execution_count": 3,
   "metadata": {},
   "outputs": [],
   "source": [
    "rpk_green = asset_file(\"envelope2409.rpk\") #envelope1806.rpk\n",
    "attrs_green = {'ruleFile' : \"rules/typology/envelope2409.cgb\", 'startRule' : \"Default$Lot\", 'report_but_not_display_green' : True}\n",
    "\n",
    "shape_geo = asset_file(\"parcelN.obj\")"
   ]
  },
  {
   "cell_type": "markdown",
   "metadata": {},
   "source": [
    "### Optimization with envelope.rpk"
   ]
  },
  {
   "cell_type": "markdown",
   "metadata": {},
   "source": [
    "Step 1 : optimize the green area based on the lot coverage parameter"
   ]
  },
  {
   "cell_type": "markdown",
   "metadata": {},
   "source": [
    "### The variables"
   ]
  },
  {
   "cell_type": "code",
   "execution_count": 4,
   "metadata": {},
   "outputs": [],
   "source": [
    "goal_str_green = \"Greenery Area\" + \"_sum\"\n",
    "\n",
    "input_attr_green = [\"lot_coverage_parameter\"]\n",
    "x0_green = [float(50)]"
   ]
  },
  {
   "cell_type": "code",
   "execution_count": 6,
   "metadata": {},
   "outputs": [
    {
     "name": "stdout",
     "output_type": "stream",
     "text": [
      "[PRT] [2019-09-24 13:46:39] [debug] trying to read initial shape geometry from file:/C:%5CUsers%5Ccami9495%5CDocuments%5Cesri-cityengine-sdk-master%5Cexamples%5Cpy4prt%5CDemo2_Optimization%5CparcelN.obj\n",
      "\n",
      "[PRT] [2019-09-24 13:46:39] [info] using rule package C:\\Users\\cami9495\\Documents\\esri-cityengine-sdk-master\\examples\\py4prt\\Demo2_Optimization\\envelope2409.rpk\n",
      "\n",
      "[PRT] [2019-09-24 13:46:39] [debug] resolve map = <ResolveMap>\n",
      "\t<attribute key=\"assets/wall_plaster.jpg\" value=\"rpk:file:/C:%5CUsers%5Ccami9495%5CDocuments%5Cesri-cityengine-sdk-master%5Cexamples%5Cpy4prt%5CDemo2_Optimization%5Cenvelope2409.rpk!/assets/wall_plaster.jpg\" type=\"str\"/>\n",
      "\t<attribute key=\"/green_optimization_3/assets/wall_plaster.jpg\" value=\"rpk:file:/C:%5CUsers%5Ccami9495%5CDocuments%5Cesri-cityengine-sdk-master%5Cexamples%5Cpy4prt%5CDemo2_Optimization%5Cenvelope2409.rpk!/assets/wall_plaster.jpg\" type=\"str\"/>\n",
      "\t<attribute key=\"assets/lawn2.jpg\" value=\"rpk:file:/C:%5CUsers%5Ccami9495%5CDocuments%5Cesri-cityengine-sdk-master%5Cexamples%5Cpy4prt%5CDemo2_Optimization%5Cenvelope2409.rpk!/assets/lawn2.jpg\" type=\"str\"/>\n",
      "\t<attribute key=\"assets/vertical_greenery/10.PNG\" value=\"rpk:file:/C:%5CUsers%5Ccami9495%5CDocuments%5Cesri-cityengine-sdk-master%5Cexamples%5Cpy4prt%5CDemo2_Optimization%5Cenvelope2409.rpk!/assets/vertical_greenery/10.PNG\" type=\"str\"/>\n",
      "\t<attribute key=\"/green_optimization_3/rules/typology/envelope2409.cga\" value=\"rpk:file:/C:%5CUsers%5Ccami9495%5CDocuments%5Cesri-cityengine-sdk-master%5Cexamples%5Cpy4prt%5CDemo2_Optimization%5Cenvelope2409.rpk!/rules/typology/envelope2409.cga\" type=\"str\"/>\n",
      "\t<attribute key=\"rules/typology/volume.cga\" value=\"rpk:file:/C:%5CUsers%5Ccami9495%5CDocuments%5Cesri-cityengine-sdk-master%5Cexamples%5Cpy4prt%5CDemo2_Optimization%5Cenvelope2409.rpk!/rules/typology/volume.cga\" type=\"str\"/>\n",
      "\t<attribute key=\"/green_optimization_3/assets/vertical_greenery/9.PNG\" value=\"rpk:file:/C:%5CUsers%5Ccami9495%5CDocuments%5Cesri-cityengine-sdk-master%5Cexamples%5Cpy4prt%5CDemo2_Optimization%5Cenvelope2409.rpk!/assets/vertical_greenery/9.PNG\" type=\"str\"/>\n",
      "\t<attribute key=\"/green_optimization_3/assets/unified_landscape/plan4.obj\" value=\"rpk:file:/C:%5CUsers%5Ccami9495%5CDocuments%5Cesri-cityengine-sdk-master%5Cexamples%5Cpy4prt%5CDemo2_Optimization%5Cenvelope2409.rpk!/assets/unified_landscape/plan4.obj\" type=\"str\"/>\n",
      "\t<attribute key=\"/green_optimization_3/assets/lawn2.jpg\" value=\"rpk:file:/C:%5CUsers%5Ccami9495%5CDocuments%5Cesri-cityengine-sdk-master%5Cexamples%5Cpy4prt%5CDemo2_Optimization%5Cenvelope2409.rpk!/assets/lawn2.jpg\" type=\"str\"/>\n",
      "\t<attribute key=\"assets/Bench/ooMaterial2.jpg\" value=\"rpk:file:/C:%5CUsers%5Ccami9495%5CDocuments%5Cesri-cityengine-sdk-master%5Cexamples%5Cpy4prt%5CDemo2_Optimization%5Cenvelope2409.rpk!/assets/Bench/ooMaterial2.jpg\" type=\"str\"/>\n",
      "\t<attribute key=\"assets/Bench.mtl\" value=\"rpk:file:/C:%5CUsers%5Ccami9495%5CDocuments%5Cesri-cityengine-sdk-master%5Cexamples%5Cpy4prt%5CDemo2_Optimization%5Cenvelope2409.rpk!/assets/Bench.mtl\" type=\"str\"/>\n",
      "\t<attribute key=\"assets/vertical_greenery/1.PNG\" value=\"rpk:file:/C:%5CUsers%5Ccami9495%5CDocuments%5Cesri-cityengine-sdk-master%5Cexamples%5Cpy4prt%5CDemo2_Optimization%5Cenvelope2409.rpk!/assets/vertical_greenery/1.PNG\" type=\"str\"/>\n",
      "\t<attribute key=\"/green_optimization_3/assets/concrete.jpg\" value=\"rpk:file:/C:%5CUsers%5Ccami9495%5CDocuments%5Cesri-cityengine-sdk-master%5Cexamples%5Cpy4prt%5CDemo2_Optimization%5Cenvelope2409.rpk!/assets/concrete.jpg\" type=\"str\"/>\n",
      "\t<attribute key=\"/green_optimization_3/assets/Bench/_1.jpg\" value=\"rpk:file:/C:%5CUsers%5Ccami9495%5CDocuments%5Cesri-cityengine-sdk-master%5Cexamples%5Cpy4prt%5CDemo2_Optimization%5Cenvelope2409.rpk!/assets/Bench/_1.jpg\" type=\"str\"/>\n",
      "\t<attribute key=\"/green_optimization_3/assets/bench.obj\" value=\"rpk:file:/C:%5CUsers%5Ccami9495%5CDocuments%5Cesri-cityengine-sdk-master%5Cexamples%5Cpy4prt%5CDemo2_Optimization%5Cenvelope2409.rpk!/assets/bench.obj\" type=\"str\"/>\n",
      "\t<attribute key=\"rules/typology/ground_floor_plan.cga\" value=\"rpk:file:/C:%5CUsers%5Ccami9495%5CDocuments%5Cesri-cityengine-sdk-master%5Cexamples%5Cpy4prt%5CDemo2_Optimization%5Cenvelope2409.rpk!/rules/typology/ground_floor_plan.cga\" type=\"str\"/>\n",
      "\t<attribute key=\"/ESRI.lib/rules/Plants/Plant_Loader.cga\" value=\"rpk:file:/C:%5CUsers%5Ccami9495%5CDocuments%5Cesri-cityengine-sdk-master%5Cexamples%5Cpy4prt%5CDemo2_Optimization%5Cenvelope2409.rpk!/.ws/ESRI.lib/rules/Plants/Plant_Loader.cga\" type=\"str\"/>\n",
      "\t<attribute key=\"assets/unified_landscape/plan2.obj\" value=\"rpk:file:/C:%5CUsers%5Ccami9495%5CDocuments%5Cesri-cityengine-sdk-master%5Cexamples%5Cpy4prt%5CDemo2_Optimization%5Cenvelope2409.rpk!/assets/unified_landscape/plan2.obj\" type=\"str\"/>\n",
      "\t<attribute key=\"assets/unified_landscape/plan4.obj\" value=\"rpk:file:/C:%5CUsers%5Ccami9495%5CDocuments%5Cesri-cityengine-sdk-master%5Cexamples%5Cpy4prt%5CDemo2_Optimization%5Cenvelope2409.rpk!/assets/unified_landscape/plan4.obj\" type=\"str\"/>\n",
      "\t<attribute key=\"rules/typology/envelope2409.cgb\" value=\"rpk:file:/C:%5CUsers%5Ccami9495%5CDocuments%5Cesri-cityengine-sdk-master%5Cexamples%5Cpy4prt%5CDemo2_Optimization%5Cenvelope2409.rpk!/rules/typology/envelope2409.cgb\" type=\"str\"/>\n",
      "\t<attribute key=\"rules/typology/envelope2409.cga\" value=\"rpk:file:/C:%5CUsers%5Ccami9495%5CDocuments%5Cesri-cityengine-sdk-master%5Cexamples%5Cpy4prt%5CDemo2_Optimization%5Cenvelope2409.rpk!/rules/typology/envelope2409.cga\" type=\"str\"/>\n",
      "\t<attribute key=\"/green_optimization_3/assets/unified_landscape/plan2.obj\" value=\"rpk:file:/C:%5CUsers%5Ccami9495%5CDocuments%5Cesri-cityengine-sdk-master%5Cexamples%5Cpy4prt%5CDemo2_Optimization%5Cenvelope2409.rpk!/assets/unified_landscape/plan2.obj\" type=\"str\"/>\n",
      "\t<attribute key=\"/green_optimization_3/assets/vertical_greenery/8.PNG\" value=\"rpk:file:/C:%5CUsers%5Ccami9495%5CDocuments%5Cesri-cityengine-sdk-master%5Cexamples%5Cpy4prt%5CDemo2_Optimization%5Cenvelope2409.rpk!/assets/vertical_greenery/8.PNG\" type=\"str\"/>\n",
      "\t<attribute key=\"assets/brick_wall.jpg\" value=\"rpk:file:/C:%5CUsers%5Ccami9495%5CDocuments%5Cesri-cityengine-sdk-master%5Cexamples%5Cpy4prt%5CDemo2_Optimization%5Cenvelope2409.rpk!/assets/brick_wall.jpg\" type=\"str\"/>\n",
      "\t<attribute key=\"/green_optimization_3/assets/wood.jpg\" value=\"rpk:file:/C:%5CUsers%5Ccami9495%5CDocuments%5Cesri-cityengine-sdk-master%5Cexamples%5Cpy4prt%5CDemo2_Optimization%5Cenvelope2409.rpk!/assets/wood.jpg\" type=\"str\"/>\n",
      "\t<attribute key=\"assets/vertical_greenery/9.PNG\" value=\"rpk:file:/C:%5CUsers%5Ccami9495%5CDocuments%5Cesri-cityengine-sdk-master%5Cexamples%5Cpy4prt%5CDemo2_Optimization%5Cenvelope2409.rpk!/assets/vertical_greenery/9.PNG\" type=\"str\"/>\n",
      "\t<attribute key=\"/green_optimization_3/assets/vertical_greenery/2.PNG\" value=\"rpk:file:/C:%5CUsers%5Ccami9495%5CDocuments%5Cesri-cityengine-sdk-master%5Cexamples%5Cpy4prt%5CDemo2_Optimization%5Cenvelope2409.rpk!/assets/vertical_greenery/2.PNG\" type=\"str\"/>\n",
      "\t<attribute key=\"/green_optimization_3/rules/typology/landscape.cga\" value=\"rpk:file:/C:%5CUsers%5Ccami9495%5CDocuments%5Cesri-cityengine-sdk-master%5Cexamples%5Cpy4prt%5CDemo2_Optimization%5Cenvelope2409.rpk!/rules/typology/landscape.cga\" type=\"str\"/>\n",
      "\t<attribute key=\"rules/typology/facade.cga\" value=\"rpk:file:/C:%5CUsers%5Ccami9495%5CDocuments%5Cesri-cityengine-sdk-master%5Cexamples%5Cpy4prt%5CDemo2_Optimization%5Cenvelope2409.rpk!/rules/typology/facade.cga\" type=\"str\"/>\n",
      "\t<attribute key=\"/green_optimization_3/assets/vertical_greenery/5.PNG\" value=\"rpk:file:/C:%5CUsers%5Ccami9495%5CDocuments%5Cesri-cityengine-sdk-master%5Cexamples%5Cpy4prt%5CDemo2_Optimization%5Cenvelope2409.rpk!/assets/vertical_greenery/5.PNG\" type=\"str\"/>\n",
      "\t<attribute key=\"assets/vertical_greenery/2.PNG\" value=\"rpk:file:/C:%5CUsers%5Ccami9495%5CDocuments%5Cesri-cityengine-sdk-master%5Cexamples%5Cpy4prt%5CDemo2_Optimization%5Cenvelope2409.rpk!/assets/vertical_greenery/2.PNG\" type=\"str\"/>\n",
      "\t<attribute key=\"/green_optimization_3/assets/vertical_greenery/7.PNG\" value=\"rpk:file:/C:%5CUsers%5Ccami9495%5CDocuments%5Cesri-cityengine-sdk-master%5Cexamples%5Cpy4prt%5CDemo2_Optimization%5Cenvelope2409.rpk!/assets/vertical_greenery/7.PNG\" type=\"str\"/>\n",
      "\t<attribute key=\"assets/vertical_greenery/8.PNG\" value=\"rpk:file:/C:%5CUsers%5Ccami9495%5CDocuments%5Cesri-cityengine-sdk-master%5Cexamples%5Cpy4prt%5CDemo2_Optimization%5Cenvelope2409.rpk!/assets/vertical_greenery/8.PNG\" type=\"str\"/>\n",
      "\t<attribute key=\"/green_optimization_3/rules/typology/ground_floor_plan.cga\" value=\"rpk:file:/C:%5CUsers%5Ccami9495%5CDocuments%5Cesri-cityengine-sdk-master%5Cexamples%5Cpy4prt%5CDemo2_Optimization%5Cenvelope2409.rpk!/rules/typology/ground_floor_plan.cga\" type=\"str\"/>\n",
      "\t<attribute key=\"/green_optimization_3/assets/brick_wall.jpg\" value=\"rpk:file:/C:%5CUsers%5Ccami9495%5CDocuments%5Cesri-cityengine-sdk-master%5Cexamples%5Cpy4prt%5CDemo2_Optimization%5Cenvelope2409.rpk!/assets/brick_wall.jpg\" type=\"str\"/>\n",
      "\t<attribute key=\"assets/concrete.jpg\" value=\"rpk:file:/C:%5CUsers%5Ccami9495%5CDocuments%5Cesri-cityengine-sdk-master%5Cexamples%5Cpy4prt%5CDemo2_Optimization%5Cenvelope2409.rpk!/assets/concrete.jpg\" type=\"str\"/>\n",
      "\t<attribute key=\"/green_optimization_3/assets/paving_b.jpg\" value=\"rpk:file:/C:%5CUsers%5Ccami9495%5CDocuments%5Cesri-cityengine-sdk-master%5Cexamples%5Cpy4prt%5CDemo2_Optimization%5Cenvelope2409.rpk!/assets/paving_b.jpg\" type=\"str\"/>\n",
      "\t<attribute key=\"assets/Bench/_1.jpg\" value=\"rpk:file:/C:%5CUsers%5Ccami9495%5CDocuments%5Cesri-cityengine-sdk-master%5Cexamples%5Cpy4prt%5CDemo2_Optimization%5Cenvelope2409.rpk!/assets/Bench/_1.jpg\" type=\"str\"/>\n",
      "\t<attribute key=\"/green_optimization_3/assets/Bench.mtl\" value=\"rpk:file:/C:%5CUsers%5Ccami9495%5CDocuments%5Cesri-cityengine-sdk-master%5Cexamples%5Cpy4prt%5CDemo2_Optimization%5Cenvelope2409.rpk!/assets/Bench.mtl\" type=\"str\"/>\n",
      "\t<attribute key=\"assets/wood.jpg\" value=\"rpk:file:/C:%5CUsers%5Ccami9495%5CDocuments%5Cesri-cityengine-sdk-master%5Cexamples%5Cpy4prt%5CDemo2_Optimization%5Cenvelope2409.rpk!/assets/wood.jpg\" type=\"str\"/>\n",
      "\t<attribute key=\"/green_optimization_3/assets/unified_landscape/plan2.mtl\" value=\"rpk:file:/C:%5CUsers%5Ccami9495%5CDocuments%5Cesri-cityengine-sdk-master%5Cexamples%5Cpy4prt%5CDemo2_Optimization%5Cenvelope2409.rpk!/assets/unified_landscape/plan2.mtl\" type=\"str\"/>\n",
      "\t<attribute key=\"/green_optimization_3/assets/unified_landscape/plan3.obj\" value=\"rpk:file:/C:%5CUsers%5Ccami9495%5CDocuments%5Cesri-cityengine-sdk-master%5Cexamples%5Cpy4prt%5CDemo2_Optimization%5Cenvelope2409.rpk!/assets/unified_landscape/plan3.obj\" type=\"str\"/>\n",
      "\t<attribute key=\"/green_optimization_3/rules/typology/facade.cga\" value=\"rpk:file:/C:%5CUsers%5Ccami9495%5CDocuments%5Cesri-cityengine-sdk-master%5Cexamples%5Cpy4prt%5CDemo2_Optimization%5Cenvelope2409.rpk!/rules/typology/facade.cga\" type=\"str\"/>\n",
      "\t<attribute key=\"/green_optimization_3/assets/vertical_greenery/1.PNG\" value=\"rpk:file:/C:%5CUsers%5Ccami9495%5CDocuments%5Cesri-cityengine-sdk-master%5Cexamples%5Cpy4prt%5CDemo2_Optimization%5Cenvelope2409.rpk!/assets/vertical_greenery/1.PNG\" type=\"str\"/>\n",
      "\t<attribute key=\"/green_optimization_3/assets/glass_door.obj\" value=\"rpk:file:/C:%5CUsers%5Ccami9495%5CDocuments%5Cesri-cityengine-sdk-master%5Cexamples%5Cpy4prt%5CDemo2_Optimization%5Cenvelope2409.rpk!/assets/glass_door.obj\" type=\"str\"/>\n",
      "\t<attribute key=\"assets/unified_landscape/plan3.obj\" value=\"rpk:file:/C:%5CUsers%5Ccami9495%5CDocuments%5Cesri-cityengine-sdk-master%5Cexamples%5Cpy4prt%5CDemo2_Optimization%5Cenvelope2409.rpk!/assets/unified_landscape/plan3.obj\" type=\"str\"/>\n",
      "\t<attribute key=\"assets/glass_door.obj\" value=\"rpk:file:/C:%5CUsers%5Ccami9495%5CDocuments%5Cesri-cityengine-sdk-master%5Cexamples%5Cpy4prt%5CDemo2_Optimization%5Cenvelope2409.rpk!/assets/glass_door.obj\" type=\"str\"/>\n",
      "\t<attribute key=\"assets/vertical_greenery/5.PNG\" value=\"rpk:file:/C:%5CUsers%5Ccami9495%5CDocuments%5Cesri-cityengine-sdk-master%5Cexamples%5Cpy4prt%5CDemo2_Optimization%5Cenvelope2409.rpk!/assets/vertical_greenery/5.PNG\" type=\"str\"/>\n",
      "\t<attribute key=\"/green_optimization_3/assets/unified_landscape/plan1.obj\" value=\"rpk:file:/C:%5CUsers%5Ccami9495%5CDocuments%5Cesri-cityengine-sdk-master%5Cexamples%5Cpy4prt%5CDemo2_Optimization%5Cenvelope2409.rpk!/assets/unified_landscape/plan1.obj\" type=\"str\"/>\n",
      "\t<attribute key=\"assets/unified_landscape/plan4.mtl\" value=\"rpk:file:/C:%5CUsers%5Ccami9495%5CDocuments%5Cesri-cityengine-sdk-master%5Cexamples%5Cpy4prt%5CDemo2_Optimization%5Cenvelope2409.rpk!/assets/unified_landscape/plan4.mtl\" type=\"str\"/>\n",
      "\t<attribute key=\"/green_optimization_3/assets/unified_landscape/plan3.mtl\" value=\"rpk:file:/C:%5CUsers%5Ccami9495%5CDocuments%5Cesri-cityengine-sdk-master%5Cexamples%5Cpy4prt%5CDemo2_Optimization%5Cenvelope2409.rpk!/assets/unified_landscape/plan3.mtl\" type=\"str\"/>\n",
      "\t<attribute key=\"assets/unified_landscape/plan1.obj\" value=\"rpk:file:/C:%5CUsers%5Ccami9495%5CDocuments%5Cesri-cityengine-sdk-master%5Cexamples%5Cpy4prt%5CDemo2_Optimization%5Cenvelope2409.rpk!/assets/unified_landscape/plan1.obj\" type=\"str\"/>\n",
      "\t<attribute key=\"/green_optimization_3/assets/vertical_greenery/6.PNG\" value=\"rpk:file:/C:%5CUsers%5Ccami9495%5CDocuments%5Cesri-cityengine-sdk-master%5Cexamples%5Cpy4prt%5CDemo2_Optimization%5Cenvelope2409.rpk!/assets/vertical_greenery/6.PNG\" type=\"str\"/>\n",
      "\t<attribute key=\"assets/paving_b.jpg\" value=\"rpk:file:/C:%5CUsers%5Ccami9495%5CDocuments%5Cesri-cityengine-sdk-master%5Cexamples%5Cpy4prt%5CDemo2_Optimization%5Cenvelope2409.rpk!/assets/paving_b.jpg\" type=\"str\"/>\n",
      "\t<attribute key=\"assets/vertical_greenery/6.PNG\" value=\"rpk:file:/C:%5CUsers%5Ccami9495%5CDocuments%5Cesri-cityengine-sdk-master%5Cexamples%5Cpy4prt%5CDemo2_Optimization%5Cenvelope2409.rpk!/assets/vertical_greenery/6.PNG\" type=\"str\"/>\n",
      "\t<attribute key=\"/green_optimization_3/assets/vertical_greenery/3.PNG\" value=\"rpk:file:/C:%5CUsers%5Ccami9495%5CDocuments%5Cesri-cityengine-sdk-master%5Cexamples%5Cpy4prt%5CDemo2_Optimization%5Cenvelope2409.rpk!/assets/vertical_greenery/3.PNG\" type=\"str\"/>\n",
      "\t<attribute key=\"rules/typology/landscape.cga\" value=\"rpk:file:/C:%5CUsers%5Ccami9495%5CDocuments%5Cesri-cityengine-sdk-master%5Cexamples%5Cpy4prt%5CDemo2_Optimization%5Cenvelope2409.rpk!/rules/typology/landscape.cga\" type=\"str\"/>\n",
      "\t<attribute key=\"assets/vertical_greenery/4.PNG\" value=\"rpk:file:/C:%5CUsers%5Ccami9495%5CDocuments%5Cesri-cityengine-sdk-master%5Cexamples%5Cpy4prt%5CDemo2_Optimization%5Cenvelope2409.rpk!/assets/vertical_greenery/4.PNG\" type=\"str\"/>\n",
      "\t<attribute key=\"assets/bench.obj\" value=\"rpk:file:/C:%5CUsers%5Ccami9495%5CDocuments%5Cesri-cityengine-sdk-master%5Cexamples%5Cpy4prt%5CDemo2_Optimization%5Cenvelope2409.rpk!/assets/bench.obj\" type=\"str\"/>\n",
      "\t<attribute key=\"/green_optimization_3/assets/unified_landscape/plan4.mtl\" value=\"rpk:file:/C:%5CUsers%5Ccami9495%5CDocuments%5Cesri-cityengine-sdk-master%5Cexamples%5Cpy4prt%5CDemo2_Optimization%5Cenvelope2409.rpk!/assets/unified_landscape/plan4.mtl\" type=\"str\"/>\n",
      "\t<attribute key=\"/green_optimization_3/assets/Bench/ooMaterial2.jpg\" value=\"rpk:file:/C:%5CUsers%5Ccami9495%5CDocuments%5Cesri-cityengine-sdk-master%5Cexamples%5Cpy4prt%5CDemo2_Optimization%5Cenvelope2409.rpk!/assets/Bench/ooMaterial2.jpg\" type=\"str\"/>\n",
      "\t<attribute key=\"assets/vertical_greenery/3.PNG\" value=\"rpk:file:/C:%5CUsers%5Ccami9495%5CDocuments%5Cesri-cityengine-sdk-master%5Cexamples%5Cpy4prt%5CDemo2_Optimization%5Cenvelope2409.rpk!/assets/vertical_greenery/3.PNG\" type=\"str\"/>\n",
      "\t<attribute key=\"/green_optimization_3/assets/vertical_greenery/10.PNG\" value=\"rpk:file:/C:%5CUsers%5Ccami9495%5CDocuments%5Cesri-cityengine-sdk-master%5Cexamples%5Cpy4prt%5CDemo2_Optimization%5Cenvelope2409.rpk!/assets/vertical_greenery/10.PNG\" type=\"str\"/>\n",
      "\t<attribute key=\"/ESRI.lib/rules/Plants/Plant_Distributor.cga\" value=\"rpk:file:/C:%5CUsers%5Ccami9495%5CDocuments%5Cesri-cityengine-sdk-master%5Cexamples%5Cpy4prt%5CDemo2_Optimization%5Cenvelope2409.rpk!/.ws/ESRI.lib/rules/Plants/Plant_Distributor.cga\" type=\"str\"/>\n",
      "\t<attribute key=\"assets/vertical_greenery/7.PNG\" value=\"rpk:file:/C:%5CUsers%5Ccami9495%5CDocuments%5Cesri-cityengine-sdk-master%5Cexamples%5Cpy4prt%5CDemo2_Optimization%5Cenvelope2409.rpk!/assets/vertical_greenery/7.PNG\" type=\"str\"/>\n",
      "\t<attribute key=\"/green_optimization_3/assets/vertical_greenery/4.PNG\" value=\"rpk:file:/C:%5CUsers%5Ccami9495%5CDocuments%5Cesri-cityengine-sdk-master%5Cexamples%5Cpy4prt%5CDemo2_Optimization%5Cenvelope2409.rpk!/assets/vertical_greenery/4.PNG\" type=\"str\"/>\n",
      "\t<attribute key=\"assets/unified_landscape/plan2.mtl\" value=\"rpk:file:/C:%5CUsers%5Ccami9495%5CDocuments%5Cesri-cityengine-sdk-master%5Cexamples%5Cpy4prt%5CDemo2_Optimization%5Cenvelope2409.rpk!/assets/unified_landscape/plan2.mtl\" type=\"str\"/>\n",
      "\t<attribute key=\"assets/unified_landscape/plan3.mtl\" value=\"rpk:file:/C:%5CUsers%5Ccami9495%5CDocuments%5Cesri-cityengine-sdk-master%5Cexamples%5Cpy4prt%5CDemo2_Optimization%5Cenvelope2409.rpk!/assets/unified_landscape/plan3.mtl\" type=\"str\"/>\n",
      "\t<attribute key=\"/green_optimization_3/rules/typology/volume.cga\" value=\"rpk:file:/C:%5CUsers%5Ccami9495%5CDocuments%5Cesri-cityengine-sdk-master%5Cexamples%5Cpy4prt%5CDemo2_Optimization%5Cenvelope2409.rpk!/rules/typology/volume.cga\" type=\"str\"/>\n",
      "</ResolveMap>\n",
      "\n"
     ]
    }
   ],
   "source": [
    "m = pyprt.ModelGenerator(shape_geo)\n",
    "model = m.generate_model(attrs_green, rpk_green, \"com.esri.prt.examples.PyEncoder\", {'emitGeometry' : False})"
   ]
  },
  {
   "cell_type": "code",
   "execution_count": 7,
   "metadata": {},
   "outputs": [],
   "source": [
    "def fct_green(x):\n",
    "\n",
    "    attrs_green[input_attr_green[0]] = x[0]\n",
    "    generated_mod_green = m.generate_model(attrs_green)\n",
    "    \n",
    "    if generated_mod_green:\n",
    "        rep_green = combine_reports(generated_mod_green[0])\n",
    "        return -rep_green[goal_str_green]\n",
    "    else:\n",
    "        print(\"Error in optimization process.\")"
   ]
  },
  {
   "cell_type": "code",
   "execution_count": 8,
   "metadata": {},
   "outputs": [],
   "source": [
    "bounds_green = [(0,100)]"
   ]
  },
  {
   "cell_type": "code",
   "execution_count": 9,
   "metadata": {},
   "outputs": [
    {
     "data": {
      "text/plain": [
       "2168.6307416254404"
      ]
     },
     "execution_count": 9,
     "metadata": {},
     "output_type": "execute_result"
    }
   ],
   "source": [
    "-fct_green(x0_green)"
   ]
  },
  {
   "cell_type": "code",
   "execution_count": 10,
   "metadata": {},
   "outputs": [
    {
     "name": "stdout",
     "output_type": "stream",
     "text": [
      "The optimization lasted: 27.992393016815186\n"
     ]
    },
    {
     "data": {
      "text/plain": [
       "     fun: -2196.7870170993974\n",
       " message: 'Optimization terminated successfully.'\n",
       "    nfev: 32\n",
       "     nit: 1\n",
       " success: True\n",
       "       x: array([82.26263821])"
      ]
     },
     "execution_count": 10,
     "metadata": {},
     "output_type": "execute_result"
    }
   ],
   "source": [
    "import time\n",
    "start = time.time()\n",
    "\n",
    "res_green = optimize.differential_evolution(fct_green, bounds_green, seed = 666) # dual_annealing\n",
    "\n",
    "duration = time.time() - start\n",
    "print(\"The optimization lasted: \" + str(duration))\n",
    "res_green"
   ]
  },
  {
   "cell_type": "markdown",
   "metadata": {},
   "source": [
    "### Results Visualization"
   ]
  },
  {
   "cell_type": "code",
   "execution_count": 14,
   "metadata": {},
   "outputs": [
    {
     "name": "stdout",
     "output_type": "stream",
     "text": [
      "[PRT] [2019-09-16 13:01:13] [info] new output directory created at C:/Users/cami9495/Documents/esri-cityengine-sdk-master/examples/py4prt/Demo2_Optimization/../output\n",
      "\n",
      "[PRT] [2019-09-16 13:01:15] [debug] width 512, height 512, rasterCount 3\n",
      "[PRT] [2019-09-16 13:01:15] [debug] width 256, height 256, rasterCount 3\n",
      "[PRT] [2019-09-16 13:01:15] [debug] width 512, height 512, rasterCount 3\n",
      "[PRT] [2019-09-16 13:01:15] [debug] width 512, height 512, rasterCount 3\n",
      "[PRT] [2019-09-16 13:01:15] [debug] width 512, height 512, rasterCount 3\n",
      "[PRT] [2019-09-16 13:01:15] [debug] width 512, height 512, rasterCount 3\n",
      "[PRT] [2019-09-16 13:01:15] [debug] width 512, height 512, rasterCount 3\n",
      "[PRT] [2019-09-16 13:01:15] [warning] JPG encoder: ignoring texture channels other than the first 3.\n",
      "[PRT] [2019-09-16 13:01:16] [debug] width 256, height 512, rasterCount 4\n",
      "[PRT] [2019-09-16 13:01:16] [debug] width 1024, height 1024, rasterCount 4\n",
      "[PRT] [2019-09-16 13:01:16] [debug] width 1024, height 1024, rasterCount 4\n"
     ]
    }
   ],
   "source": [
    "export_file_name = \"SLPKModel1\"\n",
    "enc_optionsSLPK = {'sceneType' : \"Local\",'baseName' : export_file_name,'sceneWkid' : \"3857\",'layerTextureEncoding' : [\"2\"],'layerEnabled' : [True],'layerUID' : [\"1\"],'layerName' : [\"1\"],'layerTextureQuality' : [1.0],'layerTextureCompression' : [9],'layerTextureScaling' : [1.0],'layerTextureMaxDimension' : [2048],'layerFeatureGranularity' : [\"0\"],'layerBackfaceCulling' : [False]}\n",
    "\n",
    "attrs_green[input_attr_green[0]] = res_green.x[0]\n",
    "green_model = m.generate_model(attrs_green, rpk_green, \"com.esri.prt.codecs.I3SEncoder\", enc_optionsSLPK)"
   ]
  },
  {
   "cell_type": "code",
   "execution_count": 15,
   "metadata": {},
   "outputs": [],
   "source": [
    "item = my_gis.content.add({'type':'Scene Package'}, data=asset_file(\"..\\output\\%s.slpk\" % export_file_name), folder='packages')\n",
    "if item is None:\n",
    "    # first delete the existing one if any and add\n",
    "    my_gis.content.delete_items([item])\n",
    "    item = my_gis.content.add({'type':'Scene Package'}, asset_file(\"..\\output\\%s.slpk\" % export_file_name), folder='packages')\n",
    "published_item = item.publish()"
   ]
  },
  {
   "cell_type": "code",
   "execution_count": 20,
   "metadata": {},
   "outputs": [
    {
     "data": {
      "text/html": [
       "\n",
       "        <iframe\n",
       "            width=\"900\"\n",
       "            height=\"600\"\n",
       "            src=\"http://zurich.maps.arcgis.com/home/webscene/viewer.html?layers=592d92374924447faca3a19bf3a445a9\"\n",
       "            frameborder=\"0\"\n",
       "            allowfullscreen\n",
       "        ></iframe>\n",
       "        "
      ],
      "text/plain": [
       "<IPython.lib.display.IFrame at 0x1c755d48860>"
      ]
     },
     "execution_count": 20,
     "metadata": {},
     "output_type": "execute_result"
    }
   ],
   "source": [
    "source = 'http://zurich.maps.arcgis.com/home/webscene/viewer.html?layers=' + published_item.id\n",
    "IFrame(src=source, width=900, height=600)"
   ]
  },
  {
   "cell_type": "markdown",
   "metadata": {},
   "source": [
    "-------------------------------------------------------------------------------------------------------------------------------\n",
    "\n",
    "-------------------------------------------------------------------------------------------------------------------------------"
   ]
  },
  {
   "cell_type": "markdown",
   "metadata": {},
   "source": [
    "Step 2 : optimize the total green area reported including the balconies trees. This will be optimized taking into account several parameters:\n",
    "- the lot coverage\n",
    "- the height of the first tier"
   ]
  },
  {
   "cell_type": "markdown",
   "metadata": {},
   "source": [
    "### The variables"
   ]
  },
  {
   "cell_type": "code",
   "execution_count": 25,
   "metadata": {},
   "outputs": [],
   "source": [
    "goal_str_green = \"Greenery Area\" + \"_sum\"\n",
    "\n",
    "input_attr_green = [\"lot_coverage_parameter\", \"height_first_tier\"]\n",
    "x0_green = [float(80), float(9)]"
   ]
  },
  {
   "cell_type": "code",
   "execution_count": 26,
   "metadata": {},
   "outputs": [
    {
     "name": "stdout",
     "output_type": "stream",
     "text": [
      "[PRT] [2019-09-24 14:12:20] [info] using rule package C:\\Users\\cami9495\\Documents\\esri-cityengine-sdk-master\\examples\\py4prt\\Demo2_Optimization\\envelope2409.rpk\n",
      "\n",
      "[PRT] [2019-09-24 14:12:20] [debug] resolve map = <ResolveMap>\n",
      "\t<attribute key=\"/green_optimization_3/assets/lawn2.jpg\" value=\"rpk:file:/C:%5CUsers%5Ccami9495%5CDocuments%5Cesri-cityengine-sdk-master%5Cexamples%5Cpy4prt%5CDemo2_Optimization%5Cenvelope2409.rpk!/assets/lawn2.jpg\" type=\"str\"/>\n",
      "\t<attribute key=\"/ESRI.lib/rules/Plants/Plant_Loader.cga\" value=\"rpk:file:/C:%5CUsers%5Ccami9495%5CDocuments%5Cesri-cityengine-sdk-master%5Cexamples%5Cpy4prt%5CDemo2_Optimization%5Cenvelope2409.rpk!/.ws/ESRI.lib/rules/Plants/Plant_Loader.cga\" type=\"str\"/>\n",
      "\t<attribute key=\"/green_optimization_3/assets/vertical_greenery/2.PNG\" value=\"rpk:file:/C:%5CUsers%5Ccami9495%5CDocuments%5Cesri-cityengine-sdk-master%5Cexamples%5Cpy4prt%5CDemo2_Optimization%5Cenvelope2409.rpk!/assets/vertical_greenery/2.PNG\" type=\"str\"/>\n",
      "\t<attribute key=\"assets/bench.obj\" value=\"rpk:file:/C:%5CUsers%5Ccami9495%5CDocuments%5Cesri-cityengine-sdk-master%5Cexamples%5Cpy4prt%5CDemo2_Optimization%5Cenvelope2409.rpk!/assets/bench.obj\" type=\"str\"/>\n",
      "\t<attribute key=\"rules/typology/envelope2409.cgb\" value=\"rpk:file:/C:%5CUsers%5Ccami9495%5CDocuments%5Cesri-cityengine-sdk-master%5Cexamples%5Cpy4prt%5CDemo2_Optimization%5Cenvelope2409.rpk!/rules/typology/envelope2409.cgb\" type=\"str\"/>\n",
      "\t<attribute key=\"rules/typology/envelope2409.cga\" value=\"rpk:file:/C:%5CUsers%5Ccami9495%5CDocuments%5Cesri-cityengine-sdk-master%5Cexamples%5Cpy4prt%5CDemo2_Optimization%5Cenvelope2409.rpk!/rules/typology/envelope2409.cga\" type=\"str\"/>\n",
      "\t<attribute key=\"assets/unified_landscape/plan1.obj\" value=\"rpk:file:/C:%5CUsers%5Ccami9495%5CDocuments%5Cesri-cityengine-sdk-master%5Cexamples%5Cpy4prt%5CDemo2_Optimization%5Cenvelope2409.rpk!/assets/unified_landscape/plan1.obj\" type=\"str\"/>\n",
      "\t<attribute key=\"assets/unified_landscape/plan3.mtl\" value=\"rpk:file:/C:%5CUsers%5Ccami9495%5CDocuments%5Cesri-cityengine-sdk-master%5Cexamples%5Cpy4prt%5CDemo2_Optimization%5Cenvelope2409.rpk!/assets/unified_landscape/plan3.mtl\" type=\"str\"/>\n",
      "\t<attribute key=\"/green_optimization_3/assets/vertical_greenery/9.PNG\" value=\"rpk:file:/C:%5CUsers%5Ccami9495%5CDocuments%5Cesri-cityengine-sdk-master%5Cexamples%5Cpy4prt%5CDemo2_Optimization%5Cenvelope2409.rpk!/assets/vertical_greenery/9.PNG\" type=\"str\"/>\n",
      "\t<attribute key=\"/green_optimization_3/assets/bench.obj\" value=\"rpk:file:/C:%5CUsers%5Ccami9495%5CDocuments%5Cesri-cityengine-sdk-master%5Cexamples%5Cpy4prt%5CDemo2_Optimization%5Cenvelope2409.rpk!/assets/bench.obj\" type=\"str\"/>\n",
      "\t<attribute key=\"/green_optimization_3/rules/typology/facade.cga\" value=\"rpk:file:/C:%5CUsers%5Ccami9495%5CDocuments%5Cesri-cityengine-sdk-master%5Cexamples%5Cpy4prt%5CDemo2_Optimization%5Cenvelope2409.rpk!/rules/typology/facade.cga\" type=\"str\"/>\n",
      "\t<attribute key=\"/green_optimization_3/assets/vertical_greenery/1.PNG\" value=\"rpk:file:/C:%5CUsers%5Ccami9495%5CDocuments%5Cesri-cityengine-sdk-master%5Cexamples%5Cpy4prt%5CDemo2_Optimization%5Cenvelope2409.rpk!/assets/vertical_greenery/1.PNG\" type=\"str\"/>\n",
      "\t<attribute key=\"assets/Bench/ooMaterial2.jpg\" value=\"rpk:file:/C:%5CUsers%5Ccami9495%5CDocuments%5Cesri-cityengine-sdk-master%5Cexamples%5Cpy4prt%5CDemo2_Optimization%5Cenvelope2409.rpk!/assets/Bench/ooMaterial2.jpg\" type=\"str\"/>\n",
      "\t<attribute key=\"assets/unified_landscape/plan4.obj\" value=\"rpk:file:/C:%5CUsers%5Ccami9495%5CDocuments%5Cesri-cityengine-sdk-master%5Cexamples%5Cpy4prt%5CDemo2_Optimization%5Cenvelope2409.rpk!/assets/unified_landscape/plan4.obj\" type=\"str\"/>\n",
      "\t<attribute key=\"/green_optimization_3/assets/vertical_greenery/8.PNG\" value=\"rpk:file:/C:%5CUsers%5Ccami9495%5CDocuments%5Cesri-cityengine-sdk-master%5Cexamples%5Cpy4prt%5CDemo2_Optimization%5Cenvelope2409.rpk!/assets/vertical_greenery/8.PNG\" type=\"str\"/>\n",
      "\t<attribute key=\"assets/vertical_greenery/8.PNG\" value=\"rpk:file:/C:%5CUsers%5Ccami9495%5CDocuments%5Cesri-cityengine-sdk-master%5Cexamples%5Cpy4prt%5CDemo2_Optimization%5Cenvelope2409.rpk!/assets/vertical_greenery/8.PNG\" type=\"str\"/>\n",
      "\t<attribute key=\"/green_optimization_3/assets/Bench/_1.jpg\" value=\"rpk:file:/C:%5CUsers%5Ccami9495%5CDocuments%5Cesri-cityengine-sdk-master%5Cexamples%5Cpy4prt%5CDemo2_Optimization%5Cenvelope2409.rpk!/assets/Bench/_1.jpg\" type=\"str\"/>\n",
      "\t<attribute key=\"/green_optimization_3/assets/wood.jpg\" value=\"rpk:file:/C:%5CUsers%5Ccami9495%5CDocuments%5Cesri-cityengine-sdk-master%5Cexamples%5Cpy4prt%5CDemo2_Optimization%5Cenvelope2409.rpk!/assets/wood.jpg\" type=\"str\"/>\n",
      "\t<attribute key=\"/ESRI.lib/rules/Plants/Plant_Distributor.cga\" value=\"rpk:file:/C:%5CUsers%5Ccami9495%5CDocuments%5Cesri-cityengine-sdk-master%5Cexamples%5Cpy4prt%5CDemo2_Optimization%5Cenvelope2409.rpk!/.ws/ESRI.lib/rules/Plants/Plant_Distributor.cga\" type=\"str\"/>\n",
      "\t<attribute key=\"assets/concrete.jpg\" value=\"rpk:file:/C:%5CUsers%5Ccami9495%5CDocuments%5Cesri-cityengine-sdk-master%5Cexamples%5Cpy4prt%5CDemo2_Optimization%5Cenvelope2409.rpk!/assets/concrete.jpg\" type=\"str\"/>\n",
      "\t<attribute key=\"assets/vertical_greenery/4.PNG\" value=\"rpk:file:/C:%5CUsers%5Ccami9495%5CDocuments%5Cesri-cityengine-sdk-master%5Cexamples%5Cpy4prt%5CDemo2_Optimization%5Cenvelope2409.rpk!/assets/vertical_greenery/4.PNG\" type=\"str\"/>\n",
      "\t<attribute key=\"assets/glass_door.obj\" value=\"rpk:file:/C:%5CUsers%5Ccami9495%5CDocuments%5Cesri-cityengine-sdk-master%5Cexamples%5Cpy4prt%5CDemo2_Optimization%5Cenvelope2409.rpk!/assets/glass_door.obj\" type=\"str\"/>\n",
      "\t<attribute key=\"/green_optimization_3/assets/Bench.mtl\" value=\"rpk:file:/C:%5CUsers%5Ccami9495%5CDocuments%5Cesri-cityengine-sdk-master%5Cexamples%5Cpy4prt%5CDemo2_Optimization%5Cenvelope2409.rpk!/assets/Bench.mtl\" type=\"str\"/>\n",
      "\t<attribute key=\"/green_optimization_3/assets/Bench/ooMaterial2.jpg\" value=\"rpk:file:/C:%5CUsers%5Ccami9495%5CDocuments%5Cesri-cityengine-sdk-master%5Cexamples%5Cpy4prt%5CDemo2_Optimization%5Cenvelope2409.rpk!/assets/Bench/ooMaterial2.jpg\" type=\"str\"/>\n",
      "\t<attribute key=\"/green_optimization_3/assets/vertical_greenery/6.PNG\" value=\"rpk:file:/C:%5CUsers%5Ccami9495%5CDocuments%5Cesri-cityengine-sdk-master%5Cexamples%5Cpy4prt%5CDemo2_Optimization%5Cenvelope2409.rpk!/assets/vertical_greenery/6.PNG\" type=\"str\"/>\n",
      "\t<attribute key=\"/green_optimization_3/assets/concrete.jpg\" value=\"rpk:file:/C:%5CUsers%5Ccami9495%5CDocuments%5Cesri-cityengine-sdk-master%5Cexamples%5Cpy4prt%5CDemo2_Optimization%5Cenvelope2409.rpk!/assets/concrete.jpg\" type=\"str\"/>\n",
      "\t<attribute key=\"assets/brick_wall.jpg\" value=\"rpk:file:/C:%5CUsers%5Ccami9495%5CDocuments%5Cesri-cityengine-sdk-master%5Cexamples%5Cpy4prt%5CDemo2_Optimization%5Cenvelope2409.rpk!/assets/brick_wall.jpg\" type=\"str\"/>\n",
      "\t<attribute key=\"/green_optimization_3/assets/unified_landscape/plan4.obj\" value=\"rpk:file:/C:%5CUsers%5Ccami9495%5CDocuments%5Cesri-cityengine-sdk-master%5Cexamples%5Cpy4prt%5CDemo2_Optimization%5Cenvelope2409.rpk!/assets/unified_landscape/plan4.obj\" type=\"str\"/>\n",
      "\t<attribute key=\"assets/wall_plaster.jpg\" value=\"rpk:file:/C:%5CUsers%5Ccami9495%5CDocuments%5Cesri-cityengine-sdk-master%5Cexamples%5Cpy4prt%5CDemo2_Optimization%5Cenvelope2409.rpk!/assets/wall_plaster.jpg\" type=\"str\"/>\n",
      "\t<attribute key=\"/green_optimization_3/assets/brick_wall.jpg\" value=\"rpk:file:/C:%5CUsers%5Ccami9495%5CDocuments%5Cesri-cityengine-sdk-master%5Cexamples%5Cpy4prt%5CDemo2_Optimization%5Cenvelope2409.rpk!/assets/brick_wall.jpg\" type=\"str\"/>\n",
      "\t<attribute key=\"assets/vertical_greenery/10.PNG\" value=\"rpk:file:/C:%5CUsers%5Ccami9495%5CDocuments%5Cesri-cityengine-sdk-master%5Cexamples%5Cpy4prt%5CDemo2_Optimization%5Cenvelope2409.rpk!/assets/vertical_greenery/10.PNG\" type=\"str\"/>\n",
      "\t<attribute key=\"/green_optimization_3/assets/vertical_greenery/10.PNG\" value=\"rpk:file:/C:%5CUsers%5Ccami9495%5CDocuments%5Cesri-cityengine-sdk-master%5Cexamples%5Cpy4prt%5CDemo2_Optimization%5Cenvelope2409.rpk!/assets/vertical_greenery/10.PNG\" type=\"str\"/>\n",
      "\t<attribute key=\"/green_optimization_3/assets/vertical_greenery/7.PNG\" value=\"rpk:file:/C:%5CUsers%5Ccami9495%5CDocuments%5Cesri-cityengine-sdk-master%5Cexamples%5Cpy4prt%5CDemo2_Optimization%5Cenvelope2409.rpk!/assets/vertical_greenery/7.PNG\" type=\"str\"/>\n",
      "\t<attribute key=\"/green_optimization_3/rules/typology/landscape.cga\" value=\"rpk:file:/C:%5CUsers%5Ccami9495%5CDocuments%5Cesri-cityengine-sdk-master%5Cexamples%5Cpy4prt%5CDemo2_Optimization%5Cenvelope2409.rpk!/rules/typology/landscape.cga\" type=\"str\"/>\n",
      "\t<attribute key=\"assets/unified_landscape/plan2.obj\" value=\"rpk:file:/C:%5CUsers%5Ccami9495%5CDocuments%5Cesri-cityengine-sdk-master%5Cexamples%5Cpy4prt%5CDemo2_Optimization%5Cenvelope2409.rpk!/assets/unified_landscape/plan2.obj\" type=\"str\"/>\n",
      "\t<attribute key=\"/green_optimization_3/assets/wall_plaster.jpg\" value=\"rpk:file:/C:%5CUsers%5Ccami9495%5CDocuments%5Cesri-cityengine-sdk-master%5Cexamples%5Cpy4prt%5CDemo2_Optimization%5Cenvelope2409.rpk!/assets/wall_plaster.jpg\" type=\"str\"/>\n",
      "\t<attribute key=\"rules/typology/facade.cga\" value=\"rpk:file:/C:%5CUsers%5Ccami9495%5CDocuments%5Cesri-cityengine-sdk-master%5Cexamples%5Cpy4prt%5CDemo2_Optimization%5Cenvelope2409.rpk!/rules/typology/facade.cga\" type=\"str\"/>\n",
      "\t<attribute key=\"assets/unified_landscape/plan3.obj\" value=\"rpk:file:/C:%5CUsers%5Ccami9495%5CDocuments%5Cesri-cityengine-sdk-master%5Cexamples%5Cpy4prt%5CDemo2_Optimization%5Cenvelope2409.rpk!/assets/unified_landscape/plan3.obj\" type=\"str\"/>\n",
      "\t<attribute key=\"assets/Bench.mtl\" value=\"rpk:file:/C:%5CUsers%5Ccami9495%5CDocuments%5Cesri-cityengine-sdk-master%5Cexamples%5Cpy4prt%5CDemo2_Optimization%5Cenvelope2409.rpk!/assets/Bench.mtl\" type=\"str\"/>\n",
      "\t<attribute key=\"/green_optimization_3/assets/vertical_greenery/4.PNG\" value=\"rpk:file:/C:%5CUsers%5Ccami9495%5CDocuments%5Cesri-cityengine-sdk-master%5Cexamples%5Cpy4prt%5CDemo2_Optimization%5Cenvelope2409.rpk!/assets/vertical_greenery/4.PNG\" type=\"str\"/>\n",
      "\t<attribute key=\"/green_optimization_3/assets/unified_landscape/plan1.obj\" value=\"rpk:file:/C:%5CUsers%5Ccami9495%5CDocuments%5Cesri-cityengine-sdk-master%5Cexamples%5Cpy4prt%5CDemo2_Optimization%5Cenvelope2409.rpk!/assets/unified_landscape/plan1.obj\" type=\"str\"/>\n",
      "\t<attribute key=\"assets/wood.jpg\" value=\"rpk:file:/C:%5CUsers%5Ccami9495%5CDocuments%5Cesri-cityengine-sdk-master%5Cexamples%5Cpy4prt%5CDemo2_Optimization%5Cenvelope2409.rpk!/assets/wood.jpg\" type=\"str\"/>\n",
      "\t<attribute key=\"assets/unified_landscape/plan2.mtl\" value=\"rpk:file:/C:%5CUsers%5Ccami9495%5CDocuments%5Cesri-cityengine-sdk-master%5Cexamples%5Cpy4prt%5CDemo2_Optimization%5Cenvelope2409.rpk!/assets/unified_landscape/plan2.mtl\" type=\"str\"/>\n",
      "\t<attribute key=\"/green_optimization_3/assets/unified_landscape/plan3.obj\" value=\"rpk:file:/C:%5CUsers%5Ccami9495%5CDocuments%5Cesri-cityengine-sdk-master%5Cexamples%5Cpy4prt%5CDemo2_Optimization%5Cenvelope2409.rpk!/assets/unified_landscape/plan3.obj\" type=\"str\"/>\n",
      "\t<attribute key=\"assets/vertical_greenery/9.PNG\" value=\"rpk:file:/C:%5CUsers%5Ccami9495%5CDocuments%5Cesri-cityengine-sdk-master%5Cexamples%5Cpy4prt%5CDemo2_Optimization%5Cenvelope2409.rpk!/assets/vertical_greenery/9.PNG\" type=\"str\"/>\n",
      "\t<attribute key=\"/green_optimization_3/assets/glass_door.obj\" value=\"rpk:file:/C:%5CUsers%5Ccami9495%5CDocuments%5Cesri-cityengine-sdk-master%5Cexamples%5Cpy4prt%5CDemo2_Optimization%5Cenvelope2409.rpk!/assets/glass_door.obj\" type=\"str\"/>\n",
      "\t<attribute key=\"assets/Bench/_1.jpg\" value=\"rpk:file:/C:%5CUsers%5Ccami9495%5CDocuments%5Cesri-cityengine-sdk-master%5Cexamples%5Cpy4prt%5CDemo2_Optimization%5Cenvelope2409.rpk!/assets/Bench/_1.jpg\" type=\"str\"/>\n",
      "\t<attribute key=\"assets/lawn2.jpg\" value=\"rpk:file:/C:%5CUsers%5Ccami9495%5CDocuments%5Cesri-cityengine-sdk-master%5Cexamples%5Cpy4prt%5CDemo2_Optimization%5Cenvelope2409.rpk!/assets/lawn2.jpg\" type=\"str\"/>\n",
      "\t<attribute key=\"rules/typology/volume.cga\" value=\"rpk:file:/C:%5CUsers%5Ccami9495%5CDocuments%5Cesri-cityengine-sdk-master%5Cexamples%5Cpy4prt%5CDemo2_Optimization%5Cenvelope2409.rpk!/rules/typology/volume.cga\" type=\"str\"/>\n",
      "\t<attribute key=\"/green_optimization_3/assets/unified_landscape/plan3.mtl\" value=\"rpk:file:/C:%5CUsers%5Ccami9495%5CDocuments%5Cesri-cityengine-sdk-master%5Cexamples%5Cpy4prt%5CDemo2_Optimization%5Cenvelope2409.rpk!/assets/unified_landscape/plan3.mtl\" type=\"str\"/>\n",
      "\t<attribute key=\"/green_optimization_3/assets/unified_landscape/plan2.mtl\" value=\"rpk:file:/C:%5CUsers%5Ccami9495%5CDocuments%5Cesri-cityengine-sdk-master%5Cexamples%5Cpy4prt%5CDemo2_Optimization%5Cenvelope2409.rpk!/assets/unified_landscape/plan2.mtl\" type=\"str\"/>\n",
      "\t<attribute key=\"assets/paving_b.jpg\" value=\"rpk:file:/C:%5CUsers%5Ccami9495%5CDocuments%5Cesri-cityengine-sdk-master%5Cexamples%5Cpy4prt%5CDemo2_Optimization%5Cenvelope2409.rpk!/assets/paving_b.jpg\" type=\"str\"/>\n",
      "\t<attribute key=\"rules/typology/ground_floor_plan.cga\" value=\"rpk:file:/C:%5CUsers%5Ccami9495%5CDocuments%5Cesri-cityengine-sdk-master%5Cexamples%5Cpy4prt%5CDemo2_Optimization%5Cenvelope2409.rpk!/rules/typology/ground_floor_plan.cga\" type=\"str\"/>\n",
      "\t<attribute key=\"assets/vertical_greenery/6.PNG\" value=\"rpk:file:/C:%5CUsers%5Ccami9495%5CDocuments%5Cesri-cityengine-sdk-master%5Cexamples%5Cpy4prt%5CDemo2_Optimization%5Cenvelope2409.rpk!/assets/vertical_greenery/6.PNG\" type=\"str\"/>\n",
      "\t<attribute key=\"assets/vertical_greenery/7.PNG\" value=\"rpk:file:/C:%5CUsers%5Ccami9495%5CDocuments%5Cesri-cityengine-sdk-master%5Cexamples%5Cpy4prt%5CDemo2_Optimization%5Cenvelope2409.rpk!/assets/vertical_greenery/7.PNG\" type=\"str\"/>\n",
      "\t<attribute key=\"rules/typology/landscape.cga\" value=\"rpk:file:/C:%5CUsers%5Ccami9495%5CDocuments%5Cesri-cityengine-sdk-master%5Cexamples%5Cpy4prt%5CDemo2_Optimization%5Cenvelope2409.rpk!/rules/typology/landscape.cga\" type=\"str\"/>\n",
      "\t<attribute key=\"/green_optimization_3/assets/paving_b.jpg\" value=\"rpk:file:/C:%5CUsers%5Ccami9495%5CDocuments%5Cesri-cityengine-sdk-master%5Cexamples%5Cpy4prt%5CDemo2_Optimization%5Cenvelope2409.rpk!/assets/paving_b.jpg\" type=\"str\"/>\n",
      "\t<attribute key=\"/green_optimization_3/rules/typology/envelope2409.cga\" value=\"rpk:file:/C:%5CUsers%5Ccami9495%5CDocuments%5Cesri-cityengine-sdk-master%5Cexamples%5Cpy4prt%5CDemo2_Optimization%5Cenvelope2409.rpk!/rules/typology/envelope2409.cga\" type=\"str\"/>\n",
      "\t<attribute key=\"assets/vertical_greenery/1.PNG\" value=\"rpk:file:/C:%5CUsers%5Ccami9495%5CDocuments%5Cesri-cityengine-sdk-master%5Cexamples%5Cpy4prt%5CDemo2_Optimization%5Cenvelope2409.rpk!/assets/vertical_greenery/1.PNG\" type=\"str\"/>\n",
      "\t<attribute key=\"/green_optimization_3/assets/unified_landscape/plan4.mtl\" value=\"rpk:file:/C:%5CUsers%5Ccami9495%5CDocuments%5Cesri-cityengine-sdk-master%5Cexamples%5Cpy4prt%5CDemo2_Optimization%5Cenvelope2409.rpk!/assets/unified_landscape/plan4.mtl\" type=\"str\"/>\n",
      "\t<attribute key=\"/green_optimization_3/assets/vertical_greenery/5.PNG\" value=\"rpk:file:/C:%5CUsers%5Ccami9495%5CDocuments%5Cesri-cityengine-sdk-master%5Cexamples%5Cpy4prt%5CDemo2_Optimization%5Cenvelope2409.rpk!/assets/vertical_greenery/5.PNG\" type=\"str\"/>\n",
      "\t<attribute key=\"/green_optimization_3/rules/typology/volume.cga\" value=\"rpk:file:/C:%5CUsers%5Ccami9495%5CDocuments%5Cesri-cityengine-sdk-master%5Cexamples%5Cpy4prt%5CDemo2_Optimization%5Cenvelope2409.rpk!/rules/typology/volume.cga\" type=\"str\"/>\n",
      "\t<attribute key=\"/green_optimization_3/rules/typology/ground_floor_plan.cga\" value=\"rpk:file:/C:%5CUsers%5Ccami9495%5CDocuments%5Cesri-cityengine-sdk-master%5Cexamples%5Cpy4prt%5CDemo2_Optimization%5Cenvelope2409.rpk!/rules/typology/ground_floor_plan.cga\" type=\"str\"/>\n",
      "\t<attribute key=\"/green_optimization_3/assets/vertical_greenery/3.PNG\" value=\"rpk:file:/C:%5CUsers%5Ccami9495%5CDocuments%5Cesri-cityengine-sdk-master%5Cexamples%5Cpy4prt%5CDemo2_Optimization%5Cenvelope2409.rpk!/assets/vertical_greenery/3.PNG\" type=\"str\"/>\n",
      "\t<attribute key=\"assets/vertical_greenery/5.PNG\" value=\"rpk:file:/C:%5CUsers%5Ccami9495%5CDocuments%5Cesri-cityengine-sdk-master%5Cexamples%5Cpy4prt%5CDemo2_Optimization%5Cenvelope2409.rpk!/assets/vertical_greenery/5.PNG\" type=\"str\"/>\n",
      "\t<attribute key=\"assets/unified_landscape/plan4.mtl\" value=\"rpk:file:/C:%5CUsers%5Ccami9495%5CDocuments%5Cesri-cityengine-sdk-master%5Cexamples%5Cpy4prt%5CDemo2_Optimization%5Cenvelope2409.rpk!/assets/unified_landscape/plan4.mtl\" type=\"str\"/>\n",
      "\t<attribute key=\"assets/vertical_greenery/2.PNG\" value=\"rpk:file:/C:%5CUsers%5Ccami9495%5CDocuments%5Cesri-cityengine-sdk-master%5Cexamples%5Cpy4prt%5CDemo2_Optimization%5Cenvelope2409.rpk!/assets/vertical_greenery/2.PNG\" type=\"str\"/>\n",
      "\t<attribute key=\"/green_optimization_3/assets/unified_landscape/plan2.obj\" value=\"rpk:file:/C:%5CUsers%5Ccami9495%5CDocuments%5Cesri-cityengine-sdk-master%5Cexamples%5Cpy4prt%5CDemo2_Optimization%5Cenvelope2409.rpk!/assets/unified_landscape/plan2.obj\" type=\"str\"/>\n",
      "\t<attribute key=\"assets/vertical_greenery/3.PNG\" value=\"rpk:file:/C:%5CUsers%5Ccami9495%5CDocuments%5Cesri-cityengine-sdk-master%5Cexamples%5Cpy4prt%5CDemo2_Optimization%5Cenvelope2409.rpk!/assets/vertical_greenery/3.PNG\" type=\"str\"/>\n",
      "</ResolveMap>\n",
      "\n"
     ]
    }
   ],
   "source": [
    "attrs_green = {'ruleFile' : \"rules/typology/envelope2409.cgb\", 'startRule' : \"Default$Lot\", 'report_but_not_display_green' : True}\n",
    "\n",
    "model2 = m.generate_model(attrs_green, rpk_green, \"com.esri.prt.examples.PyEncoder\", {'emitGeometry' : False})"
   ]
  },
  {
   "cell_type": "code",
   "execution_count": 27,
   "metadata": {},
   "outputs": [
    {
     "name": "stdout",
     "output_type": "stream",
     "text": [
      "\n",
      "Number of generated geometries (= nber of initial shapes):\n",
      "1\n",
      "\n",
      "Initial Shape Index: 0\n",
      "\n",
      "Report of the generated model:\n",
      "{'Greenery Area_avg': 3.699304017412569, 'Greenery Area_max': 408.2737197150759, 'Greenery Area_min': 0.4895963195850646, 'Greenery Area_n': 574.0, 'Greenery Area_sum': 2123.4005059948145, 'Number of trees_avg': 1.0, 'Number of trees_max': 1.0, 'Number of trees_min': 1.0, 'Number of trees_n': 114.0, 'Number of trees_sum': 114.0, 'green area_avg': 3.3769576217278554, 'green area_max': 408.2737197150759, 'green area_min': 0.4895963195850646, 'green area_n': 460.0, 'green area_sum': 1553.4005059948136}\n",
      "\n"
     ]
    }
   ],
   "source": [
    "visualize_PRT_results(model2)"
   ]
  },
  {
   "cell_type": "code",
   "execution_count": 28,
   "metadata": {},
   "outputs": [],
   "source": [
    "def fct_green(x):\n",
    "\n",
    "    attrs_green[input_attr_green[0]] = x[0]\n",
    "    attrs_green[input_attr_green[1]] = x[1]\n",
    "    generated_mod_green = m.generate_model(attrs_green)\n",
    "    \n",
    "    if generated_mod_green:\n",
    "        rep_green = combine_reports(generated_mod_green[0])\n",
    "        return -rep_green[goal_str_green]\n",
    "    else:\n",
    "        print(\"Error in optimization process.\")"
   ]
  },
  {
   "cell_type": "code",
   "execution_count": 29,
   "metadata": {},
   "outputs": [],
   "source": [
    "bounds_green = [(0,100),(8,13)]"
   ]
  },
  {
   "cell_type": "code",
   "execution_count": 30,
   "metadata": {},
   "outputs": [
    {
     "data": {
      "text/plain": [
       "2112.7263646109823"
      ]
     },
     "execution_count": 30,
     "metadata": {},
     "output_type": "execute_result"
    }
   ],
   "source": [
    "-fct_green(x0_green)"
   ]
  },
  {
   "cell_type": "code",
   "execution_count": 31,
   "metadata": {},
   "outputs": [
    {
     "name": "stdout",
     "output_type": "stream",
     "text": [
      "The optimization lasted: 157.5194342136383\n"
     ]
    },
    {
     "data": {
      "text/plain": [
       "     fun: -2221.57314995954\n",
       " message: 'Optimization terminated successfully.'\n",
       "    nfev: 183\n",
       "     nit: 5\n",
       " success: True\n",
       "       x: array([99.08078256, 12.79276757])"
      ]
     },
     "execution_count": 31,
     "metadata": {},
     "output_type": "execute_result"
    }
   ],
   "source": [
    "start = time.time()\n",
    "\n",
    "res_green = optimize.differential_evolution(fct_green, bounds_green, seed = 666) #dual_annealing\n",
    "\n",
    "duration = time.time() - start\n",
    "print(\"The optimization lasted: \" + str(duration))\n",
    "res_green"
   ]
  },
  {
   "cell_type": "code",
   "execution_count": 19,
   "metadata": {
    "scrolled": true
   },
   "outputs": [
    {
     "name": "stdout",
     "output_type": "stream",
     "text": [
      "\n",
      "Number of generated geometries (= nber of initial shapes):\n",
      "1\n",
      "\n",
      "Initial Shape Index: 0\n",
      "\n",
      "Report of the generated model:\n",
      "{'Number of trees_avg': 1.0, 'Number of trees_max': 1.0, 'Number of trees_min': 1.0, 'Number of trees_n': 138.0, 'Number of trees_sum': 138.0, 'green area_avg': 2.5744739318515535, 'green area_max': 193.4288426155822, 'green area_min': 0.4895976928733391, 'green area_n': 599.0, 'green area_sum': 1542.1098851790805, 'total report for optimisation_avg': 3.964870943255197, 'total report for optimisation_max': 193.4288426155822, 'total report for optimisation_min': 0.4895976928733391, 'total report for optimisation_n': 737.0, 'total report for optimisation_sum': 2922.1098851790803}\n",
      "\n"
     ]
    }
   ],
   "source": [
    "attrs_green[input_attr_green[0]] = res_green.x[0]\n",
    "attrs_green[input_attr_green[1]] = res_green.x[1]\n",
    "green_model2 = m.generate_model(attrs_green)\n",
    "\n",
    "if green_model2:\n",
    "    visualize_PRT_results(green_model2)"
   ]
  },
  {
   "cell_type": "markdown",
   "metadata": {},
   "source": [
    "### Results Visualization"
   ]
  },
  {
   "cell_type": "code",
   "execution_count": 21,
   "metadata": {},
   "outputs": [
    {
     "name": "stdout",
     "output_type": "stream",
     "text": [
      "[PRT] [2019-09-16 15:24:22] [debug] width 512, height 512, rasterCount 3\n",
      "[PRT] [2019-09-16 15:24:22] [debug] width 512, height 512, rasterCount 3\n",
      "[PRT] [2019-09-16 15:24:22] [debug] width 512, height 512, rasterCount 3\n",
      "[PRT] [2019-09-16 15:24:22] [debug] width 512, height 512, rasterCount 3\n",
      "[PRT] [2019-09-16 15:24:22] [debug] width 512, height 512, rasterCount 3\n",
      "[PRT] [2019-09-16 15:24:22] [debug] width 512, height 512, rasterCount 3\n",
      "[PRT] [2019-09-16 15:24:22] [debug] width 256, height 256, rasterCount 3\n",
      "[PRT] [2019-09-16 15:24:22] [warning] JPG encoder: ignoring texture channels other than the first 3.\n",
      "[PRT] [2019-09-16 15:24:23] [debug] width 256, height 512, rasterCount 4\n",
      "[PRT] [2019-09-16 15:24:23] [debug] width 1024, height 1024, rasterCount 4\n",
      "[PRT] [2019-09-16 15:24:23] [debug] width 1024, height 1024, rasterCount 4\n"
     ]
    }
   ],
   "source": [
    "export_file_name = \"SLPKModel2\"\n",
    "enc_optionsSLPK = {'sceneType' : \"Local\",'baseName' : export_file_name,'sceneWkid' : \"3857\",'layerTextureEncoding' : [\"2\"],'layerEnabled' : [True],'layerUID' : [\"1\"],'layerName' : [\"1\"],'layerTextureQuality' : [1.0],'layerTextureCompression' : [9],'layerTextureScaling' : [1.0],'layerTextureMaxDimension' : [2048],'layerFeatureGranularity' : [\"0\"],'layerBackfaceCulling' : [False]}\n",
    "\n",
    "#attrs_green[input_attr_green[0]] = res_green.x[0]\n",
    "#attrs_green[input_attr_green[1]] = res_green.x[1]\n",
    "green_model = m.generate_model(attrs_green, rpk_green, \"com.esri.prt.codecs.I3SEncoder\", enc_optionsSLPK)"
   ]
  },
  {
   "cell_type": "code",
   "execution_count": 22,
   "metadata": {},
   "outputs": [],
   "source": [
    "item = my_gis.content.add({'type':'Scene Package'}, data=asset_file(\"..\\output\\%s.slpk\" % export_file_name), folder='packages')\n",
    "if item is None:\n",
    "    # first delete the existing one if any and add\n",
    "    my_gis.content.delete_items([item])\n",
    "    item = my_gis.content.add({'type':'Scene Package'}, asset_file(\"..\\output\\%s.slpk\" % export_file_name), folder='packages')\n",
    "published_item = item.publish()"
   ]
  },
  {
   "cell_type": "code",
   "execution_count": 23,
   "metadata": {},
   "outputs": [
    {
     "data": {
      "text/html": [
       "\n",
       "        <iframe\n",
       "            width=\"900\"\n",
       "            height=\"600\"\n",
       "            src=\"http://zurich.maps.arcgis.com/home/webscene/viewer.html?layers=36a8e75a66334cfea047b3b7fc511990\"\n",
       "            frameborder=\"0\"\n",
       "            allowfullscreen\n",
       "        ></iframe>\n",
       "        "
      ],
      "text/plain": [
       "<IPython.lib.display.IFrame at 0x2d09cfa81d0>"
      ]
     },
     "execution_count": 23,
     "metadata": {},
     "output_type": "execute_result"
    }
   ],
   "source": [
    "source2 = 'http://zurich.maps.arcgis.com/home/webscene/viewer.html?layers=' + published_item.id\n",
    "IFrame(src=source2, width=900, height=600)"
   ]
  },
  {
   "cell_type": "markdown",
   "metadata": {},
   "source": [
    "-------------------------------------------------------------------------------------------------------------------------------\n",
    "\n",
    "-------------------------------------------------------------------------------------------------------------------------------"
   ]
  },
  {
   "cell_type": "markdown",
   "metadata": {},
   "source": [
    "Step 3 : optimize the total green area reported including the balconies trees. This will be optimized taking into account several parameters:\n",
    "- the shape of the building (1 = orthogonal, 2 = L shape, 3 = U shape, 4 = O shapes)\n",
    "- the lot coverage\n",
    "- the height of the first tier"
   ]
  },
  {
   "cell_type": "markdown",
   "metadata": {},
   "source": [
    "### The variables"
   ]
  },
  {
   "cell_type": "code",
   "execution_count": 36,
   "metadata": {},
   "outputs": [],
   "source": [
    "goal_str_green = \"Greenery Area\" + \"_sum\"\n",
    "\n",
    "input_attr_green = [\"lot_coverage_parameter\", \"height_first_tier\", \"shape_of_building\"]\n",
    "x0_green = [float(50), float(9), float(int(2))]"
   ]
  },
  {
   "cell_type": "code",
   "execution_count": 43,
   "metadata": {},
   "outputs": [
    {
     "name": "stdout",
     "output_type": "stream",
     "text": [
      "[PRT] [2019-09-24 14:54:43] [info] using rule package C:\\Users\\cami9495\\Documents\\esri-cityengine-sdk-master\\examples\\py4prt\\Demo2_Optimization\\envelope2409.rpk\n",
      "\n",
      "[PRT] [2019-09-24 14:54:43] [debug] resolve map = <ResolveMap>\n",
      "\t<attribute key=\"/green_optimization_3/assets/lawn2.jpg\" value=\"rpk:file:/C:%5CUsers%5Ccami9495%5CDocuments%5Cesri-cityengine-sdk-master%5Cexamples%5Cpy4prt%5CDemo2_Optimization%5Cenvelope2409.rpk!/assets/lawn2.jpg\" type=\"str\"/>\n",
      "\t<attribute key=\"/ESRI.lib/rules/Plants/Plant_Loader.cga\" value=\"rpk:file:/C:%5CUsers%5Ccami9495%5CDocuments%5Cesri-cityengine-sdk-master%5Cexamples%5Cpy4prt%5CDemo2_Optimization%5Cenvelope2409.rpk!/.ws/ESRI.lib/rules/Plants/Plant_Loader.cga\" type=\"str\"/>\n",
      "\t<attribute key=\"/green_optimization_3/assets/vertical_greenery/2.PNG\" value=\"rpk:file:/C:%5CUsers%5Ccami9495%5CDocuments%5Cesri-cityengine-sdk-master%5Cexamples%5Cpy4prt%5CDemo2_Optimization%5Cenvelope2409.rpk!/assets/vertical_greenery/2.PNG\" type=\"str\"/>\n",
      "\t<attribute key=\"assets/bench.obj\" value=\"rpk:file:/C:%5CUsers%5Ccami9495%5CDocuments%5Cesri-cityengine-sdk-master%5Cexamples%5Cpy4prt%5CDemo2_Optimization%5Cenvelope2409.rpk!/assets/bench.obj\" type=\"str\"/>\n",
      "\t<attribute key=\"rules/typology/envelope2409.cgb\" value=\"rpk:file:/C:%5CUsers%5Ccami9495%5CDocuments%5Cesri-cityengine-sdk-master%5Cexamples%5Cpy4prt%5CDemo2_Optimization%5Cenvelope2409.rpk!/rules/typology/envelope2409.cgb\" type=\"str\"/>\n",
      "\t<attribute key=\"rules/typology/envelope2409.cga\" value=\"rpk:file:/C:%5CUsers%5Ccami9495%5CDocuments%5Cesri-cityengine-sdk-master%5Cexamples%5Cpy4prt%5CDemo2_Optimization%5Cenvelope2409.rpk!/rules/typology/envelope2409.cga\" type=\"str\"/>\n",
      "\t<attribute key=\"assets/unified_landscape/plan1.obj\" value=\"rpk:file:/C:%5CUsers%5Ccami9495%5CDocuments%5Cesri-cityengine-sdk-master%5Cexamples%5Cpy4prt%5CDemo2_Optimization%5Cenvelope2409.rpk!/assets/unified_landscape/plan1.obj\" type=\"str\"/>\n",
      "\t<attribute key=\"assets/unified_landscape/plan3.mtl\" value=\"rpk:file:/C:%5CUsers%5Ccami9495%5CDocuments%5Cesri-cityengine-sdk-master%5Cexamples%5Cpy4prt%5CDemo2_Optimization%5Cenvelope2409.rpk!/assets/unified_landscape/plan3.mtl\" type=\"str\"/>\n",
      "\t<attribute key=\"/green_optimization_3/assets/vertical_greenery/9.PNG\" value=\"rpk:file:/C:%5CUsers%5Ccami9495%5CDocuments%5Cesri-cityengine-sdk-master%5Cexamples%5Cpy4prt%5CDemo2_Optimization%5Cenvelope2409.rpk!/assets/vertical_greenery/9.PNG\" type=\"str\"/>\n",
      "\t<attribute key=\"/green_optimization_3/assets/bench.obj\" value=\"rpk:file:/C:%5CUsers%5Ccami9495%5CDocuments%5Cesri-cityengine-sdk-master%5Cexamples%5Cpy4prt%5CDemo2_Optimization%5Cenvelope2409.rpk!/assets/bench.obj\" type=\"str\"/>\n",
      "\t<attribute key=\"/green_optimization_3/rules/typology/facade.cga\" value=\"rpk:file:/C:%5CUsers%5Ccami9495%5CDocuments%5Cesri-cityengine-sdk-master%5Cexamples%5Cpy4prt%5CDemo2_Optimization%5Cenvelope2409.rpk!/rules/typology/facade.cga\" type=\"str\"/>\n",
      "\t<attribute key=\"/green_optimization_3/assets/vertical_greenery/1.PNG\" value=\"rpk:file:/C:%5CUsers%5Ccami9495%5CDocuments%5Cesri-cityengine-sdk-master%5Cexamples%5Cpy4prt%5CDemo2_Optimization%5Cenvelope2409.rpk!/assets/vertical_greenery/1.PNG\" type=\"str\"/>\n",
      "\t<attribute key=\"assets/Bench/ooMaterial2.jpg\" value=\"rpk:file:/C:%5CUsers%5Ccami9495%5CDocuments%5Cesri-cityengine-sdk-master%5Cexamples%5Cpy4prt%5CDemo2_Optimization%5Cenvelope2409.rpk!/assets/Bench/ooMaterial2.jpg\" type=\"str\"/>\n",
      "\t<attribute key=\"assets/unified_landscape/plan4.obj\" value=\"rpk:file:/C:%5CUsers%5Ccami9495%5CDocuments%5Cesri-cityengine-sdk-master%5Cexamples%5Cpy4prt%5CDemo2_Optimization%5Cenvelope2409.rpk!/assets/unified_landscape/plan4.obj\" type=\"str\"/>\n",
      "\t<attribute key=\"/green_optimization_3/assets/vertical_greenery/8.PNG\" value=\"rpk:file:/C:%5CUsers%5Ccami9495%5CDocuments%5Cesri-cityengine-sdk-master%5Cexamples%5Cpy4prt%5CDemo2_Optimization%5Cenvelope2409.rpk!/assets/vertical_greenery/8.PNG\" type=\"str\"/>\n",
      "\t<attribute key=\"assets/vertical_greenery/8.PNG\" value=\"rpk:file:/C:%5CUsers%5Ccami9495%5CDocuments%5Cesri-cityengine-sdk-master%5Cexamples%5Cpy4prt%5CDemo2_Optimization%5Cenvelope2409.rpk!/assets/vertical_greenery/8.PNG\" type=\"str\"/>\n",
      "\t<attribute key=\"/green_optimization_3/assets/Bench/_1.jpg\" value=\"rpk:file:/C:%5CUsers%5Ccami9495%5CDocuments%5Cesri-cityengine-sdk-master%5Cexamples%5Cpy4prt%5CDemo2_Optimization%5Cenvelope2409.rpk!/assets/Bench/_1.jpg\" type=\"str\"/>\n",
      "\t<attribute key=\"/green_optimization_3/assets/wood.jpg\" value=\"rpk:file:/C:%5CUsers%5Ccami9495%5CDocuments%5Cesri-cityengine-sdk-master%5Cexamples%5Cpy4prt%5CDemo2_Optimization%5Cenvelope2409.rpk!/assets/wood.jpg\" type=\"str\"/>\n",
      "\t<attribute key=\"/ESRI.lib/rules/Plants/Plant_Distributor.cga\" value=\"rpk:file:/C:%5CUsers%5Ccami9495%5CDocuments%5Cesri-cityengine-sdk-master%5Cexamples%5Cpy4prt%5CDemo2_Optimization%5Cenvelope2409.rpk!/.ws/ESRI.lib/rules/Plants/Plant_Distributor.cga\" type=\"str\"/>\n",
      "\t<attribute key=\"assets/concrete.jpg\" value=\"rpk:file:/C:%5CUsers%5Ccami9495%5CDocuments%5Cesri-cityengine-sdk-master%5Cexamples%5Cpy4prt%5CDemo2_Optimization%5Cenvelope2409.rpk!/assets/concrete.jpg\" type=\"str\"/>\n",
      "\t<attribute key=\"assets/vertical_greenery/4.PNG\" value=\"rpk:file:/C:%5CUsers%5Ccami9495%5CDocuments%5Cesri-cityengine-sdk-master%5Cexamples%5Cpy4prt%5CDemo2_Optimization%5Cenvelope2409.rpk!/assets/vertical_greenery/4.PNG\" type=\"str\"/>\n",
      "\t<attribute key=\"assets/glass_door.obj\" value=\"rpk:file:/C:%5CUsers%5Ccami9495%5CDocuments%5Cesri-cityengine-sdk-master%5Cexamples%5Cpy4prt%5CDemo2_Optimization%5Cenvelope2409.rpk!/assets/glass_door.obj\" type=\"str\"/>\n",
      "\t<attribute key=\"/green_optimization_3/assets/Bench.mtl\" value=\"rpk:file:/C:%5CUsers%5Ccami9495%5CDocuments%5Cesri-cityengine-sdk-master%5Cexamples%5Cpy4prt%5CDemo2_Optimization%5Cenvelope2409.rpk!/assets/Bench.mtl\" type=\"str\"/>\n",
      "\t<attribute key=\"/green_optimization_3/assets/Bench/ooMaterial2.jpg\" value=\"rpk:file:/C:%5CUsers%5Ccami9495%5CDocuments%5Cesri-cityengine-sdk-master%5Cexamples%5Cpy4prt%5CDemo2_Optimization%5Cenvelope2409.rpk!/assets/Bench/ooMaterial2.jpg\" type=\"str\"/>\n",
      "\t<attribute key=\"/green_optimization_3/assets/vertical_greenery/6.PNG\" value=\"rpk:file:/C:%5CUsers%5Ccami9495%5CDocuments%5Cesri-cityengine-sdk-master%5Cexamples%5Cpy4prt%5CDemo2_Optimization%5Cenvelope2409.rpk!/assets/vertical_greenery/6.PNG\" type=\"str\"/>\n",
      "\t<attribute key=\"/green_optimization_3/assets/concrete.jpg\" value=\"rpk:file:/C:%5CUsers%5Ccami9495%5CDocuments%5Cesri-cityengine-sdk-master%5Cexamples%5Cpy4prt%5CDemo2_Optimization%5Cenvelope2409.rpk!/assets/concrete.jpg\" type=\"str\"/>\n",
      "\t<attribute key=\"assets/brick_wall.jpg\" value=\"rpk:file:/C:%5CUsers%5Ccami9495%5CDocuments%5Cesri-cityengine-sdk-master%5Cexamples%5Cpy4prt%5CDemo2_Optimization%5Cenvelope2409.rpk!/assets/brick_wall.jpg\" type=\"str\"/>\n",
      "\t<attribute key=\"/green_optimization_3/assets/unified_landscape/plan4.obj\" value=\"rpk:file:/C:%5CUsers%5Ccami9495%5CDocuments%5Cesri-cityengine-sdk-master%5Cexamples%5Cpy4prt%5CDemo2_Optimization%5Cenvelope2409.rpk!/assets/unified_landscape/plan4.obj\" type=\"str\"/>\n",
      "\t<attribute key=\"assets/wall_plaster.jpg\" value=\"rpk:file:/C:%5CUsers%5Ccami9495%5CDocuments%5Cesri-cityengine-sdk-master%5Cexamples%5Cpy4prt%5CDemo2_Optimization%5Cenvelope2409.rpk!/assets/wall_plaster.jpg\" type=\"str\"/>\n",
      "\t<attribute key=\"/green_optimization_3/assets/brick_wall.jpg\" value=\"rpk:file:/C:%5CUsers%5Ccami9495%5CDocuments%5Cesri-cityengine-sdk-master%5Cexamples%5Cpy4prt%5CDemo2_Optimization%5Cenvelope2409.rpk!/assets/brick_wall.jpg\" type=\"str\"/>\n",
      "\t<attribute key=\"assets/vertical_greenery/10.PNG\" value=\"rpk:file:/C:%5CUsers%5Ccami9495%5CDocuments%5Cesri-cityengine-sdk-master%5Cexamples%5Cpy4prt%5CDemo2_Optimization%5Cenvelope2409.rpk!/assets/vertical_greenery/10.PNG\" type=\"str\"/>\n",
      "\t<attribute key=\"/green_optimization_3/assets/vertical_greenery/10.PNG\" value=\"rpk:file:/C:%5CUsers%5Ccami9495%5CDocuments%5Cesri-cityengine-sdk-master%5Cexamples%5Cpy4prt%5CDemo2_Optimization%5Cenvelope2409.rpk!/assets/vertical_greenery/10.PNG\" type=\"str\"/>\n",
      "\t<attribute key=\"/green_optimization_3/assets/vertical_greenery/7.PNG\" value=\"rpk:file:/C:%5CUsers%5Ccami9495%5CDocuments%5Cesri-cityengine-sdk-master%5Cexamples%5Cpy4prt%5CDemo2_Optimization%5Cenvelope2409.rpk!/assets/vertical_greenery/7.PNG\" type=\"str\"/>\n",
      "\t<attribute key=\"/green_optimization_3/rules/typology/landscape.cga\" value=\"rpk:file:/C:%5CUsers%5Ccami9495%5CDocuments%5Cesri-cityengine-sdk-master%5Cexamples%5Cpy4prt%5CDemo2_Optimization%5Cenvelope2409.rpk!/rules/typology/landscape.cga\" type=\"str\"/>\n",
      "\t<attribute key=\"assets/unified_landscape/plan2.obj\" value=\"rpk:file:/C:%5CUsers%5Ccami9495%5CDocuments%5Cesri-cityengine-sdk-master%5Cexamples%5Cpy4prt%5CDemo2_Optimization%5Cenvelope2409.rpk!/assets/unified_landscape/plan2.obj\" type=\"str\"/>\n",
      "\t<attribute key=\"/green_optimization_3/assets/wall_plaster.jpg\" value=\"rpk:file:/C:%5CUsers%5Ccami9495%5CDocuments%5Cesri-cityengine-sdk-master%5Cexamples%5Cpy4prt%5CDemo2_Optimization%5Cenvelope2409.rpk!/assets/wall_plaster.jpg\" type=\"str\"/>\n",
      "\t<attribute key=\"rules/typology/facade.cga\" value=\"rpk:file:/C:%5CUsers%5Ccami9495%5CDocuments%5Cesri-cityengine-sdk-master%5Cexamples%5Cpy4prt%5CDemo2_Optimization%5Cenvelope2409.rpk!/rules/typology/facade.cga\" type=\"str\"/>\n",
      "\t<attribute key=\"assets/unified_landscape/plan3.obj\" value=\"rpk:file:/C:%5CUsers%5Ccami9495%5CDocuments%5Cesri-cityengine-sdk-master%5Cexamples%5Cpy4prt%5CDemo2_Optimization%5Cenvelope2409.rpk!/assets/unified_landscape/plan3.obj\" type=\"str\"/>\n",
      "\t<attribute key=\"assets/Bench.mtl\" value=\"rpk:file:/C:%5CUsers%5Ccami9495%5CDocuments%5Cesri-cityengine-sdk-master%5Cexamples%5Cpy4prt%5CDemo2_Optimization%5Cenvelope2409.rpk!/assets/Bench.mtl\" type=\"str\"/>\n",
      "\t<attribute key=\"/green_optimization_3/assets/vertical_greenery/4.PNG\" value=\"rpk:file:/C:%5CUsers%5Ccami9495%5CDocuments%5Cesri-cityengine-sdk-master%5Cexamples%5Cpy4prt%5CDemo2_Optimization%5Cenvelope2409.rpk!/assets/vertical_greenery/4.PNG\" type=\"str\"/>\n",
      "\t<attribute key=\"/green_optimization_3/assets/unified_landscape/plan1.obj\" value=\"rpk:file:/C:%5CUsers%5Ccami9495%5CDocuments%5Cesri-cityengine-sdk-master%5Cexamples%5Cpy4prt%5CDemo2_Optimization%5Cenvelope2409.rpk!/assets/unified_landscape/plan1.obj\" type=\"str\"/>\n",
      "\t<attribute key=\"assets/wood.jpg\" value=\"rpk:file:/C:%5CUsers%5Ccami9495%5CDocuments%5Cesri-cityengine-sdk-master%5Cexamples%5Cpy4prt%5CDemo2_Optimization%5Cenvelope2409.rpk!/assets/wood.jpg\" type=\"str\"/>\n",
      "\t<attribute key=\"assets/unified_landscape/plan2.mtl\" value=\"rpk:file:/C:%5CUsers%5Ccami9495%5CDocuments%5Cesri-cityengine-sdk-master%5Cexamples%5Cpy4prt%5CDemo2_Optimization%5Cenvelope2409.rpk!/assets/unified_landscape/plan2.mtl\" type=\"str\"/>\n",
      "\t<attribute key=\"/green_optimization_3/assets/unified_landscape/plan3.obj\" value=\"rpk:file:/C:%5CUsers%5Ccami9495%5CDocuments%5Cesri-cityengine-sdk-master%5Cexamples%5Cpy4prt%5CDemo2_Optimization%5Cenvelope2409.rpk!/assets/unified_landscape/plan3.obj\" type=\"str\"/>\n",
      "\t<attribute key=\"assets/vertical_greenery/9.PNG\" value=\"rpk:file:/C:%5CUsers%5Ccami9495%5CDocuments%5Cesri-cityengine-sdk-master%5Cexamples%5Cpy4prt%5CDemo2_Optimization%5Cenvelope2409.rpk!/assets/vertical_greenery/9.PNG\" type=\"str\"/>\n",
      "\t<attribute key=\"/green_optimization_3/assets/glass_door.obj\" value=\"rpk:file:/C:%5CUsers%5Ccami9495%5CDocuments%5Cesri-cityengine-sdk-master%5Cexamples%5Cpy4prt%5CDemo2_Optimization%5Cenvelope2409.rpk!/assets/glass_door.obj\" type=\"str\"/>\n",
      "\t<attribute key=\"assets/Bench/_1.jpg\" value=\"rpk:file:/C:%5CUsers%5Ccami9495%5CDocuments%5Cesri-cityengine-sdk-master%5Cexamples%5Cpy4prt%5CDemo2_Optimization%5Cenvelope2409.rpk!/assets/Bench/_1.jpg\" type=\"str\"/>\n",
      "\t<attribute key=\"assets/lawn2.jpg\" value=\"rpk:file:/C:%5CUsers%5Ccami9495%5CDocuments%5Cesri-cityengine-sdk-master%5Cexamples%5Cpy4prt%5CDemo2_Optimization%5Cenvelope2409.rpk!/assets/lawn2.jpg\" type=\"str\"/>\n",
      "\t<attribute key=\"rules/typology/volume.cga\" value=\"rpk:file:/C:%5CUsers%5Ccami9495%5CDocuments%5Cesri-cityengine-sdk-master%5Cexamples%5Cpy4prt%5CDemo2_Optimization%5Cenvelope2409.rpk!/rules/typology/volume.cga\" type=\"str\"/>\n",
      "\t<attribute key=\"/green_optimization_3/assets/unified_landscape/plan3.mtl\" value=\"rpk:file:/C:%5CUsers%5Ccami9495%5CDocuments%5Cesri-cityengine-sdk-master%5Cexamples%5Cpy4prt%5CDemo2_Optimization%5Cenvelope2409.rpk!/assets/unified_landscape/plan3.mtl\" type=\"str\"/>\n",
      "\t<attribute key=\"/green_optimization_3/assets/unified_landscape/plan2.mtl\" value=\"rpk:file:/C:%5CUsers%5Ccami9495%5CDocuments%5Cesri-cityengine-sdk-master%5Cexamples%5Cpy4prt%5CDemo2_Optimization%5Cenvelope2409.rpk!/assets/unified_landscape/plan2.mtl\" type=\"str\"/>\n",
      "\t<attribute key=\"assets/paving_b.jpg\" value=\"rpk:file:/C:%5CUsers%5Ccami9495%5CDocuments%5Cesri-cityengine-sdk-master%5Cexamples%5Cpy4prt%5CDemo2_Optimization%5Cenvelope2409.rpk!/assets/paving_b.jpg\" type=\"str\"/>\n",
      "\t<attribute key=\"rules/typology/ground_floor_plan.cga\" value=\"rpk:file:/C:%5CUsers%5Ccami9495%5CDocuments%5Cesri-cityengine-sdk-master%5Cexamples%5Cpy4prt%5CDemo2_Optimization%5Cenvelope2409.rpk!/rules/typology/ground_floor_plan.cga\" type=\"str\"/>\n",
      "\t<attribute key=\"assets/vertical_greenery/6.PNG\" value=\"rpk:file:/C:%5CUsers%5Ccami9495%5CDocuments%5Cesri-cityengine-sdk-master%5Cexamples%5Cpy4prt%5CDemo2_Optimization%5Cenvelope2409.rpk!/assets/vertical_greenery/6.PNG\" type=\"str\"/>\n",
      "\t<attribute key=\"assets/vertical_greenery/7.PNG\" value=\"rpk:file:/C:%5CUsers%5Ccami9495%5CDocuments%5Cesri-cityengine-sdk-master%5Cexamples%5Cpy4prt%5CDemo2_Optimization%5Cenvelope2409.rpk!/assets/vertical_greenery/7.PNG\" type=\"str\"/>\n",
      "\t<attribute key=\"rules/typology/landscape.cga\" value=\"rpk:file:/C:%5CUsers%5Ccami9495%5CDocuments%5Cesri-cityengine-sdk-master%5Cexamples%5Cpy4prt%5CDemo2_Optimization%5Cenvelope2409.rpk!/rules/typology/landscape.cga\" type=\"str\"/>\n",
      "\t<attribute key=\"/green_optimization_3/assets/paving_b.jpg\" value=\"rpk:file:/C:%5CUsers%5Ccami9495%5CDocuments%5Cesri-cityengine-sdk-master%5Cexamples%5Cpy4prt%5CDemo2_Optimization%5Cenvelope2409.rpk!/assets/paving_b.jpg\" type=\"str\"/>\n",
      "\t<attribute key=\"/green_optimization_3/rules/typology/envelope2409.cga\" value=\"rpk:file:/C:%5CUsers%5Ccami9495%5CDocuments%5Cesri-cityengine-sdk-master%5Cexamples%5Cpy4prt%5CDemo2_Optimization%5Cenvelope2409.rpk!/rules/typology/envelope2409.cga\" type=\"str\"/>\n",
      "\t<attribute key=\"assets/vertical_greenery/1.PNG\" value=\"rpk:file:/C:%5CUsers%5Ccami9495%5CDocuments%5Cesri-cityengine-sdk-master%5Cexamples%5Cpy4prt%5CDemo2_Optimization%5Cenvelope2409.rpk!/assets/vertical_greenery/1.PNG\" type=\"str\"/>\n",
      "\t<attribute key=\"/green_optimization_3/assets/unified_landscape/plan4.mtl\" value=\"rpk:file:/C:%5CUsers%5Ccami9495%5CDocuments%5Cesri-cityengine-sdk-master%5Cexamples%5Cpy4prt%5CDemo2_Optimization%5Cenvelope2409.rpk!/assets/unified_landscape/plan4.mtl\" type=\"str\"/>\n",
      "\t<attribute key=\"/green_optimization_3/assets/vertical_greenery/5.PNG\" value=\"rpk:file:/C:%5CUsers%5Ccami9495%5CDocuments%5Cesri-cityengine-sdk-master%5Cexamples%5Cpy4prt%5CDemo2_Optimization%5Cenvelope2409.rpk!/assets/vertical_greenery/5.PNG\" type=\"str\"/>\n",
      "\t<attribute key=\"/green_optimization_3/rules/typology/volume.cga\" value=\"rpk:file:/C:%5CUsers%5Ccami9495%5CDocuments%5Cesri-cityengine-sdk-master%5Cexamples%5Cpy4prt%5CDemo2_Optimization%5Cenvelope2409.rpk!/rules/typology/volume.cga\" type=\"str\"/>\n",
      "\t<attribute key=\"/green_optimization_3/rules/typology/ground_floor_plan.cga\" value=\"rpk:file:/C:%5CUsers%5Ccami9495%5CDocuments%5Cesri-cityengine-sdk-master%5Cexamples%5Cpy4prt%5CDemo2_Optimization%5Cenvelope2409.rpk!/rules/typology/ground_floor_plan.cga\" type=\"str\"/>\n",
      "\t<attribute key=\"/green_optimization_3/assets/vertical_greenery/3.PNG\" value=\"rpk:file:/C:%5CUsers%5Ccami9495%5CDocuments%5Cesri-cityengine-sdk-master%5Cexamples%5Cpy4prt%5CDemo2_Optimization%5Cenvelope2409.rpk!/assets/vertical_greenery/3.PNG\" type=\"str\"/>\n",
      "\t<attribute key=\"assets/vertical_greenery/5.PNG\" value=\"rpk:file:/C:%5CUsers%5Ccami9495%5CDocuments%5Cesri-cityengine-sdk-master%5Cexamples%5Cpy4prt%5CDemo2_Optimization%5Cenvelope2409.rpk!/assets/vertical_greenery/5.PNG\" type=\"str\"/>\n",
      "\t<attribute key=\"assets/unified_landscape/plan4.mtl\" value=\"rpk:file:/C:%5CUsers%5Ccami9495%5CDocuments%5Cesri-cityengine-sdk-master%5Cexamples%5Cpy4prt%5CDemo2_Optimization%5Cenvelope2409.rpk!/assets/unified_landscape/plan4.mtl\" type=\"str\"/>\n",
      "\t<attribute key=\"assets/vertical_greenery/2.PNG\" value=\"rpk:file:/C:%5CUsers%5Ccami9495%5CDocuments%5Cesri-cityengine-sdk-master%5Cexamples%5Cpy4prt%5CDemo2_Optimization%5Cenvelope2409.rpk!/assets/vertical_greenery/2.PNG\" type=\"str\"/>\n",
      "\t<attribute key=\"/green_optimization_3/assets/unified_landscape/plan2.obj\" value=\"rpk:file:/C:%5CUsers%5Ccami9495%5CDocuments%5Cesri-cityengine-sdk-master%5Cexamples%5Cpy4prt%5CDemo2_Optimization%5Cenvelope2409.rpk!/assets/unified_landscape/plan2.obj\" type=\"str\"/>\n",
      "\t<attribute key=\"assets/vertical_greenery/3.PNG\" value=\"rpk:file:/C:%5CUsers%5Ccami9495%5CDocuments%5Cesri-cityengine-sdk-master%5Cexamples%5Cpy4prt%5CDemo2_Optimization%5Cenvelope2409.rpk!/assets/vertical_greenery/3.PNG\" type=\"str\"/>\n",
      "</ResolveMap>\n",
      "\n"
     ]
    }
   ],
   "source": [
    "attrs_green = {'ruleFile' : \"rules/typology/envelope2409.cgb\", 'startRule' : \"Default$Lot\", 'report_but_not_display_green' : True}\n",
    "\n",
    "model3 = m.generate_model(attrs_green, rpk_green, \"com.esri.prt.examples.PyEncoder\", {'emitGeometry' : False})"
   ]
  },
  {
   "cell_type": "code",
   "execution_count": 44,
   "metadata": {},
   "outputs": [],
   "source": [
    "def fct_green(x):\n",
    "\n",
    "    attrs_green[input_attr_green[0]] = x[0]\n",
    "    attrs_green[input_attr_green[1]] = x[1]\n",
    "    attrs_green[input_attr_green[2]] = float(round(x[2]))\n",
    "    generated_mod_green = m.generate_model(attrs_green)\n",
    "    \n",
    "    if generated_mod_green:\n",
    "        rep_green = combine_reports(generated_mod_green[0])\n",
    "        return -rep_green[goal_str_green]\n",
    "    else:\n",
    "        print(\"Error in optimization process.\")"
   ]
  },
  {
   "cell_type": "code",
   "execution_count": 45,
   "metadata": {},
   "outputs": [],
   "source": [
    "bounds_green = [(0,100),(8,13),(1,4)]"
   ]
  },
  {
   "cell_type": "code",
   "execution_count": 46,
   "metadata": {},
   "outputs": [
    {
     "data": {
      "text/plain": [
       "2566.649574933355"
      ]
     },
     "execution_count": 46,
     "metadata": {},
     "output_type": "execute_result"
    }
   ],
   "source": [
    "-fct_green(x0_green)"
   ]
  },
  {
   "cell_type": "code",
   "execution_count": 47,
   "metadata": {},
   "outputs": [
    {
     "name": "stdout",
     "output_type": "stream",
     "text": [
      "[PRT] [2019-09-24 15:17:10] [warning] Rule 'Default$volume$Slab_texture()V' InitialShape '<?>': illegal component geometry, no shape created.\n",
      "[PRT] [2019-09-24 15:17:10] [warning] Rule 'Default$volume$Slab_texture()V' InitialShape '<?>': illegal component geometry, no shape created.\n",
      "[PRT] [2019-09-24 15:25:09] [warning] Rule 'Default$volume$Slab_texture()V' InitialShape '<?>': illegal component geometry, no shape created.\n",
      "[PRT] [2019-09-24 15:25:09] [warning] Rule 'Default$volume$Slab_texture()V' InitialShape '<?>': illegal component geometry, no shape created.\n",
      "The optimization lasted: 2234.639107465744\n"
     ]
    },
    {
     "data": {
      "text/plain": [
       "     fun: -4230.006530381527\n",
       " message: 'Optimization terminated successfully.'\n",
       "    nfev: 1309\n",
       "     nit: 28\n",
       " success: True\n",
       "       x: array([33.13302682, 12.80920399,  3.51896445])"
      ]
     },
     "execution_count": 47,
     "metadata": {},
     "output_type": "execute_result"
    }
   ],
   "source": [
    "start = time.time()\n",
    "\n",
    "res_green = optimize.differential_evolution(fct_green, bounds_green, seed = 666) #dual_annealing\n",
    "\n",
    "duration = time.time() - start\n",
    "print(\"The optimization lasted: \" + str(duration))\n",
    "res_green"
   ]
  },
  {
   "cell_type": "code",
   "execution_count": 13,
   "metadata": {
    "scrolled": true
   },
   "outputs": [
    {
     "name": "stdout",
     "output_type": "stream",
     "text": [
      "\n",
      "Number of generated geometries (= nber of initial shapes):\n",
      "1\n",
      "\n",
      "Initial Shape Index: 0\n",
      "\n",
      "Report of the generated model:\n",
      "{'Number of trees_avg': 1.0, 'Number of trees_max': 1.0, 'Number of trees_min': 1.0, 'Number of trees_n': 236.0, 'Number of trees_sum': 236.0, 'green area_avg': 2.6817522843183452, 'green area_max': 265.1220790890036, 'green area_min': 0.33326814578156816, 'green area_n': 833.0, 'green area_sum': 2233.8996528371817, 'total report for optimisation_avg': 4.297380404899138, 'total report for optimisation_max': 265.1220790890036, 'total report for optimisation_min': 0.33326814578156816, 'total report for optimisation_n': 1069.0, 'total report for optimisation_sum': 4593.899652837178}\n",
      "\n"
     ]
    }
   ],
   "source": [
    "attrs_green[input_attr_green[0]] = res_green.x[0]\n",
    "attrs_green[input_attr_green[1]] = res_green.x[1]\n",
    "attrs_green[input_attr_green[2]] = float(round(res_green.x[2]))\n",
    "green_model3 = m.generate_model(attrs_green)\n",
    "\n",
    "if green_model3:\n",
    "    visualize_PRT_results(green_model3)"
   ]
  },
  {
   "cell_type": "markdown",
   "metadata": {},
   "source": [
    "### Results Visualization"
   ]
  },
  {
   "cell_type": "code",
   "execution_count": 14,
   "metadata": {},
   "outputs": [
    {
     "name": "stdout",
     "output_type": "stream",
     "text": [
      "[PRT] [2019-09-16 15:49:42] [debug] width 512, height 512, rasterCount 3\n",
      "[PRT] [2019-09-16 15:49:42] [debug] width 512, height 512, rasterCount 3\n",
      "[PRT] [2019-09-16 15:49:42] [debug] width 512, height 512, rasterCount 3\n",
      "[PRT] [2019-09-16 15:49:42] [debug] width 512, height 512, rasterCount 3\n",
      "[PRT] [2019-09-16 15:49:42] [debug] width 256, height 256, rasterCount 3\n",
      "[PRT] [2019-09-16 15:49:42] [debug] width 512, height 512, rasterCount 3\n",
      "[PRT] [2019-09-16 15:49:42] [debug] width 512, height 512, rasterCount 3\n",
      "[PRT] [2019-09-16 15:49:42] [warning] JPG encoder: ignoring texture channels other than the first 3.\n",
      "[PRT] [2019-09-16 15:49:43] [debug] width 256, height 512, rasterCount 4\n",
      "[PRT] [2019-09-16 15:49:43] [debug] width 1024, height 1024, rasterCount 4\n",
      "[PRT] [2019-09-16 15:49:43] [debug] width 1024, height 1024, rasterCount 4\n"
     ]
    }
   ],
   "source": [
    "export_file_name = \"SLPKModel3\"\n",
    "enc_optionsSLPK = {'sceneType' : \"Local\",'baseName' : export_file_name,'sceneWkid' : \"3857\",'layerTextureEncoding' : [\"2\"],'layerEnabled' : [True],'layerUID' : [\"1\"],'layerName' : [\"1\"],'layerTextureQuality' : [1.0],'layerTextureCompression' : [9],'layerTextureScaling' : [1.0],'layerTextureMaxDimension' : [2048],'layerFeatureGranularity' : [\"0\"],'layerBackfaceCulling' : [False]}\n",
    "\n",
    "#attrs_green[input_attr_green[0]] = res_green.x[0]\n",
    "#attrs_green[input_attr_green[1]] = res_green.x[1]\n",
    "#attrs_green[input_attr_green[2]] = res_green.x[2]\n",
    "green_model = m.generate_model(attrs_green, rpk_green, \"com.esri.prt.codecs.I3SEncoder\", enc_optionsSLPK)"
   ]
  },
  {
   "cell_type": "code",
   "execution_count": 15,
   "metadata": {},
   "outputs": [],
   "source": [
    "item = my_gis.content.add({'type':'Scene Package'}, data=asset_file(\"..\\output\\%s.slpk\" % export_file_name), folder='packages')\n",
    "if item is None:\n",
    "    # first delete the existing one if any and add\n",
    "    my_gis.content.delete_items([item])\n",
    "    item = my_gis.content.add({'type':'Scene Package'}, asset_file(\"..\\output\\%s.slpk\" % export_file_name), folder='packages')\n",
    "published_item = item.publish()"
   ]
  },
  {
   "cell_type": "code",
   "execution_count": 16,
   "metadata": {},
   "outputs": [
    {
     "data": {
      "text/html": [
       "\n",
       "        <iframe\n",
       "            width=\"900\"\n",
       "            height=\"600\"\n",
       "            src=\"http://zurich.maps.arcgis.com/home/webscene/viewer.html?layers=b31a69e732ec4e06a9cbf1c46dd6c7c0\"\n",
       "            frameborder=\"0\"\n",
       "            allowfullscreen\n",
       "        ></iframe>\n",
       "        "
      ],
      "text/plain": [
       "<IPython.lib.display.IFrame at 0x2b0fa919d68>"
      ]
     },
     "execution_count": 16,
     "metadata": {},
     "output_type": "execute_result"
    }
   ],
   "source": [
    "source3 = 'http://zurich.maps.arcgis.com/home/webscene/viewer.html?layers=' + published_item.id\n",
    "IFrame(src=source3, width=900, height=600)"
   ]
  },
  {
   "cell_type": "code",
   "execution_count": 14,
   "metadata": {
    "scrolled": true
   },
   "outputs": [
    {
     "name": "stdout",
     "output_type": "stream",
     "text": [
      "\n",
      "Shutdown PRT.\n"
     ]
    }
   ],
   "source": [
    "print(\"\\nShutdown PRT.\")\n",
    "pyprt.shutdown_prt()"
   ]
  }
 ],
 "metadata": {
  "file_extension": ".py",
  "kernelspec": {
   "display_name": "Python 3",
   "language": "python",
   "name": "python3"
  },
  "language_info": {
   "codemirror_mode": {
    "name": "ipython",
    "version": 3
   },
   "file_extension": ".py",
   "mimetype": "text/x-python",
   "name": "python",
   "nbconvert_exporter": "python",
   "pygments_lexer": "ipython3",
   "version": "3.6.8"
  },
  "mimetype": "text/x-python",
  "name": "python",
  "npconvert_exporter": "python",
  "pygments_lexer": "ipython3",
  "version": 3
 },
 "nbformat": 4,
 "nbformat_minor": 2
}
