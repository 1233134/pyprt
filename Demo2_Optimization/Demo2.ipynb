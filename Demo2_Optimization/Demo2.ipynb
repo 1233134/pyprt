{
 "cells": [
  {
   "cell_type": "markdown",
   "metadata": {},
   "source": [
    "<img src=\"image.jpg\">"
   ]
  },
  {
   "cell_type": "markdown",
   "metadata": {},
   "source": [
    " # PyPRT - Building Modeling Optimization"
   ]
  },
  {
   "cell_type": "markdown",
   "metadata": {},
   "source": [
    "This notebook is used to show how the Python bindings for PRT can be employed in optimizing the rule attributes of a generated model to achive predefined performance goals."
   ]
  },
  {
   "cell_type": "markdown",
   "metadata": {},
   "source": [
    "### Import PyPRT module and define paths-related functions"
   ]
  },
  {
   "cell_type": "code",
   "execution_count": 1,
   "metadata": {},
   "outputs": [],
   "source": [
    "import sys, os\n",
    "\n",
    "sys.path.append(os.path.join(os.getcwd(), \"..\", \"src\"))\n",
    "from utility import visualize_PRT_results, combine_reports\n",
    "\n",
    "SDK_PATH = os.path.join(os.getcwd(), \"..\", \"install\", \"bin\")\n",
    "sys.path.append(SDK_PATH)\n",
    "\n",
    "import pyprt"
   ]
  },
  {
   "cell_type": "code",
   "execution_count": 2,
   "metadata": {},
   "outputs": [],
   "source": [
    "from scipy import optimize"
   ]
  },
  {
   "cell_type": "code",
   "execution_count": 3,
   "metadata": {},
   "outputs": [],
   "source": [
    "CS_FOLDER = os.getcwd()\n",
    "def asset_file(filename):\n",
    "    return os.path.join(CS_FOLDER, filename)"
   ]
  },
  {
   "cell_type": "code",
   "execution_count": 4,
   "metadata": {
    "collapsed": true
   },
   "outputs": [
    {
     "name": "stdout",
     "output_type": "stream",
     "text": [
      "\n",
      "Initializing PRT.\n",
      "[PRT] [2019-08-23 13:26:37] [info] Esri Procedural Runtime\n",
      "[PRT] [2019-08-23 13:26:37] [info] Version: 2.0.5403 | Build Date: Tue 04/09/2019 10:26 AM | Build Config: PRT_BC_REL PRT_CC_OPT PRT_TC_VC141 | OS: win32 | ARCH: x86_64\n",
      "[PRT] [2019-08-23 13:26:37] [debug] prtPlugins item 0: 'C:\\Users\\cami9495\\Documents\\esri-cityengine-sdk-master\\examples\\py4prt\\Demo2_Optimization\\..\\install\\lib'\n",
      "[PRT] [2019-08-23 13:26:37] [error] failed to load library: error while loading library 'C:\\Users\\cami9495\\Documents\\esri-cityengine-sdk-master\\examples\\py4prt\\Demo2_Optimization\\..\\install\\lib\\com.esri.prt.unreal.dll': The specified module could not be found.\n",
      "\n",
      "[PRT] [2019-08-23 13:26:37] [warning] failed to load library com.esri.prt.unreal.dll\n",
      "[PRT] [2019-08-23 13:26:37] [error] failed to load library: error while loading library 'C:\\Users\\cami9495\\Documents\\esri-cityengine-sdk-master\\examples\\py4prt\\Demo2_Optimization\\..\\install\\lib\\DatasmithSDK.dll': The specified module could not be found.\n",
      "\n",
      "[PRT] [2019-08-23 13:26:37] [warning] failed to load library DatasmithSDK.dll\n",
      "[PRT] [2019-08-23 13:26:37] [debug] library 'C:\\Users\\cami9495\\Documents\\esri-cityengine-sdk-master\\examples\\py4prt\\Demo2_Optimization\\..\\install\\lib\\FreeImage317.dll' is not a compatible extension (reason: 'error while loading function 'getVersionMajor': The specified procedure could not be found.\n",
      "')\n",
      "[PRT] [2019-08-23 13:26:37] [debug] library 'C:\\Users\\cami9495\\Documents\\esri-cityengine-sdk-master\\examples\\py4prt\\Demo2_Optimization\\..\\install\\lib\\LibRaw.dll' is not a compatible extension (reason: 'error while loading function 'getVersionMajor': The specified procedure could not be found.\n",
      "')\n",
      "[PRT] [2019-08-23 13:26:37] [debug] library 'C:\\Users\\cami9495\\Documents\\esri-cityengine-sdk-master\\examples\\py4prt\\Demo2_Optimization\\..\\install\\lib\\VueExport.dll' is not a compatible extension (reason: 'error while loading function 'getVersionMajor': The specified procedure could not be found.\n",
      "')\n",
      "[PRT] [2019-08-23 13:26:37] [info] Available Extensions:\n",
      "[PRT] [2019-08-23 13:26:37] [info]     com.esri.prt.adaptors.FileSystemAdaptor       (1.0) Resolves URIs on the file system.\n",
      "[PRT] [2019-08-23 13:26:37] [info]     com.esri.prt.adaptors.SevenZipResolveMapProvider (2.0) Resolves URIs inside 7ZIP archives.\n",
      "[PRT] [2019-08-23 13:26:37] [info]     com.esri.prt.adaptors.SevenZipStreamAdaptor   (2.0) Resolves URIs inside 7ZIP archives.\n",
      "[PRT] [2019-08-23 13:26:37] [info]     com.esri.prt.adaptors.ZipFileResolveMapProvider (1.0) Resolves URIs inside ZIP archives.\n",
      "[PRT] [2019-08-23 13:26:37] [info]     com.esri.prt.adaptors.ZipFileStreamAdaptor    (1.0) Resolves URIs inside ZIP archives.\n",
      "[PRT] [2019-08-23 13:26:37] [info]     com.esri.prt.codecs.ACE2Decoder               (1.0) Reads ACE2 images into textures\n",
      "[PRT] [2019-08-23 13:26:37] [info]     com.esri.prt.codecs.ASCDecoder                (1.0) Reads Arc/Info ASCII Grid images into textures\n",
      "[PRT] [2019-08-23 13:26:37] [info]     com.esri.prt.codecs.AlembicEncoder            (1.0) Encodes geometry into the alembic format.\n",
      "[PRT] [2019-08-23 13:26:37] [info]     com.esri.prt.codecs.BINDecoder                (1.0) Reads NOAA NGS Geoid Height Grids images into textures\n",
      "[PRT] [2019-08-23 13:26:37] [info]     com.esri.prt.codecs.BMPDecoder                (1.0) Reads MS Windows Device Independent Bitmap images into textures\n",
      "[PRT] [2019-08-23 13:26:37] [info]     com.esri.prt.codecs.BTDecoder                 (1.0) Reads VTP .bt (Binary Terrain) 1.3 Format images into textures\n",
      "[PRT] [2019-08-23 13:26:37] [info]     com.esri.prt.codecs.ColladaDecoder            (1.0) Decodes geometry in COLLADA DAE format.\n",
      "[PRT] [2019-08-23 13:26:37] [info]     com.esri.prt.codecs.ColladaEncoder            (1.0) Encodes geometry into the Khronos COLLADA format.\n",
      "[PRT] [2019-08-23 13:26:37] [info]     com.esri.prt.codecs.DATDecoder                (1.0) Reads ZMap Plus Grid images into textures\n",
      "[PRT] [2019-08-23 13:26:37] [info]     com.esri.prt.codecs.DDFDecoder                (1.0) Reads SDTS Raster images into textures\n",
      "[PRT] [2019-08-23 13:26:37] [info]     com.esri.prt.codecs.DEMDecoder                (1.0) Reads USGS Optional ASCII DEM (and CDED) images into textures\n",
      "[PRT] [2019-08-23 13:26:37] [info]     com.esri.prt.codecs.DxtEncoder                (1.0) Encodes images and textures into the DXT format.\n",
      "[PRT] [2019-08-23 13:26:37] [info]     com.esri.prt.codecs.E00Decoder                (1.0) Reads Arc/Info Export E00 GRID images into textures\n",
      "[PRT] [2019-08-23 13:26:37] [info]     com.esri.prt.codecs.FBXDecoder                (1.0) Decodes geometry in the Autodesk Filmbox (FBX) format.\n",
      "[PRT] [2019-08-23 13:26:37] [info]     com.esri.prt.codecs.FBXEncoder                (1.0) Encodes geometry into the Autodesk Filmbox (FBX) format.\n",
      "[PRT] [2019-08-23 13:26:37] [info]     com.esri.prt.codecs.GENDecoder                (1.0) Reads ARC Digitized Raster Graphics images into textures\n",
      "[PRT] [2019-08-23 13:26:37] [info]     com.esri.prt.codecs.GFFDecoder                (1.0) Reads Ground-based SAR Applications Testbed File Format (.gff) images into textures\n",
      "[PRT] [2019-08-23 13:26:37] [info]     com.esri.prt.codecs.GIFDecoder                (1.0) Reads Graphics Interchange Format (.gif) images into textures\n",
      "[PRT] [2019-08-23 13:26:37] [info]     com.esri.prt.codecs.GLTFDecoder               (1.0) Decodes geometry from the glTF format.\n",
      "[PRT] [2019-08-23 13:26:37] [info]     com.esri.prt.codecs.GLTFEncoder               (1.0) Encodes geometry into the Khronos Group glTF 2.0 format.\n",
      "[PRT] [2019-08-23 13:26:37] [info]     com.esri.prt.codecs.GLTFResolveMapProvider    (1.0) Resolves URIs for GLTF embedded data.\n",
      "[PRT] [2019-08-23 13:26:37] [info]     com.esri.prt.codecs.GRBDecoder                (1.0) Reads GRIdded Binary (.grb) images into textures\n",
      "[PRT] [2019-08-23 13:26:37] [info]     com.esri.prt.codecs.GRCDecoder                (1.0) Reads Northwood Classified Grid Format .grc/.tab images into textures\n",
      "[PRT] [2019-08-23 13:26:37] [info]     com.esri.prt.codecs.GRDDecoder                (1.0) Reads Golden Software ASCII Grid (.grd) images into textures\n",
      "[PRT] [2019-08-23 13:26:37] [info]     com.esri.prt.codecs.GSBDecoder                (1.0) Reads NTv2 Datum Grid Shift images into textures\n",
      "[PRT] [2019-08-23 13:26:37] [info]     com.esri.prt.codecs.GTXDecoder                (1.0) Reads NOAA Vertical Datum .GTX images into textures\n",
      "[PRT] [2019-08-23 13:26:37] [info]     com.esri.prt.codecs.HDRDecoder                (1.0) Reads Snow Data Assimilation System images into textures\n",
      "[PRT] [2019-08-23 13:26:37] [info]     com.esri.prt.codecs.HF2Decoder                (1.0) Reads HF2/HFZ heightfield raster images into textures\n",
      "[PRT] [2019-08-23 13:26:37] [info]     com.esri.prt.codecs.HGTDecoder                (1.0) Reads SRTMHGT File Format images into textures\n",
      "[PRT] [2019-08-23 13:26:37] [info]     com.esri.prt.codecs.I3SEncoder                (1.0) Creates Scene Layer Packages that can be shared on ArcGIS Online/Portal.\n",
      "[PRT] [2019-08-23 13:26:37] [info]     com.esri.prt.codecs.IMGDecoder                (1.0) Reads Erdas Imagine Images (.img) images into textures\n",
      "[PRT] [2019-08-23 13:26:37] [info]     com.esri.prt.codecs.JPGDecoder                (1.0) Reads JPEG JFIF images into textures\n",
      "[PRT] [2019-08-23 13:26:37] [info]     com.esri.prt.codecs.JPGEncoder                (1.0) Encodes images and textures into the JPEG format.\n",
      "[PRT] [2019-08-23 13:26:37] [info]     com.esri.prt.codecs.LCPDecoder                (1.0) Reads FARSITE v.4 Landscape File (.lcp) images into textures\n",
      "[PRT] [2019-08-23 13:26:37] [info]     com.esri.prt.codecs.LercEncoder               (1.0) Encodes images and textures into the LERC format.\n",
      "[PRT] [2019-08-23 13:26:37] [info]     com.esri.prt.codecs.MEMDecoder                (1.0) Reads Japanese DEM (.mem) images into textures\n",
      "[PRT] [2019-08-23 13:26:37] [info]     com.esri.prt.codecs.MPRDecoder                (1.0) Reads ILWIS Raster Map images into textures\n",
      "[PRT] [2019-08-23 13:26:37] [info]     com.esri.prt.codecs.MTLDecoder                (1.0) Reads materials in Wavefront MTL format.\n",
      "[PRT] [2019-08-23 13:26:37] [info]     com.esri.prt.codecs.MTLEncoder                (1.0) Converts materials into Wavefront MTL format.\n",
      "[PRT] [2019-08-23 13:26:37] [info]     com.esri.prt.codecs.N1Decoder                 (1.0) Reads Envisat Image Format images into textures\n",
      "[PRT] [2019-08-23 13:26:37] [info]     com.esri.prt.codecs.NTFDecoder                (1.0) Reads National Imagery Transmission Format images into textures\n",
      "[PRT] [2019-08-23 13:26:37] [info]     com.esri.prt.codecs.OBJDecoder                (1.0) Decodes geometry from the Wavefront OBJ format.\n",
      "[PRT] [2019-08-23 13:26:37] [info]     com.esri.prt.codecs.OBJEncoder                (1.0) Encodes geometry into the Wavefront OBJ format.\n",
      "[PRT] [2019-08-23 13:26:37] [info]     com.esri.prt.codecs.PIXDecoder                (1.0) Reads PCIDSK Database File images into textures\n",
      "[PRT] [2019-08-23 13:26:37] [info]     com.esri.prt.codecs.PNGDecoder                (1.0) Reads Portable Network Graphics images into textures\n",
      "[PRT] [2019-08-23 13:26:37] [info]     com.esri.prt.codecs.PNGEncoder                (1.0) Encodes images and textures into the PNG format.\n",
      "[PRT] [2019-08-23 13:26:37] [info]     com.esri.prt.codecs.PNMDecoder                (1.0) Reads Portable Pixmap Format (netpbm) images into textures\n",
      "[PRT] [2019-08-23 13:26:37] [info]     com.esri.prt.codecs.RAWEncoder                (1.0) Stores the uncompressed image as data blob.\n",
      "[PRT] [2019-08-23 13:26:37] [info]     com.esri.prt.codecs.RDADecoder                (1.0) Reads R Object Data Store images into textures\n",
      "[PRT] [2019-08-23 13:26:37] [info]     com.esri.prt.codecs.RSTDecoder                (1.0) Reads Idrisi Raster A.1 images into textures\n",
      "[PRT] [2019-08-23 13:26:37] [info]     com.esri.prt.codecs.RSWDecoder                (1.0) Reads Raster Matrix Format images into textures\n",
      "[PRT] [2019-08-23 13:26:37] [info]     com.esri.prt.codecs.RenderManEncoder          (1.0) Encodes geometry to Pixar RenderMan.\n",
      "[PRT] [2019-08-23 13:26:37] [info]     com.esri.prt.codecs.SDATDecoder               (1.0) Reads SAGA GIS Binary Grid (.sdat) images into textures\n",
      "[PRT] [2019-08-23 13:26:37] [info]     com.esri.prt.codecs.ShapeBufferDecoder        (1.0) Reads Esri shape buffer geometry (only extended MultiPatch buffer).\n",
      "[PRT] [2019-08-23 13:26:37] [info]     com.esri.prt.codecs.ShapeBufferEncoder        (1.0) Encodes geometry into the esri shape buffer format (revision 2012-02-17).\n",
      "[PRT] [2019-08-23 13:26:37] [info]     com.esri.prt.codecs.TIFDecoder                (1.0) Reads GeoTIFF images into textures\n",
      "[PRT] [2019-08-23 13:26:37] [info]     com.esri.prt.codecs.TIFFEncoder               (1.0) Encodes images and textures into the TIFF format.\n",
      "[PRT] [2019-08-23 13:26:37] [info]     com.esri.prt.codecs.VOBEncoder                (1.0) Encodes geometry into the E-On Software Vue VOB format.\n",
      "[PRT] [2019-08-23 13:26:37] [info]     com.esri.prt.codecs.VRTDecoder                (1.0) Reads Virtual Raster images into textures\n",
      "[PRT] [2019-08-23 13:26:37] [info]     com.esri.prt.codecs.WebSceneEncoder           (1.0) Exports a scene into the Esri WebScene format.\n",
      "[PRT] [2019-08-23 13:26:37] [info]     com.esri.prt.codecs.WebSceneObjectEncoder     (1.0) Encodes geometry into Esri WebScene Objects.\n",
      "[PRT] [2019-08-23 13:26:37] [info]     com.esri.prt.codecs.XPMDecoder                (1.0) Reads X11 PixMap Format images into textures\n",
      "[PRT] [2019-08-23 13:26:37] [info]     com.esri.prt.codecs.XYZDecoder                (1.0) Reads ASCII Gridded XYZ images into textures\n",
      "[PRT] [2019-08-23 13:26:37] [info]     com.esri.prt.core.AttributeEvalEncoder        (1.0) Sets the values of (evaluated) shape attributes.\n",
      "[PRT] [2019-08-23 13:26:37] [info]     com.esri.prt.core.CGAErrorEncoder             (1.0) Handles errors encountered during CGA execution.\n",
      "[PRT] [2019-08-23 13:26:37] [info]     com.esri.prt.core.CGAPrintEncoder             (1.0) Handles the output of the CGA print statement.\n",
      "[PRT] [2019-08-23 13:26:37] [info]     com.esri.prt.core.CGAReportEncoder            (1.0) Handles report output generated by CGA.\n",
      "[PRT] [2019-08-23 13:26:37] [info]     com.esri.prt.core.CGBDecoder                  (1.0) CGB Byte Stream Reader\n",
      "[PRT] [2019-08-23 13:26:37] [info]     com.esri.prt.core.MemoryAdaptor               (1.0) Reads data in memory into a stream for decoding.\n",
      "[PRT] [2019-08-23 13:26:37] [info]     com.esri.prt.core.OcclusionEncoder            (1.0) Encodes a shape tree into the OcclusionSet for inter-occlusion. \n",
      "[PRT] [2019-08-23 13:26:37] [info]     com.esri.prt.core.RawTextureDecoder           (1.0) Reads raw (uncompressed) images into textures.\n",
      "[PRT] [2019-08-23 13:26:37] [info]     com.esri.prt.core.TextDecoder                 (1.0) Decodes text (ASCII, UTF-8, UTF-16) to a UTF-16 string.\n",
      "[PRT] [2019-08-23 13:26:37] [info]     com.esri.prt.examples.PyEncoder               (1.0) Encodes geometry for Python.\n"
     ]
    }
   ],
   "source": [
    "print(\"\\nInitializing PRT.\")\n",
    "pyprt.initialize_prt(SDK_PATH)\n",
    "\n",
    "if not pyprt.is_prt_initialized():\n",
    "    raise Exception(\"PRT is not initialized\")"
   ]
  },
  {
   "cell_type": "markdown",
   "metadata": {},
   "source": [
    "## Optimization Problem Definition"
   ]
  },
  {
   "cell_type": "markdown",
   "metadata": {},
   "source": [
    "In this notebook, we are using a CGA rule that allows us to generate modern and sustainable buildings. The architecture of these buildings is focused on the green aspect of the building. Therefore, in addition to be modern and esthetical, the generated building answers also to the actual requirements of the city which are to encourage the integration of greenery on the buildings."
   ]
  },
  {
   "cell_type": "markdown",
   "metadata": {},
   "source": [
    "<img src=\"green_building.png\">"
   ]
  },
  {
   "cell_type": "markdown",
   "metadata": {},
   "source": [
    "### The variables"
   ]
  },
  {
   "cell_type": "markdown",
   "metadata": {},
   "source": [
    "Among the values reported by the CGA rule, we want to optimize the __height of the generated building__. In this example, we would like the building height to be as close as possible to __10 meters__.\n",
    "The next step is to define the inputs that will vary and on which we will optimize. These inputs must be CGA rule attributes. Here we will take the building height and the k factor as optimization inputs."
   ]
  },
  {
   "cell_type": "code",
   "execution_count": 13,
   "metadata": {},
   "outputs": [],
   "source": [
    "goal_str = \"Building Height\" + \"_sum\" # correspond to a CGA reported value\n",
    "\n",
    "input_attr = [\"buildingHeight\",\"k\"]\n",
    "x0 = [float(13), float(0.1)] # input attributes initial value"
   ]
  },
  {
   "cell_type": "code",
   "execution_count": 5,
   "metadata": {},
   "outputs": [],
   "source": [
    "shape_geo = asset_file(\"parcelN.obj\") # parcel/geometry on which the model will be generated\n",
    "mod = pyprt.ModelGenerator(shape_geo)"
   ]
  },
  {
   "cell_type": "code",
   "execution_count": 15,
   "metadata": {},
   "outputs": [
    {
     "name": "stdout",
     "output_type": "stream",
     "text": [
      "[PRT] [2019-08-22 13:44:06] [info] Using rule package C:\\Users\\cami9495\\Documents\\esri-cityengine-sdk-master\\examples\\py4prt\\Demo2_Optimization\\simple_rule2.rpk\n",
      "\n",
      "[PRT] [2019-08-22 13:44:06] [debug] resolve map = <ResolveMap>\n",
      "\t<attribute key=\"bin/simple_rule2.cgb\" value=\"rpk:file:/C:%5CUsers%5Ccami9495%5CDocuments%5Cesri-cityengine-sdk-master%5Cexamples%5Cpy4prt%5CDemo2_Optimization%5Csimple_rule2.rpk!/bin/simple_rule2.cgb\" type=\"str\"/>\n",
      "\t<attribute key=\"rules/simple_rule2.cga\" value=\"rpk:file:/C:%5CUsers%5Ccami9495%5CDocuments%5Cesri-cityengine-sdk-master%5Cexamples%5Cpy4prt%5CDemo2_Optimization%5Csimple_rule2.rpk!/rules/simple_rule2.cga\" type=\"str\"/>\n",
      "\t<attribute key=\"/test-prt4cmd/rules/simple_rule2.cga\" value=\"rpk:file:/C:%5CUsers%5Ccami9495%5CDocuments%5Cesri-cityengine-sdk-master%5Cexamples%5Cpy4prt%5CDemo2_Optimization%5Csimple_rule2.rpk!/rules/simple_rule2.cga\" type=\"str\"/>\n",
      "</ResolveMap>\n",
      "\n",
      "[PRT] [2019-08-22 13:44:06] [debug] trying to read initial shape geometry from file:/C:%5CUsers%5Ccami9495%5CDocuments%5Cesri-cityengine-sdk-master%5Cexamples%5Cpy4prt%5CDemo2_Optimization%5CparcelN.obj\n"
     ]
    }
   ],
   "source": [
    "rpk = asset_file(\"simple_rule2.rpk\")\n",
    "attrs = {'ruleFile' : \"bin/simple_rule2.cgb\", 'startRule' : \"Default$Footprint\"}\n",
    "\n",
    "model1 = mod.generate_model(rpk, attrs, {})"
   ]
  },
  {
   "cell_type": "code",
   "execution_count": 16,
   "metadata": {},
   "outputs": [],
   "source": [
    "def fct(x): # function to minimize\n",
    "\n",
    "    generated_mod = mod.generate_another_model({input_attr[0] : x[0] , input_attr[1] : x[1]}, {'emitGeometry' : False})\n",
    "    \n",
    "    if generated_mod:\n",
    "        rep = combine_reports(generated_mod)[0]\n",
    "        #return rep[goal_str] # output to optimize : y\n",
    "        return ((-10+rep[goal_str])*(-10+rep[goal_str]))\n",
    "\n",
    "    else:\n",
    "        print(\"Error in optimization process.\")  "
   ]
  },
  {
   "cell_type": "markdown",
   "metadata": {},
   "source": [
    "## Optimization Problem Resolution"
   ]
  },
  {
   "cell_type": "code",
   "execution_count": 17,
   "metadata": {},
   "outputs": [],
   "source": [
    "bounds = [(0,25),(0,0.6)] # sequence of (min,max)"
   ]
  },
  {
   "cell_type": "code",
   "execution_count": 18,
   "metadata": {},
   "outputs": [
    {
     "data": {
      "text/plain": [
       "     fun: 0.0\n",
       " message: 'Optimization terminated successfully.'\n",
       "    nfev: 1953\n",
       "     nit: 64\n",
       " success: True\n",
       "       x: array([10.        ,  0.45008009])"
      ]
     },
     "execution_count": 18,
     "metadata": {},
     "output_type": "execute_result"
    }
   ],
   "source": [
    "res = optimize.differential_evolution(fct, bounds)\n",
    "res"
   ]
  },
  {
   "cell_type": "markdown",
   "metadata": {},
   "source": [
    "The set of attributes that minimizes the output is: __building height of 10 meters__ and __factor k of 0.45__."
   ]
  },
  {
   "cell_type": "markdown",
   "metadata": {},
   "source": [
    "### Conclusion and Visualization"
   ]
  },
  {
   "cell_type": "code",
   "execution_count": 19,
   "metadata": {
    "collapsed": true
   },
   "outputs": [
    {
     "name": "stdout",
     "output_type": "stream",
     "text": [
      "\n",
      "Number of generated geometries (= nber of initial shapes):\n",
      "1\n",
      "\n",
      "Initial Shape Index: 0\n",
      "\n",
      "Report of the generated model:\n",
      "{'Building Height_avg': 10.0, 'Building Height_max': 10.0, 'Building Height_min': 10.0, 'Building Height_n': 1.0, 'Building Height_sum': 10.0, 'Id_avg': 0.0, 'Id_max': 0.0, 'Id_min': 0.0, 'Id_n': 1.0, 'Id_sum': 0.0, 'Parcel Area_avg': 1780.0284839748856, 'Parcel Area_max': 1780.0284839748856, 'Parcel Area_min': 1780.0284839748856, 'Parcel Area_n': 1.0, 'Parcel Area_sum': 1780.0284839748856, 'Value_avg': 1.7524919973620248, 'Value_max': 1.7524919973620248, 'Value_min': 1.7524919973620248, 'Value_n': 1.0, 'Value_sum': 1.7524919973620248}\n",
      "\n"
     ]
    }
   ],
   "source": [
    "generated_model = mod.generate_another_model({input_attr[0] : res.x[0] , input_attr[1] : res.x[1]}, {'emitGeometry' : False})\n",
    "\n",
    "if generated_model:\n",
    "    visualize_PRT_results(generated_model)"
   ]
  },
  {
   "cell_type": "code",
   "execution_count": 20,
   "metadata": {
    "collapsed": true
   },
   "outputs": [
    {
     "name": "stdout",
     "output_type": "stream",
     "text": [
      "[PRT] [2019-08-09 13:40:44] [info] Using rule package C:\\Users\\cami9495\\Documents\\esri-cityengine-sdk-master\\examples\\py4prt\\Demo2_Optimization\\simple_rule2.rpk\n",
      "\n",
      "[PRT] [2019-08-09 13:40:44] [debug] resolve map = <ResolveMap>\n",
      "\t<attribute key=\"bin/simple_rule2.cgb\" value=\"rpk:file:/C:%5CUsers%5Ccami9495%5CDocuments%5Cesri-cityengine-sdk-master%5Cexamples%5Cpy4prt%5CDemo2_Optimization%5Csimple_rule2.rpk!/bin/simple_rule2.cgb\" type=\"str\"/>\n",
      "\t<attribute key=\"rules/simple_rule2.cga\" value=\"rpk:file:/C:%5CUsers%5Ccami9495%5CDocuments%5Cesri-cityengine-sdk-master%5Cexamples%5Cpy4prt%5CDemo2_Optimization%5Csimple_rule2.rpk!/rules/simple_rule2.cga\" type=\"str\"/>\n",
      "\t<attribute key=\"/test-prt4cmd/rules/simple_rule2.cga\" value=\"rpk:file:/C:%5CUsers%5Ccami9495%5CDocuments%5Cesri-cityengine-sdk-master%5Cexamples%5Cpy4prt%5CDemo2_Optimization%5Csimple_rule2.rpk!/rules/simple_rule2.cga\" type=\"str\"/>\n",
      "</ResolveMap>\n",
      "\n",
      "[PRT] [2019-08-09 13:40:44] [debug] trying to read initial shape geometry from file:/C:%5CUsers%5Ccami9495%5CDocuments%5Cesri-cityengine-sdk-master%5Cexamples%5Cpy4prt%5CDemo2_Optimization%5CparcelN.obj\n"
     ]
    }
   ],
   "source": [
    "mod = pyprt.ModelGenerator(shape_geo)\n",
    "exported_model = mod.generate_model(rpk, attrs, {}, \"com.esri.prt.codecs.OBJEncoder\")"
   ]
  },
  {
   "cell_type": "code",
   "execution_count": 13,
   "metadata": {
    "collapsed": true
   },
   "outputs": [
    {
     "ename": "ModuleNotFoundError",
     "evalue": "No module named 'PyGEL3D'",
     "output_type": "error",
     "traceback": [
      "\u001b[1;31m---------------------------------------------------------------------------\u001b[0m",
      "\u001b[1;31mModuleNotFoundError\u001b[0m                       Traceback (most recent call last)",
      "\u001b[1;32m<ipython-input-13-fb73e08e4b59>\u001b[0m in \u001b[0;36m<module>\u001b[1;34m\u001b[0m\n\u001b[1;32m----> 1\u001b[1;33m \u001b[1;32mfrom\u001b[0m \u001b[0mPyGEL3D\u001b[0m \u001b[1;32mimport\u001b[0m \u001b[0mgel\u001b[0m\u001b[1;33m\u001b[0m\u001b[1;33m\u001b[0m\u001b[0m\n\u001b[0m\u001b[0;32m      2\u001b[0m \u001b[1;32mfrom\u001b[0m \u001b[0mPyGEL3D\u001b[0m \u001b[1;32mimport\u001b[0m \u001b[0mjs\u001b[0m\u001b[1;33m\u001b[0m\u001b[1;33m\u001b[0m\u001b[0m\n\u001b[0;32m      3\u001b[0m \u001b[1;33m\u001b[0m\u001b[0m\n\u001b[0;32m      4\u001b[0m \u001b[0mos\u001b[0m\u001b[1;33m.\u001b[0m\u001b[0mchdir\u001b[0m\u001b[1;33m(\u001b[0m\u001b[1;34m\"../output\"\u001b[0m\u001b[1;33m)\u001b[0m\u001b[1;33m\u001b[0m\u001b[1;33m\u001b[0m\u001b[0m\n\u001b[0;32m      5\u001b[0m \u001b[0mjs\u001b[0m\u001b[1;33m.\u001b[0m\u001b[0mset_export_mode\u001b[0m\u001b[1;33m(\u001b[0m\u001b[1;33m)\u001b[0m\u001b[1;33m\u001b[0m\u001b[1;33m\u001b[0m\u001b[0m\n",
      "\u001b[1;31mModuleNotFoundError\u001b[0m: No module named 'PyGEL3D'"
     ]
    }
   ],
   "source": [
    "from PyGEL3D import gel\n",
    "from PyGEL3D import js\n",
    "\n",
    "os.chdir(\"../output\")\n",
    "js.set_export_mode()\n",
    "m = gel.obj_load(\"theModel_0.obj\")"
   ]
  },
  {
   "cell_type": "markdown",
   "metadata": {},
   "source": [
    "Visualization in a separate window:"
   ]
  },
  {
   "cell_type": "code",
   "execution_count": 19,
   "metadata": {},
   "outputs": [],
   "source": [
    "viewer = gel.GLManifoldViewer()\n",
    "viewer.display(m) # press ESC to go back to the script"
   ]
  },
  {
   "cell_type": "code",
   "execution_count": 12,
   "metadata": {},
   "outputs": [],
   "source": [
    "viewer.event_loop()"
   ]
  },
  {
   "cell_type": "code",
   "execution_count": 20,
   "metadata": {},
   "outputs": [],
   "source": [
    "del viewer"
   ]
  },
  {
   "cell_type": "markdown",
   "metadata": {},
   "source": [
    "Visualization in a notebook cell:"
   ]
  },
  {
   "cell_type": "code",
   "execution_count": 21,
   "metadata": {
    "collapsed": true
   },
   "outputs": [
    {
     "data": {
      "application/vnd.plotly.v1+json": {
       "config": {
        "linkText": "Export to plot.ly",
        "plotlyServerURL": "https://plot.ly",
        "showLink": false
       },
       "data": [
        {
         "color": "#dddddd",
         "flatshading": true,
         "i": [
          3,
          7,
          4,
          5,
          6,
          7,
          1,
          5,
          0,
          3,
          2,
          1
         ],
         "j": [
          0,
          4,
          1,
          0,
          3,
          2,
          2,
          6,
          5,
          6,
          7,
          4
         ],
         "k": [
          1,
          5,
          0,
          3,
          2,
          1,
          3,
          7,
          4,
          5,
          6,
          7
         ],
         "type": "mesh3d",
         "uid": "be4b857d-0687-4205-98db-9659bf809508",
         "x": [
          -7.666,
          -7.666,
          32.557,
          32.557,
          -7.666,
          -7.666,
          32.557,
          32.557
         ],
         "y": [
          0,
          0,
          0,
          0,
          10,
          10,
          10,
          10
         ],
         "z": [
          44.051,
          -0.203,
          -0.203,
          44.051,
          -0.203,
          44.051,
          44.051,
          -0.203
         ]
        }
       ],
       "layout": {
        "height": 600,
        "scene": {
         "aspectmode": "data"
        },
        "width": 850
       }
      },
      "text/html": [
       "<div>\n",
       "        \n",
       "        \n",
       "            <div id=\"9d329f2a-3348-4e81-b597-b8bfce7fb764\" class=\"plotly-graph-div\" style=\"height:600px; width:850px;\"></div>\n",
       "            <script type=\"text/javascript\">\n",
       "                require([\"plotly\"], function(Plotly) {\n",
       "                    window.PLOTLYENV=window.PLOTLYENV || {};\n",
       "                    window.PLOTLYENV.BASE_URL='https://plot.ly';\n",
       "                    \n",
       "                if (document.getElementById(\"9d329f2a-3348-4e81-b597-b8bfce7fb764\")) {\n",
       "                    Plotly.newPlot(\n",
       "                        '9d329f2a-3348-4e81-b597-b8bfce7fb764',\n",
       "                        [{\"color\": \"#dddddd\", \"flatshading\": true, \"i\": [3, 7, 4, 5, 6, 7, 1, 5, 0, 3, 2, 1], \"j\": [0, 4, 1, 0, 3, 2, 2, 6, 5, 6, 7, 4], \"k\": [1, 5, 0, 3, 2, 1, 3, 7, 4, 5, 6, 7], \"type\": \"mesh3d\", \"uid\": \"be4b857d-0687-4205-98db-9659bf809508\", \"x\": [-7.666, -7.666, 32.557, 32.557, -7.666, -7.666, 32.557, 32.557], \"y\": [0.0, 0.0, 0.0, 0.0, 10.0, 10.0, 10.0, 10.0], \"z\": [44.051, -0.203, -0.203, 44.051, -0.203, 44.051, 44.051, -0.203]}],\n",
       "                        {\"height\": 600, \"scene\": {\"aspectmode\": \"data\"}, \"width\": 850},\n",
       "                        {\"showLink\": false, \"linkText\": \"Export to plot.ly\", \"plotlyServerURL\": \"https://plot.ly\", \"responsive\": true}\n",
       "                    ).then(function(){\n",
       "                            \n",
       "var gd = document.getElementById('9d329f2a-3348-4e81-b597-b8bfce7fb764');\n",
       "var x = new MutationObserver(function (mutations, observer) {{\n",
       "        var display = window.getComputedStyle(gd).display;\n",
       "        if (!display || display === 'none') {{\n",
       "            console.log([gd, 'removed!']);\n",
       "            Plotly.purge(gd);\n",
       "            observer.disconnect();\n",
       "        }}\n",
       "}});\n",
       "\n",
       "// Listen for the removal of the full notebook cells\n",
       "var notebookContainer = gd.closest('#notebook-container');\n",
       "if (notebookContainer) {{\n",
       "    x.observe(notebookContainer, {childList: true});\n",
       "}}\n",
       "\n",
       "// Listen for the clearing of the current output cell\n",
       "var outputEl = gd.closest('.output');\n",
       "if (outputEl) {{\n",
       "    x.observe(outputEl, {childList: true});\n",
       "}}\n",
       "\n",
       "                        })\n",
       "                };\n",
       "                });\n",
       "            </script>\n",
       "        </div>"
      ]
     },
     "metadata": {},
     "output_type": "display_data"
    }
   ],
   "source": [
    "js.display(m, smooth=False, wireframe=False)"
   ]
  },
  {
   "cell_type": "markdown",
   "metadata": {},
   "source": [
    "Save the glTF model on ArcGIS Online (possible to download it from there)"
   ]
  },
  {
   "cell_type": "code",
   "execution_count": 21,
   "metadata": {},
   "outputs": [
    {
     "name": "stdout",
     "output_type": "stream",
     "text": [
      "[PRT] [2019-08-09 13:41:26] [debug] trying to read initial shape geometry from file:/C:%5CUsers%5Ccami9495%5CDocuments%5Cesri-cityengine-sdk-master%5Cexamples%5Cpy4prt%5CDemo2_Optimization%5CparcelN.obj\n"
     ]
    }
   ],
   "source": [
    "exported_GLTF= mod.generate_model(rpk, attrs, {}, \"com.esri.prt.codecs.GLTFEncoder\")"
   ]
  },
  {
   "cell_type": "code",
   "execution_count": 4,
   "metadata": {},
   "outputs": [],
   "source": [
    "GLTF_item = gis.content.add({'title':'Test','type':\"Service Definition\"}, data='theModel_0.glb', folder='packages')"
   ]
  },
  {
   "cell_type": "code",
   "execution_count": null,
   "metadata": {},
   "outputs": [],
   "source": [
    "display(GLTF_item)"
   ]
  },
  {
   "cell_type": "markdown",
   "metadata": {},
   "source": [
    "### Optimization with envelope.rpk"
   ]
  },
  {
   "cell_type": "code",
   "execution_count": 6,
   "metadata": {},
   "outputs": [],
   "source": [
    "goal_str_green = \"green area\" + \"_sum\" # correspond to a CGA reported value\n",
    "\n",
    "input_attr_green = [\"lot_coverage_parameter\"]\n",
    "x0_green = [float(10)]"
   ]
  },
  {
   "cell_type": "code",
   "execution_count": 7,
   "metadata": {
    "collapsed": true
   },
   "outputs": [
    {
     "name": "stdout",
     "output_type": "stream",
     "text": [
      "[PRT] [2019-08-23 13:26:54] [info] using rule package C:\\Users\\cami9495\\Documents\\esri-cityengine-sdk-master\\examples\\py4prt\\Demo2_Optimization\\envelope1806.rpk\n",
      "\n",
      "[PRT] [2019-08-23 13:26:54] [debug] resolve map = <ResolveMap>\n",
      "\t<attribute key=\"/ESRI.lib/rules/Plants/Plant_Loader.cga\" value=\"rpk:file:/C:%5CUsers%5Ccami9495%5CDocuments%5Cesri-cityengine-sdk-master%5Cexamples%5Cpy4prt%5CDemo2_Optimization%5Cenvelope1806.rpk!/.ws/ESRI.lib/rules/Plants/Plant_Loader.cga\" type=\"str\"/>\n",
      "\t<attribute key=\"/green_optimization_2/assets/vertical_greenery/6.PNG\" value=\"rpk:file:/C:%5CUsers%5Ccami9495%5CDocuments%5Cesri-cityengine-sdk-master%5Cexamples%5Cpy4prt%5CDemo2_Optimization%5Cenvelope1806.rpk!/assets/vertical_greenery/6.PNG\" type=\"str\"/>\n",
      "\t<attribute key=\"/green_optimization_2/assets/vertical_greenery/8.PNG\" value=\"rpk:file:/C:%5CUsers%5Ccami9495%5CDocuments%5Cesri-cityengine-sdk-master%5Cexamples%5Cpy4prt%5CDemo2_Optimization%5Cenvelope1806.rpk!/assets/vertical_greenery/8.PNG\" type=\"str\"/>\n",
      "\t<attribute key=\"rules/typology/facade.cga\" value=\"rpk:file:/C:%5CUsers%5Ccami9495%5CDocuments%5Cesri-cityengine-sdk-master%5Cexamples%5Cpy4prt%5CDemo2_Optimization%5Cenvelope1806.rpk!/rules/typology/facade.cga\" type=\"str\"/>\n",
      "\t<attribute key=\"rules/typology/envelope.cgb\" value=\"rpk:file:/C:%5CUsers%5Ccami9495%5CDocuments%5Cesri-cityengine-sdk-master%5Cexamples%5Cpy4prt%5CDemo2_Optimization%5Cenvelope1806.rpk!/rules/typology/envelope.cgb\" type=\"str\"/>\n",
      "\t<attribute key=\"assets/vertical_greenery/10.PNG\" value=\"rpk:file:/C:%5CUsers%5Ccami9495%5CDocuments%5Cesri-cityengine-sdk-master%5Cexamples%5Cpy4prt%5CDemo2_Optimization%5Cenvelope1806.rpk!/assets/vertical_greenery/10.PNG\" type=\"str\"/>\n",
      "\t<attribute key=\"assets/bench.obj\" value=\"rpk:file:/C:%5CUsers%5Ccami9495%5CDocuments%5Cesri-cityengine-sdk-master%5Cexamples%5Cpy4prt%5CDemo2_Optimization%5Cenvelope1806.rpk!/assets/bench.obj\" type=\"str\"/>\n",
      "\t<attribute key=\"/green_optimization_2/assets/unified_landscape/plan2.obj\" value=\"rpk:file:/C:%5CUsers%5Ccami9495%5CDocuments%5Cesri-cityengine-sdk-master%5Cexamples%5Cpy4prt%5CDemo2_Optimization%5Cenvelope1806.rpk!/assets/unified_landscape/plan2.obj\" type=\"str\"/>\n",
      "\t<attribute key=\"/green_optimization_2/assets/unified_landscape/plan2.mtl\" value=\"rpk:file:/C:%5CUsers%5Ccami9495%5CDocuments%5Cesri-cityengine-sdk-master%5Cexamples%5Cpy4prt%5CDemo2_Optimization%5Cenvelope1806.rpk!/assets/unified_landscape/plan2.mtl\" type=\"str\"/>\n",
      "\t<attribute key=\"/green_optimization_2/assets/concrete.jpg\" value=\"rpk:file:/C:%5CUsers%5Ccami9495%5CDocuments%5Cesri-cityengine-sdk-master%5Cexamples%5Cpy4prt%5CDemo2_Optimization%5Cenvelope1806.rpk!/assets/concrete.jpg\" type=\"str\"/>\n",
      "\t<attribute key=\"/green_optimization_2/rules/typology/landscape.cga\" value=\"rpk:file:/C:%5CUsers%5Ccami9495%5CDocuments%5Cesri-cityengine-sdk-master%5Cexamples%5Cpy4prt%5CDemo2_Optimization%5Cenvelope1806.rpk!/rules/typology/landscape.cga\" type=\"str\"/>\n",
      "\t<attribute key=\"/green_optimization_2/assets/wall_plaster.jpg\" value=\"rpk:file:/C:%5CUsers%5Ccami9495%5CDocuments%5Cesri-cityengine-sdk-master%5Cexamples%5Cpy4prt%5CDemo2_Optimization%5Cenvelope1806.rpk!/assets/wall_plaster.jpg\" type=\"str\"/>\n",
      "\t<attribute key=\"assets/vertical_greenery/8.PNG\" value=\"rpk:file:/C:%5CUsers%5Ccami9495%5CDocuments%5Cesri-cityengine-sdk-master%5Cexamples%5Cpy4prt%5CDemo2_Optimization%5Cenvelope1806.rpk!/assets/vertical_greenery/8.PNG\" type=\"str\"/>\n",
      "\t<attribute key=\"assets/brick_wall.jpg\" value=\"rpk:file:/C:%5CUsers%5Ccami9495%5CDocuments%5Cesri-cityengine-sdk-master%5Cexamples%5Cpy4prt%5CDemo2_Optimization%5Cenvelope1806.rpk!/assets/brick_wall.jpg\" type=\"str\"/>\n",
      "\t<attribute key=\"assets/wall_plaster.jpg\" value=\"rpk:file:/C:%5CUsers%5Ccami9495%5CDocuments%5Cesri-cityengine-sdk-master%5Cexamples%5Cpy4prt%5CDemo2_Optimization%5Cenvelope1806.rpk!/assets/wall_plaster.jpg\" type=\"str\"/>\n",
      "\t<attribute key=\"assets/vertical_greenery/6.PNG\" value=\"rpk:file:/C:%5CUsers%5Ccami9495%5CDocuments%5Cesri-cityengine-sdk-master%5Cexamples%5Cpy4prt%5CDemo2_Optimization%5Cenvelope1806.rpk!/assets/vertical_greenery/6.PNG\" type=\"str\"/>\n",
      "\t<attribute key=\"assets/vertical_greenery/7.PNG\" value=\"rpk:file:/C:%5CUsers%5Ccami9495%5CDocuments%5Cesri-cityengine-sdk-master%5Cexamples%5Cpy4prt%5CDemo2_Optimization%5Cenvelope1806.rpk!/assets/vertical_greenery/7.PNG\" type=\"str\"/>\n",
      "\t<attribute key=\"/green_optimization_2/assets/lawn2.jpg\" value=\"rpk:file:/C:%5CUsers%5Ccami9495%5CDocuments%5Cesri-cityengine-sdk-master%5Cexamples%5Cpy4prt%5CDemo2_Optimization%5Cenvelope1806.rpk!/assets/lawn2.jpg\" type=\"str\"/>\n",
      "\t<attribute key=\"/green_optimization_2/assets/vertical_greenery/9.PNG\" value=\"rpk:file:/C:%5CUsers%5Ccami9495%5CDocuments%5Cesri-cityengine-sdk-master%5Cexamples%5Cpy4prt%5CDemo2_Optimization%5Cenvelope1806.rpk!/assets/vertical_greenery/9.PNG\" type=\"str\"/>\n",
      "\t<attribute key=\"/green_optimization_2/assets/Bench/_1.jpg\" value=\"rpk:file:/C:%5CUsers%5Ccami9495%5CDocuments%5Cesri-cityengine-sdk-master%5Cexamples%5Cpy4prt%5CDemo2_Optimization%5Cenvelope1806.rpk!/assets/Bench/_1.jpg\" type=\"str\"/>\n",
      "\t<attribute key=\"/green_optimization_2/assets/vertical_greenery/10.PNG\" value=\"rpk:file:/C:%5CUsers%5Ccami9495%5CDocuments%5Cesri-cityengine-sdk-master%5Cexamples%5Cpy4prt%5CDemo2_Optimization%5Cenvelope1806.rpk!/assets/vertical_greenery/10.PNG\" type=\"str\"/>\n",
      "\t<attribute key=\"/green_optimization_2/rules/typology/volume.cga\" value=\"rpk:file:/C:%5CUsers%5Ccami9495%5CDocuments%5Cesri-cityengine-sdk-master%5Cexamples%5Cpy4prt%5CDemo2_Optimization%5Cenvelope1806.rpk!/rules/typology/volume.cga\" type=\"str\"/>\n",
      "\t<attribute key=\"/green_optimization_2/assets/unified_landscape/plan3.obj\" value=\"rpk:file:/C:%5CUsers%5Ccami9495%5CDocuments%5Cesri-cityengine-sdk-master%5Cexamples%5Cpy4prt%5CDemo2_Optimization%5Cenvelope1806.rpk!/assets/unified_landscape/plan3.obj\" type=\"str\"/>\n",
      "\t<attribute key=\"/ESRI.lib/rules/Plants/Plant_Distributor.cga\" value=\"rpk:file:/C:%5CUsers%5Ccami9495%5CDocuments%5Cesri-cityengine-sdk-master%5Cexamples%5Cpy4prt%5CDemo2_Optimization%5Cenvelope1806.rpk!/.ws/ESRI.lib/rules/Plants/Plant_Distributor.cga\" type=\"str\"/>\n",
      "\t<attribute key=\"assets/unified_landscape/plan4.obj\" value=\"rpk:file:/C:%5CUsers%5Ccami9495%5CDocuments%5Cesri-cityengine-sdk-master%5Cexamples%5Cpy4prt%5CDemo2_Optimization%5Cenvelope1806.rpk!/assets/unified_landscape/plan4.obj\" type=\"str\"/>\n",
      "\t<attribute key=\"/green_optimization_2/assets/paving_b.jpg\" value=\"rpk:file:/C:%5CUsers%5Ccami9495%5CDocuments%5Cesri-cityengine-sdk-master%5Cexamples%5Cpy4prt%5CDemo2_Optimization%5Cenvelope1806.rpk!/assets/paving_b.jpg\" type=\"str\"/>\n",
      "\t<attribute key=\"/green_optimization_2/assets/vertical_greenery/3.PNG\" value=\"rpk:file:/C:%5CUsers%5Ccami9495%5CDocuments%5Cesri-cityengine-sdk-master%5Cexamples%5Cpy4prt%5CDemo2_Optimization%5Cenvelope1806.rpk!/assets/vertical_greenery/3.PNG\" type=\"str\"/>\n",
      "\t<attribute key=\"assets/unified_landscape/plan1.obj\" value=\"rpk:file:/C:%5CUsers%5Ccami9495%5CDocuments%5Cesri-cityengine-sdk-master%5Cexamples%5Cpy4prt%5CDemo2_Optimization%5Cenvelope1806.rpk!/assets/unified_landscape/plan1.obj\" type=\"str\"/>\n",
      "\t<attribute key=\"/green_optimization_2/assets/unified_landscape/plan4.mtl\" value=\"rpk:file:/C:%5CUsers%5Ccami9495%5CDocuments%5Cesri-cityengine-sdk-master%5Cexamples%5Cpy4prt%5CDemo2_Optimization%5Cenvelope1806.rpk!/assets/unified_landscape/plan4.mtl\" type=\"str\"/>\n",
      "\t<attribute key=\"/green_optimization_2/assets/glass_door.obj\" value=\"rpk:file:/C:%5CUsers%5Ccami9495%5CDocuments%5Cesri-cityengine-sdk-master%5Cexamples%5Cpy4prt%5CDemo2_Optimization%5Cenvelope1806.rpk!/assets/glass_door.obj\" type=\"str\"/>\n",
      "\t<attribute key=\"/green_optimization_2/assets/unified_landscape/plan3.mtl\" value=\"rpk:file:/C:%5CUsers%5Ccami9495%5CDocuments%5Cesri-cityengine-sdk-master%5Cexamples%5Cpy4prt%5CDemo2_Optimization%5Cenvelope1806.rpk!/assets/unified_landscape/plan3.mtl\" type=\"str\"/>\n",
      "\t<attribute key=\"assets/Bench/ooMaterial2.jpg\" value=\"rpk:file:/C:%5CUsers%5Ccami9495%5CDocuments%5Cesri-cityengine-sdk-master%5Cexamples%5Cpy4prt%5CDemo2_Optimization%5Cenvelope1806.rpk!/assets/Bench/ooMaterial2.jpg\" type=\"str\"/>\n",
      "\t<attribute key=\"/green_optimization_2/assets/unified_landscape/plan4.obj\" value=\"rpk:file:/C:%5CUsers%5Ccami9495%5CDocuments%5Cesri-cityengine-sdk-master%5Cexamples%5Cpy4prt%5CDemo2_Optimization%5Cenvelope1806.rpk!/assets/unified_landscape/plan4.obj\" type=\"str\"/>\n",
      "\t<attribute key=\"assets/unified_landscape/plan3.obj\" value=\"rpk:file:/C:%5CUsers%5Ccami9495%5CDocuments%5Cesri-cityengine-sdk-master%5Cexamples%5Cpy4prt%5CDemo2_Optimization%5Cenvelope1806.rpk!/assets/unified_landscape/plan3.obj\" type=\"str\"/>\n",
      "\t<attribute key=\"assets/Bench/_1.jpg\" value=\"rpk:file:/C:%5CUsers%5Ccami9495%5CDocuments%5Cesri-cityengine-sdk-master%5Cexamples%5Cpy4prt%5CDemo2_Optimization%5Cenvelope1806.rpk!/assets/Bench/_1.jpg\" type=\"str\"/>\n",
      "\t<attribute key=\"/green_optimization_2/rules/typology/facade.cga\" value=\"rpk:file:/C:%5CUsers%5Ccami9495%5CDocuments%5Cesri-cityengine-sdk-master%5Cexamples%5Cpy4prt%5CDemo2_Optimization%5Cenvelope1806.rpk!/rules/typology/facade.cga\" type=\"str\"/>\n",
      "\t<attribute key=\"/green_optimization_2/assets/vertical_greenery/5.PNG\" value=\"rpk:file:/C:%5CUsers%5Ccami9495%5CDocuments%5Cesri-cityengine-sdk-master%5Cexamples%5Cpy4prt%5CDemo2_Optimization%5Cenvelope1806.rpk!/assets/vertical_greenery/5.PNG\" type=\"str\"/>\n",
      "\t<attribute key=\"assets/paving_b.jpg\" value=\"rpk:file:/C:%5CUsers%5Ccami9495%5CDocuments%5Cesri-cityengine-sdk-master%5Cexamples%5Cpy4prt%5CDemo2_Optimization%5Cenvelope1806.rpk!/assets/paving_b.jpg\" type=\"str\"/>\n",
      "\t<attribute key=\"rules/typology/landscape.cga\" value=\"rpk:file:/C:%5CUsers%5Ccami9495%5CDocuments%5Cesri-cityengine-sdk-master%5Cexamples%5Cpy4prt%5CDemo2_Optimization%5Cenvelope1806.rpk!/rules/typology/landscape.cga\" type=\"str\"/>\n",
      "\t<attribute key=\"assets/glass_door.obj\" value=\"rpk:file:/C:%5CUsers%5Ccami9495%5CDocuments%5Cesri-cityengine-sdk-master%5Cexamples%5Cpy4prt%5CDemo2_Optimization%5Cenvelope1806.rpk!/assets/glass_door.obj\" type=\"str\"/>\n",
      "\t<attribute key=\"/green_optimization_2/assets/vertical_greenery/4.PNG\" value=\"rpk:file:/C:%5CUsers%5Ccami9495%5CDocuments%5Cesri-cityengine-sdk-master%5Cexamples%5Cpy4prt%5CDemo2_Optimization%5Cenvelope1806.rpk!/assets/vertical_greenery/4.PNG\" type=\"str\"/>\n",
      "\t<attribute key=\"/green_optimization_2/assets/vertical_greenery/2.PNG\" value=\"rpk:file:/C:%5CUsers%5Ccami9495%5CDocuments%5Cesri-cityengine-sdk-master%5Cexamples%5Cpy4prt%5CDemo2_Optimization%5Cenvelope1806.rpk!/assets/vertical_greenery/2.PNG\" type=\"str\"/>\n",
      "\t<attribute key=\"/green_optimization_2/assets/Bench/ooMaterial2.jpg\" value=\"rpk:file:/C:%5CUsers%5Ccami9495%5CDocuments%5Cesri-cityengine-sdk-master%5Cexamples%5Cpy4prt%5CDemo2_Optimization%5Cenvelope1806.rpk!/assets/Bench/ooMaterial2.jpg\" type=\"str\"/>\n",
      "\t<attribute key=\"assets/vertical_greenery/3.PNG\" value=\"rpk:file:/C:%5CUsers%5Ccami9495%5CDocuments%5Cesri-cityengine-sdk-master%5Cexamples%5Cpy4prt%5CDemo2_Optimization%5Cenvelope1806.rpk!/assets/vertical_greenery/3.PNG\" type=\"str\"/>\n",
      "\t<attribute key=\"/green_optimization_2/assets/vertical_greenery/7.PNG\" value=\"rpk:file:/C:%5CUsers%5Ccami9495%5CDocuments%5Cesri-cityengine-sdk-master%5Cexamples%5Cpy4prt%5CDemo2_Optimization%5Cenvelope1806.rpk!/assets/vertical_greenery/7.PNG\" type=\"str\"/>\n",
      "\t<attribute key=\"/green_optimization_2/assets/bench.obj\" value=\"rpk:file:/C:%5CUsers%5Ccami9495%5CDocuments%5Cesri-cityengine-sdk-master%5Cexamples%5Cpy4prt%5CDemo2_Optimization%5Cenvelope1806.rpk!/assets/bench.obj\" type=\"str\"/>\n",
      "\t<attribute key=\"assets/lawn2.jpg\" value=\"rpk:file:/C:%5CUsers%5Ccami9495%5CDocuments%5Cesri-cityengine-sdk-master%5Cexamples%5Cpy4prt%5CDemo2_Optimization%5Cenvelope1806.rpk!/assets/lawn2.jpg\" type=\"str\"/>\n",
      "\t<attribute key=\"/green_optimization_2/rules/typology/envelope.cga\" value=\"rpk:file:/C:%5CUsers%5Ccami9495%5CDocuments%5Cesri-cityengine-sdk-master%5Cexamples%5Cpy4prt%5CDemo2_Optimization%5Cenvelope1806.rpk!/rules/typology/envelope.cga\" type=\"str\"/>\n",
      "\t<attribute key=\"/green_optimization_2/assets/Bench.mtl\" value=\"rpk:file:/C:%5CUsers%5Ccami9495%5CDocuments%5Cesri-cityengine-sdk-master%5Cexamples%5Cpy4prt%5CDemo2_Optimization%5Cenvelope1806.rpk!/assets/Bench.mtl\" type=\"str\"/>\n",
      "\t<attribute key=\"rules/typology/volume.cga\" value=\"rpk:file:/C:%5CUsers%5Ccami9495%5CDocuments%5Cesri-cityengine-sdk-master%5Cexamples%5Cpy4prt%5CDemo2_Optimization%5Cenvelope1806.rpk!/rules/typology/volume.cga\" type=\"str\"/>\n",
      "\t<attribute key=\"assets/unified_landscape/plan4.mtl\" value=\"rpk:file:/C:%5CUsers%5Ccami9495%5CDocuments%5Cesri-cityengine-sdk-master%5Cexamples%5Cpy4prt%5CDemo2_Optimization%5Cenvelope1806.rpk!/assets/unified_landscape/plan4.mtl\" type=\"str\"/>\n",
      "\t<attribute key=\"assets/unified_landscape/plan2.mtl\" value=\"rpk:file:/C:%5CUsers%5Ccami9495%5CDocuments%5Cesri-cityengine-sdk-master%5Cexamples%5Cpy4prt%5CDemo2_Optimization%5Cenvelope1806.rpk!/assets/unified_landscape/plan2.mtl\" type=\"str\"/>\n",
      "\t<attribute key=\"assets/unified_landscape/plan3.mtl\" value=\"rpk:file:/C:%5CUsers%5Ccami9495%5CDocuments%5Cesri-cityengine-sdk-master%5Cexamples%5Cpy4prt%5CDemo2_Optimization%5Cenvelope1806.rpk!/assets/unified_landscape/plan3.mtl\" type=\"str\"/>\n",
      "\t<attribute key=\"/green_optimization_2/assets/vertical_greenery/1.PNG\" value=\"rpk:file:/C:%5CUsers%5Ccami9495%5CDocuments%5Cesri-cityengine-sdk-master%5Cexamples%5Cpy4prt%5CDemo2_Optimization%5Cenvelope1806.rpk!/assets/vertical_greenery/1.PNG\" type=\"str\"/>\n",
      "\t<attribute key=\"assets/vertical_greenery/9.PNG\" value=\"rpk:file:/C:%5CUsers%5Ccami9495%5CDocuments%5Cesri-cityengine-sdk-master%5Cexamples%5Cpy4prt%5CDemo2_Optimization%5Cenvelope1806.rpk!/assets/vertical_greenery/9.PNG\" type=\"str\"/>\n",
      "\t<attribute key=\"/green_optimization_2/assets/wood.jpg\" value=\"rpk:file:/C:%5CUsers%5Ccami9495%5CDocuments%5Cesri-cityengine-sdk-master%5Cexamples%5Cpy4prt%5CDemo2_Optimization%5Cenvelope1806.rpk!/assets/wood.jpg\" type=\"str\"/>\n",
      "\t<attribute key=\"assets/unified_landscape/plan2.obj\" value=\"rpk:file:/C:%5CUsers%5Ccami9495%5CDocuments%5Cesri-cityengine-sdk-master%5Cexamples%5Cpy4prt%5CDemo2_Optimization%5Cenvelope1806.rpk!/assets/unified_landscape/plan2.obj\" type=\"str\"/>\n",
      "\t<attribute key=\"assets/vertical_greenery/4.PNG\" value=\"rpk:file:/C:%5CUsers%5Ccami9495%5CDocuments%5Cesri-cityengine-sdk-master%5Cexamples%5Cpy4prt%5CDemo2_Optimization%5Cenvelope1806.rpk!/assets/vertical_greenery/4.PNG\" type=\"str\"/>\n",
      "\t<attribute key=\"/green_optimization_2/assets/brick_wall.jpg\" value=\"rpk:file:/C:%5CUsers%5Ccami9495%5CDocuments%5Cesri-cityengine-sdk-master%5Cexamples%5Cpy4prt%5CDemo2_Optimization%5Cenvelope1806.rpk!/assets/brick_wall.jpg\" type=\"str\"/>\n",
      "\t<attribute key=\"assets/Bench.mtl\" value=\"rpk:file:/C:%5CUsers%5Ccami9495%5CDocuments%5Cesri-cityengine-sdk-master%5Cexamples%5Cpy4prt%5CDemo2_Optimization%5Cenvelope1806.rpk!/assets/Bench.mtl\" type=\"str\"/>\n",
      "\t<attribute key=\"assets/vertical_greenery/1.PNG\" value=\"rpk:file:/C:%5CUsers%5Ccami9495%5CDocuments%5Cesri-cityengine-sdk-master%5Cexamples%5Cpy4prt%5CDemo2_Optimization%5Cenvelope1806.rpk!/assets/vertical_greenery/1.PNG\" type=\"str\"/>\n",
      "\t<attribute key=\"assets/vertical_greenery/2.PNG\" value=\"rpk:file:/C:%5CUsers%5Ccami9495%5CDocuments%5Cesri-cityengine-sdk-master%5Cexamples%5Cpy4prt%5CDemo2_Optimization%5Cenvelope1806.rpk!/assets/vertical_greenery/2.PNG\" type=\"str\"/>\n",
      "\t<attribute key=\"rules/typology/ground_floor_plan.cga\" value=\"rpk:file:/C:%5CUsers%5Ccami9495%5CDocuments%5Cesri-cityengine-sdk-master%5Cexamples%5Cpy4prt%5CDemo2_Optimization%5Cenvelope1806.rpk!/rules/typology/ground_floor_plan.cga\" type=\"str\"/>\n",
      "\t<attribute key=\"assets/concrete.jpg\" value=\"rpk:file:/C:%5CUsers%5Ccami9495%5CDocuments%5Cesri-cityengine-sdk-master%5Cexamples%5Cpy4prt%5CDemo2_Optimization%5Cenvelope1806.rpk!/assets/concrete.jpg\" type=\"str\"/>\n",
      "\t<attribute key=\"rules/typology/envelope.cga\" value=\"rpk:file:/C:%5CUsers%5Ccami9495%5CDocuments%5Cesri-cityengine-sdk-master%5Cexamples%5Cpy4prt%5CDemo2_Optimization%5Cenvelope1806.rpk!/rules/typology/envelope.cga\" type=\"str\"/>\n",
      "\t<attribute key=\"/green_optimization_2/assets/unified_landscape/plan1.obj\" value=\"rpk:file:/C:%5CUsers%5Ccami9495%5CDocuments%5Cesri-cityengine-sdk-master%5Cexamples%5Cpy4prt%5CDemo2_Optimization%5Cenvelope1806.rpk!/assets/unified_landscape/plan1.obj\" type=\"str\"/>\n",
      "\t<attribute key=\"assets/vertical_greenery/5.PNG\" value=\"rpk:file:/C:%5CUsers%5Ccami9495%5CDocuments%5Cesri-cityengine-sdk-master%5Cexamples%5Cpy4prt%5CDemo2_Optimization%5Cenvelope1806.rpk!/assets/vertical_greenery/5.PNG\" type=\"str\"/>\n",
      "\t<attribute key=\"/green_optimization_2/rules/typology/ground_floor_plan.cga\" value=\"rpk:file:/C:%5CUsers%5Ccami9495%5CDocuments%5Cesri-cityengine-sdk-master%5Cexamples%5Cpy4prt%5CDemo2_Optimization%5Cenvelope1806.rpk!/rules/typology/ground_floor_plan.cga\" type=\"str\"/>\n",
      "\t<attribute key=\"assets/wood.jpg\" value=\"rpk:file:/C:%5CUsers%5Ccami9495%5CDocuments%5Cesri-cityengine-sdk-master%5Cexamples%5Cpy4prt%5CDemo2_Optimization%5Cenvelope1806.rpk!/assets/wood.jpg\" type=\"str\"/>\n",
      "</ResolveMap>\n",
      "\n",
      "[PRT] [2019-08-23 13:26:54] [debug] trying to read initial shape geometry from file:/C:%5CUsers%5Ccami9495%5CDocuments%5Cesri-cityengine-sdk-master%5Cexamples%5Cpy4prt%5CDemo2_Optimization%5CparcelN.obj\n",
      "\n"
     ]
    }
   ],
   "source": [
    "rpk_green = asset_file(\"envelope1806.rpk\")\n",
    "attrs_green = {'ruleFile' : \"rules/typology/envelope.cgb\", 'startRule' : \"Default$Lot\"}\n",
    "\n",
    "mod2 = pyprt.ModelGenerator(shape_geo)\n",
    "model = mod2.generate_model(rpk_green, attrs_green, {})"
   ]
  },
  {
   "cell_type": "code",
   "execution_count": 8,
   "metadata": {},
   "outputs": [],
   "source": [
    "def fct_green(x):\n",
    "\n",
    "    generated_mod_green = mod2.generate_another_model({input_attr_green[0] : x[0]} , {'emitGeometry' : False})\n",
    "    \n",
    "    if generated_mod_green:\n",
    "        rep_green = combine_reports(generated_mod_green)[0]\n",
    "        return -rep_green[goal_str_green]\n",
    "    else:\n",
    "        print(\"Error in optimization process.\")"
   ]
  },
  {
   "cell_type": "code",
   "execution_count": 9,
   "metadata": {},
   "outputs": [],
   "source": [
    "bounds_green = [(0,100)]"
   ]
  },
  {
   "cell_type": "code",
   "execution_count": 10,
   "metadata": {},
   "outputs": [
    {
     "data": {
      "text/plain": [
       "-1239.5150093941356"
      ]
     },
     "execution_count": 10,
     "metadata": {},
     "output_type": "execute_result"
    }
   ],
   "source": [
    "fct_green(x0_green)"
   ]
  },
  {
   "cell_type": "code",
   "execution_count": 11,
   "metadata": {
    "collapsed": true
   },
   "outputs": [
    {
     "name": "stdout",
     "output_type": "stream",
     "text": [
      "The optimization lasted: 36.950034618377686\n"
     ]
    },
    {
     "data": {
      "text/plain": [
       "     fun: -1625.8093735264208\n",
       " message: 'Optimization terminated successfully.'\n",
       "    nfev: 62\n",
       "     nit: 3\n",
       " success: True\n",
       "       x: array([37.59567648])"
      ]
     },
     "execution_count": 11,
     "metadata": {},
     "output_type": "execute_result"
    }
   ],
   "source": [
    "import time\n",
    "start = time.time()\n",
    "res_green = optimize.differential_evolution(fct_green, bounds_green) # shgo\n",
    "duration = time.time() - start\n",
    "print(\"The optimization lasted: \" + str(duration))\n",
    "res_green"
   ]
  },
  {
   "cell_type": "code",
   "execution_count": 12,
   "metadata": {},
   "outputs": [
    {
     "name": "stdout",
     "output_type": "stream",
     "text": [
      "\n",
      "Number of generated geometries (= nber of initial shapes):\n",
      "1\n",
      "\n",
      "Initial Shape Index: 0\n",
      "\n",
      "Report of the generated model:\n",
      "{'green area_avg': 4.1129430982990804, 'green area_max': 635.2412952931099, 'green area_min': 0.4894099778754496, 'green area_n': 395.0, 'green area_sum': 1624.6125238281368, 'total report for optimisation_avg': 4.1129430982990804, 'total report for optimisation_max': 635.2412952931099, 'total report for optimisation_min': 0.4894099778754496, 'total report for optimisation_n': 395.0, 'total report for optimisation_sum': 1624.6125238281368}\n",
      "\n"
     ]
    }
   ],
   "source": [
    "attrs_green[input_attr_green[0]] = res_green.x[0]\n",
    "green_model = mod2.generate_another_model(attrs_green)\n",
    "\n",
    "if green_model:\n",
    "    visualize_PRT_results(green_model)"
   ]
  },
  {
   "cell_type": "code",
   "execution_count": 14,
   "metadata": {},
   "outputs": [
    {
     "name": "stdout",
     "output_type": "stream",
     "text": [
      "\n",
      "Shutdown PRT.\n"
     ]
    }
   ],
   "source": [
    "print(\"\\nShutdown PRT.\")\n",
    "pyprt.shutdown_prt()"
   ]
  }
 ],
 "metadata": {
  "file_extension": ".py",
  "kernelspec": {
   "display_name": "Python 3",
   "language": "python",
   "name": "python3"
  },
  "language_info": {
   "codemirror_mode": {
    "name": "ipython",
    "version": 3
   },
   "file_extension": ".py",
   "mimetype": "text/x-python",
   "name": "python",
   "nbconvert_exporter": "python",
   "pygments_lexer": "ipython3",
   "version": "3.6.8"
  },
  "mimetype": "text/x-python",
  "name": "python",
  "npconvert_exporter": "python",
  "pygments_lexer": "ipython3",
  "version": 3
 },
 "nbformat": 4,
 "nbformat_minor": 2
}
