{
 "cells": [
  {
   "cell_type": "markdown",
   "metadata": {},
   "source": [
    " # PyPRT - ArcGIS API for Python Case Study"
   ]
  },
  {
   "cell_type": "markdown",
   "metadata": {},
   "source": [
    " Description: this notebook is used to test the ArcGIS API for Python in relation to pyprt module."
   ]
  },
  {
   "cell_type": "code",
   "execution_count": 1,
   "metadata": {},
   "outputs": [],
   "source": [
    "import sys, os\n",
    "SDK_PATH = os.path.join(os.getcwd(), \"..\", \"install\", \"bin\")\n",
    "sys.path.append(SDK_PATH)"
   ]
  },
  {
   "cell_type": "code",
   "execution_count": 2,
   "metadata": {},
   "outputs": [],
   "source": [
    "import numpy as np\n",
    "import pandas as pd\n",
    "from copy import deepcopy\n",
    "\n",
    "import pyprt\n",
    "\n",
    "import arcgis\n",
    "from arcgis.gis import GIS\n",
    "from arcgis.geocoding import geocode\n",
    "from arcgis.geometry import Geometry\n",
    "from arcgis.features import SpatialDataFrame\n",
    "from arcgis.features import FeatureLayerCollection\n",
    "from arcgis.features import GeoAccessor, GeoSeriesAccessor\n",
    "from arcgis.mapping import WebScene\n",
    "from arcgis.mapping import SceneLayer"
   ]
  },
  {
   "cell_type": "code",
   "execution_count": 3,
   "metadata": {},
   "outputs": [],
   "source": [
    "CS_FOLDER = os.getcwd()\n",
    "def asset_file(filename):\n",
    "    return os.path.join(CS_FOLDER, filename)"
   ]
  },
  {
   "cell_type": "markdown",
   "metadata": {},
   "source": [
    "#### Test arcgis and pyprt module"
   ]
  },
  {
   "cell_type": "code",
   "execution_count": 5,
   "metadata": {},
   "outputs": [
    {
     "name": "stdout",
     "output_type": "stream",
     "text": [
      "Enter password: ········\n"
     ]
    },
    {
     "data": {
      "application/vnd.jupyter.widget-view+json": {
       "model_id": "d54b6e65be1343c487ac2a75bc91fd05",
       "version_major": 2,
       "version_minor": 0
      },
      "text/plain": [
       "MapView(layout=Layout(height='400px', width='100%'))"
      ]
     },
     "metadata": {},
     "output_type": "display_data"
    },
    {
     "data": {
      "text/html": [
       "<div class=\"map-static-img-preview-64598864-fac5-4611-8f4a-b2aa9717eb05\"><img src=\"\"></img></div>"
      ],
      "text/plain": [
       "<IPython.core.display.HTML object>"
      ]
     },
     "metadata": {},
     "output_type": "display_data"
    }
   ],
   "source": [
    "my_gis = GIS(username=\"CLechot_zurich\")\n",
    "my_gis.map()"
   ]
  },
  {
   "cell_type": "code",
   "execution_count": 6,
   "metadata": {},
   "outputs": [
    {
     "name": "stdout",
     "output_type": "stream",
     "text": [
      "\n",
      "Test Function: it should print 4074.\n",
      "4074\n"
     ]
    }
   ],
   "source": [
    "VAL = pyprt.print_val(4074)\n",
    "print(\"\\nTest Function: it should print 4074.\")\n",
    "print(VAL)"
   ]
  },
  {
   "cell_type": "code",
   "execution_count": 7,
   "metadata": {},
   "outputs": [
    {
     "name": "stdout",
     "output_type": "stream",
     "text": [
      "\n",
      "Initializing PRT.\n"
     ]
    }
   ],
   "source": [
    "print(\"\\nInitializing PRT.\")\n",
    "pyprt.initialize_prt(SDK_PATH)\n",
    "\n",
    "if(not pyprt.is_prt_initialized()):\n",
    "    raise Exception(\"PRT is not initialized\")"
   ]
  },
  {
   "cell_type": "code",
   "execution_count": 9,
   "metadata": {},
   "outputs": [
    {
     "name": "stdout",
     "output_type": "stream",
     "text": [
      "\n",
      "Size of the matrix containing the model vertices:\n",
      "(8, 3)\n",
      "Report of the generated model:\n",
      "{'Building Height.0': 11.216289520263672, 'Id': 0.0, 'Max Height.0': 30.0, 'Min Height.0': 10.0, 'Parcel Area.0': 4848.81103515625}\n"
     ]
    }
   ],
   "source": [
    "mod = pyprt.ModelGenerator(asset_file(\"simple_scene_0.obj\"))\n",
    "generated_mod = mod.generate_model(asset_file(\"simple_rule2019.rpk\"), [\"ruleFile:string=bin/simple_rule2019.cgb\", \"startRule:string=Default$Footprint\"], [\"baseName:string=theModelSuper\"])\n",
    "\n",
    "if(len(generated_mod)>0):\n",
    "    for model in generated_mod:\n",
    "        geo = model.get_vertices()\n",
    "        geo_numpy = np.array(geo)\n",
    "        print(\"\\nSize of the matrix containing the model vertices:\")\n",
    "        print(geo_numpy.shape)\n",
    "        rep_float = model.get_float_report()\n",
    "        rep_string = model.get_string_report()\n",
    "        rep_bool = model.get_bool_report()\n",
    "        print(\"Report of the generated model:\")\n",
    "        if(len(rep_float)):\n",
    "            print(rep_float)\n",
    "        if(len(rep_string)):\n",
    "            print(rep_string)\n",
    "        if(len(rep_bool)):\n",
    "            print(rep_bool)\n",
    "else:\n",
    "    print(\"\\nError while instanciating the model generator.\")"
   ]
  },
  {
   "cell_type": "markdown",
   "metadata": {},
   "source": [
    " ### 1. Get initial shape from ArcGIS"
   ]
  },
  {
   "cell_type": "code",
   "execution_count": 10,
   "metadata": {},
   "outputs": [
    {
     "data": {
      "text/html": [
       "<div class=\"item_container\" style=\"height: auto; overflow: hidden; border: 1px solid #cfcfcf; border-radius: 2px; background: #f6fafa; line-height: 1.21429em; padding: 10px;\">\n",
       "                    <div class=\"item_left\" style=\"width: 210px; float: left;\">\n",
       "                       <a href='https://zurich.maps.arcgis.com/home/item.html?id=6add6823b4c24449afca508e0822f6c2' target='_blank'>\n",
       "                        <img src='data:image/png;base64,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' width='200' height='133' class=\"itemThumbnail\">\n",
       "                       </a>\n",
       "                    </div>\n",
       "\n",
       "                    <div class=\"item_right\"     style=\"float: none; width: auto; overflow: hidden;\">\n",
       "                        <a href='https://zurich.maps.arcgis.com/home/item.html?id=6add6823b4c24449afca508e0822f6c2' target='_blank'><b>ParcelsValue_CopyFeatures3</b>\n",
       "                        </a>\n",
       "                        <br/>asdf<img src='https://zurich.maps.arcgis.com/home/js/jsapi/esri/css/images/item_type_icons/featureshosted16.png' style=\"vertical-align:middle;\">Feature Layer Collection by CLechot_zurich\n",
       "                        <br/>Last Modified: April 11, 2019\n",
       "                        <br/>0 comments, 3 views\n",
       "                    </div>\n",
       "                </div>\n",
       "                "
      ],
      "text/plain": [
       "<Item title:\"ParcelsValue_CopyFeatures3\" type:Feature Layer Collection owner:CLechot_zurich>"
      ]
     },
     "execution_count": 10,
     "metadata": {},
     "output_type": "execute_result"
    }
   ],
   "source": [
    "layer = my_gis.content.search(\"ParcelsValue_CopyFeatures3\",\"Feature Layer\")[0]\n",
    "layer"
   ]
  },
  {
   "cell_type": "code",
   "execution_count": 11,
   "metadata": {},
   "outputs": [
    {
     "data": {
      "application/vnd.jupyter.widget-view+json": {
       "model_id": "ebf4d52e0f0f4db19c4458d0a48d7f71",
       "version_major": 2,
       "version_minor": 0
      },
      "text/plain": [
       "MapView(layout=Layout(height='400px', width='100%'))"
      ]
     },
     "metadata": {},
     "output_type": "display_data"
    },
    {
     "data": {
      "text/html": [
       "<div class=\"map-static-img-preview-fc8b4307-3b9c-41e3-a2a5-99ca62bdc21a\"><img src=\"\"></img></div>"
      ],
      "text/plain": [
       "<IPython.core.display.HTML object>"
      ]
     },
     "metadata": {},
     "output_type": "display_data"
    }
   ],
   "source": [
    "map1 = my_gis.map()\n",
    "map1"
   ]
  },
  {
   "cell_type": "code",
   "execution_count": 12,
   "metadata": {},
   "outputs": [],
   "source": [
    "location = geocode(\"Boston\")[0]\n",
    "map1.extent = layer.extent\n",
    "map1.add_layer({\"type\":\"FeatureLayer\", \n",
    "                \"url\" : \"https://services2.arcgis.com/cFEFS0EWrhfDeVw9/arcgis/rest/services/ParcelsValue_CopyFeatures3/FeatureServer\"})"
   ]
  },
  {
   "cell_type": "code",
   "execution_count": 13,
   "metadata": {},
   "outputs": [
    {
     "data": {
      "text/html": [
       "<div>\n",
       "<style scoped>\n",
       "    .dataframe tbody tr th:only-of-type {\n",
       "        vertical-align: middle;\n",
       "    }\n",
       "\n",
       "    .dataframe tbody tr th {\n",
       "        vertical-align: top;\n",
       "    }\n",
       "\n",
       "    .dataframe thead th {\n",
       "        text-align: right;\n",
       "    }\n",
       "</style>\n",
       "<table border=\"1\" class=\"dataframe\">\n",
       "  <thead>\n",
       "    <tr style=\"text-align: right;\">\n",
       "      <th></th>\n",
       "      <th>AV_BLDG</th>\n",
       "      <th>AV_LAND</th>\n",
       "      <th>AV_TOTAL</th>\n",
       "      <th>BATCH</th>\n",
       "      <th>BRA_Name</th>\n",
       "      <th>CM_ID</th>\n",
       "      <th>DupPID</th>\n",
       "      <th>Exclude</th>\n",
       "      <th>Field</th>\n",
       "      <th>GA_int</th>\n",
       "      <th>...</th>\n",
       "      <th>YR_REMOD</th>\n",
       "      <th>Ycoord</th>\n",
       "      <th>YearBuilt</th>\n",
       "      <th>ZIPCODE</th>\n",
       "      <th>wtScoreImp</th>\n",
       "      <th>wtScoreLU</th>\n",
       "      <th>wtScoreRFAR</th>\n",
       "      <th>wtScoreSum</th>\n",
       "      <th>wtScoreVac</th>\n",
       "      <th>wtScoreYear</th>\n",
       "    </tr>\n",
       "  </thead>\n",
       "  <tbody>\n",
       "    <tr>\n",
       "      <th>0</th>\n",
       "      <td>312100</td>\n",
       "      <td>133500</td>\n",
       "      <td>445600</td>\n",
       "      <td>None</td>\n",
       "      <td>None</td>\n",
       "      <td></td>\n",
       "      <td>None</td>\n",
       "      <td>9</td>\n",
       "      <td>None</td>\n",
       "      <td>5524</td>\n",
       "      <td>...</td>\n",
       "      <td>1990</td>\n",
       "      <td>42.313235</td>\n",
       "      <td>1990</td>\n",
       "      <td>02121</td>\n",
       "      <td>0.25</td>\n",
       "      <td>2.25</td>\n",
       "      <td>0</td>\n",
       "      <td>3</td>\n",
       "      <td>0.25</td>\n",
       "      <td>0.25</td>\n",
       "    </tr>\n",
       "  </tbody>\n",
       "</table>\n",
       "<p>1 rows × 66 columns</p>\n",
       "</div>"
      ],
      "text/plain": [
       "  AV_BLDG AV_LAND AV_TOTAL BATCH BRA_Name CM_ID DupPID  Exclude Field  GA_int  \\\n",
       "0  312100  133500   445600  None     None         None        9  None    5524   \n",
       "\n",
       "   ... YR_REMOD     Ycoord YearBuilt  ZIPCODE  wtScoreImp  wtScoreLU  \\\n",
       "0  ...     1990  42.313235      1990    02121        0.25       2.25   \n",
       "\n",
       "  wtScoreRFAR wtScoreSum wtScoreVac  wtScoreYear  \n",
       "0           0          3       0.25         0.25  \n",
       "\n",
       "[1 rows x 66 columns]"
      ]
     },
     "execution_count": 13,
     "metadata": {},
     "output_type": "execute_result"
    }
   ],
   "source": [
    "data_layer = pd.DataFrame.spatial.from_layer(layer.layers[0])\n",
    "data_layer.head()"
   ]
  },
  {
   "cell_type": "code",
   "execution_count": 14,
   "metadata": {},
   "outputs": [],
   "source": [
    "fset = layer.layers[0].query()"
   ]
  },
  {
   "cell_type": "code",
   "execution_count": 15,
   "metadata": {},
   "outputs": [
    {
     "data": {
      "text/plain": [
       "{'rings': [[[769658.44484809, 2939488.01055673],\n",
       "   [769623.373328045, 2939394.37113264],\n",
       "   [769592.044432029, 2939405.74610865],\n",
       "   [769576.995504007, 2939411.24630065],\n",
       "   [769610.200912043, 2939505.13468474],\n",
       "   [769658.44484809, 2939488.01055673]]]}"
      ]
     },
     "execution_count": 15,
     "metadata": {},
     "output_type": "execute_result"
    }
   ],
   "source": [
    "fset.features[0].geometry"
   ]
  },
  {
   "cell_type": "code",
   "execution_count": 16,
   "metadata": {},
   "outputs": [],
   "source": [
    "g = Geometry(fset.features[0].geometry)\n",
    "g.as_arcpy"
   ]
  },
  {
   "cell_type": "code",
   "execution_count": 17,
   "metadata": {},
   "outputs": [
    {
     "data": {
      "image/svg+xml": [
       "<svg xmlns=\"http://www.w3.org/2000/svg\" xmlns:xlink=\"http://www.w3.org/1999/xlink\" width=\"100.0\" height=\"119.62463626777753\" viewBox=\"769572.5649619229 2939389.9405905562 90.31042825104669 119.62463626777753\" preserveAspectRatio=\"xMinYMin meet\"><g transform=\"matrix(1,0,0,-1,0,5878899.50581738)\"><path fill-rule=\"evenodd\" fill=\"#66cc99\" stroke=\"#555555\" stroke-width=\"2.0\" opacity=\"0.6\" d=\"M 769658.44484809,2939488.01055673 L 769623.373328045,2939394.37113264 L 769592.044432029,2939405.74610865 L 769576.995504007,2939411.24630065 L 769610.200912043,2939505.13468474 L 769658.44484809,2939488.01055673 z\" /></g></svg>"
      ],
      "text/plain": [
       "{'rings': [[[769658.44484809, 2939488.01055673],\n",
       "   [769623.373328045, 2939394.37113264],\n",
       "   [769592.044432029, 2939405.74610865],\n",
       "   [769576.995504007, 2939411.24630065],\n",
       "   [769610.200912043, 2939505.13468474],\n",
       "   [769658.44484809, 2939488.01055673]]]}"
      ]
     },
     "execution_count": 17,
     "metadata": {},
     "output_type": "execute_result"
    }
   ],
   "source": [
    "g"
   ]
  },
  {
   "cell_type": "code",
   "execution_count": 18,
   "metadata": {},
   "outputs": [
    {
     "data": {
      "text/plain": [
       "-5016.96142578125"
      ]
     },
     "execution_count": 18,
     "metadata": {},
     "output_type": "execute_result"
    }
   ],
   "source": [
    "g.area"
   ]
  },
  {
   "cell_type": "code",
   "execution_count": 19,
   "metadata": {},
   "outputs": [
    {
     "data": {
      "text/plain": [
       "array([[[ 769658.44484809, 2939488.01055673],\n",
       "        [ 769623.37332805, 2939394.37113264],\n",
       "        [ 769592.04443203, 2939405.74610865],\n",
       "        [ 769576.99550401, 2939411.24630065],\n",
       "        [ 769610.20091204, 2939505.13468474],\n",
       "        [ 769658.44484809, 2939488.01055673]]])"
      ]
     },
     "execution_count": 19,
     "metadata": {},
     "output_type": "execute_result"
    }
   ],
   "source": [
    "theArrayFromArcGIS = g.coordinates()\n",
    "theArrayFromArcGIS"
   ]
  },
  {
   "cell_type": "code",
   "execution_count": 20,
   "metadata": {},
   "outputs": [
    {
     "data": {
      "text/plain": [
       "'Polygon'"
      ]
     },
     "execution_count": 20,
     "metadata": {},
     "output_type": "execute_result"
    }
   ],
   "source": [
    "g.type"
   ]
  },
  {
   "cell_type": "code",
   "execution_count": 21,
   "metadata": {},
   "outputs": [
    {
     "data": {
      "text/plain": [
       "{'wkid': 102686, 'latestWkid': 2249}"
      ]
     },
     "execution_count": 21,
     "metadata": {},
     "output_type": "execute_result"
    }
   ],
   "source": [
    "layer.layers[0].properties['extent']['spatialReference']"
   ]
  },
  {
   "cell_type": "markdown",
   "metadata": {},
   "source": [
    "### 2. PRT Generation"
   ]
  },
  {
   "cell_type": "code",
   "execution_count": 22,
   "metadata": {},
   "outputs": [],
   "source": [
    "if(not pyprt.is_prt_initialized()):\n",
    "    raise Exception(\"PRT is not initialized\")"
   ]
  },
  {
   "cell_type": "markdown",
   "metadata": {},
   "source": [
    "Test with quad-like initial shape:"
   ]
  },
  {
   "cell_type": "code",
   "execution_count": 23,
   "metadata": {},
   "outputs": [
    {
     "name": "stdout",
     "output_type": "stream",
     "text": [
      "\n",
      "Size of the matrix containing all the model vertices:\n",
      "(8, 3)\n",
      "Report of the generated model:\n",
      "{'Building Height.0': 11.216289520263672, 'Id': 0.0, 'Max Height.0': 30.0, 'Min Height.0': 10.0, 'Parcel Area.0': 1.5}\n"
     ]
    }
   ],
   "source": [
    "v = [0, 0, 0,  0, 0, 2,  1, 0, 1,  1, 0, 0]\n",
    "initialGeometry = pyprt.Geometry(v)\n",
    "\n",
    "mod2 = pyprt.ModelGenerator([initialGeometry])\n",
    "generated_mod2 = mod2.generate_model(asset_file(\"simple_rule2019.rpk\"), [\"ruleFile:string=bin/simple_rule2019.cgb\", \"startRule:string=Default$Footprint\"], [\"baseName:string=theModelSuper\"])\n",
    "\n",
    "if(len(generated_mod2)>0):\n",
    "    for model2 in generated_mod2:\n",
    "        geo2 = model2.get_vertices()\n",
    "        geo_numpy2 = np.array(geo2)\n",
    "        print(\"\\nSize of the matrix containing all the model vertices:\")\n",
    "        print(geo_numpy2.shape)\n",
    "        rep_float2 = model2.get_float_report()\n",
    "        rep_string2 = model2.get_string_report()\n",
    "        rep_bool2 = model2.get_bool_report()\n",
    "        print(\"Report of the generated model:\")\n",
    "        if(len(rep_float2)):\n",
    "            print(rep_float2)\n",
    "        if(len(rep_string2)):\n",
    "            print(rep_string2)\n",
    "        if(len(rep_bool2)):\n",
    "            print(rep_bool2)\n",
    "else:\n",
    "     print(\"\\nError while instanciating the model generator.\")"
   ]
  },
  {
   "cell_type": "code",
   "execution_count": 24,
   "metadata": {},
   "outputs": [
    {
     "data": {
      "text/plain": [
       "array([[ 769658.44484809, 2939488.01055673],\n",
       "       [ 769623.37332805, 2939394.37113264],\n",
       "       [ 769592.04443203, 2939405.74610865],\n",
       "       [ 769576.99550401, 2939411.24630065],\n",
       "       [ 769610.20091204, 2939505.13468474],\n",
       "       [ 769658.44484809, 2939488.01055673]])"
      ]
     },
     "execution_count": 24,
     "metadata": {},
     "output_type": "execute_result"
    }
   ],
   "source": [
    "theAArray = theArrayFromArcGIS[0]\n",
    "theAArray"
   ]
  },
  {
   "cell_type": "markdown",
   "metadata": {},
   "source": [
    " The coordinates are latitude and longitude of the vertices."
   ]
  },
  {
   "cell_type": "markdown",
   "metadata": {},
   "source": [
    "The polygon geometry in ArcGIS always contains one vertex more (which is a copy of the first point) that has to be removed. Moreover, as the geometry was in 2D, a third dimension is added and inserted at index 1 column."
   ]
  },
  {
   "cell_type": "code",
   "execution_count": 25,
   "metadata": {},
   "outputs": [],
   "source": [
    "a = theAArray[:-1]\n",
    "c = np.insert(a, 1, 0, axis=1)\n",
    "d = np.reshape(c,(1,c.shape[0]*c.shape[1]))"
   ]
  },
  {
   "cell_type": "code",
   "execution_count": 26,
   "metadata": {},
   "outputs": [
    {
     "data": {
      "text/plain": [
       "array([[ 769658.44484809,       0.        , 2939488.01055673,\n",
       "         769623.37332805,       0.        , 2939394.37113264,\n",
       "         769592.04443203,       0.        , 2939405.74610865,\n",
       "         769576.99550401,       0.        , 2939411.24630065,\n",
       "         769610.20091204,       0.        , 2939505.13468474]])"
      ]
     },
     "execution_count": 26,
     "metadata": {},
     "output_type": "execute_result"
    }
   ],
   "source": [
    "d"
   ]
  },
  {
   "cell_type": "code",
   "execution_count": 27,
   "metadata": {},
   "outputs": [],
   "source": [
    "initialGeometry3 = pyprt.Geometry(d.tolist()[0])"
   ]
  },
  {
   "cell_type": "code",
   "execution_count": 28,
   "metadata": {},
   "outputs": [],
   "source": [
    "mod3 = pyprt.ModelGenerator([initialGeometry3])\n",
    "generated_mod3 = mod3.generate_model(asset_file(\"simple_rule2019.rpk\"), [\"ruleFile:string=bin/simple_rule2019.cgb\", \"startRule:string=Default$Footprint\"], [\"baseName:string=theModelSuper\"])"
   ]
  },
  {
   "cell_type": "code",
   "execution_count": 29,
   "metadata": {},
   "outputs": [
    {
     "name": "stdout",
     "output_type": "stream",
     "text": [
      "\n",
      "Size of the matrix containing all the model vertices:\n",
      "(10, 3)\n",
      "Report of the generated model:\n",
      "{'Building Height.0': 11.216289520263672, 'Id': 0.0, 'Max Height.0': 30.0, 'Min Height.0': 10.0, 'Parcel Area.0': 5016.9609375}\n"
     ]
    }
   ],
   "source": [
    "if(len(generated_mod3)>0):\n",
    "    for model3 in generated_mod3:\n",
    "        geo3 = model3.get_vertices()\n",
    "        geo_numpy3 = np.array(geo3)\n",
    "        print(\"\\nSize of the matrix containing all the model vertices:\")\n",
    "        print(geo_numpy3.shape)\n",
    "        rep_float3 = model3.get_float_report()\n",
    "        rep_string3 = model3.get_string_report()\n",
    "        rep_bool3 = model3.get_bool_report()\n",
    "        print(\"Report of the generated model:\")\n",
    "        if(len(rep_float3)):\n",
    "            print(rep_float3)\n",
    "        if(len(rep_string3)):\n",
    "            print(rep_string3)\n",
    "        if(len(rep_bool3)):\n",
    "            print(rep_bool3)\n",
    "else:\n",
    "     print(\"\\nError while instanciating the model generator.\")"
   ]
  },
  {
   "cell_type": "markdown",
   "metadata": {},
   "source": [
    "We can see that the Parcel Area reported is equal to arcgis geometry area (without the negative sign)."
   ]
  },
  {
   "cell_type": "code",
   "execution_count": 30,
   "metadata": {},
   "outputs": [
    {
     "name": "stdout",
     "output_type": "stream",
     "text": [
      "\n",
      "Shutdown PRT.\n"
     ]
    }
   ],
   "source": [
    "print(\"\\nShutdown PRT.\")\n",
    "pyprt.shutdown_prt()"
   ]
  },
  {
   "cell_type": "markdown",
   "metadata": {},
   "source": [
    " ### 3. From Python geometry to ArcGIS (THIS IS NOT WORKNIG...)"
   ]
  },
  {
   "cell_type": "code",
   "execution_count": 131,
   "metadata": {},
   "outputs": [
    {
     "data": {
      "text/plain": [
       "[[[0.0, 769658.4448523282, 2939488.0105556627],\n",
       "  [0.0, 769623.3733267544, 2939394.3711284776],\n",
       "  [0.0, 769592.0444350003, 2939405.7461055894],\n",
       "  [0.0, 769576.9955076932, 2939411.2463039537],\n",
       "  [0.0, 769610.2009176968, 2939505.134682097],\n",
       "  [11.216289520263672, 769658.4448523282, 2939488.0105556627],\n",
       "  [11.216289520263672, 769623.3733267544, 2939394.3711284776],\n",
       "  [11.216289520263672, 769592.0444350003, 2939405.7461055894],\n",
       "  [11.216289520263672, 769576.9955076932, 2939411.2463039537],\n",
       "  [11.216289520263672, 769610.2009176968, 2939505.134682097]]]"
      ]
     },
     "execution_count": 131,
     "metadata": {},
     "output_type": "execute_result"
    }
   ],
   "source": [
    "geo3"
   ]
  },
  {
   "cell_type": "code",
   "execution_count": 35,
   "metadata": {},
   "outputs": [
    {
     "data": {
      "text/plain": [
       "array([[[7.69658445e+05, 0.00000000e+00, 2.93948801e+06],\n",
       "        [7.69623373e+05, 0.00000000e+00, 2.93939437e+06],\n",
       "        [7.69592044e+05, 0.00000000e+00, 2.93940575e+06],\n",
       "        [7.69576996e+05, 0.00000000e+00, 2.93941125e+06],\n",
       "        [7.69610201e+05, 0.00000000e+00, 2.93950513e+06],\n",
       "        [7.69658445e+05, 1.12162895e+01, 2.93948801e+06],\n",
       "        [7.69623373e+05, 1.12162895e+01, 2.93939437e+06],\n",
       "        [7.69592044e+05, 1.12162895e+01, 2.93940575e+06],\n",
       "        [7.69576996e+05, 1.12162895e+01, 2.93941125e+06],\n",
       "        [7.69610201e+05, 1.12162895e+01, 2.93950513e+06]]])"
      ]
     },
     "execution_count": 35,
     "metadata": {},
     "output_type": "execute_result"
    }
   ],
   "source": [
    "geo_numpy3"
   ]
  },
  {
   "cell_type": "code",
   "execution_count": 36,
   "metadata": {},
   "outputs": [],
   "source": [
    "template_feature = deepcopy(layer.layers[0].query().features[0])"
   ]
  },
  {
   "cell_type": "code",
   "execution_count": 37,
   "metadata": {},
   "outputs": [
    {
     "data": {
      "text/plain": [
       "[[[769658.44484809, 2939488.01055673],\n",
       "  [769623.373328045, 2939394.37113264],\n",
       "  [769592.044432029, 2939405.74610865],\n",
       "  [769576.995504007, 2939411.24630065],\n",
       "  [769610.200912043, 2939505.13468474],\n",
       "  [769658.44484809, 2939488.01055673]]]"
      ]
     },
     "execution_count": 37,
     "metadata": {},
     "output_type": "execute_result"
    }
   ],
   "source": [
    "template_feature.geometry['rings']"
   ]
  },
  {
   "cell_type": "code",
   "execution_count": 38,
   "metadata": {},
   "outputs": [],
   "source": [
    "geo3_process = geo3[0]\n",
    "for row in geo3_process:\n",
    "    row[1], row[2] = row[2], row[1]"
   ]
  },
  {
   "cell_type": "code",
   "execution_count": 39,
   "metadata": {},
   "outputs": [
    {
     "data": {
      "text/plain": [
       "[[769658.4448523282, 2939488.0105556627, 0.0],\n",
       " [769623.3733267544, 2939394.3711284776, 0.0],\n",
       " [769592.0444350003, 2939405.7461055894, 0.0],\n",
       " [769576.9955076932, 2939411.2463039537, 0.0],\n",
       " [769610.2009176968, 2939505.134682097, 0.0],\n",
       " [769658.4448523282, 2939488.0105556627, 11.216289520263672],\n",
       " [769623.3733267544, 2939394.3711284776, 11.216289520263672],\n",
       " [769592.0444350003, 2939405.7461055894, 11.216289520263672],\n",
       " [769576.9955076932, 2939411.2463039537, 11.216289520263672],\n",
       " [769610.2009176968, 2939505.134682097, 11.216289520263672]]"
      ]
     },
     "execution_count": 39,
     "metadata": {},
     "output_type": "execute_result"
    }
   ],
   "source": [
    "geo3_process"
   ]
  },
  {
   "cell_type": "code",
   "execution_count": 40,
   "metadata": {},
   "outputs": [
    {
     "data": {
      "text/plain": [
       "[[769658.4448523282, 2939488.0105556627, 0.0],\n",
       " [769623.3733267544, 2939394.3711284776, 0.0],\n",
       " [769592.0444350003, 2939405.7461055894, 0.0],\n",
       " [769576.9955076932, 2939411.2463039537, 0.0],\n",
       " [769610.2009176968, 2939505.134682097, 0.0],\n",
       " [769658.4448523282, 2939488.0105556627, 11.216289520263672],\n",
       " [769623.3733267544, 2939394.3711284776, 11.216289520263672],\n",
       " [769592.0444350003, 2939405.7461055894, 11.216289520263672],\n",
       " [769576.9955076932, 2939411.2463039537, 11.216289520263672],\n",
       " [769610.2009176968, 2939505.134682097, 11.216289520263672],\n",
       " [769658.4448523282, 2939488.0105556627, 0.0]]"
      ]
     },
     "execution_count": 40,
     "metadata": {},
     "output_type": "execute_result"
    }
   ],
   "source": [
    "geo3_process.append(geo3_process[0])\n",
    "geo3_process"
   ]
  },
  {
   "cell_type": "code",
   "execution_count": 41,
   "metadata": {},
   "outputs": [],
   "source": [
    "template_feature.geometry['rings'] = [geo3_process]"
   ]
  },
  {
   "cell_type": "code",
   "execution_count": 43,
   "metadata": {},
   "outputs": [
    {
     "data": {
      "text/plain": [
       "{'rings': [[[769658.4448523282, 2939488.0105556627, 0.0],\n",
       "   [769623.3733267544, 2939394.3711284776, 0.0],\n",
       "   [769592.0444350003, 2939405.7461055894, 0.0],\n",
       "   [769576.9955076932, 2939411.2463039537, 0.0],\n",
       "   [769610.2009176968, 2939505.134682097, 0.0],\n",
       "   [769658.4448523282, 2939488.0105556627, 11.216289520263672],\n",
       "   [769623.3733267544, 2939394.3711284776, 11.216289520263672],\n",
       "   [769592.0444350003, 2939405.7461055894, 11.216289520263672],\n",
       "   [769576.9955076932, 2939411.2463039537, 11.216289520263672],\n",
       "   [769610.2009176968, 2939505.134682097, 11.216289520263672],\n",
       "   [769658.4448523282, 2939488.0105556627, 0.0]]]}"
      ]
     },
     "execution_count": 43,
     "metadata": {},
     "output_type": "execute_result"
    }
   ],
   "source": [
    "template_feature.geometry"
   ]
  },
  {
   "cell_type": "markdown",
   "metadata": {},
   "source": [
    "##### Test for visualizing 3D content:"
   ]
  },
  {
   "cell_type": "markdown",
   "metadata": {},
   "source": [
    "The following scene layer was generated using arcpy FeaturesFromCityEngineRules_3d function. It was used to see in which format ArcGIS Pro would use for this type of 3D shape."
   ]
  },
  {
   "cell_type": "code",
   "execution_count": 52,
   "metadata": {},
   "outputs": [
    {
     "data": {
      "text/plain": [
       "[<Item title:\"ParcelGenerated_shareAsWeb\" type:Feature Layer Collection owner:CLechot_zurich>,\n",
       " <Item title:\"ParcelGenerated_shareAsWeb\" type:Scene Layer owner:CLechot_zurich>,\n",
       " <Item title:\"ParcelGenerated_shareAsWeb\" type:Service Definition owner:CLechot_zurich>]"
      ]
     },
     "execution_count": 52,
     "metadata": {},
     "output_type": "execute_result"
    }
   ],
   "source": [
    "hello2 = my_gis.content.search(\"ParcelGenerated_shareAsWeb\")\n",
    "hello2"
   ]
  },
  {
   "cell_type": "code",
   "execution_count": 61,
   "metadata": {},
   "outputs": [],
   "source": [
    "asdf = SceneLayer(hello2)"
   ]
  },
  {
   "cell_type": "code",
   "execution_count": 64,
   "metadata": {},
   "outputs": [
    {
     "data": {
      "text/plain": [
       "<SceneLayer url:\"[<Item title:\"ParcelGenerated_shareAsWeb\" type:Feature Layer Collection owner:CLechot_zurich>, <Item title:\"ParcelGenerated_shareAsWeb\" type:Scene Layer owner:CLechot_zurich>, <Item title:\"ParcelGenerated_shareAsWeb\" type:Service Definition owner:CLechot_zurich>]\">"
      ]
     },
     "execution_count": 64,
     "metadata": {},
     "output_type": "execute_result"
    }
   ],
   "source": [
    "asdf"
   ]
  },
  {
   "cell_type": "code",
   "execution_count": 66,
   "metadata": {},
   "outputs": [
    {
     "data": {
      "application/vnd.jupyter.widget-view+json": {
       "model_id": "f227e8f9d9da45bbbe45b6407daff7b8",
       "version_major": 2,
       "version_minor": 0
      },
      "text/plain": [
       "MapView(layout=Layout(height='400px', width='100%'))"
      ]
     },
     "metadata": {},
     "output_type": "display_data"
    },
    {
     "data": {
      "text/html": [
       "<div class=\"map-static-img-preview-a6546387-77d2-40bf-9008-32e93a969a73\"><img src=\"\"></img></div>"
      ],
      "text/plain": [
       "<IPython.core.display.HTML object>"
      ]
     },
     "metadata": {},
     "output_type": "display_data"
    }
   ],
   "source": [
    "map10 = my_gis.map()\n",
    "map10.add_layer(hello2[1])\n",
    "map10"
   ]
  },
  {
   "cell_type": "markdown",
   "metadata": {},
   "source": [
    "##### Test for displaying web scene:"
   ]
  },
  {
   "cell_type": "code",
   "execution_count": 75,
   "metadata": {},
   "outputs": [
    {
     "data": {
      "text/plain": [
       "[<Item title:\"TestScene\" type:Web Scene owner:CLechot_zurich>,\n",
       " <Item title:\"testscene\" type:Web Scene owner:twaeny_zurich>,\n",
       " <Item title:\"TestScene\" type:Web Scene owner:thom8300>]"
      ]
     },
     "execution_count": 75,
     "metadata": {},
     "output_type": "execute_result"
    }
   ],
   "source": [
    "existing_empty_webscene = my_gis.content.search('TestScene')\n",
    "existing_empty_webscene"
   ]
  },
  {
   "cell_type": "code",
   "execution_count": 77,
   "metadata": {},
   "outputs": [
    {
     "data": {
      "text/plain": [
       "'Web Scene'"
      ]
     },
     "execution_count": 77,
     "metadata": {},
     "output_type": "execute_result"
    }
   ],
   "source": [
    "existing_empty_webscene[0].type"
   ]
  },
  {
   "cell_type": "code",
   "execution_count": 79,
   "metadata": {},
   "outputs": [
    {
     "data": {
      "text/plain": [
       "True"
      ]
     },
     "execution_count": 79,
     "metadata": {},
     "output_type": "execute_result"
    }
   ],
   "source": [
    "existing_empty_webscene[0].update(item_properties={'geometry':template_feature.geometry})"
   ]
  },
  {
   "cell_type": "code",
   "execution_count": 81,
   "metadata": {},
   "outputs": [
    {
     "data": {
      "application/vnd.jupyter.widget-view+json": {
       "model_id": "f68d94e239fb42609b7cc081bf5cd4ea",
       "version_major": 2,
       "version_minor": 0
      },
      "text/plain": [
       "MapView(hide_mode_switch=True, layout=Layout(height='400px', width='100%'), mode='3D')"
      ]
     },
     "metadata": {},
     "output_type": "display_data"
    },
    {
     "data": {
      "text/html": [
       "<div class=\"map-static-img-preview-16c6b8e4-368f-47b0-a868-6e7faabe2f5e\"><img src=\"\"></img></div>"
      ],
      "text/plain": [
       "<IPython.core.display.HTML object>"
      ]
     },
     "metadata": {},
     "output_type": "display_data"
    }
   ],
   "source": [
    "scene = WebScene(existing_empty_webscene[0])\n",
    "scene"
   ]
  },
  {
   "cell_type": "markdown",
   "metadata": {},
   "source": [
    "The webscene does not show any shape."
   ]
  },
  {
   "cell_type": "markdown",
   "metadata": {},
   "source": [
    " ### 4. Generated Model Visualization"
   ]
  },
  {
   "cell_type": "code",
   "execution_count": 31,
   "metadata": {},
   "outputs": [],
   "source": [
    "from pythreejs import *\n",
    "import itertools"
   ]
  },
  {
   "cell_type": "code",
   "execution_count": 32,
   "metadata": {},
   "outputs": [],
   "source": [
    "face_geo3 = mod3.get_model_geometry_faces()"
   ]
  },
  {
   "cell_type": "code",
   "execution_count": 33,
   "metadata": {},
   "outputs": [],
   "source": [
    "mat = geo3.copy()"
   ]
  },
  {
   "cell_type": "code",
   "execution_count": 34,
   "metadata": {},
   "outputs": [],
   "source": [
    "for col in mat[0]:\n",
    "    col[1], col[2] = col[2], col[1]"
   ]
  },
  {
   "cell_type": "code",
   "execution_count": 35,
   "metadata": {},
   "outputs": [],
   "source": [
    "mat_f = []\n",
    "for k in range(geo_numpy3.shape[0]):\n",
    "    mat_faces = []\n",
    "    for f in face_geo3[k]:\n",
    "        if(len(f) == 3):\n",
    "            mat_faces.append(f)\n",
    "        elif(len(f) > 3):\n",
    "            # in vispy, 3 vertex indices per face\n",
    "            for new_f in map(list,itertools.combinations(f,3)):\n",
    "                mat_faces.append(new_f)\n",
    "        elif(len(f) < 3):\n",
    "            # repeat one vertex index\n",
    "            current_ind = 0\n",
    "            new_f2 = []\n",
    "            while(len(new_f2) < 3):\n",
    "                new_f2.append(f[current_ind])\n",
    "                if(current_ind < len(f)-1):\n",
    "                    current_ind += 1\n",
    "                else:\n",
    "                    while(len(new_f2) < 3):\n",
    "                        new_f2.append(f[current_ind])\n",
    "                    current_ind += 1\n",
    "\n",
    "            mat_faces.append(new_f2)\n",
    "\n",
    "    mat_f.append(mat_faces)"
   ]
  },
  {
   "cell_type": "code",
   "execution_count": 36,
   "metadata": {},
   "outputs": [],
   "source": [
    "colors = ['#000000', '#0000ff', '#00ff00', '#ff0000','#00ffff', '#ff00ff', '#ffff00', '#ffffff','#000000', '#0000ff', '#00ff00', '#ff0000','#00ffff', '#ff00ff', '#ffff00', '#ffffff','#000000', '#0000ff', '#00ff00', '#ff0000','#00ffff', '#ff00ff', '#ffff00', '#ffffff','#000000', '#0000ff', '#00ff00', '#ff0000','#00ffff', '#ff00ff', '#ffff00', '#ffffff','#000000', '#0000ff', '#00ff00', '#ff0000','#00ffff', '#ff00ff', '#ffff00', '#ffffff','#000000', '#0000ff', '#00ff00', '#ff0000','#00ffff', '#ff00ff', '#ffff00', '#ffffff','#000000', '#0000ff', '#00ff00', '#ff0000','#00ffff', '#ff00ff', '#ffff00', '#ffffff','#000000', '#0000ff', '#00ff00', '#ff0000','#00ffff', '#ff00ff', '#ffff00', '#ffffff','#000000', '#0000ff', '#00ff00', '#ff0000','#00ffff', '#ff00ff', '#ffff00', '#ffffff']"
   ]
  },
  {
   "cell_type": "code",
   "execution_count": 48,
   "metadata": {},
   "outputs": [],
   "source": [
    "faces=mat_f[0]\n",
    "faces = [faces[i] + [None,  [colors[2] for i in faces[i]], None] for i in range(0,len(faces))]\n",
    "\n",
    "# Create the geometry:\n",
    "myGeometry = Geometry(\n",
    "    vertices=mat[0],\n",
    "    faces=faces\n",
    ")\n",
    "\n",
    "# Create a mesh. Note that the material need to be told to use the vertex colors.\n",
    "mesh = Mesh(\n",
    "    geometry=myGeometry,\n",
    "    material=MeshBasicMaterial(vertexColors='VertexColors'),\n",
    "    position=[mat[0][0][i]*-1 for i in range(len(mat[0][0]))],\n",
    ")"
   ]
  },
  {
   "cell_type": "code",
   "execution_count": 49,
   "metadata": {},
   "outputs": [
    {
     "data": {
      "application/vnd.jupyter.widget-view+json": {
       "model_id": "b612eb7c845d4912a83b4d571dd0f5e6",
       "version_major": 2,
       "version_minor": 0
      },
      "text/plain": [
       "Renderer(camera=PerspectiveCamera(position=(3.0, 3.0, 3.0), quaternion=(0.0, 0.0, 0.0, 1.0), scale=(1.0, 1.0, …"
      ]
     },
     "metadata": {},
     "output_type": "display_data"
    }
   ],
   "source": [
    "scene = Scene(children=[mesh], background=None)\n",
    "\n",
    "c = PerspectiveCamera(position=[3,3,3], zoom = 0.05)\n",
    "\n",
    "rendererGeo = Renderer(camera=c, scene=scene, alpha=True, clearOpacity=0, controls=[OrbitControls(controlling=c)], width=600, height=400)\n",
    "\n",
    "display(rendererGeo)"
   ]
  },
  {
   "cell_type": "markdown",
   "metadata": {},
   "source": [
    "This visualization is not good... I time boxed this task and wasn't able to give a proper model visualization."
   ]
  }
 ],
 "metadata": {
  "file_extension": ".py",
  "kernelspec": {
   "display_name": "Python 3",
   "language": "python",
   "name": "python3"
  },
  "language_info": {
   "codemirror_mode": {
    "name": "ipython",
    "version": 3
   },
   "file_extension": ".py",
   "mimetype": "text/x-python",
   "name": "python",
   "nbconvert_exporter": "python",
   "pygments_lexer": "ipython3",
   "version": "3.6.8"
  },
  "mimetype": "text/x-python",
  "name": "python",
  "npconvert_exporter": "python",
  "pygments_lexer": "ipython3",
  "version": 3
 },
 "nbformat": 4,
 "nbformat_minor": 2
}
