{
 "cells": [
  {
   "cell_type": "markdown",
   "metadata": {},
   "source": [
    " # PyPRT - ArcGIS API for Python Case Study"
   ]
  },
  {
   "cell_type": "markdown",
   "metadata": {},
   "source": [
    " Description: this notebook is used to test the ArcGIS API for Python in relation to pyprt module."
   ]
  },
  {
   "cell_type": "code",
   "execution_count": 1,
   "metadata": {},
   "outputs": [],
   "source": [
    "import sys, os\n",
    "SDK_PATH = os.path.join(os.getcwd(), \"..\", \"install\", \"bin\")\n",
    "sys.path.append(SDK_PATH)"
   ]
  },
  {
   "cell_type": "code",
   "execution_count": 2,
   "metadata": {},
   "outputs": [],
   "source": [
    "import numpy as np\n",
    "import pandas as pd\n",
    "\n",
    "import pyprt\n",
    "\n",
    "import arcgis\n",
    "from arcgis.gis import GIS\n",
    "from arcgis.geocoding import geocode\n",
    "from arcgis.geometry import Geometry\n",
    "from arcgis.features import SpatialDataFrame\n",
    "from arcgis.features import FeatureLayerCollection\n",
    "from arcgis.features import GeoAccessor, GeoSeriesAccessor"
   ]
  },
  {
   "cell_type": "code",
   "execution_count": 3,
   "metadata": {},
   "outputs": [],
   "source": [
    "CS_FOLDER = os.getcwd()\n",
    "def asset_file(filename):\n",
    "    return os.path.join(CS_FOLDER, filename)"
   ]
  },
  {
   "cell_type": "markdown",
   "metadata": {},
   "source": [
    "#### Test arcgis and pyprt module"
   ]
  },
  {
   "cell_type": "code",
   "execution_count": 4,
   "metadata": {},
   "outputs": [
    {
     "name": "stdout",
     "output_type": "stream",
     "text": [
      "Enter password: ········\n"
     ]
    },
    {
     "data": {
      "application/vnd.jupyter.widget-view+json": {
       "model_id": "4827fa37767640b190e3bd704d7608a7",
       "version_major": 2,
       "version_minor": 0
      },
      "text/plain": [
       "MapView(layout=Layout(height='400px', width='100%'))"
      ]
     },
     "metadata": {},
     "output_type": "display_data"
    },
    {
     "data": {
      "text/html": [
       "<div class=\"map-static-img-preview-061f15a1-fc7a-4bd1-9f4c-4d614a92ab6c\"><img src=\"\"></img></div>"
      ],
      "text/plain": [
       "<IPython.core.display.HTML object>"
      ]
     },
     "metadata": {},
     "output_type": "display_data"
    }
   ],
   "source": [
    "my_gis = GIS(username=\"CLechot_zurich\")\n",
    "my_gis.map()"
   ]
  },
  {
   "cell_type": "code",
   "execution_count": 5,
   "metadata": {},
   "outputs": [
    {
     "name": "stdout",
     "output_type": "stream",
     "text": [
      "\n",
      "Test Function: it should print 4074.\n",
      "4074\n"
     ]
    }
   ],
   "source": [
    "VAL = pyprt.print_val(4074)\n",
    "print(\"\\nTest Function: it should print 4074.\")\n",
    "print(VAL)"
   ]
  },
  {
   "cell_type": "code",
   "execution_count": 6,
   "metadata": {},
   "outputs": [
    {
     "name": "stdout",
     "output_type": "stream",
     "text": [
      "\n",
      "Initializing PRT.\n"
     ]
    }
   ],
   "source": [
    "print(\"\\nInitializing PRT.\")\n",
    "pyprt.initialize_prt(SDK_PATH)\n",
    "\n",
    "if(not pyprt.is_prt_initialized()):\n",
    "    raise Exception(\"PRT is not initialized\")"
   ]
  },
  {
   "cell_type": "code",
   "execution_count": 7,
   "metadata": {},
   "outputs": [
    {
     "name": "stdout",
     "output_type": "stream",
     "text": [
      "\n",
      "Size of the matrix containing all the model vertices:\n",
      "(8, 3)\n",
      "\n",
      "Report of the generated model:\n",
      "{'Building Height.0': 11.216289520263672, 'Id': 0.0, 'Max Height.0': 30.0, 'Min Height.0': 10.0, 'Parcel Area.0': 4848.81103515625}\n"
     ]
    }
   ],
   "source": [
    "mod = pyprt.ModelGenerator(asset_file(\"simple_scene_0.obj\"), asset_file(\"simple_rule2019.rpk\"), [\"ruleFile:string=bin/simple_rule2019.cgb\", \"startRule:string=Default$Footprint\"], [\"baseName:string=theModelSuper\"])\n",
    "\n",
    "if(mod.generate_model()):\n",
    "    geo = mod.get_model_geometry()\n",
    "    geo_numpy = np.array(geo)\n",
    "    print(\"\\nSize of the matrix containing all the model vertices:\")\n",
    "    print(geo_numpy.shape)\n",
    "    rep_float = mod.get_model_float_report()\n",
    "    rep_string = mod.get_model_string_report()\n",
    "    rep_bool = mod.get_model_bool_report()\n",
    "    print(\"\\nReport of the generated model:\")\n",
    "    if(len(rep_float)):\n",
    "        print(rep_float)\n",
    "    if(len(rep_string)):\n",
    "        print(rep_string)\n",
    "    if(len(rep_bool)):\n",
    "        print(rep_bool)\n",
    "else:\n",
    "    print(\"\\nError while instanciating the model generator.\")"
   ]
  },
  {
   "cell_type": "markdown",
   "metadata": {},
   "source": [
    " ### 1. Get initial shape from ArcGIS"
   ]
  },
  {
   "cell_type": "code",
   "execution_count": 8,
   "metadata": {},
   "outputs": [
    {
     "data": {
      "application/vnd.jupyter.widget-view+json": {
       "model_id": "9eaafcbb93014e33bce1aab0a929a395",
       "version_major": 2,
       "version_minor": 0
      },
      "text/plain": [
       "MapView(layout=Layout(height='400px', width='100%'))"
      ]
     },
     "metadata": {},
     "output_type": "display_data"
    },
    {
     "data": {
      "text/html": [
       "<div class=\"map-static-img-preview-06f0f791-bc80-40dc-881c-dc2b0ffd45fe\"><img src=\"\"></img></div>"
      ],
      "text/plain": [
       "<IPython.core.display.HTML object>"
      ]
     },
     "metadata": {},
     "output_type": "display_data"
    }
   ],
   "source": [
    "map1 = my_gis.map()\n",
    "map1"
   ]
  },
  {
   "cell_type": "code",
   "execution_count": 11,
   "metadata": {},
   "outputs": [],
   "source": [
    "location = geocode(\"Boston\")[0]\n",
    "map1.extent = location['extent']\n",
    "map1.add_layer({\"type\":\"FeatureLayer\", \n",
    "                \"url\" : \"https://services2.arcgis.com/cFEFS0EWrhfDeVw9/arcgis/rest/services/ParcelsValue_CopyFeatures3/FeatureServer\"})"
   ]
  },
  {
   "cell_type": "code",
   "execution_count": 12,
   "metadata": {},
   "outputs": [
    {
     "data": {
      "text/html": [
       "<div class=\"item_container\" style=\"height: auto; overflow: hidden; border: 1px solid #cfcfcf; border-radius: 2px; background: #f6fafa; line-height: 1.21429em; padding: 10px;\">\n",
       "                    <div class=\"item_left\" style=\"width: 210px; float: left;\">\n",
       "                       <a href='https://zurich.maps.arcgis.com/home/item.html?id=6add6823b4c24449afca508e0822f6c2' target='_blank'>\n",
       "                        <img src='data:image/png;base64,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' width='200' height='133' class=\"itemThumbnail\">\n",
       "                       </a>\n",
       "                    </div>\n",
       "\n",
       "                    <div class=\"item_right\"     style=\"float: none; width: auto; overflow: hidden;\">\n",
       "                        <a href='https://zurich.maps.arcgis.com/home/item.html?id=6add6823b4c24449afca508e0822f6c2' target='_blank'><b>ParcelsValue_CopyFeatures3</b>\n",
       "                        </a>\n",
       "                        <br/>asdf<img src='https://zurich.maps.arcgis.com/home/js/jsapi/esri/css/images/item_type_icons/featureshosted16.png' style=\"vertical-align:middle;\">Feature Layer Collection by CLechot_zurich\n",
       "                        <br/>Last Modified: April 11, 2019\n",
       "                        <br/>0 comments, 0 views\n",
       "                    </div>\n",
       "                </div>\n",
       "                "
      ],
      "text/plain": [
       "<Item title:\"ParcelsValue_CopyFeatures3\" type:Feature Layer Collection owner:CLechot_zurich>"
      ]
     },
     "execution_count": 12,
     "metadata": {},
     "output_type": "execute_result"
    }
   ],
   "source": [
    "layer = my_gis.content.search(\"ParcelsValue_CopyFeatures3\",\"Feature Layer\")[0]\n",
    "layer"
   ]
  },
  {
   "cell_type": "code",
   "execution_count": 15,
   "metadata": {},
   "outputs": [
    {
     "data": {
      "text/html": [
       "<div class=\"item_container\" style=\"height: auto; overflow: hidden; border: 1px solid #cfcfcf; border-radius: 2px; background: #f6fafa; line-height: 1.21429em; padding: 10px;\">\n",
       "                    <div class=\"item_left\" style=\"width: 210px; float: left;\">\n",
       "                       <a href='https://zurich.maps.arcgis.com/home/item.html?id=400c8566e2174ceca2cdb42daefe3ea3' target='_blank'>\n",
       "                        <img src='data:image/png;base64,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' width='200' height='133' class=\"itemThumbnail\">\n",
       "                       </a>\n",
       "                    </div>\n",
       "\n",
       "                    <div class=\"item_right\"     style=\"float: none; width: auto; overflow: hidden;\">\n",
       "                        <a href='https://zurich.maps.arcgis.com/home/item.html?id=400c8566e2174ceca2cdb42daefe3ea3' target='_blank'><b>ParcelsValue_CopyFeatures</b>\n",
       "                        </a>\n",
       "                        <br/>One Boston parcel<img src='https://zurich.maps.arcgis.com/home/js/jsapi/esri/css/images/item_type_icons/featureshosted16.png' style=\"vertical-align:middle;\">Feature Layer Collection by CLechot_zurich\n",
       "                        <br/>Last Modified: April 04, 2019\n",
       "                        <br/>0 comments, 0 views\n",
       "                    </div>\n",
       "                </div>\n",
       "                "
      ],
      "text/plain": [
       "<Item title:\"ParcelsValue_CopyFeatures\" type:Feature Layer Collection owner:CLechot_zurich>"
      ]
     },
     "execution_count": 15,
     "metadata": {},
     "output_type": "execute_result"
    }
   ],
   "source": [
    "layer_to_update = my_gis.content.search(\"ParcelsValue_CopyFeatures\",\"Feature Layer\")[2]\n",
    "layer_to_update"
   ]
  },
  {
   "cell_type": "code",
   "execution_count": 16,
   "metadata": {},
   "outputs": [
    {
     "data": {
      "text/html": [
       "<div>\n",
       "<style scoped>\n",
       "    .dataframe tbody tr th:only-of-type {\n",
       "        vertical-align: middle;\n",
       "    }\n",
       "\n",
       "    .dataframe tbody tr th {\n",
       "        vertical-align: top;\n",
       "    }\n",
       "\n",
       "    .dataframe thead th {\n",
       "        text-align: right;\n",
       "    }\n",
       "</style>\n",
       "<table border=\"1\" class=\"dataframe\">\n",
       "  <thead>\n",
       "    <tr style=\"text-align: right;\">\n",
       "      <th></th>\n",
       "      <th>AV_BLDG</th>\n",
       "      <th>AV_LAND</th>\n",
       "      <th>AV_TOTAL</th>\n",
       "      <th>BATCH</th>\n",
       "      <th>BRA_Name</th>\n",
       "      <th>CM_ID</th>\n",
       "      <th>DupPID</th>\n",
       "      <th>Exclude</th>\n",
       "      <th>Field</th>\n",
       "      <th>GA_int</th>\n",
       "      <th>...</th>\n",
       "      <th>YR_REMOD</th>\n",
       "      <th>Ycoord</th>\n",
       "      <th>YearBuilt</th>\n",
       "      <th>ZIPCODE</th>\n",
       "      <th>wtScoreImp</th>\n",
       "      <th>wtScoreLU</th>\n",
       "      <th>wtScoreRFAR</th>\n",
       "      <th>wtScoreSum</th>\n",
       "      <th>wtScoreVac</th>\n",
       "      <th>wtScoreYear</th>\n",
       "    </tr>\n",
       "  </thead>\n",
       "  <tbody>\n",
       "    <tr>\n",
       "      <th>0</th>\n",
       "      <td>312100</td>\n",
       "      <td>133500</td>\n",
       "      <td>445600</td>\n",
       "      <td>None</td>\n",
       "      <td>None</td>\n",
       "      <td></td>\n",
       "      <td>None</td>\n",
       "      <td>9</td>\n",
       "      <td>None</td>\n",
       "      <td>5524</td>\n",
       "      <td>...</td>\n",
       "      <td>1990</td>\n",
       "      <td>42.313235</td>\n",
       "      <td>1990</td>\n",
       "      <td>02121</td>\n",
       "      <td>0.25</td>\n",
       "      <td>2.25</td>\n",
       "      <td>0</td>\n",
       "      <td>3</td>\n",
       "      <td>0.25</td>\n",
       "      <td>0.25</td>\n",
       "    </tr>\n",
       "  </tbody>\n",
       "</table>\n",
       "<p>1 rows × 66 columns</p>\n",
       "</div>"
      ],
      "text/plain": [
       "  AV_BLDG AV_LAND AV_TOTAL BATCH BRA_Name CM_ID DupPID  Exclude Field  GA_int  \\\n",
       "0  312100  133500   445600  None     None         None        9  None    5524   \n",
       "\n",
       "   ... YR_REMOD     Ycoord YearBuilt  ZIPCODE  wtScoreImp  wtScoreLU  \\\n",
       "0  ...     1990  42.313235      1990    02121        0.25       2.25   \n",
       "\n",
       "  wtScoreRFAR wtScoreSum wtScoreVac  wtScoreYear  \n",
       "0           0          3       0.25         0.25  \n",
       "\n",
       "[1 rows x 66 columns]"
      ]
     },
     "execution_count": 16,
     "metadata": {},
     "output_type": "execute_result"
    }
   ],
   "source": [
    "data_layer = pd.DataFrame.spatial.from_layer(layer.layers[0])\n",
    "data_layer.head()"
   ]
  },
  {
   "cell_type": "code",
   "execution_count": 17,
   "metadata": {},
   "outputs": [],
   "source": [
    "fset = layer.layers[0].query()"
   ]
  },
  {
   "cell_type": "code",
   "execution_count": 18,
   "metadata": {},
   "outputs": [
    {
     "data": {
      "text/plain": [
       "{'rings': [[[769658.44484809, 2939488.01055673],\n",
       "   [769623.373328045, 2939394.37113264],\n",
       "   [769592.044432029, 2939405.74610865],\n",
       "   [769576.995504007, 2939411.24630065],\n",
       "   [769610.200912043, 2939505.13468474],\n",
       "   [769658.44484809, 2939488.01055673]]]}"
      ]
     },
     "execution_count": 18,
     "metadata": {},
     "output_type": "execute_result"
    }
   ],
   "source": [
    "fset.features[0].geometry"
   ]
  },
  {
   "cell_type": "code",
   "execution_count": 19,
   "metadata": {},
   "outputs": [],
   "source": [
    "g = Geometry(fset.features[0].geometry)\n",
    "g.as_arcpy"
   ]
  },
  {
   "cell_type": "code",
   "execution_count": 20,
   "metadata": {},
   "outputs": [
    {
     "data": {
      "image/svg+xml": [
       "<svg xmlns=\"http://www.w3.org/2000/svg\" xmlns:xlink=\"http://www.w3.org/1999/xlink\" width=\"100.0\" height=\"119.62463626777753\" viewBox=\"769572.5649619229 2939389.9405905562 90.31042825104669 119.62463626777753\" preserveAspectRatio=\"xMinYMin meet\"><g transform=\"matrix(1,0,0,-1,0,5878899.50581738)\"><path fill-rule=\"evenodd\" fill=\"#66cc99\" stroke=\"#555555\" stroke-width=\"2.0\" opacity=\"0.6\" d=\"M 769658.44484809,2939488.01055673 L 769623.373328045,2939394.37113264 L 769592.044432029,2939405.74610865 L 769576.995504007,2939411.24630065 L 769610.200912043,2939505.13468474 L 769658.44484809,2939488.01055673 z\" /></g></svg>"
      ],
      "text/plain": [
       "{'rings': [[[769658.44484809, 2939488.01055673],\n",
       "   [769623.373328045, 2939394.37113264],\n",
       "   [769592.044432029, 2939405.74610865],\n",
       "   [769576.995504007, 2939411.24630065],\n",
       "   [769610.200912043, 2939505.13468474],\n",
       "   [769658.44484809, 2939488.01055673]]]}"
      ]
     },
     "execution_count": 20,
     "metadata": {},
     "output_type": "execute_result"
    }
   ],
   "source": [
    "g"
   ]
  },
  {
   "cell_type": "code",
   "execution_count": 21,
   "metadata": {},
   "outputs": [],
   "source": [
    "h = Geometry(fset.features[0].geometry)"
   ]
  },
  {
   "cell_type": "code",
   "execution_count": 22,
   "metadata": {},
   "outputs": [
    {
     "data": {
      "text/plain": [
       "-5016.96142578125"
      ]
     },
     "execution_count": 22,
     "metadata": {},
     "output_type": "execute_result"
    }
   ],
   "source": [
    "h.area"
   ]
  },
  {
   "cell_type": "code",
   "execution_count": 23,
   "metadata": {},
   "outputs": [
    {
     "data": {
      "text/plain": [
       "array([[[ 769658.44484809, 2939488.01055673],\n",
       "        [ 769623.37332805, 2939394.37113264],\n",
       "        [ 769592.04443203, 2939405.74610865],\n",
       "        [ 769576.99550401, 2939411.24630065],\n",
       "        [ 769610.20091204, 2939505.13468474],\n",
       "        [ 769658.44484809, 2939488.01055673]]])"
      ]
     },
     "execution_count": 23,
     "metadata": {},
     "output_type": "execute_result"
    }
   ],
   "source": [
    "theArrayFromArcGIS = h.coordinates()\n",
    "theArrayFromArcGIS"
   ]
  },
  {
   "cell_type": "code",
   "execution_count": 24,
   "metadata": {},
   "outputs": [
    {
     "data": {
      "text/plain": [
       "'Polygon'"
      ]
     },
     "execution_count": 24,
     "metadata": {},
     "output_type": "execute_result"
    }
   ],
   "source": [
    "h.type"
   ]
  },
  {
   "cell_type": "code",
   "execution_count": 25,
   "metadata": {},
   "outputs": [
    {
     "data": {
      "text/plain": [
       "True"
      ]
     },
     "execution_count": 25,
     "metadata": {},
     "output_type": "execute_result"
    }
   ],
   "source": [
    "layer.layers[0].properties['hasZ']"
   ]
  },
  {
   "cell_type": "code",
   "execution_count": 26,
   "metadata": {},
   "outputs": [
    {
     "data": {
      "text/plain": [
       "True"
      ]
     },
     "execution_count": 26,
     "metadata": {},
     "output_type": "execute_result"
    }
   ],
   "source": [
    "layer.layers[0].properties['allowGeometryUpdates']"
   ]
  },
  {
   "cell_type": "code",
   "execution_count": 27,
   "metadata": {},
   "outputs": [
    {
     "data": {
      "text/plain": [
       "{'wkid': 102686, 'latestWkid': 2249}"
      ]
     },
     "execution_count": 27,
     "metadata": {},
     "output_type": "execute_result"
    }
   ],
   "source": [
    "layer.layers[0].properties['extent']['spatialReference']"
   ]
  },
  {
   "cell_type": "markdown",
   "metadata": {},
   "source": [
    "### 2. PRT Generation"
   ]
  },
  {
   "cell_type": "code",
   "execution_count": 28,
   "metadata": {},
   "outputs": [],
   "source": [
    "if(not pyprt.is_prt_initialized()):\n",
    "    raise Exception(\"PRT is not initialized\")"
   ]
  },
  {
   "cell_type": "markdown",
   "metadata": {},
   "source": [
    "Test with quad-like initial shape:"
   ]
  },
  {
   "cell_type": "code",
   "execution_count": 29,
   "metadata": {},
   "outputs": [
    {
     "name": "stdout",
     "output_type": "stream",
     "text": [
      "\n",
      "Size of the matrix containing all the model vertices:\n",
      "(8, 3)\n",
      "\n",
      "Report of the generated model:\n",
      "{'Building Height.0': 11.216289520263672, 'Id': 0.0, 'Max Height.0': 30.0, 'Min Height.0': 10.0, 'Parcel Area.0': 1.5}\n"
     ]
    }
   ],
   "source": [
    "initialGeometry = pyprt.CustomGeometry()\n",
    "\n",
    "v = [0, 0, 0,  0, 0, 2,  1, 0, 1,  1, 0, 0]\n",
    "vC = 12\n",
    "ind = [0, 1, 2, 3]\n",
    "indC = 4\n",
    "fC = [4]\n",
    "fCC = 1\n",
    "\n",
    "initialGeometry.setVertices(v)\n",
    "initialGeometry.setVertexCount(vC)\n",
    "initialGeometry.setIndices(ind)\n",
    "initialGeometry.setIndexCount(indC)\n",
    "initialGeometry.setFaceCounts(fC)\n",
    "initialGeometry.setFaceCountsCount(fCC)\n",
    "\n",
    "mod2 = pyprt.ModelGenerator(initialGeometry, asset_file(\"simple_rule2019.rpk\"), [\"ruleFile:string=bin/simple_rule2019.cgb\", \"startRule:string=Default$Footprint\"], [\"baseName:string=theModelSuper\"])\n",
    "\n",
    "if(mod2.generate_model()):\n",
    "    geo2 = mod2.get_model_geometry()\n",
    "    geo_numpy2 = np.array(geo2)\n",
    "    print(\"\\nSize of the matrix containing all the model vertices:\")\n",
    "    print(geo_numpy2.shape)\n",
    "    rep_float2 = mod2.get_model_float_report()\n",
    "    rep_string2 = mod2.get_model_string_report()\n",
    "    rep_bool2 = mod2.get_model_bool_report()\n",
    "    print(\"\\nReport of the generated model:\")\n",
    "    if(len(rep_float2)):\n",
    "        print(rep_float2)\n",
    "    if(len(rep_string2)):\n",
    "        print(rep_string2)\n",
    "    if(len(rep_bool2)):\n",
    "        print(rep_bool2)\n",
    "else:\n",
    "     print(\"\\nError while instanciating the model generator.\")"
   ]
  },
  {
   "cell_type": "code",
   "execution_count": 30,
   "metadata": {},
   "outputs": [
    {
     "data": {
      "text/plain": [
       "array([[ 769658.44484809, 2939488.01055673],\n",
       "       [ 769623.37332805, 2939394.37113264],\n",
       "       [ 769592.04443203, 2939405.74610865],\n",
       "       [ 769576.99550401, 2939411.24630065],\n",
       "       [ 769610.20091204, 2939505.13468474],\n",
       "       [ 769658.44484809, 2939488.01055673]])"
      ]
     },
     "execution_count": 30,
     "metadata": {},
     "output_type": "execute_result"
    }
   ],
   "source": [
    "theAArray = theArrayFromArcGIS[0]\n",
    "theAArray"
   ]
  },
  {
   "cell_type": "markdown",
   "metadata": {},
   "source": [
    " The coordinates are latitude and longitude of the vertices."
   ]
  },
  {
   "cell_type": "markdown",
   "metadata": {},
   "source": [
    "The polygon geometry in ArcGIS always contains one vertex more (which is a copy of the first point) that has to be removed. Moreover, as the geometry was in 2D, a third dimension is added and inserted at index 1 column."
   ]
  },
  {
   "cell_type": "code",
   "execution_count": 31,
   "metadata": {},
   "outputs": [],
   "source": [
    "a = theAArray[:-1]\n",
    "c = np.insert(a, 1, 0, axis=1)\n",
    "d = np.reshape(c,(1,c.shape[0]*c.shape[1]))"
   ]
  },
  {
   "cell_type": "code",
   "execution_count": 36,
   "metadata": {},
   "outputs": [
    {
     "data": {
      "text/plain": [
       "array([[ 769658.44484809,       0.        , 2939488.01055673,\n",
       "         769623.37332805,       0.        , 2939394.37113264,\n",
       "         769592.04443203,       0.        , 2939405.74610865,\n",
       "         769576.99550401,       0.        , 2939411.24630065,\n",
       "         769610.20091204,       0.        , 2939505.13468474]])"
      ]
     },
     "execution_count": 36,
     "metadata": {},
     "output_type": "execute_result"
    }
   ],
   "source": [
    "d"
   ]
  },
  {
   "cell_type": "code",
   "execution_count": 37,
   "metadata": {},
   "outputs": [],
   "source": [
    "initialGeometry3 = pyprt.CustomGeometry()\n",
    "\n",
    "v3 = d.tolist()[0]\n",
    "vC3 = len(v3)\n",
    "indC3 = int(vC3/3)\n",
    "ind3 = np.arange(int(indC3)).tolist()\n",
    "fC3 = [int(indC3)]\n",
    "fCC3 = len(fC3)"
   ]
  },
  {
   "cell_type": "code",
   "execution_count": 38,
   "metadata": {},
   "outputs": [
    {
     "name": "stdout",
     "output_type": "stream",
     "text": [
      "[769658.44484809, 0.0, 2939488.01055673, 769623.373328045, 0.0, 2939394.37113264, 769592.044432029, 0.0, 2939405.74610865, 769576.995504007, 0.0, 2939411.24630065, 769610.200912043, 0.0, 2939505.13468474]\n",
      "15\n",
      "[0, 1, 2, 3, 4]\n",
      "5\n",
      "[5]\n",
      "1\n"
     ]
    }
   ],
   "source": [
    "print(v3)\n",
    "print(vC3)\n",
    "print(ind3)\n",
    "print(indC3)\n",
    "print(fC3)\n",
    "print(fCC3)"
   ]
  },
  {
   "cell_type": "code",
   "execution_count": 39,
   "metadata": {},
   "outputs": [],
   "source": [
    "initialGeometry3.setVertices(v3)\n",
    "initialGeometry3.setVertexCount(vC3)\n",
    "initialGeometry3.setIndices(ind3)\n",
    "initialGeometry3.setIndexCount(indC3)\n",
    "initialGeometry3.setFaceCounts(fC3)\n",
    "initialGeometry3.setFaceCountsCount(fCC3)"
   ]
  },
  {
   "cell_type": "code",
   "execution_count": 40,
   "metadata": {},
   "outputs": [],
   "source": [
    "mod3 = pyprt.ModelGenerator(initialGeometry3, asset_file(\"simple_rule2019.rpk\"), [\"ruleFile:string=bin/simple_rule2019.cgb\", \"startRule:string=Default$Footprint\"], [\"baseName:string=theModelSuper\"])"
   ]
  },
  {
   "cell_type": "code",
   "execution_count": 41,
   "metadata": {},
   "outputs": [
    {
     "name": "stdout",
     "output_type": "stream",
     "text": [
      "\n",
      "Size of the matrix containing all the model vertices:\n",
      "(10, 3)\n",
      "\n",
      "Report of the generated model:\n",
      "{'Building Height.0': 11.216289520263672, 'Id': 0.0, 'Max Height.0': 30.0, 'Min Height.0': 10.0, 'Parcel Area.0': 5016.9609375}\n"
     ]
    }
   ],
   "source": [
    "if(mod3.generate_model()):\n",
    "    geo3 = mod3.get_model_geometry()\n",
    "    geo_numpy3 = np.array(geo3)\n",
    "    print(\"\\nSize of the matrix containing all the model vertices:\")\n",
    "    print(geo_numpy3.shape)\n",
    "    rep_float3 = mod3.get_model_float_report()\n",
    "    rep_string3 = mod3.get_model_string_report()\n",
    "    rep_bool3 = mod3.get_model_bool_report()\n",
    "    print(\"\\nReport of the generated model:\")\n",
    "    if(len(rep_float3)):\n",
    "        print(rep_float3)\n",
    "    if(len(rep_string3)):\n",
    "        print(rep_string3)\n",
    "    if(len(rep_bool3)):\n",
    "        print(rep_bool3)\n",
    "else:\n",
    "     print(\"\\nError while instanciating the model generator.\")"
   ]
  },
  {
   "cell_type": "markdown",
   "metadata": {},
   "source": [
    "We can see that the Parcel Area reported is equal to arcgis geometry area (without the negative sign)."
   ]
  },
  {
   "cell_type": "code",
   "execution_count": 42,
   "metadata": {},
   "outputs": [
    {
     "name": "stdout",
     "output_type": "stream",
     "text": [
      "\n",
      "Shutdown PRT.\n"
     ]
    }
   ],
   "source": [
    "print(\"\\nShutdown PRT.\")\n",
    "pyprt.shutdown_prt()"
   ]
  },
  {
   "cell_type": "markdown",
   "metadata": {},
   "source": [
    " ### 3. From Python geometry to ArcGIS (THIS IS NOT WORKNIG...)"
   ]
  },
  {
   "cell_type": "code",
   "execution_count": 43,
   "metadata": {},
   "outputs": [
    {
     "data": {
      "text/plain": [
       "[[769658.4448523282, 0.0, 2939488.0105556627],\n",
       " [769623.3733267544, 0.0, 2939394.3711284776],\n",
       " [769592.0444350003, 0.0, 2939405.7461055894],\n",
       " [769576.9955076932, 0.0, 2939411.2463039537],\n",
       " [769610.2009176968, 0.0, 2939505.134682097],\n",
       " [769658.4448523282, 11.216289520263672, 2939488.0105556627],\n",
       " [769623.3733267544, 11.216289520263672, 2939394.3711284776],\n",
       " [769592.0444350003, 11.216289520263672, 2939405.7461055894],\n",
       " [769576.9955076932, 11.216289520263672, 2939411.2463039537],\n",
       " [769610.2009176968, 11.216289520263672, 2939505.134682097]]"
      ]
     },
     "execution_count": 43,
     "metadata": {},
     "output_type": "execute_result"
    }
   ],
   "source": [
    "geo3"
   ]
  },
  {
   "cell_type": "code",
   "execution_count": 44,
   "metadata": {},
   "outputs": [
    {
     "data": {
      "text/plain": [
       "array([[7.69658445e+05, 0.00000000e+00, 2.93948801e+06],\n",
       "       [7.69623373e+05, 0.00000000e+00, 2.93939437e+06],\n",
       "       [7.69592044e+05, 0.00000000e+00, 2.93940575e+06],\n",
       "       [7.69576996e+05, 0.00000000e+00, 2.93941125e+06],\n",
       "       [7.69610201e+05, 0.00000000e+00, 2.93950513e+06],\n",
       "       [7.69658445e+05, 1.12162895e+01, 2.93948801e+06],\n",
       "       [7.69623373e+05, 1.12162895e+01, 2.93939437e+06],\n",
       "       [7.69592044e+05, 1.12162895e+01, 2.93940575e+06],\n",
       "       [7.69576996e+05, 1.12162895e+01, 2.93941125e+06],\n",
       "       [7.69610201e+05, 1.12162895e+01, 2.93950513e+06]])"
      ]
     },
     "execution_count": 44,
     "metadata": {},
     "output_type": "execute_result"
    }
   ],
   "source": [
    "geo_numpy3"
   ]
  },
  {
   "cell_type": "code",
   "execution_count": 45,
   "metadata": {},
   "outputs": [],
   "source": [
    "from copy import deepcopy"
   ]
  },
  {
   "cell_type": "code",
   "execution_count": 46,
   "metadata": {},
   "outputs": [],
   "source": [
    "template_feature = deepcopy(layer_to_update.layers[0].query().features[0])"
   ]
  },
  {
   "cell_type": "code",
   "execution_count": 122,
   "metadata": {},
   "outputs": [
    {
     "data": {
      "text/plain": [
       "[[[769634.322891235, 5.60814476013184],\n",
       "  [769610.200927734, 11.2162895202637],\n",
       "  [769623.373321533, 11.2162895202637],\n",
       "  [769658.444854736, 11.2162895202637],\n",
       "  [769634.322891235, 5.60814476013184]],\n",
       " [[769610.200927734, 0],\n",
       "  [769634.322891235, 5.60814476013184],\n",
       "  [769658.444854736, 0],\n",
       "  [769623.373321533, 0],\n",
       "  [769610.200927734, 0]]]"
      ]
     },
     "execution_count": 122,
     "metadata": {},
     "output_type": "execute_result"
    }
   ],
   "source": [
    "template_feature.geometry['rings']"
   ]
  },
  {
   "cell_type": "code",
   "execution_count": 125,
   "metadata": {},
   "outputs": [],
   "source": [
    "for row in geo3:\n",
    "    row[1], row[2] = row[2], row[1]"
   ]
  },
  {
   "cell_type": "code",
   "execution_count": 126,
   "metadata": {},
   "outputs": [
    {
     "data": {
      "text/plain": [
       "[[769658.4448523282, 2939488.0105556627, 0.0],\n",
       " [769623.3733267544, 2939394.3711284776, 0.0],\n",
       " [769592.0444350003, 2939405.7461055894, 0.0],\n",
       " [769576.9955076932, 2939411.2463039537, 0.0],\n",
       " [769610.2009176968, 2939505.134682097, 0.0],\n",
       " [769658.4448523282, 2939488.0105556627, 11.216289520263672],\n",
       " [769623.3733267544, 2939394.3711284776, 11.216289520263672],\n",
       " [769592.0444350003, 2939405.7461055894, 11.216289520263672],\n",
       " [769576.9955076932, 2939411.2463039537, 11.216289520263672],\n",
       " [769610.2009176968, 2939505.134682097, 11.216289520263672],\n",
       " [769658.4448523282, 2939488.0105556627, 0.0]]"
      ]
     },
     "execution_count": 126,
     "metadata": {},
     "output_type": "execute_result"
    }
   ],
   "source": [
    "geo3"
   ]
  },
  {
   "cell_type": "code",
   "execution_count": 127,
   "metadata": {},
   "outputs": [
    {
     "data": {
      "text/plain": [
       "[[769658.4448523282, 2939488.0105556627, 0.0],\n",
       " [769623.3733267544, 2939394.3711284776, 0.0],\n",
       " [769592.0444350003, 2939405.7461055894, 0.0],\n",
       " [769576.9955076932, 2939411.2463039537, 0.0],\n",
       " [769610.2009176968, 2939505.134682097, 0.0],\n",
       " [769658.4448523282, 2939488.0105556627, 11.216289520263672],\n",
       " [769623.3733267544, 2939394.3711284776, 11.216289520263672],\n",
       " [769592.0444350003, 2939405.7461055894, 11.216289520263672],\n",
       " [769576.9955076932, 2939411.2463039537, 11.216289520263672],\n",
       " [769610.2009176968, 2939505.134682097, 11.216289520263672],\n",
       " [769658.4448523282, 2939488.0105556627, 0.0],\n",
       " [769658.4448523282, 2939488.0105556627, 0.0]]"
      ]
     },
     "execution_count": 127,
     "metadata": {},
     "output_type": "execute_result"
    }
   ],
   "source": [
    "geo3.append(geo3[0])\n",
    "geo3"
   ]
  },
  {
   "cell_type": "code",
   "execution_count": 128,
   "metadata": {},
   "outputs": [],
   "source": [
    "template_feature.geometry['rings'] = [geo3]"
   ]
  },
  {
   "cell_type": "code",
   "execution_count": 129,
   "metadata": {},
   "outputs": [
    {
     "data": {
      "text/plain": [
       "[[[769658.4448523282, 2939488.0105556627, 0.0],\n",
       "  [769623.3733267544, 2939394.3711284776, 0.0],\n",
       "  [769592.0444350003, 2939405.7461055894, 0.0],\n",
       "  [769576.9955076932, 2939411.2463039537, 0.0],\n",
       "  [769610.2009176968, 2939505.134682097, 0.0],\n",
       "  [769658.4448523282, 2939488.0105556627, 11.216289520263672],\n",
       "  [769623.3733267544, 2939394.3711284776, 11.216289520263672],\n",
       "  [769592.0444350003, 2939405.7461055894, 11.216289520263672],\n",
       "  [769576.9955076932, 2939411.2463039537, 11.216289520263672],\n",
       "  [769610.2009176968, 2939505.134682097, 11.216289520263672],\n",
       "  [769658.4448523282, 2939488.0105556627, 0.0],\n",
       "  [769658.4448523282, 2939488.0105556627, 0.0]]]"
      ]
     },
     "execution_count": 129,
     "metadata": {},
     "output_type": "execute_result"
    }
   ],
   "source": [
    "template_feature.geometry['rings']"
   ]
  },
  {
   "cell_type": "code",
   "execution_count": 130,
   "metadata": {},
   "outputs": [],
   "source": [
    "updated_feature = layer_to_update.layers[0].edit_features(updates = [template_feature])"
   ]
  },
  {
   "cell_type": "code",
   "execution_count": 131,
   "metadata": {},
   "outputs": [
    {
     "data": {
      "text/plain": [
       "{'addResults': [],\n",
       " 'updateResults': [{'objectId': 1,\n",
       "   'uniqueId': 1,\n",
       "   'globalId': None,\n",
       "   'success': False,\n",
       "   'error': {'code': 1000,\n",
       "    'description': 'Data is Null. This method or property cannot be called on Null values.'}}],\n",
       " 'deleteResults': []}"
      ]
     },
     "execution_count": 131,
     "metadata": {},
     "output_type": "execute_result"
    }
   ],
   "source": [
    "updated_feature"
   ]
  },
  {
   "cell_type": "code",
   "execution_count": 132,
   "metadata": {},
   "outputs": [
    {
     "data": {
      "text/plain": [
       "{\"geometry\": {\"rings\": [[[769658.4448523282, 2939488.0105556627, 0.0], [769623.3733267544, 2939394.3711284776, 0.0], [769592.0444350003, 2939405.7461055894, 0.0], [769576.9955076932, 2939411.2463039537, 0.0], [769610.2009176968, 2939505.134682097, 0.0], [769658.4448523282, 2939488.0105556627, 11.216289520263672], [769623.3733267544, 2939394.3711284776, 11.216289520263672], [769592.0444350003, 2939405.7461055894, 11.216289520263672], [769576.9955076932, 2939411.2463039537, 11.216289520263672], [769610.2009176968, 2939505.134682097, 11.216289520263672], [769658.4448523282, 2939488.0105556627, 0.0], [769658.4448523282, 2939488.0105556627, 0.0]]]}, \"attributes\": {\"OBJECTID\": 1, \"Join_Count\": 1, \"TARGET_FID\": 1, \"WARD\": 12, \"PARCEL\": \"2742\", \"PID_LONG\": \"1202742000\", \"WPD\": \"12-06-005\", \"BATCH\": null, \"PID\": \"1202742000\", \"CM_ID\": \"\", \"GIS_ID\": \"1202742000\", \"ST_NUM\": \"35  \", \"ST_NAME\": \"GASTON\", \"ST_NAME_SUF\": \"ST\", \"UNIT_NUM\": \"\", \"ZIPCODE\": \"02121\", \"PTYPE\": \"105\", \"LU\": \"R3\", \"OWN_OCC\": \"Y\", \"OWNER\": \"SALDARRIAGA HECTOR\", \"MAIL_ADDRESSEE\": \"C/O HECTOR SALDARRIAGA\", \"MAIL_ADDRESS\": \"35 GASTON ST\", \"MAIL_CS\": \"DORCHESTER MA\", \"MAIL_ZIPCODE\": \"02121\", \"AV_LAND\": \"133500\", \"AV_BLDG\": \"312100\", \"AV_TOTAL\": \"445600\", \"GROSS_TAX\": \"000000466989\", \"LAND_SF\": \"5000\", \"YR_BUILT\": \"1905\", \"YR_REMOD\": \"1990\", \"GROSS_AREA\": \"5524\", \"LIVING_AREA\": \"3567\", \"NUM_FLOORS\": \"2.5\", \"Xcoord\": -71.0805458411793, \"Ycoord\": 42.3132351815879, \"DupPID\": null, \"Num_ofDups\": null, \"BRA_Name\": null, \"ImprovementRatio\": 2.33782771535581, \"LandValue\": 133500, \"ImprovementValue\": 312100, \"Vacancy\": \"No\", \"Parking\": \"N/A\", \"SuitabilityScore\": null, \"YearBuilt\": 1990, \"RFAR\": 0, \"ScoreLU\": 9, \"ScoreYear\": 1, \"ScoreImp\": 1, \"ScoreRFAR\": 0, \"ScoreVac\": 1, \"ScoreSum\": 12, \"wtScoreVac\": 0.25, \"wtScoreYear\": 0.25, \"wtScoreImp\": 0.25, \"wtScoreLU\": 2.25, \"wtScoreRFAR\": 0, \"wtScoreSum\": 3, \"Exclude\": 9, \"Field\": null, \"GA_int\": 5524, \"PV\": 0.0806661839246923, \"Shape__Area\": 270.558926424943, \"Shape__Length\": 195.549080387838}}"
      ]
     },
     "execution_count": 132,
     "metadata": {},
     "output_type": "execute_result"
    }
   ],
   "source": [
    "template_feature"
   ]
  },
  {
   "cell_type": "code",
   "execution_count": 133,
   "metadata": {},
   "outputs": [
    {
     "data": {
      "text/html": [
       "<div class=\"item_container\" style=\"height: auto; overflow: hidden; border: 1px solid #cfcfcf; border-radius: 2px; background: #f6fafa; line-height: 1.21429em; padding: 10px;\">\n",
       "                    <div class=\"item_left\" style=\"width: 210px; float: left;\">\n",
       "                       <a href='https://zurich.maps.arcgis.com/home/item.html?id=400c8566e2174ceca2cdb42daefe3ea3' target='_blank'>\n",
       "                        <img src='http://static.arcgis.com/images/desktopapp.png' class=\"itemThumbnail\">\n",
       "                       </a>\n",
       "                    </div>\n",
       "\n",
       "                    <div class=\"item_right\"     style=\"float: none; width: auto; overflow: hidden;\">\n",
       "                        <a href='https://zurich.maps.arcgis.com/home/item.html?id=400c8566e2174ceca2cdb42daefe3ea3' target='_blank'><b>ParcelsValue_CopyFeatures</b>\n",
       "                        </a>\n",
       "                        <br/>One Boston parcel<img src='https://zurich.maps.arcgis.com/home/js/jsapi/esri/css/images/item_type_icons/featureshosted16.png' style=\"vertical-align:middle;\">Feature Layer Collection by CLechot_zurich\n",
       "                        <br/>Last Modified: April 04, 2019\n",
       "                        <br/>0 comments, 0 views\n",
       "                    </div>\n",
       "                </div>\n",
       "                "
      ],
      "text/plain": [
       "<Item title:\"ParcelsValue_CopyFeatures\" type:Feature Layer Collection owner:CLechot_zurich>"
      ]
     },
     "execution_count": 133,
     "metadata": {},
     "output_type": "execute_result"
    }
   ],
   "source": [
    "layer_to_update"
   ]
  },
  {
   "cell_type": "code",
   "execution_count": 95,
   "metadata": {},
   "outputs": [
    {
     "data": {
      "image/svg+xml": [
       "<svg xmlns=\"http://www.w3.org/2000/svg\" xmlns:xlink=\"http://www.w3.org/1999/xlink\" width=\"100.0\" height=\"119.62463626777753\" viewBox=\"769572.5649619229 2939389.9405905562 90.31042825104669 119.62463626777753\" preserveAspectRatio=\"xMinYMin meet\"><g transform=\"matrix(1,0,0,-1,0,5878899.50581738)\"><path fill-rule=\"evenodd\" fill=\"#66cc99\" stroke=\"#555555\" stroke-width=\"2.0\" opacity=\"0.6\" d=\"M 769658.44484809,2939488.01055673 L 769623.373328045,2939394.37113264 L 769592.044432029,2939405.74610865 L 769576.995504007,2939411.24630065 L 769610.200912043,2939505.13468474 L 769658.44484809,2939488.01055673 z\" /></g></svg>"
      ],
      "text/plain": [
       "{'rings': [[[769658.44484809, 2939488.01055673],\n",
       "   [769623.373328045, 2939394.37113264],\n",
       "   [769592.044432029, 2939405.74610865],\n",
       "   [769576.995504007, 2939411.24630065],\n",
       "   [769610.200912043, 2939505.13468474],\n",
       "   [769658.44484809, 2939488.01055673]]]}"
      ]
     },
     "execution_count": 95,
     "metadata": {},
     "output_type": "execute_result"
    }
   ],
   "source": [
    "ggg = Geometry(layer.layers[0].query().features[0].geometry)\n",
    "ggg"
   ]
  },
  {
   "cell_type": "code",
   "execution_count": 96,
   "metadata": {},
   "outputs": [
    {
     "data": {
      "image/svg+xml": [
       "<svg xmlns=\"http://www.w3.org/2000/svg\" xmlns:xlink=\"http://www.w3.org/1999/xlink\" width=\"100.0\" height=\"100.0\" viewBox=\"769608.271170654 -1.929757080078125 52.10344116203487 15.075803680419952\" preserveAspectRatio=\"xMinYMin meet\"><g transform=\"matrix(1,0,0,-1,0,11.2162895202637)\"><path fill-rule=\"evenodd\" fill=\"#66cc99\" stroke=\"#555555\" stroke-width=\"1.0420688232406974\" opacity=\"0.6\" d=\"M 769634.322891235,5.60814476013184 L 769610.200927734,11.2162895202637 L 769623.373321533,11.2162895202637 L 769658.444854736,11.2162895202637 L 769634.322891235,5.60814476013184 L 769610.200927734,0 L 769634.322891235,5.60814476013184 L 769658.444854736,0 L 769623.373321533,0 L 769610.200927734,0 z\" /></g></svg>"
      ],
      "text/plain": [
       "{'rings': [[[769634.322891235, 5.60814476013184],\n",
       "   [769610.200927734, 11.2162895202637],\n",
       "   [769623.373321533, 11.2162895202637],\n",
       "   [769658.444854736, 11.2162895202637],\n",
       "   [769634.322891235, 5.60814476013184]],\n",
       "  [[769610.200927734, 0],\n",
       "   [769634.322891235, 5.60814476013184],\n",
       "   [769658.444854736, 0],\n",
       "   [769623.373321533, 0],\n",
       "   [769610.200927734, 0]]]}"
      ]
     },
     "execution_count": 96,
     "metadata": {},
     "output_type": "execute_result"
    }
   ],
   "source": [
    "gggg = Geometry(layer_to_update.layers[0].query().features[0].geometry)\n",
    "gggg"
   ]
  },
  {
   "cell_type": "code",
   "execution_count": 97,
   "metadata": {},
   "outputs": [
    {
     "data": {
      "text/plain": [
       "{'rings': [[[769658.44484809, 2939488.01055673],\n",
       "   [769623.373328045, 2939394.37113264],\n",
       "   [769592.044432029, 2939405.74610865],\n",
       "   [769576.995504007, 2939411.24630065],\n",
       "   [769610.200912043, 2939505.13468474],\n",
       "   [769658.44484809, 2939488.01055673]]]}"
      ]
     },
     "execution_count": 97,
     "metadata": {},
     "output_type": "execute_result"
    }
   ],
   "source": [
    "layer.layers[0].query().features[0].geometry"
   ]
  },
  {
   "cell_type": "code",
   "execution_count": 98,
   "metadata": {},
   "outputs": [
    {
     "data": {
      "image/svg+xml": [
       "<svg xmlns=\"http://www.w3.org/2000/svg\" xmlns:xlink=\"http://www.w3.org/1999/xlink\" width=\"100.0\" height=\"119.62463790923357\" viewBox=\"769572.5649655483 2939389.9405863327 90.31042892462574 119.62463790923357\" preserveAspectRatio=\"xMinYMin meet\"><g transform=\"matrix(1,0,0,-1,0,5878899.505810575)\"><path fill-rule=\"evenodd\" fill=\"#66cc99\" stroke=\"#555555\" stroke-width=\"2.0\" opacity=\"0.6\" d=\"M 769658.4448523282,2939488.0105556627 L 769623.3733267544,2939394.3711284776 L 769592.0444350003,2939405.7461055894 L 769576.9955076932,2939411.2463039537 L 769610.2009176968,2939505.134682097 L 769658.4448523282,2939488.0105556627 L 769623.3733267544,2939394.3711284776 L 769592.0444350003,2939405.7461055894 L 769576.9955076932,2939411.2463039537 L 769610.2009176968,2939505.134682097 L 769658.4448523282,2939488.0105556627 z\" /></g></svg>"
      ],
      "text/plain": [
       "{'rings': [[[769658.4448523282, 2939488.0105556627, 0.0],\n",
       "   [769623.3733267544, 2939394.3711284776, 0.0],\n",
       "   [769592.0444350003, 2939405.7461055894, 0.0],\n",
       "   [769576.9955076932, 2939411.2463039537, 0.0],\n",
       "   [769610.2009176968, 2939505.134682097, 0.0],\n",
       "   [769658.4448523282, 2939488.0105556627, 11.216289520263672],\n",
       "   [769623.3733267544, 2939394.3711284776, 11.216289520263672],\n",
       "   [769592.0444350003, 2939405.7461055894, 11.216289520263672],\n",
       "   [769576.9955076932, 2939411.2463039537, 11.216289520263672],\n",
       "   [769610.2009176968, 2939505.134682097, 11.216289520263672],\n",
       "   [769658.4448523282, 2939488.0105556627, 0.0]]]}"
      ]
     },
     "execution_count": 98,
     "metadata": {},
     "output_type": "execute_result"
    }
   ],
   "source": [
    "gg = Geometry(template_feature.geometry)\n",
    "gg"
   ]
  },
  {
   "cell_type": "code",
   "execution_count": 109,
   "metadata": {},
   "outputs": [
    {
     "data": {
      "text/plain": [
       "-10033.923828125"
      ]
     },
     "execution_count": 109,
     "metadata": {},
     "output_type": "execute_result"
    }
   ],
   "source": [
    "gg.area"
   ]
  },
  {
   "cell_type": "markdown",
   "metadata": {},
   "source": [
    "TO DO: update the shape_area and shape_length field before updating the feature layer?"
   ]
  },
  {
   "cell_type": "code",
   "execution_count": 99,
   "metadata": {},
   "outputs": [
    {
     "data": {
      "text/plain": [
       "{'rings': [[[769658.4448523282, 2939488.0105556627, 0.0],\n",
       "   [769623.3733267544, 2939394.3711284776, 0.0],\n",
       "   [769592.0444350003, 2939405.7461055894, 0.0],\n",
       "   [769576.9955076932, 2939411.2463039537, 0.0],\n",
       "   [769610.2009176968, 2939505.134682097, 0.0],\n",
       "   [769658.4448523282, 2939488.0105556627, 11.216289520263672],\n",
       "   [769623.3733267544, 2939394.3711284776, 11.216289520263672],\n",
       "   [769592.0444350003, 2939405.7461055894, 11.216289520263672],\n",
       "   [769576.9955076932, 2939411.2463039537, 11.216289520263672],\n",
       "   [769610.2009176968, 2939505.134682097, 11.216289520263672],\n",
       "   [769658.4448523282, 2939488.0105556627, 0.0]]]}"
      ]
     },
     "execution_count": 99,
     "metadata": {},
     "output_type": "execute_result"
    }
   ],
   "source": [
    "template_feature.geometry"
   ]
  },
  {
   "cell_type": "code",
   "execution_count": 101,
   "metadata": {},
   "outputs": [
    {
     "data": {
      "text/plain": [
       "-10033.923828125"
      ]
     },
     "execution_count": 101,
     "metadata": {},
     "output_type": "execute_result"
    }
   ],
   "source": [
    "gg.area"
   ]
  },
  {
   "cell_type": "code",
   "execution_count": 106,
   "metadata": {},
   "outputs": [
    {
     "data": {
      "text/plain": [
       "[{\"geometry\": {\"rings\": [[[769658.4448523282, 2939488.0105556627, 0.0], [769623.3733267544, 2939394.3711284776, 0.0], [769592.0444350003, 2939405.7461055894, 0.0], [769576.9955076932, 2939411.2463039537, 0.0], [769610.2009176968, 2939505.134682097, 0.0], [769658.4448523282, 2939488.0105556627, 11.216289520263672], [769623.3733267544, 2939394.3711284776, 11.216289520263672], [769592.0444350003, 2939405.7461055894, 11.216289520263672], [769576.9955076932, 2939411.2463039537, 11.216289520263672], [769610.2009176968, 2939505.134682097, 11.216289520263672], [769658.4448523282, 2939488.0105556627, 0.0]]]}, \"attributes\": {\"OBJECTID\": 1, \"Join_Count\": 1, \"TARGET_FID\": 1, \"WARD\": 12, \"PARCEL\": \"2742\", \"PID_LONG\": \"1202742000\", \"WPD\": \"12-06-005\", \"BATCH\": null, \"PID\": \"1202742000\", \"CM_ID\": \"\", \"GIS_ID\": \"1202742000\", \"ST_NUM\": \"35  \", \"ST_NAME\": \"GASTON\", \"ST_NAME_SUF\": \"ST\", \"UNIT_NUM\": \"\", \"ZIPCODE\": \"02121\", \"PTYPE\": \"105\", \"LU\": \"R3\", \"OWN_OCC\": \"Y\", \"OWNER\": \"SALDARRIAGA HECTOR\", \"MAIL_ADDRESSEE\": \"C/O HECTOR SALDARRIAGA\", \"MAIL_ADDRESS\": \"35 GASTON ST\", \"MAIL_CS\": \"DORCHESTER MA\", \"MAIL_ZIPCODE\": \"02121\", \"AV_LAND\": \"133500\", \"AV_BLDG\": \"312100\", \"AV_TOTAL\": \"445600\", \"GROSS_TAX\": \"000000466989\", \"LAND_SF\": \"5000\", \"YR_BUILT\": \"1905\", \"YR_REMOD\": \"1990\", \"GROSS_AREA\": \"5524\", \"LIVING_AREA\": \"3567\", \"NUM_FLOORS\": \"2.5\", \"Xcoord\": -71.0805458411793, \"Ycoord\": 42.3132351815879, \"DupPID\": null, \"Num_ofDups\": null, \"BRA_Name\": null, \"ImprovementRatio\": 2.33782771535581, \"LandValue\": 133500, \"ImprovementValue\": 312100, \"Vacancy\": \"No\", \"Parking\": \"N/A\", \"SuitabilityScore\": null, \"YearBuilt\": 1990, \"RFAR\": 0, \"ScoreLU\": 9, \"ScoreYear\": 1, \"ScoreImp\": 1, \"ScoreRFAR\": 0, \"ScoreVac\": 1, \"ScoreSum\": 12, \"wtScoreVac\": 0.25, \"wtScoreYear\": 0.25, \"wtScoreImp\": 0.25, \"wtScoreLU\": 2.25, \"wtScoreRFAR\": 0, \"wtScoreSum\": 3, \"Exclude\": 9, \"Field\": null, \"GA_int\": 5524, \"PV\": 0.0806661839246923, \"Shape__Area\": 5016.96142578125, \"Shape__Length\": 300.124525387502}}]"
      ]
     },
     "execution_count": 106,
     "metadata": {},
     "output_type": "execute_result"
    }
   ],
   "source": [
    "[template_feature]"
   ]
  },
  {
   "cell_type": "code",
   "execution_count": 105,
   "metadata": {},
   "outputs": [
    {
     "data": {
      "text/plain": [
       "[{\"geometry\": {\"rings\": [[[769658.44484809, 2939488.01055673], [769623.373328045, 2939394.37113264], [769592.044432029, 2939405.74610865], [769576.995504007, 2939411.24630065], [769610.200912043, 2939505.13468474], [769658.44484809, 2939488.01055673]]]}, \"attributes\": {\"OBJECTID\": 1, \"Join_Count\": 1, \"TARGET_FID\": 1, \"WARD\": 12, \"PARCEL\": \"2742\", \"PID_LONG\": \"1202742000\", \"WPD\": \"12-06-005\", \"BATCH\": null, \"PID\": \"1202742000\", \"CM_ID\": \"\", \"GIS_ID\": \"1202742000\", \"ST_NUM\": \"35  \", \"ST_NAME\": \"GASTON\", \"ST_NAME_SUF\": \"ST\", \"UNIT_NUM\": \"\", \"ZIPCODE\": \"02121\", \"PTYPE\": \"105\", \"LU\": \"R3\", \"OWN_OCC\": \"Y\", \"OWNER\": \"SALDARRIAGA HECTOR\", \"MAIL_ADDRESSEE\": \"C/O HECTOR SALDARRIAGA\", \"MAIL_ADDRESS\": \"35 GASTON ST\", \"MAIL_CS\": \"DORCHESTER MA\", \"MAIL_ZIPCODE\": \"02121\", \"AV_LAND\": \"133500\", \"AV_BLDG\": \"312100\", \"AV_TOTAL\": \"445600\", \"GROSS_TAX\": \"000000466989\", \"LAND_SF\": \"5000\", \"YR_BUILT\": \"1905\", \"YR_REMOD\": \"1990\", \"GROSS_AREA\": \"5524\", \"LIVING_AREA\": \"3567\", \"NUM_FLOORS\": \"2.5\", \"Xcoord\": -71.0805458411793, \"Ycoord\": 42.3132351815879, \"DupPID\": null, \"Num_ofDups\": null, \"BRA_Name\": null, \"ImprovementRatio\": 2.33782771535581, \"LandValue\": 133500, \"ImprovementValue\": 312100, \"Vacancy\": \"No\", \"Parking\": \"N/A\", \"SuitabilityScore\": null, \"YearBuilt\": 1990, \"RFAR\": 0, \"ScoreLU\": 9, \"ScoreYear\": 1, \"ScoreImp\": 1, \"ScoreRFAR\": 0, \"ScoreVac\": 1, \"ScoreSum\": 12, \"wtScoreVac\": 0.25, \"wtScoreYear\": 0.25, \"wtScoreImp\": 0.25, \"wtScoreLU\": 2.25, \"wtScoreRFAR\": 0, \"wtScoreSum\": 3, \"Exclude\": 9, \"Field\": null, \"GA_int\": 5524, \"PV\": 0.0806661839246923, \"Shape__Area\": 5016.96142578125, \"Shape__Length\": 300.124525387502}}]"
      ]
     },
     "execution_count": 105,
     "metadata": {},
     "output_type": "execute_result"
    }
   ],
   "source": [
    "layer.layers[0].query().features"
   ]
  },
  {
   "cell_type": "code",
   "execution_count": 119,
   "metadata": {},
   "outputs": [
    {
     "data": {
      "text/plain": [
       "{'wkid': 102686, 'latestWkid': 2249}"
      ]
     },
     "execution_count": 119,
     "metadata": {},
     "output_type": "execute_result"
    }
   ],
   "source": [
    "layer.layers[0].query().spatial_reference"
   ]
  },
  {
   "cell_type": "code",
   "execution_count": 120,
   "metadata": {},
   "outputs": [
    {
     "data": {
      "text/plain": [
       "{'addResults': [],\n",
       " 'updateResults': [{'objectId': 1,\n",
       "   'uniqueId': 1,\n",
       "   'globalId': None,\n",
       "   'success': False,\n",
       "   'error': {'code': 1000,\n",
       "    'description': 'Data is Null. This method or property cannot be called on Null values.'}}],\n",
       " 'deleteResults': []}"
      ]
     },
     "execution_count": 120,
     "metadata": {},
     "output_type": "execute_result"
    }
   ],
   "source": [
    "layer_to_update.layers[0].edit_features(updates = [template_feature])"
   ]
  },
  {
   "cell_type": "code",
   "execution_count": 135,
   "metadata": {},
   "outputs": [
    {
     "data": {
      "application/vnd.jupyter.widget-view+json": {
       "model_id": "bee553eeaa0e49a7baf93d748749d606",
       "version_major": 2,
       "version_minor": 0
      },
      "text/plain": [
       "MapView(layout=Layout(height='400px', width='100%'))"
      ]
     },
     "metadata": {},
     "output_type": "display_data"
    },
    {
     "data": {
      "text/html": [
       "<div class=\"map-static-img-preview-145a0372-d483-407d-809d-eedf8254691e\"><img src=\"\"></img></div>"
      ],
      "text/plain": [
       "<IPython.core.display.HTML object>"
      ]
     },
     "metadata": {},
     "output_type": "display_data"
    }
   ],
   "source": [
    "map2 = my_gis.map()\n",
    "map2"
   ]
  },
  {
   "cell_type": "code",
   "execution_count": 136,
   "metadata": {},
   "outputs": [],
   "source": [
    "map2.add_layer(layer_to_update)"
   ]
  },
  {
   "cell_type": "code",
   "execution_count": 137,
   "metadata": {},
   "outputs": [],
   "source": [
    "map2.add_layer(layer)"
   ]
  },
  {
   "cell_type": "markdown",
   "metadata": {},
   "source": [
    "The following scene layer was generated using arcpy FeaturesFromCityEngineRules_3d function. It was used to see in which format ArcGIS Pro would use for this type of 3D shape."
   ]
  },
  {
   "cell_type": "code",
   "execution_count": 141,
   "metadata": {},
   "outputs": [
    {
     "data": {
      "text/html": [
       "<div class=\"item_container\" style=\"height: auto; overflow: hidden; border: 1px solid #cfcfcf; border-radius: 2px; background: #f6fafa; line-height: 1.21429em; padding: 10px;\">\n",
       "                    <div class=\"item_left\" style=\"width: 210px; float: left;\">\n",
       "                       <a href='https://zurich.maps.arcgis.com/home/item.html?id=9320bb3031d44a52897daed742017c2b' target='_blank'>\n",
       "                        <img src='data:image/png;base64,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' width='200' height='133' class=\"itemThumbnail\">\n",
       "                       </a>\n",
       "                    </div>\n",
       "\n",
       "                    <div class=\"item_right\"     style=\"float: none; width: auto; overflow: hidden;\">\n",
       "                        <a href='https://zurich.maps.arcgis.com/home/item.html?id=9320bb3031d44a52897daed742017c2b' target='_blank'><b>ParcelsValue_CopyFeatures_FF</b>\n",
       "                        </a>\n",
       "                        <br/>3d<img src='https://zurich.maps.arcgis.com/home/js/jsapi/esri/css/images/item_type_icons/layers16.png' style=\"vertical-align:middle;\">Scene Layer by CLechot_zurich\n",
       "                        <br/>Last Modified: April 11, 2019\n",
       "                        <br/>0 comments, 0 views\n",
       "                    </div>\n",
       "                </div>\n",
       "                "
      ],
      "text/plain": [
       "<Item title:\"ParcelsValue_CopyFeatures_FF\" type:Scene Layer owner:CLechot_zurich>"
      ]
     },
     "execution_count": 141,
     "metadata": {},
     "output_type": "execute_result"
    }
   ],
   "source": [
    "hello = my_gis.content.search(\"ParcelsValue_CopyFeatures\",\"Scene Layer\")[0]\n",
    "hello"
   ]
  },
  {
   "cell_type": "code",
   "execution_count": 143,
   "metadata": {},
   "outputs": [
    {
     "ename": "AttributeError",
     "evalue": "'Layer' object has no attribute 'query'",
     "output_type": "error",
     "traceback": [
      "\u001b[1;31m---------------------------------------------------------------------------\u001b[0m",
      "\u001b[1;31mAttributeError\u001b[0m                            Traceback (most recent call last)",
      "\u001b[1;32m<ipython-input-143-c50d6c0fb9f1>\u001b[0m in \u001b[0;36m<module>\u001b[1;34m\u001b[0m\n\u001b[1;32m----> 1\u001b[1;33m \u001b[0mhello\u001b[0m\u001b[1;33m.\u001b[0m\u001b[0mlayers\u001b[0m\u001b[1;33m[\u001b[0m\u001b[1;36m0\u001b[0m\u001b[1;33m]\u001b[0m\u001b[1;33m.\u001b[0m\u001b[0mquery\u001b[0m\u001b[1;33m(\u001b[0m\u001b[1;33m)\u001b[0m\u001b[1;33m\u001b[0m\u001b[1;33m\u001b[0m\u001b[0m\n\u001b[0m",
      "\u001b[1;31mAttributeError\u001b[0m: 'Layer' object has no attribute 'query'"
     ]
    }
   ],
   "source": [
    "hello.layers[0].query()"
   ]
  }
 ],
 "metadata": {
  "file_extension": ".py",
  "kernelspec": {
   "display_name": "Python 3",
   "language": "python",
   "name": "python3"
  },
  "language_info": {
   "codemirror_mode": {
    "name": "ipython",
    "version": 3
   },
   "file_extension": ".py",
   "mimetype": "text/x-python",
   "name": "python",
   "nbconvert_exporter": "python",
   "pygments_lexer": "ipython3",
   "version": "3.6.8"
  },
  "mimetype": "text/x-python",
  "name": "python",
  "npconvert_exporter": "python",
  "pygments_lexer": "ipython3",
  "version": 3
 },
 "nbformat": 4,
 "nbformat_minor": 2
}
